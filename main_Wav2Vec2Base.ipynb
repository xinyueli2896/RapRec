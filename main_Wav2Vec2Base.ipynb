{
  "cells": [
    {
      "cell_type": "markdown",
      "metadata": {
        "id": "view-in-github",
        "colab_type": "text"
      },
      "source": [
        "<a href=\"https://colab.research.google.com/github/xinyueli2896/RapRec/blob/main/main_Wav2Vec2Base.ipynb\" target=\"_parent\"><img src=\"https://colab.research.google.com/assets/colab-badge.svg\" alt=\"Open In Colab\"/></a>"
      ]
    },
    {
      "cell_type": "markdown",
      "metadata": {
        "id": "LBSYoWbi-45k"
      },
      "source": [
        "# **Fine-tuning Speech Model with 🤗 Transformers**"
      ]
    },
    {
      "cell_type": "code",
      "execution_count": null,
      "metadata": {
        "id": "v7CftmzCuKYl",
        "outputId": "c7440c81-52b0-4588-c1fa-ca486e31bfbd"
      },
      "outputs": [
        {
          "name": "stderr",
          "output_type": "stream",
          "text": [
            "c:\\Users\\wbsgus\\anaconda3\\envs\\rap\\lib\\site-packages\\tqdm\\auto.py:21: TqdmWarning: IProgress not found. Please update jupyter and ipywidgets. See https://ipywidgets.readthedocs.io/en/stable/user_install.html\n",
            "  from .autonotebook import tqdm as notebook_tqdm\n"
          ]
        }
      ],
      "source": [
        "import librosa\n",
        "import torch\n",
        "import transformers\n",
        "model_checkpoint = \"facebook/wav2vec2-base\"\n",
        "batch_size = 32"
      ]
    },
    {
      "cell_type": "markdown",
      "metadata": {
        "id": "0mW-C1Nt-j7k"
      },
      "source": [
        "## Prepare Data, Tokenizer, Feature Extractor"
      ]
    },
    {
      "cell_type": "markdown",
      "metadata": {
        "id": "sEXEWEJGQPqD"
      },
      "source": [
        "### Create Wav2Vec2CTCTokenizer"
      ]
    },
    {
      "cell_type": "code",
      "execution_count": null,
      "metadata": {
        "colab": {
          "base_uri": "https://localhost:8080/",
          "height": 337,
          "referenced_widgets": [
            "5c7a8e1156284e67b8cf4572306845c7",
            "ac80b43146bb4b928dc013ce9687c08f",
            "11c9d8cc7b6e4f58b5f45357a9c1ea48",
            "842158dc348c4247a3d2919069e8825a",
            "216f12852afe4ffc961b0715d2903368",
            "adda792aa03f4495b3cb16fe708fe3ef",
            "669304128d024785a4a0df89a297b9e3",
            "b6633f636b244f77a247abb3ea4c0d82",
            "41fefa64438b4bdca69373930756bb8a",
            "6abea98ccda440ea9d761c0b7a459e9c",
            "711f78cbbda34e1097e50c7c3022e4f0",
            "c7d26e7a740647f3af97f8b53779a46b",
            "95e8f43429944fd1ab81b1694fd3d4ce",
            "a72a248821534f1fbe778ad8c2fa02f4",
            "14c7fc72558840d48bca0d4dcbd2d817",
            "944c7e886d2e4a1992b0ee895f896f7f",
            "1b2938acb4fe441b8a87876e8d67b2e9",
            "3e99ead820d44cee82d3ee2307f3f5e7",
            "7fd610f23e08478a8908d2b3b0c8ce1c",
            "a381e3d78d7e4f3197a6af33f78d6c18",
            "8c6a7d9e08304ef99e877c336b8a32f3",
            "a7ab93f512934a9f9769131a7c97d503",
            "39c26695eab2476881934b05b4dd742b",
            "803a7e1e8c0c4da4959b4b16b331aa72",
            "fd18593fbb594ba8a6fe343650641543",
            "fbfb5615ad5a44b49f80561285724d10",
            "b59b190ba38f40a9bf3494b76c5279ad",
            "99f1e20e12e64de8b4b713c980ec5d62",
            "6380551c27bb4d5c95d5531af2ca3536",
            "1a4198b27e2a45119b9a538f2cb80fed",
            "8068519c5f3747a08cffc4acb9a276fd",
            "8c6a49cdb9164760a4969a6cd3d74f04",
            "a58c8c4ad29e4cb9a99d30c88919039b",
            "7080d7780a7f4eedaa8411ddee673152",
            "b57262d84c2341d09f5b8434461b57ac",
            "678aaf643297420091e4456613879e6a",
            "23c330374ea14a3a860b4e64accbc79f",
            "9750e65d7c2f403ca3727782a03b545d",
            "70910b4710bb460d99ea7b0530747125",
            "d32a366ac31e489dbe4fa10d0c8d9bf9",
            "67996c3ecdb34bef8f30063a65b4a6c7",
            "c121423eb88f47ac925ccadd7f3d0bfc",
            "c5508bb6228e49baac33ca4441e876b5",
            "e67868fd256949568a05f8a27029001e",
            "1739a34beb6040efb9d8fc916841f511",
            "58c3e4af7b8e4be280cf79b9b311b34b",
            "55249948929149bdb7a9446764327806",
            "5e05da47fe7e46f580a9a1a072622ccd",
            "0cce4a2eb29a4cf099c8cd2eec95dde4",
            "35d938f20d014fcdb0a4cbf04b961699",
            "0f2d8fb1535149f69da87511e4510225",
            "0c597ca304f44bb5a41423f529339fe2",
            "1cd4c142de5942219d75cf7c9fde7290",
            "2f43df25f8604add9317d0c019580129",
            "abb478b92bb34bdb85519b5b57ef00c4",
            "4aaa7f6374dc4eb2ba0b3ead0dbfe1b9",
            "1c59f6de42d54604a39e552a8aaf2aae",
            "ce0fed99fe354cb1a692d899043dcc0a",
            "1a18b8bb9fde473aaa79f8a7b1bb7e1f",
            "3434f1a4c896405398cbf6ae6dd33f24",
            "fd018eb1df334be1b26601e8e9b1618a",
            "0ca715996a6c493bb527733fe278ce14",
            "c47c84945dda43829082b5b7dbfb388a",
            "815bc852e11c4a20b9ba8f43264458af",
            "4f4d2aaa2f044cc4891f44b80fd1c2ac",
            "c47fbaaf0a2b4b4aabe8eaf4e57d6429",
            "d427b41f99b74056ac239b015fd78c3d",
            "7426011c61894c94aef33aa1bcb735a2",
            "f1453fbfa1b245a2bf5001c35a5c8efa",
            "70ce029c919c4b71a8d7a436e3907a5e",
            "5623c9aa067b42509458d631fbd4f2c2",
            "405a05057fe542968181f8d08782ccf2",
            "e6c0a16f47184fa99b2ba2dbd2526494",
            "b6730b25010e4efa861014d5edb45f64",
            "2bff9bef182347baaf21c8cfe92500f5",
            "ba60373f925e42a29b1f67364c917dc8",
            "15f12584b3254263b50ec21251ce97b2",
            "d0fe61e04f664491a9ee7fa6d10cd586",
            "65d5eab54d9847669c9059e5c5901d0f",
            "7222a90a28cb47638b9c20a5e18e151d",
            "a9c87df753cd4b6188f2a89ff7131a6b",
            "d0f072585c7443c3b6e04b1f3b63cd39",
            "9280fc420d164988846bf1111cdd4f33",
            "f1c82b42dde944e18e16680dce0865f3",
            "662900ecfd8b4e628b29a2b9926b9a08",
            "467eca7f8a974645b8979094e1a5023e",
            "1acc4578527c4095ba13397d19466a24",
            "7aeda03881ef485f9860d20f3b9e5029",
            "bd9752dccb4a46d8877be82e5daf7986",
            "4ede36ac50c941ff961b712a6e8f61ba",
            "c7bd348ec8954acabfc339f89516de47",
            "be86f6cfc0c14cc5b0c803ae4afa67cc",
            "2c82c9602d7e4456830f3c4b6d68af1b",
            "a62012fe285e4ec4a572d554069650e5",
            "19d7b84dd3bc47379b250ee72be83be5",
            "1160a2f0ec664d99bc1cf3db5a79432e",
            "829292d3823c49599ba6331775045dbc",
            "e8250bfd6328469e818b8fc66441db01",
            "0a07a47bbb0b4726aedd1c2e104913a6",
            "9c22c74e5aa745cc80bf48719fb25c76",
            "f2bbe06025694ad594f46d408ea306f6",
            "7f224ca0fafc487aae2995ca43cdbde7",
            "a3a2a2820f5f4e19b2d471cb3d3fdc76",
            "367d04b9a1444220bd84cc226c4c8e5a",
            "929a23bb28dc4bafa140e055dd221e3e",
            "71f1c20513d44e4b857fbbab6b8a16fc",
            "bc00fa9c5da84bbc82262ed640ea90e6",
            "3ce96a8aca714f9793b8dccb3d4c47a6",
            "68398c1006cd442486cae4c16af9e0ec",
            "ca9bf9d0f9f649b8babcf75b0976caab"
          ]
        },
        "id": "2MMXcWFFgCXU",
        "outputId": "b8934aec-aff2-4e48-ad9b-cdf7d2927fe0"
      },
      "outputs": [
        {
          "name": "stderr",
          "output_type": "stream",
          "text": [
            "Resolving data files: 100%|██████████| 12533/12533 [00:00<00:00, 54369.68it/s]\n",
            "Resolving data files: 100%|██████████| 3086/3086 [00:00<00:00, 46279.62it/s]\n"
          ]
        }
      ],
      "source": [
        "from datasets import load_dataset, load_metric\n",
        "dataset_path = \"dataset_cleaned\"\n",
        "timit = load_dataset(\"audiofolder\", data_dir=dataset_path)"
      ]
    },
    {
      "cell_type": "code",
      "execution_count": null,
      "metadata": {
        "colab": {
          "base_uri": "https://localhost:8080/"
        },
        "id": "QbIM-L0xdvf4",
        "outputId": "e528c783-f035-4348-d2ab-be2b7dd1170a"
      },
      "outputs": [
        {
          "data": {
            "text/plain": [
              "DatasetDict({\n",
              "    train: Dataset({\n",
              "        features: ['audio', 'lyrics'],\n",
              "        num_rows: 12532\n",
              "    })\n",
              "    test: Dataset({\n",
              "        features: ['audio', 'lyrics'],\n",
              "        num_rows: 3085\n",
              "    })\n",
              "})"
            ]
          },
          "execution_count": 3,
          "metadata": {},
          "output_type": "execute_result"
        }
      ],
      "source": [
        "timit"
      ]
    },
    {
      "cell_type": "code",
      "execution_count": null,
      "metadata": {
        "id": "kbyq6lDgQc2a"
      },
      "outputs": [],
      "source": [
        "# timit = timit.remove_columns([\"phonetic_detail\", \"word_detail\", \"dialect_region\", \"id\", \"sentence_type\", \"speaker_id\"])"
      ]
    },
    {
      "cell_type": "code",
      "execution_count": null,
      "metadata": {
        "colab": {
          "base_uri": "https://localhost:8080/"
        },
        "id": "ad-UGTuAxdoz",
        "outputId": "f80e88f2-474a-4bea-9b29-4476438798e0"
      },
      "outputs": [
        {
          "name": "stdout",
          "output_type": "stream",
          "text": [
            "{'audio': {'path': 'E:/rap_rec/dataset_cleaned/train/chunk_0.mp3', 'array': array([-0.1511101 , -0.20103808, -0.18242885, ..., -0.03254318,\n",
            "       -0.0436329 , -0.03384233]), 'sampling_rate': 44100}, 'lyrics': 'Wait wait a minute'}\n"
          ]
        },
        {
          "data": {
            "text/plain": [
              "datasets.arrow_dataset.Dataset"
            ]
          },
          "execution_count": 5,
          "metadata": {},
          "output_type": "execute_result"
        }
      ],
      "source": [
        "print(timit['train'][0])\n",
        "type(timit['train'])"
      ]
    },
    {
      "cell_type": "code",
      "execution_count": null,
      "metadata": {
        "id": "72737oog2F6U"
      },
      "outputs": [],
      "source": [
        "from datasets import ClassLabel\n",
        "import random\n",
        "import pandas as pd\n",
        "from IPython.display import display, HTML\n",
        "\n",
        "def show_random_elements(dataset, num_examples=10):\n",
        "    assert num_examples <= len(dataset), \"Can't pick more elements than there are in the dataset.\"\n",
        "    picks = []\n",
        "    for _ in range(num_examples):\n",
        "        pick = random.randint(0, len(dataset)-1)\n",
        "        while pick in picks:\n",
        "            pick = random.randint(0, len(dataset)-1)\n",
        "        picks.append(pick)\n",
        "\n",
        "    df = pd.DataFrame(dataset[picks])\n",
        "    display(HTML(df.to_html()))"
      ]
    },
    {
      "cell_type": "code",
      "execution_count": null,
      "metadata": {
        "colab": {
          "base_uri": "https://localhost:8080/",
          "height": 363
        },
        "id": "K_JUmf3G3b9S",
        "outputId": "c2d7b295-cbf3-4bf8-e6d3-4d512835c492"
      },
      "outputs": [
        {
          "data": {
            "text/html": [
              "<table border=\"1\" class=\"dataframe\">\n",
              "  <thead>\n",
              "    <tr style=\"text-align: right;\">\n",
              "      <th></th>\n",
              "      <th>lyrics</th>\n",
              "    </tr>\n",
              "  </thead>\n",
              "  <tbody>\n",
              "    <tr>\n",
              "      <th>0</th>\n",
              "      <td>Translation I will probably kill us both</td>\n",
              "    </tr>\n",
              "    <tr>\n",
              "      <th>1</th>\n",
              "      <td>Keepin' it short don't gotta give it a thought</td>\n",
              "    </tr>\n",
              "    <tr>\n",
              "      <th>2</th>\n",
              "      <td>Waist on thinner</td>\n",
              "    </tr>\n",
              "    <tr>\n",
              "      <th>3</th>\n",
              "      <td>If I throw up this money</td>\n",
              "    </tr>\n",
              "    <tr>\n",
              "      <th>4</th>\n",
              "      <td>I been living in the ghetto</td>\n",
              "    </tr>\n",
              "    <tr>\n",
              "      <th>5</th>\n",
              "      <td>Ayy welcome to the party</td>\n",
              "    </tr>\n",
              "    <tr>\n",
              "      <th>6</th>\n",
              "      <td>So now we stuck wit' the crazy pushin' a lotta negative up in the babies</td>\n",
              "    </tr>\n",
              "    <tr>\n",
              "      <th>7</th>\n",
              "      <td>A new clip</td>\n",
              "    </tr>\n",
              "    <tr>\n",
              "      <th>8</th>\n",
              "      <td>Gloves off bitch I'm feelin' impolite get lost</td>\n",
              "    </tr>\n",
              "    <tr>\n",
              "      <th>9</th>\n",
              "      <td>We gon' shoot that</td>\n",
              "    </tr>\n",
              "  </tbody>\n",
              "</table>"
            ],
            "text/plain": [
              "<IPython.core.display.HTML object>"
            ]
          },
          "metadata": {},
          "output_type": "display_data"
        }
      ],
      "source": [
        "show_random_elements(timit[\"train\"].remove_columns([\"audio\"]), num_examples=10)"
      ]
    },
    {
      "cell_type": "code",
      "execution_count": null,
      "metadata": {
        "id": "svKzVJ_hQGK6"
      },
      "outputs": [],
      "source": [
        "import re\n",
        "chars_to_ignore_regex = '[\\,\\?\\.\\!\\-\\;\\:\\*\\$\\%\\\"]'\n",
        "\n",
        "def remove_special_characters(batch):\n",
        "    from unidecode import unidecode\n",
        "    batch[\"lyrics\"] = unidecode(batch[\"lyrics\"])\n",
        "    batch[\"lyrics\"] = re.sub(chars_to_ignore_regex, '', batch[\"lyrics\"]).lower() + \" \"\n",
        "    # print(type(batch['lyrics']), batch['lyrics'])\n",
        "    trans = (\n",
        "        ('1', 'one'),\n",
        "        ('2', 'two'),\n",
        "        ('3', 'three'),\n",
        "        ('4', 'four'),\n",
        "        ('5', 'five'),\n",
        "        ('6', 'six'),\n",
        "        ('7', 'seven'),\n",
        "        ('8', 'eight'),\n",
        "        ('9', 'nine'),\n",
        "        ('0', 'zero'),\n",
        "    )\n",
        "\n",
        "    for num, word in trans:\n",
        "        batch[\"lyrics\"] = batch[\"lyrics\"].replace(num, word)\n",
        "\n",
        "    return batch"
      ]
    },
    {
      "cell_type": "code",
      "execution_count": null,
      "metadata": {
        "id": "XIHocAuTQbBR"
      },
      "outputs": [],
      "source": [
        "timit = timit.map(remove_special_characters)"
      ]
    },
    {
      "cell_type": "code",
      "execution_count": null,
      "metadata": {
        "colab": {
          "base_uri": "https://localhost:8080/",
          "height": 363
        },
        "id": "RBDRAAYxRE6n",
        "outputId": "fb9f0fc0-72a2-400f-c367-b2ff6abae16d"
      },
      "outputs": [
        {
          "data": {
            "text/html": [
              "<table border=\"1\" class=\"dataframe\">\n",
              "  <thead>\n",
              "    <tr style=\"text-align: right;\">\n",
              "      <th></th>\n",
              "      <th>lyrics</th>\n",
              "    </tr>\n",
              "  </thead>\n",
              "  <tbody>\n",
              "    <tr>\n",
              "      <th>0</th>\n",
              "      <td>yeah yeah yeah</td>\n",
              "    </tr>\n",
              "    <tr>\n",
              "      <th>1</th>\n",
              "      <td>cookie woo</td>\n",
              "    </tr>\n",
              "    <tr>\n",
              "      <th>2</th>\n",
              "      <td>right now like right now like</td>\n",
              "    </tr>\n",
              "    <tr>\n",
              "      <th>3</th>\n",
              "      <td>see  they said that i wouldn't</td>\n",
              "    </tr>\n",
              "    <tr>\n",
              "      <th>4</th>\n",
              "      <td>diamonds dancin' on your neck nigga tap in</td>\n",
              "    </tr>\n",
              "    <tr>\n",
              "      <th>5</th>\n",
              "      <td>i never gave a  how nigga feel</td>\n",
              "    </tr>\n",
              "    <tr>\n",
              "      <th>6</th>\n",
              "      <td>and you know we out here every day with it</td>\n",
              "    </tr>\n",
              "    <tr>\n",
              "      <th>7</th>\n",
              "      <td>i don't do this shit to entertain entertain</td>\n",
              "    </tr>\n",
              "    <tr>\n",
              "      <th>8</th>\n",
              "      <td>ooh</td>\n",
              "    </tr>\n",
              "    <tr>\n",
              "      <th>9</th>\n",
              "      <td>finally tired of all of this</td>\n",
              "    </tr>\n",
              "  </tbody>\n",
              "</table>"
            ],
            "text/plain": [
              "<IPython.core.display.HTML object>"
            ]
          },
          "metadata": {},
          "output_type": "display_data"
        }
      ],
      "source": [
        "show_random_elements(timit[\"train\"].remove_columns([\"audio\"]))"
      ]
    },
    {
      "cell_type": "code",
      "execution_count": null,
      "metadata": {
        "id": "LwCshNbbeRZR"
      },
      "outputs": [],
      "source": [
        "def extract_all_chars(batch):\n",
        "  all_text = \" \".join(batch[\"lyrics\"])\n",
        "  vocab = list(set(all_text))\n",
        "  return {\"vocab\": [vocab], \"all_text\": [all_text]}"
      ]
    },
    {
      "cell_type": "code",
      "execution_count": null,
      "metadata": {
        "colab": {
          "base_uri": "https://localhost:8080/",
          "height": 81,
          "referenced_widgets": [
            "6bf50ec5270146fbb65295a4c9ad0f5c",
            "d038c851f2cb4b6b959c20d48a12d1e5",
            "5015ce9ea74645e08981cfee5ec4d3dd",
            "f53a99cde06c4267b30836882449bfb8",
            "e88d15667dd5452baf6f938af4abf3c5",
            "9f21d2ded83d45978501552936061227",
            "ef4dd6915b8e473fb0fd366b8867c477",
            "2b0ff2c13e5b4346a1e6e7a2819fdbdb",
            "7715c0a355204574b96f437f0c7ac0e7",
            "7b5993a3277a494d9cf2ac5e15fac177",
            "f07487b29d484324a5cfef2ad456fca1",
            "95e46641b99242ff921e992fc1215bb1",
            "e85ad0683fef42619591984046f9d053",
            "f27277d94c814998b0d553a075d3d632",
            "2db8b405dce844d6a064055aab69dfe4",
            "17e727913096415f9e0fa4e8173d2d55",
            "865c9ec9e7ef4161a53ef1f81ab95c10",
            "13c8182a38af4f3bb8f4497c2da395b1",
            "d3b761c4e2634e3eb6bd3c2288e2a818",
            "e7db16c156834a2784ada70e4f085c3c",
            "fa56b7977ad4450497f3a6883bd7f686",
            "79e3276eb0fe42e5bac4f25f1ba00c8a"
          ]
        },
        "id": "_m6uUjjcfbjH",
        "outputId": "c414c0b7-768f-4eda-99e8-a8a773ed78f4"
      },
      "outputs": [
        {
          "name": "stderr",
          "output_type": "stream",
          "text": [
            "Map: 100%|██████████| 12532/12532 [00:00<00:00, 124761.50 examples/s]\n",
            "Map: 100%|██████████| 3085/3085 [00:00<00:00, 29430.13 examples/s]\n"
          ]
        }
      ],
      "source": [
        "vocabs = timit.map(\n",
        "  extract_all_chars,\n",
        "  batched=True,\n",
        "  batch_size=-1,\n",
        "  keep_in_memory=True,\n",
        "  remove_columns=timit.column_names[\"train\"]\n",
        ")"
      ]
    },
    {
      "cell_type": "code",
      "execution_count": null,
      "metadata": {
        "id": "aQfneNsmlJI0"
      },
      "outputs": [],
      "source": [
        "vocab_list = list(set(vocabs[\"train\"][\"vocab\"][0]) | set(vocabs[\"test\"][\"vocab\"][0]))"
      ]
    },
    {
      "cell_type": "code",
      "execution_count": null,
      "metadata": {
        "colab": {
          "base_uri": "https://localhost:8080/"
        },
        "id": "_0kRndSvqaKk",
        "outputId": "55694f4a-3c18-4e89-99f3-69e747102cb5"
      },
      "outputs": [
        {
          "data": {
            "text/plain": [
              "{'p': 0,\n",
              " ' ': 1,\n",
              " 'y': 2,\n",
              " 't': 3,\n",
              " 'f': 4,\n",
              " '(': 5,\n",
              " 'v': 6,\n",
              " '/': 7,\n",
              " 's': 8,\n",
              " 'h': 9,\n",
              " 'r': 10,\n",
              " 'g': 11,\n",
              " 'o': 12,\n",
              " 'x': 13,\n",
              " 'e': 14,\n",
              " 'j': 15,\n",
              " 'q': 16,\n",
              " \"'\": 17,\n",
              " 'i': 18,\n",
              " 'd': 19,\n",
              " 'n': 20,\n",
              " 'l': 21,\n",
              " 'u': 22,\n",
              " 'z': 23,\n",
              " 'a': 24,\n",
              " 'w': 25,\n",
              " 'c': 26,\n",
              " 'b': 27,\n",
              " 'm': 28,\n",
              " 'k': 29}"
            ]
          },
          "execution_count": 14,
          "metadata": {},
          "output_type": "execute_result"
        }
      ],
      "source": [
        "vocab_dict = {v: k for k, v in enumerate(vocab_list)}\n",
        "vocab_dict"
      ]
    },
    {
      "cell_type": "code",
      "execution_count": null,
      "metadata": {
        "id": "npbIbBoLgaFX"
      },
      "outputs": [],
      "source": [
        "vocab_dict[\"|\"] = vocab_dict[\" \"]\n",
        "del vocab_dict[\" \"]"
      ]
    },
    {
      "cell_type": "code",
      "execution_count": null,
      "metadata": {
        "colab": {
          "base_uri": "https://localhost:8080/"
        },
        "id": "znF0bNunsjbl",
        "outputId": "243dced3-b402-4a76-9a20-1310b3b2e17c"
      },
      "outputs": [
        {
          "data": {
            "text/plain": [
              "32"
            ]
          },
          "execution_count": 16,
          "metadata": {},
          "output_type": "execute_result"
        }
      ],
      "source": [
        "vocab_dict[\"[UNK]\"] = len(vocab_dict)\n",
        "vocab_dict[\"[PAD]\"] = len(vocab_dict)\n",
        "len(vocab_dict)"
      ]
    },
    {
      "cell_type": "code",
      "execution_count": null,
      "metadata": {
        "id": "ehyUoh9vk191"
      },
      "outputs": [],
      "source": [
        "import json\n",
        "with open('vocab.json', 'w') as vocab_file:\n",
        "    json.dump(vocab_dict, vocab_file)"
      ]
    },
    {
      "cell_type": "code",
      "execution_count": null,
      "metadata": {
        "colab": {
          "base_uri": "https://localhost:8080/",
          "height": 104,
          "referenced_widgets": [
            "1c18254ffcbb45cf9cb93d6aa667fee0",
            "0da943e0515a4389856adcd06b2ca262",
            "db9de2a8785241bd83db63167916463e",
            "856680471e4947bf9e1635b16593b0a2",
            "968f642857404f47ba8f11584572835c",
            "10a9509ceaa2496cbf942db11fb6e326",
            "341e616f4b864f4796631b697f4b2934",
            "20cf31210cfa41dcb4743f542fddd855",
            "4890cf39f2894e0d9ef367d02768d81b",
            "19c5fdd96e0b42dd913107fda26c1af9",
            "51f13f215d1c426489234f6d56245ec3"
          ]
        },
        "id": "Sx5010dnDTz1",
        "outputId": "67c1819b-7e83-4de6-a2eb-718cb18f5d96"
      },
      "outputs": [
        {
          "name": "stderr",
          "output_type": "stream",
          "text": [
            "c:\\Users\\wbsgus\\anaconda3\\envs\\rap\\lib\\site-packages\\transformers\\configuration_utils.py:381: UserWarning: Passing `gradient_checkpointing` to a config initialization is deprecated and will be removed in v5 Transformers. Using `model.gradient_checkpointing_enable()` instead, or if you are using the `Trainer` API, pass `gradient_checkpointing=True` in your `TrainingArguments`.\n",
            "  warnings.warn(\n"
          ]
        }
      ],
      "source": [
        "from transformers import AutoConfig\n",
        "\n",
        "config = AutoConfig.from_pretrained(model_checkpoint)\n",
        "\n",
        "tokenizer_type = config.model_type if config.tokenizer_class is None else None\n",
        "config = config if config.tokenizer_class is not None else None"
      ]
    },
    {
      "cell_type": "code",
      "execution_count": null,
      "metadata": {
        "colab": {
          "base_uri": "https://localhost:8080/"
        },
        "id": "xriFGEWQkO4M",
        "outputId": "47d05cdd-7fef-4965-ebf7-385603e105d9"
      },
      "outputs": [
        {
          "name": "stderr",
          "output_type": "stream",
          "text": [
            "`use_fast` is set to `True` but the tokenizer class does not have a fast version.  Falling back to the slow version.\n"
          ]
        }
      ],
      "source": [
        "from transformers import AutoTokenizer\n",
        "\n",
        "tokenizer = AutoTokenizer.from_pretrained(\n",
        "  \"./\",\n",
        "  config=config,\n",
        "  tokenizer_type=tokenizer_type,\n",
        "  unk_token=\"[UNK]\",\n",
        "  pad_token=\"[PAD]\",\n",
        "  word_delimiter_token=\"|\",\n",
        ")"
      ]
    },
    {
      "cell_type": "code",
      "execution_count": null,
      "metadata": {
        "id": "1mbffBdxIl0M"
      },
      "outputs": [],
      "source": [
        "model_checkpoint_name = model_checkpoint.split(\"/\")[-1]"
      ]
    },
    {
      "cell_type": "markdown",
      "metadata": {
        "id": "YFmShnl7RE35"
      },
      "source": [
        "### Preprocess Data"
      ]
    },
    {
      "cell_type": "code",
      "execution_count": null,
      "metadata": {
        "id": "TTCS7W6XJ9BG"
      },
      "outputs": [],
      "source": [
        "# timit[\"train\"][0][\"file\"]"
      ]
    },
    {
      "cell_type": "code",
      "execution_count": null,
      "metadata": {
        "colab": {
          "base_uri": "https://localhost:8080/"
        },
        "id": "mk9QHuSsN7lf",
        "outputId": "85546070-4108-4cdb-8a19-baab6d65d737"
      },
      "outputs": [
        {
          "data": {
            "text/plain": [
              "{'path': 'E:/rap_rec/dataset_cleaned/train/chunk_0.mp3',\n",
              " 'array': array([-0.1511101 , -0.20103808, -0.18242885, ..., -0.03254318,\n",
              "        -0.0436329 , -0.03384233]),\n",
              " 'sampling_rate': 44100}"
            ]
          },
          "execution_count": 22,
          "metadata": {},
          "output_type": "execute_result"
        }
      ],
      "source": [
        "timit[\"train\"][0][\"audio\"]"
      ]
    },
    {
      "cell_type": "code",
      "execution_count": null,
      "metadata": {
        "colab": {
          "base_uri": "https://localhost:8080/",
          "height": 93
        },
        "id": "dueM6U7Ev0OA",
        "outputId": "6ab30537-e31a-495b-dfe6-06f2473af53f"
      },
      "outputs": [
        {
          "name": "stdout",
          "output_type": "stream",
          "text": [
            "brace for impact \n"
          ]
        },
        {
          "data": {
            "text/html": [
              "\n",
              "                <audio  controls=\"controls\" autoplay=\"autoplay\">\n",
              "                    <source src=\"data:audio/wav;base64,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\" type=\"audio/wav\" />\n",
              "                    Your browser does not support the audio element.\n",
              "                </audio>\n",
              "              "
            ],
            "text/plain": [
              "<IPython.lib.display.Audio object>"
            ]
          },
          "execution_count": 23,
          "metadata": {},
          "output_type": "execute_result"
        }
      ],
      "source": [
        "import IPython.display as ipd\n",
        "import numpy as np\n",
        "import random\n",
        "\n",
        "rand_int = random.randint(0, len(timit[\"train\"]))\n",
        "\n",
        "print(timit[\"train\"][rand_int][\"lyrics\"])\n",
        "ipd.Audio(data=np.asarray(timit[\"train\"][rand_int][\"audio\"][\"array\"]), autoplay=True, rate=44100)"
      ]
    },
    {
      "cell_type": "code",
      "execution_count": null,
      "metadata": {
        "colab": {
          "base_uri": "https://localhost:8080/",
          "height": 75
        },
        "id": "fKIjuqcV0X5R",
        "outputId": "01573f62-38be-4842-f5aa-c8c2d9b4dd01"
      },
      "outputs": [
        {
          "data": {
            "text/html": [
              "\n",
              "                <audio  controls=\"controls\" autoplay=\"autoplay\">\n",
              "                    <source src=\"data:audio/wav;base64,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\" type=\"audio/wav\" />\n",
              "                    Your browser does not support the audio element.\n",
              "                </audio>\n",
              "              "
            ],
            "text/plain": [
              "<IPython.lib.display.Audio object>"
            ]
          },
          "execution_count": 24,
          "metadata": {},
          "output_type": "execute_result"
        }
      ],
      "source": [
        "import librosa\n",
        "_data = librosa.resample(timit[\"train\"][rand_int][\"audio\"][\"array\"], orig_sr=44100, target_sr=16000)\n",
        "ipd.Audio(data=_data, autoplay=True, rate=16000)"
      ]
    },
    {
      "cell_type": "code",
      "execution_count": null,
      "metadata": {
        "colab": {
          "base_uri": "https://localhost:8080/"
        },
        "id": "1Po2g7YPuRTx",
        "outputId": "53d4b88b-f07b-43d6-b3a2-35397338af7b"
      },
      "outputs": [
        {
          "name": "stdout",
          "output_type": "stream",
          "text": [
            "Target text: i shine my wrist \n",
            "Input array shape: (40131,)\n",
            "Sampling rate: 44100\n"
          ]
        }
      ],
      "source": [
        "rand_int = random.randint(0, len(timit[\"train\"]))\n",
        "\n",
        "print(\"Target text:\", timit[\"train\"][rand_int][\"lyrics\"])\n",
        "print(\"Input array shape:\", np.asarray(timit[\"train\"][rand_int][\"audio\"][\"array\"]).shape)\n",
        "print(\"Sampling rate:\", timit[\"train\"][rand_int][\"audio\"][\"sampling_rate\"])"
      ]
    },
    {
      "cell_type": "code",
      "execution_count": null,
      "metadata": {
        "id": "FFQCC3A9vz2r"
      },
      "outputs": [],
      "source": [
        "from transformers import AutoFeatureExtractor\n",
        "\n",
        "feature_extractor = AutoFeatureExtractor.from_pretrained(model_checkpoint)"
      ]
    },
    {
      "cell_type": "code",
      "execution_count": null,
      "metadata": {
        "id": "d-EuXD_rv7FP"
      },
      "outputs": [],
      "source": [
        "from transformers import Wav2Vec2Processor\n",
        "\n",
        "processor = Wav2Vec2Processor(feature_extractor=feature_extractor, tokenizer=tokenizer)"
      ]
    },
    {
      "cell_type": "code",
      "execution_count": null,
      "metadata": {
        "id": "eJY7I0XAwe9p"
      },
      "outputs": [],
      "source": [
        "def prepare_dataset(batch, processor=processor):\n",
        "    import librosa\n",
        "    audio = batch[\"audio\"]\n",
        "    wave = librosa.resample(audio['array'], orig_sr=44100, target_sr=16000)\n",
        "\n",
        "    # batched output is \"un-batched\" to ensure mapping is correct\n",
        "    batch[\"input_values\"] = processor(wave, sampling_rate=16000).input_values[0]\n",
        "    batch[\"input_length\"] = len(batch[\"input_values\"])\n",
        "\n",
        "    with processor.as_target_processor():\n",
        "        batch[\"labels\"] = processor(batch[\"lyrics\"]).input_ids\n",
        "    return batch"
      ]
    },
    {
      "cell_type": "code",
      "execution_count": null,
      "metadata": {
        "colab": {
          "base_uri": "https://localhost:8080/"
        },
        "id": "o6N0tLgv1IBd",
        "outputId": "a0326461-12d2-4c7d-d9ec-903e463743db"
      },
      "outputs": [
        {
          "data": {
            "text/plain": [
              "{'train': ['audio', 'lyrics'], 'test': ['audio', 'lyrics']}"
            ]
          },
          "execution_count": 29,
          "metadata": {},
          "output_type": "execute_result"
        }
      ],
      "source": [
        "# dir(timit)\n",
        "timit.column_names"
      ]
    },
    {
      "cell_type": "code",
      "execution_count": null,
      "metadata": {
        "colab": {
          "base_uri": "https://localhost:8080/",
          "height": 755,
          "referenced_widgets": [
            "ba14cfa319ce4a3e88ac54980db53f16",
            "12f48e80cfc448e88c7427cb4ec39cc1",
            "5a5d394bc3564b049545fc55136a19ef",
            "112afa4e5dba437ba22a4c88bcceb6cd",
            "b6b7837e64ec436c881ce739c3c2db5a",
            "fb2312cc2c794a1caaadd6bb36b4d9f7",
            "08df285de7fd46e9991c0173326d474f",
            "e183c219fdbc48faad4f594a3916614c",
            "10eedbd403e24bc4b3bba68a67094ba6",
            "4d76d58e57414847a69977b192430acc",
            "5b7af6695468486e8e66609907fb6f7d"
          ]
        },
        "id": "-np9xYK-wl8q",
        "outputId": "14053e1c-5c3d-4c8a-9d85-154a73fbe7ee"
      },
      "outputs": [
        {
          "name": "stderr",
          "output_type": "stream",
          "text": [
            "Map (num_proc=4): 100%|██████████| 12532/12532 [00:15<00:00, 792.33 examples/s] \n",
            "Map (num_proc=4): 100%|██████████| 3085/3085 [00:07<00:00, 408.41 examples/s] \n"
          ]
        }
      ],
      "source": [
        "timit = timit.map(prepare_dataset, remove_columns=[\"audio\", \"lyrics\"], num_proc=4)"
      ]
    },
    {
      "cell_type": "code",
      "execution_count": null,
      "metadata": {
        "id": "nqGobEPUvG3v",
        "outputId": "4b4f5ab2-a856-43af-e89e-85286330fa3b"
      },
      "outputs": [
        {
          "name": "stderr",
          "output_type": "stream",
          "text": [
            "Filter: 100%|██████████| 12532/12532 [00:00<00:00, 563002.27 examples/s]\n",
            "Filter: 100%|██████████| 12204/12204 [00:00<00:00, 312292.79 examples/s]\n",
            "Filter: 100%|██████████| 3085/3085 [00:00<?, ? examples/s]\n",
            "Filter: 100%|██████████| 2918/2918 [00:00<00:00, 182203.58 examples/s]\n"
          ]
        }
      ],
      "source": [
        "max_input_length_in_sec = 4.0\n",
        "min_input_length_in_sec = 1.0\n",
        "timit[\"train\"] = timit[\"train\"].filter(lambda x: x < max_input_length_in_sec * processor.feature_extractor.sampling_rate, input_columns=[\"input_length\"])\n",
        "timit[\"train\"] = timit[\"train\"].filter(lambda x: x >= min_input_length_in_sec * processor.feature_extractor.sampling_rate, input_columns=[\"input_length\"])\n",
        "timit[\"test\"] = timit[\"test\"].filter(lambda x: x < max_input_length_in_sec * processor.feature_extractor.sampling_rate, input_columns=[\"input_length\"])\n",
        "timit[\"test\"] = timit[\"test\"].filter(lambda x: x >= min_input_length_in_sec * processor.feature_extractor.sampling_rate, input_columns=[\"input_length\"])"
      ]
    },
    {
      "cell_type": "markdown",
      "metadata": {
        "id": "gYlQkKVoRUos"
      },
      "source": [
        "## Training\n",
        "\n",
        "The data is processed so that we are ready to start setting up the training pipeline. We will make use of 🤗's [Trainer](https://huggingface.co/transformers/master/main_classes/trainer.html?highlight=trainer) for which we essentially need to do the following:"
      ]
    },
    {
      "cell_type": "markdown",
      "metadata": {
        "id": "Slk403unUS91"
      },
      "source": [
        "### Set-up Trainer\n",
        "\n",
        "Let's start by defining the data collator. The code for the data collator was copied from [this example](https://github.com/huggingface/transformers/blob/9a06b6b11bdfc42eea08fa91d0c737d1863c99e3/examples/research_projects/wav2vec2/run_asr.py#L81)."
      ]
    },
    {
      "cell_type": "code",
      "execution_count": null,
      "metadata": {
        "id": "tborvC9hx88e"
      },
      "outputs": [],
      "source": [
        "from dataclasses import dataclass, field\n",
        "from typing import Any, Dict, List, Optional, Union\n",
        "\n",
        "@dataclass\n",
        "class DataCollatorCTCWithPadding:\n",
        "    \"\"\"\n",
        "    Data collator that will dynamically pad the inputs received.\n",
        "    Args:\n",
        "        processor (:class:`~transformers.Wav2Vec2Processor`)\n",
        "            The processor used for proccessing the data.\n",
        "        padding (:obj:`bool`, :obj:`str` or :class:`~transformers.tokenization_utils_base.PaddingStrategy`, `optional`, defaults to :obj:`True`):\n",
        "            Select a strategy to pad the returned sequences (according to the model's padding side and padding index)\n",
        "            among:\n",
        "            * :obj:`True` or :obj:`'longest'`: Pad to the longest sequence in the batch (or no padding if only a single\n",
        "              sequence if provided).\n",
        "            * :obj:`'max_length'`: Pad to a maximum length specified with the argument :obj:`max_length` or to the\n",
        "              maximum acceptable input length for the model if that argument is not provided.\n",
        "            * :obj:`False` or :obj:`'do_not_pad'` (default): No padding (i.e., can output a batch with sequences of\n",
        "              different lengths).\n",
        "        max_length (:obj:`int`, `optional`):\n",
        "            Maximum length of the ``input_values`` of the returned list and optionally padding length (see above).\n",
        "        max_length_labels (:obj:`int`, `optional`):\n",
        "            Maximum length of the ``labels`` returned list and optionally padding length (see above).\n",
        "        pad_to_multiple_of (:obj:`int`, `optional`):\n",
        "            If set will pad the sequence to a multiple of the provided value.\n",
        "            This is especially useful to enable the use of Tensor Cores on NVIDIA hardware with compute capability >=\n",
        "            7.5 (Volta).\n",
        "    \"\"\"\n",
        "\n",
        "    processor: Wav2Vec2Processor\n",
        "    padding: Union[bool, str] = True\n",
        "    max_length: Optional[int] = None\n",
        "    max_length_labels: Optional[int] = None\n",
        "    pad_to_multiple_of: Optional[int] = None\n",
        "    pad_to_multiple_of_labels: Optional[int] = None\n",
        "\n",
        "    def __call__(self, features: List[Dict[str, Union[List[int], torch.Tensor]]]) -> Dict[str, torch.Tensor]:\n",
        "        # split inputs and labels since they have to be of different lenghts and need\n",
        "        # different padding methods\n",
        "        input_features = [{\"input_values\": feature[\"input_values\"]} for feature in features]\n",
        "        label_features = [{\"input_ids\": feature[\"labels\"]} for feature in features]\n",
        "\n",
        "        batch = self.processor.pad(\n",
        "            input_features,\n",
        "            padding=self.padding,\n",
        "            max_length=self.max_length,\n",
        "            pad_to_multiple_of=self.pad_to_multiple_of,\n",
        "            return_tensors=\"pt\",\n",
        "        )\n",
        "        with self.processor.as_target_processor():\n",
        "            labels_batch = self.processor.pad(\n",
        "                label_features,\n",
        "                padding=self.padding,\n",
        "                max_length=self.max_length_labels,\n",
        "                pad_to_multiple_of=self.pad_to_multiple_of_labels,\n",
        "                return_tensors=\"pt\",\n",
        "            )\n",
        "\n",
        "        # replace padding with -100 to ignore loss correctly\n",
        "        labels = labels_batch[\"input_ids\"].masked_fill(labels_batch.attention_mask.ne(1), -100)\n",
        "\n",
        "        batch[\"labels\"] = labels\n",
        "\n",
        "        return batch"
      ]
    },
    {
      "cell_type": "code",
      "execution_count": null,
      "metadata": {
        "id": "lbQf5GuZyQ4_"
      },
      "outputs": [],
      "source": [
        "data_collator = DataCollatorCTCWithPadding(processor=processor, padding=True)"
      ]
    },
    {
      "cell_type": "code",
      "execution_count": null,
      "metadata": {
        "id": "9Xsux2gmyXso",
        "outputId": "c2574051-c359-4337-9fa0-db41fb733c9b"
      },
      "outputs": [
        {
          "name": "stderr",
          "output_type": "stream",
          "text": [
            "C:\\Users\\wbsgus\\AppData\\Local\\Temp\\ipykernel_19132\\24688115.py:1: FutureWarning: load_metric is deprecated and will be removed in the next major version of datasets. Use 'evaluate.load' instead, from the new library 🤗 Evaluate: https://huggingface.co/docs/evaluate\n",
            "  wer_metric = load_metric(\"wer\")\n"
          ]
        }
      ],
      "source": [
        "wer_metric = load_metric(\"wer\")"
      ]
    },
    {
      "cell_type": "code",
      "execution_count": null,
      "metadata": {
        "id": "1XZ-kjweyTy_"
      },
      "outputs": [],
      "source": [
        "def compute_metrics(pred):\n",
        "    pred_logits = pred.predictions\n",
        "    pred_ids = np.argmax(pred_logits, axis=-1)\n",
        "\n",
        "    pred.label_ids[pred.label_ids == -100] = processor.tokenizer.pad_token_id\n",
        "\n",
        "    pred_str = processor.batch_decode(pred_ids)\n",
        "    # we do not want to group tokens when computing the metrics\n",
        "    lyrics_str = processor.batch_decode(pred.label_ids, group_tokens=False)\n",
        "\n",
        "    wer = wer_metric.compute(predictions=pred_str, references=lyrics_str)\n",
        "\n",
        "    return {\"wer\": wer}"
      ]
    },
    {
      "cell_type": "code",
      "execution_count": null,
      "metadata": {
        "id": "e7cqAWIayn6w",
        "outputId": "42a9dc5a-7e9d-4111-fbd9-1d63445c7e63"
      },
      "outputs": [
        {
          "name": "stderr",
          "output_type": "stream",
          "text": [
            "c:\\Users\\wbsgus\\anaconda3\\envs\\rap\\lib\\site-packages\\transformers\\configuration_utils.py:381: UserWarning: Passing `gradient_checkpointing` to a config initialization is deprecated and will be removed in v5 Transformers. Using `model.gradient_checkpointing_enable()` instead, or if you are using the `Trainer` API, pass `gradient_checkpointing=True` in your `TrainingArguments`.\n",
            "  warnings.warn(\n",
            "Some weights of Wav2Vec2ForCTC were not initialized from the model checkpoint at facebook/wav2vec2-base and are newly initialized: ['wav2vec2.encoder.pos_conv_embed.conv.parametrizations.weight.original1', 'lm_head.bias', 'wav2vec2.encoder.pos_conv_embed.conv.parametrizations.weight.original0', 'lm_head.weight']\n",
            "You should probably TRAIN this model on a down-stream task to be able to use it for predictions and inference.\n"
          ]
        }
      ],
      "source": [
        "from transformers import AutoModelForCTC\n",
        "\n",
        "model = AutoModelForCTC.from_pretrained(\n",
        "    model_checkpoint,\n",
        "    ctc_loss_reduction=\"mean\",\n",
        "    pad_token_id=processor.tokenizer.pad_token_id,\n",
        ")"
      ]
    },
    {
      "cell_type": "code",
      "execution_count": null,
      "metadata": {
        "id": "KbeKSV7uzGPP"
      },
      "outputs": [],
      "source": [
        "from transformers import TrainingArguments\n",
        "\n",
        "training_args = TrainingArguments(\n",
        "  output_dir='output',\n",
        "  group_by_length=True,\n",
        "  per_device_train_batch_size=32,\n",
        "  evaluation_strategy=\"steps\",\n",
        "  # num_train_epochs=30,\n",
        "  num_train_epochs=20,\n",
        "  fp16=True,\n",
        "  gradient_checkpointing=True,\n",
        "  save_steps=500,\n",
        "  eval_steps=500,\n",
        "  logging_steps=500,\n",
        "  learning_rate=1e-4,\n",
        "  # learning_rate=1e-5,\n",
        "  weight_decay=0.001,\n",
        "  warmup_steps=1000,\n",
        "  save_total_limit=2,\n",
        ")"
      ]
    },
    {
      "cell_type": "code",
      "execution_count": null,
      "metadata": {
        "id": "rY7vBmFCPFgC"
      },
      "outputs": [],
      "source": [
        "from transformers import Trainer\n",
        "\n",
        "trainer = Trainer(\n",
        "    model=model,\n",
        "    data_collator=data_collator,\n",
        "    args=training_args,\n",
        "    compute_metrics=compute_metrics,\n",
        "    train_dataset=timit[\"train\"],\n",
        "    eval_dataset=timit[\"test\"],\n",
        "    tokenizer=processor.feature_extractor,\n",
        ")"
      ]
    },
    {
      "cell_type": "markdown",
      "metadata": {
        "id": "rpvZHM1xReIW"
      },
      "source": [
        "### Training"
      ]
    },
    {
      "cell_type": "code",
      "execution_count": null,
      "metadata": {
        "id": "_UEjJqGsQw24",
        "outputId": "61d2aa8c-e3f0-44e7-caa5-409e9a76428c"
      },
      "outputs": [
        {
          "name": "stderr",
          "output_type": "stream",
          "text": [
            "  8%|▊         | 500/6520 [03:22<39:13,  2.56it/s] "
          ]
        },
        {
          "name": "stdout",
          "output_type": "stream",
          "text": [
            "{'loss': 3.7857, 'learning_rate': 4.9500000000000004e-05, 'epoch': 1.53}\n"
          ]
        },
        {
          "name": "stderr",
          "output_type": "stream",
          "text": [
            "                                                  \n",
            "  8%|▊         | 500/6520 [03:58<39:13,  2.56it/s]"
          ]
        },
        {
          "name": "stdout",
          "output_type": "stream",
          "text": [
            "{'eval_loss': 3.0108823776245117, 'eval_wer': 1.0, 'eval_runtime': 36.111, 'eval_samples_per_second': 66.351, 'eval_steps_per_second': 8.308, 'epoch': 1.53}\n"
          ]
        },
        {
          "name": "stderr",
          "output_type": "stream",
          "text": [
            " 15%|█▌        | 1000/6520 [07:18<39:04,  2.35it/s]  "
          ]
        },
        {
          "name": "stdout",
          "output_type": "stream",
          "text": [
            "{'loss': 2.8254, 'learning_rate': 9.95e-05, 'epoch': 3.07}\n"
          ]
        },
        {
          "name": "stderr",
          "output_type": "stream",
          "text": [
            "                                                   \n",
            " 15%|█▌        | 1000/6520 [07:52<39:04,  2.35it/s]"
          ]
        },
        {
          "name": "stdout",
          "output_type": "stream",
          "text": [
            "{'eval_loss': 2.7002673149108887, 'eval_wer': 1.023023023023023, 'eval_runtime': 34.1938, 'eval_samples_per_second': 70.071, 'eval_steps_per_second': 8.774, 'epoch': 3.07}\n"
          ]
        },
        {
          "name": "stderr",
          "output_type": "stream",
          "text": [
            " 23%|██▎       | 1500/6520 [11:11<23:20,  3.59it/s]   "
          ]
        },
        {
          "name": "stdout",
          "output_type": "stream",
          "text": [
            "{'loss': 2.2868, 'learning_rate': 9.103260869565218e-05, 'epoch': 4.6}\n"
          ]
        },
        {
          "name": "stderr",
          "output_type": "stream",
          "text": [
            "                                                   \n",
            " 23%|██▎       | 1500/6520 [11:48<23:20,  3.59it/s]"
          ]
        },
        {
          "name": "stdout",
          "output_type": "stream",
          "text": [
            "{'eval_loss': 2.2584116458892822, 'eval_wer': 0.9467888941573153, 'eval_runtime': 36.9613, 'eval_samples_per_second': 64.825, 'eval_steps_per_second': 8.117, 'epoch': 4.6}\n"
          ]
        },
        {
          "name": "stderr",
          "output_type": "stream",
          "text": [
            " 31%|███       | 2000/6520 [15:09<22:07,  3.40it/s]   "
          ]
        },
        {
          "name": "stdout",
          "output_type": "stream",
          "text": [
            "{'loss': 1.9579, 'learning_rate': 8.197463768115942e-05, 'epoch': 6.13}\n"
          ]
        },
        {
          "name": "stderr",
          "output_type": "stream",
          "text": [
            "                                                   \n",
            " 31%|███       | 2000/6520 [15:48<22:07,  3.40it/s]"
          ]
        },
        {
          "name": "stdout",
          "output_type": "stream",
          "text": [
            "{'eval_loss': 2.0172243118286133, 'eval_wer': 0.9113850692798061, 'eval_runtime': 38.5561, 'eval_samples_per_second': 62.143, 'eval_steps_per_second': 7.781, 'epoch': 6.13}\n"
          ]
        },
        {
          "name": "stderr",
          "output_type": "stream",
          "text": [
            " 38%|███▊      | 2500/6520 [19:11<30:07,  2.22it/s]   "
          ]
        },
        {
          "name": "stdout",
          "output_type": "stream",
          "text": [
            "{'loss': 1.7305, 'learning_rate': 7.295289855072465e-05, 'epoch': 7.67}\n"
          ]
        },
        {
          "name": "stderr",
          "output_type": "stream",
          "text": [
            "                                                   \n",
            " 38%|███▊      | 2500/6520 [19:51<30:07,  2.22it/s]"
          ]
        },
        {
          "name": "stdout",
          "output_type": "stream",
          "text": [
            "{'eval_loss': 2.106318473815918, 'eval_wer': 0.8753490332437701, 'eval_runtime': 39.6834, 'eval_samples_per_second': 60.378, 'eval_steps_per_second': 7.56, 'epoch': 7.67}\n"
          ]
        },
        {
          "name": "stderr",
          "output_type": "stream",
          "text": [
            " 46%|████▌     | 3000/6520 [23:13<26:55,  2.18it/s]   "
          ]
        },
        {
          "name": "stdout",
          "output_type": "stream",
          "text": [
            "{'loss': 1.5786, 'learning_rate': 6.389492753623188e-05, 'epoch': 9.2}\n"
          ]
        },
        {
          "name": "stderr",
          "output_type": "stream",
          "text": [
            "                                                   \n",
            " 46%|████▌     | 3000/6520 [23:49<26:55,  2.18it/s]"
          ]
        },
        {
          "name": "stdout",
          "output_type": "stream",
          "text": [
            "{'eval_loss': 2.130814790725708, 'eval_wer': 0.8561719614351193, 'eval_runtime': 36.1015, 'eval_samples_per_second': 66.368, 'eval_steps_per_second': 8.31, 'epoch': 9.2}\n"
          ]
        },
        {
          "name": "stderr",
          "output_type": "stream",
          "text": [
            " 54%|█████▎    | 3500/6520 [27:10<16:02,  3.14it/s]   "
          ]
        },
        {
          "name": "stdout",
          "output_type": "stream",
          "text": [
            "{'loss': 1.4707, 'learning_rate': 5.4836956521739136e-05, 'epoch': 10.74}\n"
          ]
        },
        {
          "name": "stderr",
          "output_type": "stream",
          "text": [
            "                                                   \n",
            " 54%|█████▎    | 3500/6520 [27:47<16:02,  3.14it/s]"
          ]
        },
        {
          "name": "stdout",
          "output_type": "stream",
          "text": [
            "{'eval_loss': 2.0220561027526855, 'eval_wer': 0.8407881565776303, 'eval_runtime': 37.4568, 'eval_samples_per_second': 63.967, 'eval_steps_per_second': 8.009, 'epoch': 10.74}\n"
          ]
        },
        {
          "name": "stderr",
          "output_type": "stream",
          "text": [
            " 61%|██████▏   | 4000/6520 [31:09<14:00,  3.00it/s]  "
          ]
        },
        {
          "name": "stdout",
          "output_type": "stream",
          "text": [
            "{'loss': 1.3545, 'learning_rate': 4.577898550724638e-05, 'epoch': 12.27}\n"
          ]
        },
        {
          "name": "stderr",
          "output_type": "stream",
          "text": [
            "                                                   \n",
            " 61%|██████▏   | 4000/6520 [32:00<14:00,  3.00it/s]"
          ]
        },
        {
          "name": "stdout",
          "output_type": "stream",
          "text": [
            "{'eval_loss': 1.942319631576538, 'eval_wer': 0.8516937990622201, 'eval_runtime': 50.5346, 'eval_samples_per_second': 47.413, 'eval_steps_per_second': 5.937, 'epoch': 12.27}\n"
          ]
        },
        {
          "name": "stderr",
          "output_type": "stream",
          "text": [
            " 69%|██████▉   | 4500/6520 [37:04<16:42,  2.02it/s]   "
          ]
        },
        {
          "name": "stdout",
          "output_type": "stream",
          "text": [
            "{'loss': 1.2841, 'learning_rate': 3.6721014492753626e-05, 'epoch': 13.8}\n"
          ]
        },
        {
          "name": "stderr",
          "output_type": "stream",
          "text": [
            "                                                   \n",
            " 69%|██████▉   | 4500/6520 [37:40<16:42,  2.02it/s]"
          ]
        },
        {
          "name": "stdout",
          "output_type": "stream",
          "text": [
            "{'eval_loss': 2.0597755908966064, 'eval_wer': 0.8244033507191402, 'eval_runtime': 35.8141, 'eval_samples_per_second': 66.901, 'eval_steps_per_second': 8.377, 'epoch': 13.8}\n"
          ]
        },
        {
          "name": "stderr",
          "output_type": "stream",
          "text": [
            " 77%|███████▋  | 5000/6520 [42:27<12:48,  1.98it/s]  "
          ]
        },
        {
          "name": "stdout",
          "output_type": "stream",
          "text": [
            "{'loss': 1.2076, 'learning_rate': 2.7681159420289854e-05, 'epoch': 15.34}\n"
          ]
        },
        {
          "name": "stderr",
          "output_type": "stream",
          "text": [
            "                                                   \n",
            " 77%|███████▋  | 5000/6520 [43:07<12:48,  1.98it/s]"
          ]
        },
        {
          "name": "stdout",
          "output_type": "stream",
          "text": [
            "{'eval_loss': 2.0824501514434814, 'eval_wer': 0.8182392919235024, 'eval_runtime': 39.9186, 'eval_samples_per_second': 60.022, 'eval_steps_per_second': 7.515, 'epoch': 15.34}\n"
          ]
        },
        {
          "name": "stderr",
          "output_type": "stream",
          "text": [
            " 84%|████████▍ | 5500/6520 [52:35<18:24,  1.08s/it]  "
          ]
        },
        {
          "name": "stdout",
          "output_type": "stream",
          "text": [
            "{'loss': 1.1459, 'learning_rate': 1.8623188405797102e-05, 'epoch': 16.87}\n"
          ]
        },
        {
          "name": "stderr",
          "output_type": "stream",
          "text": [
            "                                                   \n",
            " 84%|████████▍ | 5500/6520 [54:22<18:24,  1.08s/it]"
          ]
        },
        {
          "name": "stdout",
          "output_type": "stream",
          "text": [
            "{'eval_loss': 2.039092540740967, 'eval_wer': 0.8339918866234656, 'eval_runtime': 106.5217, 'eval_samples_per_second': 22.493, 'eval_steps_per_second': 2.816, 'epoch': 16.87}\n"
          ]
        },
        {
          "name": "stderr",
          "output_type": "stream",
          "text": [
            " 92%|█████████▏| 6000/6520 [1:04:40<09:31,  1.10s/it]"
          ]
        },
        {
          "name": "stdout",
          "output_type": "stream",
          "text": [
            "{'loss': 1.0938, 'learning_rate': 9.583333333333334e-06, 'epoch': 18.4}\n"
          ]
        },
        {
          "name": "stderr",
          "output_type": "stream",
          "text": [
            "                                                     \n",
            " 92%|█████████▏| 6000/6520 [1:06:03<09:31,  1.10s/it]"
          ]
        },
        {
          "name": "stdout",
          "output_type": "stream",
          "text": [
            "{'eval_loss': 2.1278722286224365, 'eval_wer': 0.8278805120910384, 'eval_runtime': 82.4913, 'eval_samples_per_second': 29.046, 'eval_steps_per_second': 3.637, 'epoch': 18.4}\n"
          ]
        },
        {
          "name": "stderr",
          "output_type": "stream",
          "text": [
            "100%|█████████▉| 6500/6520 [1:15:12<00:12,  1.57it/s]  "
          ]
        },
        {
          "name": "stdout",
          "output_type": "stream",
          "text": [
            "{'loss': 1.0706, 'learning_rate': 5.253623188405797e-07, 'epoch': 19.94}\n"
          ]
        },
        {
          "name": "stderr",
          "output_type": "stream",
          "text": [
            "                                                     \n",
            "100%|█████████▉| 6500/6520 [1:15:44<00:12,  1.57it/s]"
          ]
        },
        {
          "name": "stdout",
          "output_type": "stream",
          "text": [
            "{'eval_loss': 2.0967183113098145, 'eval_wer': 0.8177124492913966, 'eval_runtime': 32.0515, 'eval_samples_per_second': 74.755, 'eval_steps_per_second': 9.36, 'epoch': 19.94}\n"
          ]
        },
        {
          "name": "stderr",
          "output_type": "stream",
          "text": [
            "100%|██████████| 6520/6520 [1:15:57<00:00,  1.43it/s]"
          ]
        },
        {
          "name": "stdout",
          "output_type": "stream",
          "text": [
            "{'train_runtime': 4557.132, 'train_samples_per_second': 45.682, 'train_steps_per_second': 1.431, 'train_loss': 1.751242885999153, 'epoch': 20.0}\n"
          ]
        },
        {
          "name": "stderr",
          "output_type": "stream",
          "text": [
            "\n"
          ]
        },
        {
          "data": {
            "text/plain": [
              "TrainOutput(global_step=6520, training_loss=1.751242885999153, metrics={'train_runtime': 4557.132, 'train_samples_per_second': 45.682, 'train_steps_per_second': 1.431, 'train_loss': 1.751242885999153, 'epoch': 20.0})"
            ]
          },
          "execution_count": 39,
          "metadata": {},
          "output_type": "execute_result"
        }
      ],
      "source": [
        "import warnings\n",
        "\n",
        "warnings.filterwarnings(action='ignore', module='torch')\n",
        "warnings.filterwarnings(action='ignore', module='transformers')\n",
        "trainer.train()"
      ]
    }
  ],
  "metadata": {
    "accelerator": "GPU",
    "colab": {
      "gpuType": "T4",
      "provenance": [],
      "include_colab_link": true
    },
    "kernelspec": {
      "display_name": "Python 3",
      "name": "python3"
    },
    "language_info": {
      "codemirror_mode": {
        "name": "ipython",
        "version": 3
      },
      "file_extension": ".py",
      "mimetype": "text/x-python",
      "name": "python",
      "nbconvert_exporter": "python",
      "pygments_lexer": "ipython3",
      "version": "3.10.13"
    },
    "widgets": {
      "application/vnd.jupyter.widget-state+json": {
        "08df285de7fd46e9991c0173326d474f": {
          "model_module": "@jupyter-widgets/controls",
          "model_module_version": "1.5.0",
          "model_name": "DescriptionStyleModel",
          "state": {
            "_model_module": "@jupyter-widgets/controls",
            "_model_module_version": "1.5.0",
            "_model_name": "DescriptionStyleModel",
            "_view_count": null,
            "_view_module": "@jupyter-widgets/base",
            "_view_module_version": "1.2.0",
            "_view_name": "StyleView",
            "description_width": ""
          }
        },
        "0a07a47bbb0b4726aedd1c2e104913a6": {
          "model_module": "@jupyter-widgets/controls",
          "model_module_version": "1.5.0",
          "model_name": "DescriptionStyleModel",
          "state": {
            "_model_module": "@jupyter-widgets/controls",
            "_model_module_version": "1.5.0",
            "_model_name": "DescriptionStyleModel",
            "_view_count": null,
            "_view_module": "@jupyter-widgets/base",
            "_view_module_version": "1.2.0",
            "_view_name": "StyleView",
            "description_width": ""
          }
        },
        "0c597ca304f44bb5a41423f529339fe2": {
          "model_module": "@jupyter-widgets/base",
          "model_module_version": "1.2.0",
          "model_name": "LayoutModel",
          "state": {
            "_model_module": "@jupyter-widgets/base",
            "_model_module_version": "1.2.0",
            "_model_name": "LayoutModel",
            "_view_count": null,
            "_view_module": "@jupyter-widgets/base",
            "_view_module_version": "1.2.0",
            "_view_name": "LayoutView",
            "align_content": null,
            "align_items": null,
            "align_self": null,
            "border": null,
            "bottom": null,
            "display": null,
            "flex": null,
            "flex_flow": null,
            "grid_area": null,
            "grid_auto_columns": null,
            "grid_auto_flow": null,
            "grid_auto_rows": null,
            "grid_column": null,
            "grid_gap": null,
            "grid_row": null,
            "grid_template_areas": null,
            "grid_template_columns": null,
            "grid_template_rows": null,
            "height": null,
            "justify_content": null,
            "justify_items": null,
            "left": null,
            "margin": null,
            "max_height": null,
            "max_width": null,
            "min_height": null,
            "min_width": null,
            "object_fit": null,
            "object_position": null,
            "order": null,
            "overflow": null,
            "overflow_x": null,
            "overflow_y": null,
            "padding": null,
            "right": null,
            "top": null,
            "visibility": null,
            "width": "20px"
          }
        },
        "0ca715996a6c493bb527733fe278ce14": {
          "model_module": "@jupyter-widgets/controls",
          "model_module_version": "1.5.0",
          "model_name": "DescriptionStyleModel",
          "state": {
            "_model_module": "@jupyter-widgets/controls",
            "_model_module_version": "1.5.0",
            "_model_name": "DescriptionStyleModel",
            "_view_count": null,
            "_view_module": "@jupyter-widgets/base",
            "_view_module_version": "1.2.0",
            "_view_name": "StyleView",
            "description_width": ""
          }
        },
        "0cce4a2eb29a4cf099c8cd2eec95dde4": {
          "model_module": "@jupyter-widgets/base",
          "model_module_version": "1.2.0",
          "model_name": "LayoutModel",
          "state": {
            "_model_module": "@jupyter-widgets/base",
            "_model_module_version": "1.2.0",
            "_model_name": "LayoutModel",
            "_view_count": null,
            "_view_module": "@jupyter-widgets/base",
            "_view_module_version": "1.2.0",
            "_view_name": "LayoutView",
            "align_content": null,
            "align_items": null,
            "align_self": null,
            "border": null,
            "bottom": null,
            "display": null,
            "flex": null,
            "flex_flow": null,
            "grid_area": null,
            "grid_auto_columns": null,
            "grid_auto_flow": null,
            "grid_auto_rows": null,
            "grid_column": null,
            "grid_gap": null,
            "grid_row": null,
            "grid_template_areas": null,
            "grid_template_columns": null,
            "grid_template_rows": null,
            "height": null,
            "justify_content": null,
            "justify_items": null,
            "left": null,
            "margin": null,
            "max_height": null,
            "max_width": null,
            "min_height": null,
            "min_width": null,
            "object_fit": null,
            "object_position": null,
            "order": null,
            "overflow": null,
            "overflow_x": null,
            "overflow_y": null,
            "padding": null,
            "right": null,
            "top": null,
            "visibility": null,
            "width": null
          }
        },
        "0da943e0515a4389856adcd06b2ca262": {
          "model_module": "@jupyter-widgets/controls",
          "model_module_version": "1.5.0",
          "model_name": "HTMLModel",
          "state": {
            "_dom_classes": [],
            "_model_module": "@jupyter-widgets/controls",
            "_model_module_version": "1.5.0",
            "_model_name": "HTMLModel",
            "_view_count": null,
            "_view_module": "@jupyter-widgets/controls",
            "_view_module_version": "1.5.0",
            "_view_name": "HTMLView",
            "description": "",
            "description_tooltip": null,
            "layout": "IPY_MODEL_10a9509ceaa2496cbf942db11fb6e326",
            "placeholder": "​",
            "style": "IPY_MODEL_341e616f4b864f4796631b697f4b2934",
            "value": "config.json: 100%"
          }
        },
        "0f2d8fb1535149f69da87511e4510225": {
          "model_module": "@jupyter-widgets/controls",
          "model_module_version": "1.5.0",
          "model_name": "DescriptionStyleModel",
          "state": {
            "_model_module": "@jupyter-widgets/controls",
            "_model_module_version": "1.5.0",
            "_model_name": "DescriptionStyleModel",
            "_view_count": null,
            "_view_module": "@jupyter-widgets/base",
            "_view_module_version": "1.2.0",
            "_view_name": "StyleView",
            "description_width": ""
          }
        },
        "10a9509ceaa2496cbf942db11fb6e326": {
          "model_module": "@jupyter-widgets/base",
          "model_module_version": "1.2.0",
          "model_name": "LayoutModel",
          "state": {
            "_model_module": "@jupyter-widgets/base",
            "_model_module_version": "1.2.0",
            "_model_name": "LayoutModel",
            "_view_count": null,
            "_view_module": "@jupyter-widgets/base",
            "_view_module_version": "1.2.0",
            "_view_name": "LayoutView",
            "align_content": null,
            "align_items": null,
            "align_self": null,
            "border": null,
            "bottom": null,
            "display": null,
            "flex": null,
            "flex_flow": null,
            "grid_area": null,
            "grid_auto_columns": null,
            "grid_auto_flow": null,
            "grid_auto_rows": null,
            "grid_column": null,
            "grid_gap": null,
            "grid_row": null,
            "grid_template_areas": null,
            "grid_template_columns": null,
            "grid_template_rows": null,
            "height": null,
            "justify_content": null,
            "justify_items": null,
            "left": null,
            "margin": null,
            "max_height": null,
            "max_width": null,
            "min_height": null,
            "min_width": null,
            "object_fit": null,
            "object_position": null,
            "order": null,
            "overflow": null,
            "overflow_x": null,
            "overflow_y": null,
            "padding": null,
            "right": null,
            "top": null,
            "visibility": null,
            "width": null
          }
        },
        "10eedbd403e24bc4b3bba68a67094ba6": {
          "model_module": "@jupyter-widgets/controls",
          "model_module_version": "1.5.0",
          "model_name": "ProgressStyleModel",
          "state": {
            "_model_module": "@jupyter-widgets/controls",
            "_model_module_version": "1.5.0",
            "_model_name": "ProgressStyleModel",
            "_view_count": null,
            "_view_module": "@jupyter-widgets/base",
            "_view_module_version": "1.2.0",
            "_view_name": "StyleView",
            "bar_color": null,
            "description_width": ""
          }
        },
        "112afa4e5dba437ba22a4c88bcceb6cd": {
          "model_module": "@jupyter-widgets/controls",
          "model_module_version": "1.5.0",
          "model_name": "HTMLModel",
          "state": {
            "_dom_classes": [],
            "_model_module": "@jupyter-widgets/controls",
            "_model_module_version": "1.5.0",
            "_model_name": "HTMLModel",
            "_view_count": null,
            "_view_module": "@jupyter-widgets/controls",
            "_view_module_version": "1.5.0",
            "_view_name": "HTMLView",
            "description": "",
            "description_tooltip": null,
            "layout": "IPY_MODEL_4d76d58e57414847a69977b192430acc",
            "placeholder": "​",
            "style": "IPY_MODEL_5b7af6695468486e8e66609907fb6f7d",
            "value": " 144/9999 [00:42&lt;29:52,  5.50 examples/s]"
          }
        },
        "1160a2f0ec664d99bc1cf3db5a79432e": {
          "model_module": "@jupyter-widgets/base",
          "model_module_version": "1.2.0",
          "model_name": "LayoutModel",
          "state": {
            "_model_module": "@jupyter-widgets/base",
            "_model_module_version": "1.2.0",
            "_model_name": "LayoutModel",
            "_view_count": null,
            "_view_module": "@jupyter-widgets/base",
            "_view_module_version": "1.2.0",
            "_view_name": "LayoutView",
            "align_content": null,
            "align_items": null,
            "align_self": null,
            "border": null,
            "bottom": null,
            "display": null,
            "flex": null,
            "flex_flow": null,
            "grid_area": null,
            "grid_auto_columns": null,
            "grid_auto_flow": null,
            "grid_auto_rows": null,
            "grid_column": null,
            "grid_gap": null,
            "grid_row": null,
            "grid_template_areas": null,
            "grid_template_columns": null,
            "grid_template_rows": null,
            "height": null,
            "justify_content": null,
            "justify_items": null,
            "left": null,
            "margin": null,
            "max_height": null,
            "max_width": null,
            "min_height": null,
            "min_width": null,
            "object_fit": null,
            "object_position": null,
            "order": null,
            "overflow": null,
            "overflow_x": null,
            "overflow_y": null,
            "padding": null,
            "right": null,
            "top": null,
            "visibility": null,
            "width": "20px"
          }
        },
        "11c9d8cc7b6e4f58b5f45357a9c1ea48": {
          "model_module": "@jupyter-widgets/controls",
          "model_module_version": "1.5.0",
          "model_name": "FloatProgressModel",
          "state": {
            "_dom_classes": [],
            "_model_module": "@jupyter-widgets/controls",
            "_model_module_version": "1.5.0",
            "_model_name": "FloatProgressModel",
            "_view_count": null,
            "_view_module": "@jupyter-widgets/controls",
            "_view_module_version": "1.5.0",
            "_view_name": "ProgressView",
            "bar_style": "success",
            "description": "",
            "description_tooltip": null,
            "layout": "IPY_MODEL_b6633f636b244f77a247abb3ea4c0d82",
            "max": 9999,
            "min": 0,
            "orientation": "horizontal",
            "style": "IPY_MODEL_41fefa64438b4bdca69373930756bb8a",
            "value": 9999
          }
        },
        "12f48e80cfc448e88c7427cb4ec39cc1": {
          "model_module": "@jupyter-widgets/controls",
          "model_module_version": "1.5.0",
          "model_name": "HTMLModel",
          "state": {
            "_dom_classes": [],
            "_model_module": "@jupyter-widgets/controls",
            "_model_module_version": "1.5.0",
            "_model_name": "HTMLModel",
            "_view_count": null,
            "_view_module": "@jupyter-widgets/controls",
            "_view_module_version": "1.5.0",
            "_view_name": "HTMLView",
            "description": "",
            "description_tooltip": null,
            "layout": "IPY_MODEL_fb2312cc2c794a1caaadd6bb36b4d9f7",
            "placeholder": "​",
            "style": "IPY_MODEL_08df285de7fd46e9991c0173326d474f",
            "value": "Map (num_proc=4):   1%"
          }
        },
        "13c8182a38af4f3bb8f4497c2da395b1": {
          "model_module": "@jupyter-widgets/controls",
          "model_module_version": "1.5.0",
          "model_name": "DescriptionStyleModel",
          "state": {
            "_model_module": "@jupyter-widgets/controls",
            "_model_module_version": "1.5.0",
            "_model_name": "DescriptionStyleModel",
            "_view_count": null,
            "_view_module": "@jupyter-widgets/base",
            "_view_module_version": "1.2.0",
            "_view_name": "StyleView",
            "description_width": ""
          }
        },
        "14c7fc72558840d48bca0d4dcbd2d817": {
          "model_module": "@jupyter-widgets/controls",
          "model_module_version": "1.5.0",
          "model_name": "HTMLModel",
          "state": {
            "_dom_classes": [],
            "_model_module": "@jupyter-widgets/controls",
            "_model_module_version": "1.5.0",
            "_model_name": "HTMLModel",
            "_view_count": null,
            "_view_module": "@jupyter-widgets/controls",
            "_view_module_version": "1.5.0",
            "_view_name": "HTMLView",
            "description": "",
            "description_tooltip": null,
            "layout": "IPY_MODEL_8c6a7d9e08304ef99e877c336b8a32f3",
            "placeholder": "​",
            "style": "IPY_MODEL_a7ab93f512934a9f9769131a7c97d503",
            "value": " 1209/1209 [00:00&lt;00:00, 8918.25it/s]"
          }
        },
        "15f12584b3254263b50ec21251ce97b2": {
          "model_module": "@jupyter-widgets/controls",
          "model_module_version": "1.5.0",
          "model_name": "DescriptionStyleModel",
          "state": {
            "_model_module": "@jupyter-widgets/controls",
            "_model_module_version": "1.5.0",
            "_model_name": "DescriptionStyleModel",
            "_view_count": null,
            "_view_module": "@jupyter-widgets/base",
            "_view_module_version": "1.2.0",
            "_view_name": "StyleView",
            "description_width": ""
          }
        },
        "1739a34beb6040efb9d8fc916841f511": {
          "model_module": "@jupyter-widgets/controls",
          "model_module_version": "1.5.0",
          "model_name": "HBoxModel",
          "state": {
            "_dom_classes": [],
            "_model_module": "@jupyter-widgets/controls",
            "_model_module_version": "1.5.0",
            "_model_name": "HBoxModel",
            "_view_count": null,
            "_view_module": "@jupyter-widgets/controls",
            "_view_module_version": "1.5.0",
            "_view_name": "HBoxView",
            "box_style": "",
            "children": [
              "IPY_MODEL_58c3e4af7b8e4be280cf79b9b311b34b",
              "IPY_MODEL_55249948929149bdb7a9446764327806",
              "IPY_MODEL_5e05da47fe7e46f580a9a1a072622ccd"
            ],
            "layout": "IPY_MODEL_0cce4a2eb29a4cf099c8cd2eec95dde4"
          }
        },
        "17e727913096415f9e0fa4e8173d2d55": {
          "model_module": "@jupyter-widgets/base",
          "model_module_version": "1.2.0",
          "model_name": "LayoutModel",
          "state": {
            "_model_module": "@jupyter-widgets/base",
            "_model_module_version": "1.2.0",
            "_model_name": "LayoutModel",
            "_view_count": null,
            "_view_module": "@jupyter-widgets/base",
            "_view_module_version": "1.2.0",
            "_view_name": "LayoutView",
            "align_content": null,
            "align_items": null,
            "align_self": null,
            "border": null,
            "bottom": null,
            "display": null,
            "flex": null,
            "flex_flow": null,
            "grid_area": null,
            "grid_auto_columns": null,
            "grid_auto_flow": null,
            "grid_auto_rows": null,
            "grid_column": null,
            "grid_gap": null,
            "grid_row": null,
            "grid_template_areas": null,
            "grid_template_columns": null,
            "grid_template_rows": null,
            "height": null,
            "justify_content": null,
            "justify_items": null,
            "left": null,
            "margin": null,
            "max_height": null,
            "max_width": null,
            "min_height": null,
            "min_width": null,
            "object_fit": null,
            "object_position": null,
            "order": null,
            "overflow": null,
            "overflow_x": null,
            "overflow_y": null,
            "padding": null,
            "right": null,
            "top": null,
            "visibility": null,
            "width": null
          }
        },
        "19c5fdd96e0b42dd913107fda26c1af9": {
          "model_module": "@jupyter-widgets/base",
          "model_module_version": "1.2.0",
          "model_name": "LayoutModel",
          "state": {
            "_model_module": "@jupyter-widgets/base",
            "_model_module_version": "1.2.0",
            "_model_name": "LayoutModel",
            "_view_count": null,
            "_view_module": "@jupyter-widgets/base",
            "_view_module_version": "1.2.0",
            "_view_name": "LayoutView",
            "align_content": null,
            "align_items": null,
            "align_self": null,
            "border": null,
            "bottom": null,
            "display": null,
            "flex": null,
            "flex_flow": null,
            "grid_area": null,
            "grid_auto_columns": null,
            "grid_auto_flow": null,
            "grid_auto_rows": null,
            "grid_column": null,
            "grid_gap": null,
            "grid_row": null,
            "grid_template_areas": null,
            "grid_template_columns": null,
            "grid_template_rows": null,
            "height": null,
            "justify_content": null,
            "justify_items": null,
            "left": null,
            "margin": null,
            "max_height": null,
            "max_width": null,
            "min_height": null,
            "min_width": null,
            "object_fit": null,
            "object_position": null,
            "order": null,
            "overflow": null,
            "overflow_x": null,
            "overflow_y": null,
            "padding": null,
            "right": null,
            "top": null,
            "visibility": null,
            "width": null
          }
        },
        "19d7b84dd3bc47379b250ee72be83be5": {
          "model_module": "@jupyter-widgets/controls",
          "model_module_version": "1.5.0",
          "model_name": "DescriptionStyleModel",
          "state": {
            "_model_module": "@jupyter-widgets/controls",
            "_model_module_version": "1.5.0",
            "_model_name": "DescriptionStyleModel",
            "_view_count": null,
            "_view_module": "@jupyter-widgets/base",
            "_view_module_version": "1.2.0",
            "_view_name": "StyleView",
            "description_width": ""
          }
        },
        "1a18b8bb9fde473aaa79f8a7b1bb7e1f": {
          "model_module": "@jupyter-widgets/controls",
          "model_module_version": "1.5.0",
          "model_name": "HTMLModel",
          "state": {
            "_dom_classes": [],
            "_model_module": "@jupyter-widgets/controls",
            "_model_module_version": "1.5.0",
            "_model_name": "HTMLModel",
            "_view_count": null,
            "_view_module": "@jupyter-widgets/controls",
            "_view_module_version": "1.5.0",
            "_view_name": "HTMLView",
            "description": "",
            "description_tooltip": null,
            "layout": "IPY_MODEL_4f4d2aaa2f044cc4891f44b80fd1c2ac",
            "placeholder": "​",
            "style": "IPY_MODEL_c47fbaaf0a2b4b4aabe8eaf4e57d6429",
            "value": " 1210/1210 [00:00&lt;00:00, 3109.52it/s]"
          }
        },
        "1a4198b27e2a45119b9a538f2cb80fed": {
          "model_module": "@jupyter-widgets/base",
          "model_module_version": "1.2.0",
          "model_name": "LayoutModel",
          "state": {
            "_model_module": "@jupyter-widgets/base",
            "_model_module_version": "1.2.0",
            "_model_name": "LayoutModel",
            "_view_count": null,
            "_view_module": "@jupyter-widgets/base",
            "_view_module_version": "1.2.0",
            "_view_name": "LayoutView",
            "align_content": null,
            "align_items": null,
            "align_self": null,
            "border": null,
            "bottom": null,
            "display": null,
            "flex": null,
            "flex_flow": null,
            "grid_area": null,
            "grid_auto_columns": null,
            "grid_auto_flow": null,
            "grid_auto_rows": null,
            "grid_column": null,
            "grid_gap": null,
            "grid_row": null,
            "grid_template_areas": null,
            "grid_template_columns": null,
            "grid_template_rows": null,
            "height": null,
            "justify_content": null,
            "justify_items": null,
            "left": null,
            "margin": null,
            "max_height": null,
            "max_width": null,
            "min_height": null,
            "min_width": null,
            "object_fit": null,
            "object_position": null,
            "order": null,
            "overflow": null,
            "overflow_x": null,
            "overflow_y": null,
            "padding": null,
            "right": null,
            "top": null,
            "visibility": null,
            "width": null
          }
        },
        "1acc4578527c4095ba13397d19466a24": {
          "model_module": "@jupyter-widgets/base",
          "model_module_version": "1.2.0",
          "model_name": "LayoutModel",
          "state": {
            "_model_module": "@jupyter-widgets/base",
            "_model_module_version": "1.2.0",
            "_model_name": "LayoutModel",
            "_view_count": null,
            "_view_module": "@jupyter-widgets/base",
            "_view_module_version": "1.2.0",
            "_view_name": "LayoutView",
            "align_content": null,
            "align_items": null,
            "align_self": null,
            "border": null,
            "bottom": null,
            "display": null,
            "flex": null,
            "flex_flow": null,
            "grid_area": null,
            "grid_auto_columns": null,
            "grid_auto_flow": null,
            "grid_auto_rows": null,
            "grid_column": null,
            "grid_gap": null,
            "grid_row": null,
            "grid_template_areas": null,
            "grid_template_columns": null,
            "grid_template_rows": null,
            "height": null,
            "justify_content": null,
            "justify_items": null,
            "left": null,
            "margin": null,
            "max_height": null,
            "max_width": null,
            "min_height": null,
            "min_width": null,
            "object_fit": null,
            "object_position": null,
            "order": null,
            "overflow": null,
            "overflow_x": null,
            "overflow_y": null,
            "padding": null,
            "right": null,
            "top": null,
            "visibility": null,
            "width": null
          }
        },
        "1b2938acb4fe441b8a87876e8d67b2e9": {
          "model_module": "@jupyter-widgets/base",
          "model_module_version": "1.2.0",
          "model_name": "LayoutModel",
          "state": {
            "_model_module": "@jupyter-widgets/base",
            "_model_module_version": "1.2.0",
            "_model_name": "LayoutModel",
            "_view_count": null,
            "_view_module": "@jupyter-widgets/base",
            "_view_module_version": "1.2.0",
            "_view_name": "LayoutView",
            "align_content": null,
            "align_items": null,
            "align_self": null,
            "border": null,
            "bottom": null,
            "display": null,
            "flex": null,
            "flex_flow": null,
            "grid_area": null,
            "grid_auto_columns": null,
            "grid_auto_flow": null,
            "grid_auto_rows": null,
            "grid_column": null,
            "grid_gap": null,
            "grid_row": null,
            "grid_template_areas": null,
            "grid_template_columns": null,
            "grid_template_rows": null,
            "height": null,
            "justify_content": null,
            "justify_items": null,
            "left": null,
            "margin": null,
            "max_height": null,
            "max_width": null,
            "min_height": null,
            "min_width": null,
            "object_fit": null,
            "object_position": null,
            "order": null,
            "overflow": null,
            "overflow_x": null,
            "overflow_y": null,
            "padding": null,
            "right": null,
            "top": null,
            "visibility": null,
            "width": null
          }
        },
        "1c18254ffcbb45cf9cb93d6aa667fee0": {
          "model_module": "@jupyter-widgets/controls",
          "model_module_version": "1.5.0",
          "model_name": "HBoxModel",
          "state": {
            "_dom_classes": [],
            "_model_module": "@jupyter-widgets/controls",
            "_model_module_version": "1.5.0",
            "_model_name": "HBoxModel",
            "_view_count": null,
            "_view_module": "@jupyter-widgets/controls",
            "_view_module_version": "1.5.0",
            "_view_name": "HBoxView",
            "box_style": "",
            "children": [
              "IPY_MODEL_0da943e0515a4389856adcd06b2ca262",
              "IPY_MODEL_db9de2a8785241bd83db63167916463e",
              "IPY_MODEL_856680471e4947bf9e1635b16593b0a2"
            ],
            "layout": "IPY_MODEL_968f642857404f47ba8f11584572835c"
          }
        },
        "1c59f6de42d54604a39e552a8aaf2aae": {
          "model_module": "@jupyter-widgets/controls",
          "model_module_version": "1.5.0",
          "model_name": "HTMLModel",
          "state": {
            "_dom_classes": [],
            "_model_module": "@jupyter-widgets/controls",
            "_model_module_version": "1.5.0",
            "_model_name": "HTMLModel",
            "_view_count": null,
            "_view_module": "@jupyter-widgets/controls",
            "_view_module_version": "1.5.0",
            "_view_name": "HTMLView",
            "description": "",
            "description_tooltip": null,
            "layout": "IPY_MODEL_fd018eb1df334be1b26601e8e9b1618a",
            "placeholder": "​",
            "style": "IPY_MODEL_0ca715996a6c493bb527733fe278ce14",
            "value": "Downloading data files: 100%"
          }
        },
        "1cd4c142de5942219d75cf7c9fde7290": {
          "model_module": "@jupyter-widgets/controls",
          "model_module_version": "1.5.0",
          "model_name": "ProgressStyleModel",
          "state": {
            "_model_module": "@jupyter-widgets/controls",
            "_model_module_version": "1.5.0",
            "_model_name": "ProgressStyleModel",
            "_view_count": null,
            "_view_module": "@jupyter-widgets/base",
            "_view_module_version": "1.2.0",
            "_view_name": "StyleView",
            "bar_color": null,
            "description_width": ""
          }
        },
        "20cf31210cfa41dcb4743f542fddd855": {
          "model_module": "@jupyter-widgets/base",
          "model_module_version": "1.2.0",
          "model_name": "LayoutModel",
          "state": {
            "_model_module": "@jupyter-widgets/base",
            "_model_module_version": "1.2.0",
            "_model_name": "LayoutModel",
            "_view_count": null,
            "_view_module": "@jupyter-widgets/base",
            "_view_module_version": "1.2.0",
            "_view_name": "LayoutView",
            "align_content": null,
            "align_items": null,
            "align_self": null,
            "border": null,
            "bottom": null,
            "display": null,
            "flex": null,
            "flex_flow": null,
            "grid_area": null,
            "grid_auto_columns": null,
            "grid_auto_flow": null,
            "grid_auto_rows": null,
            "grid_column": null,
            "grid_gap": null,
            "grid_row": null,
            "grid_template_areas": null,
            "grid_template_columns": null,
            "grid_template_rows": null,
            "height": null,
            "justify_content": null,
            "justify_items": null,
            "left": null,
            "margin": null,
            "max_height": null,
            "max_width": null,
            "min_height": null,
            "min_width": null,
            "object_fit": null,
            "object_position": null,
            "order": null,
            "overflow": null,
            "overflow_x": null,
            "overflow_y": null,
            "padding": null,
            "right": null,
            "top": null,
            "visibility": null,
            "width": null
          }
        },
        "216f12852afe4ffc961b0715d2903368": {
          "model_module": "@jupyter-widgets/base",
          "model_module_version": "1.2.0",
          "model_name": "LayoutModel",
          "state": {
            "_model_module": "@jupyter-widgets/base",
            "_model_module_version": "1.2.0",
            "_model_name": "LayoutModel",
            "_view_count": null,
            "_view_module": "@jupyter-widgets/base",
            "_view_module_version": "1.2.0",
            "_view_name": "LayoutView",
            "align_content": null,
            "align_items": null,
            "align_self": null,
            "border": null,
            "bottom": null,
            "display": null,
            "flex": null,
            "flex_flow": null,
            "grid_area": null,
            "grid_auto_columns": null,
            "grid_auto_flow": null,
            "grid_auto_rows": null,
            "grid_column": null,
            "grid_gap": null,
            "grid_row": null,
            "grid_template_areas": null,
            "grid_template_columns": null,
            "grid_template_rows": null,
            "height": null,
            "justify_content": null,
            "justify_items": null,
            "left": null,
            "margin": null,
            "max_height": null,
            "max_width": null,
            "min_height": null,
            "min_width": null,
            "object_fit": null,
            "object_position": null,
            "order": null,
            "overflow": null,
            "overflow_x": null,
            "overflow_y": null,
            "padding": null,
            "right": null,
            "top": null,
            "visibility": null,
            "width": null
          }
        },
        "23c330374ea14a3a860b4e64accbc79f": {
          "model_module": "@jupyter-widgets/controls",
          "model_module_version": "1.5.0",
          "model_name": "HTMLModel",
          "state": {
            "_dom_classes": [],
            "_model_module": "@jupyter-widgets/controls",
            "_model_module_version": "1.5.0",
            "_model_name": "HTMLModel",
            "_view_count": null,
            "_view_module": "@jupyter-widgets/controls",
            "_view_module_version": "1.5.0",
            "_view_name": "HTMLView",
            "description": "",
            "description_tooltip": null,
            "layout": "IPY_MODEL_c5508bb6228e49baac33ca4441e876b5",
            "placeholder": "​",
            "style": "IPY_MODEL_e67868fd256949568a05f8a27029001e",
            "value": " 0/0 [00:00&lt;?, ?it/s]"
          }
        },
        "2b0ff2c13e5b4346a1e6e7a2819fdbdb": {
          "model_module": "@jupyter-widgets/base",
          "model_module_version": "1.2.0",
          "model_name": "LayoutModel",
          "state": {
            "_model_module": "@jupyter-widgets/base",
            "_model_module_version": "1.2.0",
            "_model_name": "LayoutModel",
            "_view_count": null,
            "_view_module": "@jupyter-widgets/base",
            "_view_module_version": "1.2.0",
            "_view_name": "LayoutView",
            "align_content": null,
            "align_items": null,
            "align_self": null,
            "border": null,
            "bottom": null,
            "display": null,
            "flex": null,
            "flex_flow": null,
            "grid_area": null,
            "grid_auto_columns": null,
            "grid_auto_flow": null,
            "grid_auto_rows": null,
            "grid_column": null,
            "grid_gap": null,
            "grid_row": null,
            "grid_template_areas": null,
            "grid_template_columns": null,
            "grid_template_rows": null,
            "height": null,
            "justify_content": null,
            "justify_items": null,
            "left": null,
            "margin": null,
            "max_height": null,
            "max_width": null,
            "min_height": null,
            "min_width": null,
            "object_fit": null,
            "object_position": null,
            "order": null,
            "overflow": null,
            "overflow_x": null,
            "overflow_y": null,
            "padding": null,
            "right": null,
            "top": null,
            "visibility": null,
            "width": null
          }
        },
        "2bff9bef182347baaf21c8cfe92500f5": {
          "model_module": "@jupyter-widgets/controls",
          "model_module_version": "1.5.0",
          "model_name": "ProgressStyleModel",
          "state": {
            "_model_module": "@jupyter-widgets/controls",
            "_model_module_version": "1.5.0",
            "_model_name": "ProgressStyleModel",
            "_view_count": null,
            "_view_module": "@jupyter-widgets/base",
            "_view_module_version": "1.2.0",
            "_view_name": "StyleView",
            "bar_color": null,
            "description_width": ""
          }
        },
        "2c82c9602d7e4456830f3c4b6d68af1b": {
          "model_module": "@jupyter-widgets/base",
          "model_module_version": "1.2.0",
          "model_name": "LayoutModel",
          "state": {
            "_model_module": "@jupyter-widgets/base",
            "_model_module_version": "1.2.0",
            "_model_name": "LayoutModel",
            "_view_count": null,
            "_view_module": "@jupyter-widgets/base",
            "_view_module_version": "1.2.0",
            "_view_name": "LayoutView",
            "align_content": null,
            "align_items": null,
            "align_self": null,
            "border": null,
            "bottom": null,
            "display": null,
            "flex": null,
            "flex_flow": null,
            "grid_area": null,
            "grid_auto_columns": null,
            "grid_auto_flow": null,
            "grid_auto_rows": null,
            "grid_column": null,
            "grid_gap": null,
            "grid_row": null,
            "grid_template_areas": null,
            "grid_template_columns": null,
            "grid_template_rows": null,
            "height": null,
            "justify_content": null,
            "justify_items": null,
            "left": null,
            "margin": null,
            "max_height": null,
            "max_width": null,
            "min_height": null,
            "min_width": null,
            "object_fit": null,
            "object_position": null,
            "order": null,
            "overflow": null,
            "overflow_x": null,
            "overflow_y": null,
            "padding": null,
            "right": null,
            "top": null,
            "visibility": null,
            "width": null
          }
        },
        "2db8b405dce844d6a064055aab69dfe4": {
          "model_module": "@jupyter-widgets/controls",
          "model_module_version": "1.5.0",
          "model_name": "HTMLModel",
          "state": {
            "_dom_classes": [],
            "_model_module": "@jupyter-widgets/controls",
            "_model_module_version": "1.5.0",
            "_model_name": "HTMLModel",
            "_view_count": null,
            "_view_module": "@jupyter-widgets/controls",
            "_view_module_version": "1.5.0",
            "_view_name": "HTMLView",
            "description": "",
            "description_tooltip": null,
            "layout": "IPY_MODEL_fa56b7977ad4450497f3a6883bd7f686",
            "placeholder": "​",
            "style": "IPY_MODEL_79e3276eb0fe42e5bac4f25f1ba00c8a",
            "value": " 1209/1209 [00:00&lt;00:00, 4425.43 examples/s]"
          }
        },
        "2f43df25f8604add9317d0c019580129": {
          "model_module": "@jupyter-widgets/base",
          "model_module_version": "1.2.0",
          "model_name": "LayoutModel",
          "state": {
            "_model_module": "@jupyter-widgets/base",
            "_model_module_version": "1.2.0",
            "_model_name": "LayoutModel",
            "_view_count": null,
            "_view_module": "@jupyter-widgets/base",
            "_view_module_version": "1.2.0",
            "_view_name": "LayoutView",
            "align_content": null,
            "align_items": null,
            "align_self": null,
            "border": null,
            "bottom": null,
            "display": null,
            "flex": null,
            "flex_flow": null,
            "grid_area": null,
            "grid_auto_columns": null,
            "grid_auto_flow": null,
            "grid_auto_rows": null,
            "grid_column": null,
            "grid_gap": null,
            "grid_row": null,
            "grid_template_areas": null,
            "grid_template_columns": null,
            "grid_template_rows": null,
            "height": null,
            "justify_content": null,
            "justify_items": null,
            "left": null,
            "margin": null,
            "max_height": null,
            "max_width": null,
            "min_height": null,
            "min_width": null,
            "object_fit": null,
            "object_position": null,
            "order": null,
            "overflow": null,
            "overflow_x": null,
            "overflow_y": null,
            "padding": null,
            "right": null,
            "top": null,
            "visibility": null,
            "width": null
          }
        },
        "341e616f4b864f4796631b697f4b2934": {
          "model_module": "@jupyter-widgets/controls",
          "model_module_version": "1.5.0",
          "model_name": "DescriptionStyleModel",
          "state": {
            "_model_module": "@jupyter-widgets/controls",
            "_model_module_version": "1.5.0",
            "_model_name": "DescriptionStyleModel",
            "_view_count": null,
            "_view_module": "@jupyter-widgets/base",
            "_view_module_version": "1.2.0",
            "_view_name": "StyleView",
            "description_width": ""
          }
        },
        "3434f1a4c896405398cbf6ae6dd33f24": {
          "model_module": "@jupyter-widgets/base",
          "model_module_version": "1.2.0",
          "model_name": "LayoutModel",
          "state": {
            "_model_module": "@jupyter-widgets/base",
            "_model_module_version": "1.2.0",
            "_model_name": "LayoutModel",
            "_view_count": null,
            "_view_module": "@jupyter-widgets/base",
            "_view_module_version": "1.2.0",
            "_view_name": "LayoutView",
            "align_content": null,
            "align_items": null,
            "align_self": null,
            "border": null,
            "bottom": null,
            "display": null,
            "flex": null,
            "flex_flow": null,
            "grid_area": null,
            "grid_auto_columns": null,
            "grid_auto_flow": null,
            "grid_auto_rows": null,
            "grid_column": null,
            "grid_gap": null,
            "grid_row": null,
            "grid_template_areas": null,
            "grid_template_columns": null,
            "grid_template_rows": null,
            "height": null,
            "justify_content": null,
            "justify_items": null,
            "left": null,
            "margin": null,
            "max_height": null,
            "max_width": null,
            "min_height": null,
            "min_width": null,
            "object_fit": null,
            "object_position": null,
            "order": null,
            "overflow": null,
            "overflow_x": null,
            "overflow_y": null,
            "padding": null,
            "right": null,
            "top": null,
            "visibility": null,
            "width": null
          }
        },
        "35d938f20d014fcdb0a4cbf04b961699": {
          "model_module": "@jupyter-widgets/base",
          "model_module_version": "1.2.0",
          "model_name": "LayoutModel",
          "state": {
            "_model_module": "@jupyter-widgets/base",
            "_model_module_version": "1.2.0",
            "_model_name": "LayoutModel",
            "_view_count": null,
            "_view_module": "@jupyter-widgets/base",
            "_view_module_version": "1.2.0",
            "_view_name": "LayoutView",
            "align_content": null,
            "align_items": null,
            "align_self": null,
            "border": null,
            "bottom": null,
            "display": null,
            "flex": null,
            "flex_flow": null,
            "grid_area": null,
            "grid_auto_columns": null,
            "grid_auto_flow": null,
            "grid_auto_rows": null,
            "grid_column": null,
            "grid_gap": null,
            "grid_row": null,
            "grid_template_areas": null,
            "grid_template_columns": null,
            "grid_template_rows": null,
            "height": null,
            "justify_content": null,
            "justify_items": null,
            "left": null,
            "margin": null,
            "max_height": null,
            "max_width": null,
            "min_height": null,
            "min_width": null,
            "object_fit": null,
            "object_position": null,
            "order": null,
            "overflow": null,
            "overflow_x": null,
            "overflow_y": null,
            "padding": null,
            "right": null,
            "top": null,
            "visibility": null,
            "width": null
          }
        },
        "367d04b9a1444220bd84cc226c4c8e5a": {
          "model_module": "@jupyter-widgets/base",
          "model_module_version": "1.2.0",
          "model_name": "LayoutModel",
          "state": {
            "_model_module": "@jupyter-widgets/base",
            "_model_module_version": "1.2.0",
            "_model_name": "LayoutModel",
            "_view_count": null,
            "_view_module": "@jupyter-widgets/base",
            "_view_module_version": "1.2.0",
            "_view_name": "LayoutView",
            "align_content": null,
            "align_items": null,
            "align_self": null,
            "border": null,
            "bottom": null,
            "display": null,
            "flex": null,
            "flex_flow": null,
            "grid_area": null,
            "grid_auto_columns": null,
            "grid_auto_flow": null,
            "grid_auto_rows": null,
            "grid_column": null,
            "grid_gap": null,
            "grid_row": null,
            "grid_template_areas": null,
            "grid_template_columns": null,
            "grid_template_rows": null,
            "height": null,
            "justify_content": null,
            "justify_items": null,
            "left": null,
            "margin": null,
            "max_height": null,
            "max_width": null,
            "min_height": null,
            "min_width": null,
            "object_fit": null,
            "object_position": null,
            "order": null,
            "overflow": null,
            "overflow_x": null,
            "overflow_y": null,
            "padding": null,
            "right": null,
            "top": null,
            "visibility": null,
            "width": null
          }
        },
        "39c26695eab2476881934b05b4dd742b": {
          "model_module": "@jupyter-widgets/controls",
          "model_module_version": "1.5.0",
          "model_name": "HBoxModel",
          "state": {
            "_dom_classes": [],
            "_model_module": "@jupyter-widgets/controls",
            "_model_module_version": "1.5.0",
            "_model_name": "HBoxModel",
            "_view_count": null,
            "_view_module": "@jupyter-widgets/controls",
            "_view_module_version": "1.5.0",
            "_view_name": "HBoxView",
            "box_style": "",
            "children": [
              "IPY_MODEL_803a7e1e8c0c4da4959b4b16b331aa72",
              "IPY_MODEL_fd18593fbb594ba8a6fe343650641543",
              "IPY_MODEL_fbfb5615ad5a44b49f80561285724d10"
            ],
            "layout": "IPY_MODEL_b59b190ba38f40a9bf3494b76c5279ad"
          }
        },
        "3ce96a8aca714f9793b8dccb3d4c47a6": {
          "model_module": "@jupyter-widgets/controls",
          "model_module_version": "1.5.0",
          "model_name": "ProgressStyleModel",
          "state": {
            "_model_module": "@jupyter-widgets/controls",
            "_model_module_version": "1.5.0",
            "_model_name": "ProgressStyleModel",
            "_view_count": null,
            "_view_module": "@jupyter-widgets/base",
            "_view_module_version": "1.2.0",
            "_view_name": "StyleView",
            "bar_color": null,
            "description_width": ""
          }
        },
        "3e99ead820d44cee82d3ee2307f3f5e7": {
          "model_module": "@jupyter-widgets/controls",
          "model_module_version": "1.5.0",
          "model_name": "DescriptionStyleModel",
          "state": {
            "_model_module": "@jupyter-widgets/controls",
            "_model_module_version": "1.5.0",
            "_model_name": "DescriptionStyleModel",
            "_view_count": null,
            "_view_module": "@jupyter-widgets/base",
            "_view_module_version": "1.2.0",
            "_view_name": "StyleView",
            "description_width": ""
          }
        },
        "405a05057fe542968181f8d08782ccf2": {
          "model_module": "@jupyter-widgets/base",
          "model_module_version": "1.2.0",
          "model_name": "LayoutModel",
          "state": {
            "_model_module": "@jupyter-widgets/base",
            "_model_module_version": "1.2.0",
            "_model_name": "LayoutModel",
            "_view_count": null,
            "_view_module": "@jupyter-widgets/base",
            "_view_module_version": "1.2.0",
            "_view_name": "LayoutView",
            "align_content": null,
            "align_items": null,
            "align_self": null,
            "border": null,
            "bottom": null,
            "display": null,
            "flex": null,
            "flex_flow": null,
            "grid_area": null,
            "grid_auto_columns": null,
            "grid_auto_flow": null,
            "grid_auto_rows": null,
            "grid_column": null,
            "grid_gap": null,
            "grid_row": null,
            "grid_template_areas": null,
            "grid_template_columns": null,
            "grid_template_rows": null,
            "height": null,
            "justify_content": null,
            "justify_items": null,
            "left": null,
            "margin": null,
            "max_height": null,
            "max_width": null,
            "min_height": null,
            "min_width": null,
            "object_fit": null,
            "object_position": null,
            "order": null,
            "overflow": null,
            "overflow_x": null,
            "overflow_y": null,
            "padding": null,
            "right": null,
            "top": null,
            "visibility": null,
            "width": null
          }
        },
        "41fefa64438b4bdca69373930756bb8a": {
          "model_module": "@jupyter-widgets/controls",
          "model_module_version": "1.5.0",
          "model_name": "ProgressStyleModel",
          "state": {
            "_model_module": "@jupyter-widgets/controls",
            "_model_module_version": "1.5.0",
            "_model_name": "ProgressStyleModel",
            "_view_count": null,
            "_view_module": "@jupyter-widgets/base",
            "_view_module_version": "1.2.0",
            "_view_name": "StyleView",
            "bar_color": null,
            "description_width": ""
          }
        },
        "467eca7f8a974645b8979094e1a5023e": {
          "model_module": "@jupyter-widgets/controls",
          "model_module_version": "1.5.0",
          "model_name": "ProgressStyleModel",
          "state": {
            "_model_module": "@jupyter-widgets/controls",
            "_model_module_version": "1.5.0",
            "_model_name": "ProgressStyleModel",
            "_view_count": null,
            "_view_module": "@jupyter-widgets/base",
            "_view_module_version": "1.2.0",
            "_view_name": "StyleView",
            "bar_color": null,
            "description_width": ""
          }
        },
        "4890cf39f2894e0d9ef367d02768d81b": {
          "model_module": "@jupyter-widgets/controls",
          "model_module_version": "1.5.0",
          "model_name": "ProgressStyleModel",
          "state": {
            "_model_module": "@jupyter-widgets/controls",
            "_model_module_version": "1.5.0",
            "_model_name": "ProgressStyleModel",
            "_view_count": null,
            "_view_module": "@jupyter-widgets/base",
            "_view_module_version": "1.2.0",
            "_view_name": "StyleView",
            "bar_color": null,
            "description_width": ""
          }
        },
        "4aaa7f6374dc4eb2ba0b3ead0dbfe1b9": {
          "model_module": "@jupyter-widgets/controls",
          "model_module_version": "1.5.0",
          "model_name": "HBoxModel",
          "state": {
            "_dom_classes": [],
            "_model_module": "@jupyter-widgets/controls",
            "_model_module_version": "1.5.0",
            "_model_name": "HBoxModel",
            "_view_count": null,
            "_view_module": "@jupyter-widgets/controls",
            "_view_module_version": "1.5.0",
            "_view_name": "HBoxView",
            "box_style": "",
            "children": [
              "IPY_MODEL_1c59f6de42d54604a39e552a8aaf2aae",
              "IPY_MODEL_ce0fed99fe354cb1a692d899043dcc0a",
              "IPY_MODEL_1a18b8bb9fde473aaa79f8a7b1bb7e1f"
            ],
            "layout": "IPY_MODEL_3434f1a4c896405398cbf6ae6dd33f24"
          }
        },
        "4d76d58e57414847a69977b192430acc": {
          "model_module": "@jupyter-widgets/base",
          "model_module_version": "1.2.0",
          "model_name": "LayoutModel",
          "state": {
            "_model_module": "@jupyter-widgets/base",
            "_model_module_version": "1.2.0",
            "_model_name": "LayoutModel",
            "_view_count": null,
            "_view_module": "@jupyter-widgets/base",
            "_view_module_version": "1.2.0",
            "_view_name": "LayoutView",
            "align_content": null,
            "align_items": null,
            "align_self": null,
            "border": null,
            "bottom": null,
            "display": null,
            "flex": null,
            "flex_flow": null,
            "grid_area": null,
            "grid_auto_columns": null,
            "grid_auto_flow": null,
            "grid_auto_rows": null,
            "grid_column": null,
            "grid_gap": null,
            "grid_row": null,
            "grid_template_areas": null,
            "grid_template_columns": null,
            "grid_template_rows": null,
            "height": null,
            "justify_content": null,
            "justify_items": null,
            "left": null,
            "margin": null,
            "max_height": null,
            "max_width": null,
            "min_height": null,
            "min_width": null,
            "object_fit": null,
            "object_position": null,
            "order": null,
            "overflow": null,
            "overflow_x": null,
            "overflow_y": null,
            "padding": null,
            "right": null,
            "top": null,
            "visibility": null,
            "width": null
          }
        },
        "4ede36ac50c941ff961b712a6e8f61ba": {
          "model_module": "@jupyter-widgets/controls",
          "model_module_version": "1.5.0",
          "model_name": "HTMLModel",
          "state": {
            "_dom_classes": [],
            "_model_module": "@jupyter-widgets/controls",
            "_model_module_version": "1.5.0",
            "_model_name": "HTMLModel",
            "_view_count": null,
            "_view_module": "@jupyter-widgets/controls",
            "_view_module_version": "1.5.0",
            "_view_name": "HTMLView",
            "description": "",
            "description_tooltip": null,
            "layout": "IPY_MODEL_a62012fe285e4ec4a572d554069650e5",
            "placeholder": "​",
            "style": "IPY_MODEL_19d7b84dd3bc47379b250ee72be83be5",
            "value": "Generating train split: "
          }
        },
        "4f4d2aaa2f044cc4891f44b80fd1c2ac": {
          "model_module": "@jupyter-widgets/base",
          "model_module_version": "1.2.0",
          "model_name": "LayoutModel",
          "state": {
            "_model_module": "@jupyter-widgets/base",
            "_model_module_version": "1.2.0",
            "_model_name": "LayoutModel",
            "_view_count": null,
            "_view_module": "@jupyter-widgets/base",
            "_view_module_version": "1.2.0",
            "_view_name": "LayoutView",
            "align_content": null,
            "align_items": null,
            "align_self": null,
            "border": null,
            "bottom": null,
            "display": null,
            "flex": null,
            "flex_flow": null,
            "grid_area": null,
            "grid_auto_columns": null,
            "grid_auto_flow": null,
            "grid_auto_rows": null,
            "grid_column": null,
            "grid_gap": null,
            "grid_row": null,
            "grid_template_areas": null,
            "grid_template_columns": null,
            "grid_template_rows": null,
            "height": null,
            "justify_content": null,
            "justify_items": null,
            "left": null,
            "margin": null,
            "max_height": null,
            "max_width": null,
            "min_height": null,
            "min_width": null,
            "object_fit": null,
            "object_position": null,
            "order": null,
            "overflow": null,
            "overflow_x": null,
            "overflow_y": null,
            "padding": null,
            "right": null,
            "top": null,
            "visibility": null,
            "width": null
          }
        },
        "5015ce9ea74645e08981cfee5ec4d3dd": {
          "model_module": "@jupyter-widgets/controls",
          "model_module_version": "1.5.0",
          "model_name": "FloatProgressModel",
          "state": {
            "_dom_classes": [],
            "_model_module": "@jupyter-widgets/controls",
            "_model_module_version": "1.5.0",
            "_model_name": "FloatProgressModel",
            "_view_count": null,
            "_view_module": "@jupyter-widgets/controls",
            "_view_module_version": "1.5.0",
            "_view_name": "ProgressView",
            "bar_style": "success",
            "description": "",
            "description_tooltip": null,
            "layout": "IPY_MODEL_2b0ff2c13e5b4346a1e6e7a2819fdbdb",
            "max": 9999,
            "min": 0,
            "orientation": "horizontal",
            "style": "IPY_MODEL_7715c0a355204574b96f437f0c7ac0e7",
            "value": 9999
          }
        },
        "51f13f215d1c426489234f6d56245ec3": {
          "model_module": "@jupyter-widgets/controls",
          "model_module_version": "1.5.0",
          "model_name": "DescriptionStyleModel",
          "state": {
            "_model_module": "@jupyter-widgets/controls",
            "_model_module_version": "1.5.0",
            "_model_name": "DescriptionStyleModel",
            "_view_count": null,
            "_view_module": "@jupyter-widgets/base",
            "_view_module_version": "1.2.0",
            "_view_name": "StyleView",
            "description_width": ""
          }
        },
        "55249948929149bdb7a9446764327806": {
          "model_module": "@jupyter-widgets/controls",
          "model_module_version": "1.5.0",
          "model_name": "FloatProgressModel",
          "state": {
            "_dom_classes": [],
            "_model_module": "@jupyter-widgets/controls",
            "_model_module_version": "1.5.0",
            "_model_name": "FloatProgressModel",
            "_view_count": null,
            "_view_module": "@jupyter-widgets/controls",
            "_view_module_version": "1.5.0",
            "_view_name": "ProgressView",
            "bar_style": "success",
            "description": "",
            "description_tooltip": null,
            "layout": "IPY_MODEL_0c597ca304f44bb5a41423f529339fe2",
            "max": 1,
            "min": 0,
            "orientation": "horizontal",
            "style": "IPY_MODEL_1cd4c142de5942219d75cf7c9fde7290",
            "value": 0
          }
        },
        "5623c9aa067b42509458d631fbd4f2c2": {
          "model_module": "@jupyter-widgets/base",
          "model_module_version": "1.2.0",
          "model_name": "LayoutModel",
          "state": {
            "_model_module": "@jupyter-widgets/base",
            "_model_module_version": "1.2.0",
            "_model_name": "LayoutModel",
            "_view_count": null,
            "_view_module": "@jupyter-widgets/base",
            "_view_module_version": "1.2.0",
            "_view_name": "LayoutView",
            "align_content": null,
            "align_items": null,
            "align_self": null,
            "border": null,
            "bottom": null,
            "display": null,
            "flex": null,
            "flex_flow": null,
            "grid_area": null,
            "grid_auto_columns": null,
            "grid_auto_flow": null,
            "grid_auto_rows": null,
            "grid_column": null,
            "grid_gap": null,
            "grid_row": null,
            "grid_template_areas": null,
            "grid_template_columns": null,
            "grid_template_rows": null,
            "height": null,
            "justify_content": null,
            "justify_items": null,
            "left": null,
            "margin": null,
            "max_height": null,
            "max_width": null,
            "min_height": null,
            "min_width": null,
            "object_fit": null,
            "object_position": null,
            "order": null,
            "overflow": null,
            "overflow_x": null,
            "overflow_y": null,
            "padding": null,
            "right": null,
            "top": null,
            "visibility": null,
            "width": null
          }
        },
        "58c3e4af7b8e4be280cf79b9b311b34b": {
          "model_module": "@jupyter-widgets/controls",
          "model_module_version": "1.5.0",
          "model_name": "HTMLModel",
          "state": {
            "_dom_classes": [],
            "_model_module": "@jupyter-widgets/controls",
            "_model_module_version": "1.5.0",
            "_model_name": "HTMLModel",
            "_view_count": null,
            "_view_module": "@jupyter-widgets/controls",
            "_view_module_version": "1.5.0",
            "_view_name": "HTMLView",
            "description": "",
            "description_tooltip": null,
            "layout": "IPY_MODEL_35d938f20d014fcdb0a4cbf04b961699",
            "placeholder": "​",
            "style": "IPY_MODEL_0f2d8fb1535149f69da87511e4510225",
            "value": "Extracting data files: "
          }
        },
        "5a5d394bc3564b049545fc55136a19ef": {
          "model_module": "@jupyter-widgets/controls",
          "model_module_version": "1.5.0",
          "model_name": "FloatProgressModel",
          "state": {
            "_dom_classes": [],
            "_model_module": "@jupyter-widgets/controls",
            "_model_module_version": "1.5.0",
            "_model_name": "FloatProgressModel",
            "_view_count": null,
            "_view_module": "@jupyter-widgets/controls",
            "_view_module_version": "1.5.0",
            "_view_name": "ProgressView",
            "bar_style": "danger",
            "description": "",
            "description_tooltip": null,
            "layout": "IPY_MODEL_e183c219fdbc48faad4f594a3916614c",
            "max": 9999,
            "min": 0,
            "orientation": "horizontal",
            "style": "IPY_MODEL_10eedbd403e24bc4b3bba68a67094ba6",
            "value": 144
          }
        },
        "5b7af6695468486e8e66609907fb6f7d": {
          "model_module": "@jupyter-widgets/controls",
          "model_module_version": "1.5.0",
          "model_name": "DescriptionStyleModel",
          "state": {
            "_model_module": "@jupyter-widgets/controls",
            "_model_module_version": "1.5.0",
            "_model_name": "DescriptionStyleModel",
            "_view_count": null,
            "_view_module": "@jupyter-widgets/base",
            "_view_module_version": "1.2.0",
            "_view_name": "StyleView",
            "description_width": ""
          }
        },
        "5c7a8e1156284e67b8cf4572306845c7": {
          "model_module": "@jupyter-widgets/controls",
          "model_module_version": "1.5.0",
          "model_name": "HBoxModel",
          "state": {
            "_dom_classes": [],
            "_model_module": "@jupyter-widgets/controls",
            "_model_module_version": "1.5.0",
            "_model_name": "HBoxModel",
            "_view_count": null,
            "_view_module": "@jupyter-widgets/controls",
            "_view_module_version": "1.5.0",
            "_view_name": "HBoxView",
            "box_style": "",
            "children": [
              "IPY_MODEL_ac80b43146bb4b928dc013ce9687c08f",
              "IPY_MODEL_11c9d8cc7b6e4f58b5f45357a9c1ea48",
              "IPY_MODEL_842158dc348c4247a3d2919069e8825a"
            ],
            "layout": "IPY_MODEL_216f12852afe4ffc961b0715d2903368"
          }
        },
        "5e05da47fe7e46f580a9a1a072622ccd": {
          "model_module": "@jupyter-widgets/controls",
          "model_module_version": "1.5.0",
          "model_name": "HTMLModel",
          "state": {
            "_dom_classes": [],
            "_model_module": "@jupyter-widgets/controls",
            "_model_module_version": "1.5.0",
            "_model_name": "HTMLModel",
            "_view_count": null,
            "_view_module": "@jupyter-widgets/controls",
            "_view_module_version": "1.5.0",
            "_view_name": "HTMLView",
            "description": "",
            "description_tooltip": null,
            "layout": "IPY_MODEL_2f43df25f8604add9317d0c019580129",
            "placeholder": "​",
            "style": "IPY_MODEL_abb478b92bb34bdb85519b5b57ef00c4",
            "value": " 0/0 [00:00&lt;?, ?it/s]"
          }
        },
        "6380551c27bb4d5c95d5531af2ca3536": {
          "model_module": "@jupyter-widgets/controls",
          "model_module_version": "1.5.0",
          "model_name": "DescriptionStyleModel",
          "state": {
            "_model_module": "@jupyter-widgets/controls",
            "_model_module_version": "1.5.0",
            "_model_name": "DescriptionStyleModel",
            "_view_count": null,
            "_view_module": "@jupyter-widgets/base",
            "_view_module_version": "1.2.0",
            "_view_name": "StyleView",
            "description_width": ""
          }
        },
        "65d5eab54d9847669c9059e5c5901d0f": {
          "model_module": "@jupyter-widgets/controls",
          "model_module_version": "1.5.0",
          "model_name": "HTMLModel",
          "state": {
            "_dom_classes": [],
            "_model_module": "@jupyter-widgets/controls",
            "_model_module_version": "1.5.0",
            "_model_name": "HTMLModel",
            "_view_count": null,
            "_view_module": "@jupyter-widgets/controls",
            "_view_module_version": "1.5.0",
            "_view_name": "HTMLView",
            "description": "",
            "description_tooltip": null,
            "layout": "IPY_MODEL_9280fc420d164988846bf1111cdd4f33",
            "placeholder": "​",
            "style": "IPY_MODEL_f1c82b42dde944e18e16680dce0865f3",
            "value": "Extracting data files: "
          }
        },
        "662900ecfd8b4e628b29a2b9926b9a08": {
          "model_module": "@jupyter-widgets/base",
          "model_module_version": "1.2.0",
          "model_name": "LayoutModel",
          "state": {
            "_model_module": "@jupyter-widgets/base",
            "_model_module_version": "1.2.0",
            "_model_name": "LayoutModel",
            "_view_count": null,
            "_view_module": "@jupyter-widgets/base",
            "_view_module_version": "1.2.0",
            "_view_name": "LayoutView",
            "align_content": null,
            "align_items": null,
            "align_self": null,
            "border": null,
            "bottom": null,
            "display": null,
            "flex": null,
            "flex_flow": null,
            "grid_area": null,
            "grid_auto_columns": null,
            "grid_auto_flow": null,
            "grid_auto_rows": null,
            "grid_column": null,
            "grid_gap": null,
            "grid_row": null,
            "grid_template_areas": null,
            "grid_template_columns": null,
            "grid_template_rows": null,
            "height": null,
            "justify_content": null,
            "justify_items": null,
            "left": null,
            "margin": null,
            "max_height": null,
            "max_width": null,
            "min_height": null,
            "min_width": null,
            "object_fit": null,
            "object_position": null,
            "order": null,
            "overflow": null,
            "overflow_x": null,
            "overflow_y": null,
            "padding": null,
            "right": null,
            "top": null,
            "visibility": null,
            "width": "20px"
          }
        },
        "669304128d024785a4a0df89a297b9e3": {
          "model_module": "@jupyter-widgets/controls",
          "model_module_version": "1.5.0",
          "model_name": "DescriptionStyleModel",
          "state": {
            "_model_module": "@jupyter-widgets/controls",
            "_model_module_version": "1.5.0",
            "_model_name": "DescriptionStyleModel",
            "_view_count": null,
            "_view_module": "@jupyter-widgets/base",
            "_view_module_version": "1.2.0",
            "_view_name": "StyleView",
            "description_width": ""
          }
        },
        "678aaf643297420091e4456613879e6a": {
          "model_module": "@jupyter-widgets/controls",
          "model_module_version": "1.5.0",
          "model_name": "FloatProgressModel",
          "state": {
            "_dom_classes": [],
            "_model_module": "@jupyter-widgets/controls",
            "_model_module_version": "1.5.0",
            "_model_name": "FloatProgressModel",
            "_view_count": null,
            "_view_module": "@jupyter-widgets/controls",
            "_view_module_version": "1.5.0",
            "_view_name": "ProgressView",
            "bar_style": "success",
            "description": "",
            "description_tooltip": null,
            "layout": "IPY_MODEL_67996c3ecdb34bef8f30063a65b4a6c7",
            "max": 1,
            "min": 0,
            "orientation": "horizontal",
            "style": "IPY_MODEL_c121423eb88f47ac925ccadd7f3d0bfc",
            "value": 0
          }
        },
        "67996c3ecdb34bef8f30063a65b4a6c7": {
          "model_module": "@jupyter-widgets/base",
          "model_module_version": "1.2.0",
          "model_name": "LayoutModel",
          "state": {
            "_model_module": "@jupyter-widgets/base",
            "_model_module_version": "1.2.0",
            "_model_name": "LayoutModel",
            "_view_count": null,
            "_view_module": "@jupyter-widgets/base",
            "_view_module_version": "1.2.0",
            "_view_name": "LayoutView",
            "align_content": null,
            "align_items": null,
            "align_self": null,
            "border": null,
            "bottom": null,
            "display": null,
            "flex": null,
            "flex_flow": null,
            "grid_area": null,
            "grid_auto_columns": null,
            "grid_auto_flow": null,
            "grid_auto_rows": null,
            "grid_column": null,
            "grid_gap": null,
            "grid_row": null,
            "grid_template_areas": null,
            "grid_template_columns": null,
            "grid_template_rows": null,
            "height": null,
            "justify_content": null,
            "justify_items": null,
            "left": null,
            "margin": null,
            "max_height": null,
            "max_width": null,
            "min_height": null,
            "min_width": null,
            "object_fit": null,
            "object_position": null,
            "order": null,
            "overflow": null,
            "overflow_x": null,
            "overflow_y": null,
            "padding": null,
            "right": null,
            "top": null,
            "visibility": null,
            "width": "20px"
          }
        },
        "68398c1006cd442486cae4c16af9e0ec": {
          "model_module": "@jupyter-widgets/base",
          "model_module_version": "1.2.0",
          "model_name": "LayoutModel",
          "state": {
            "_model_module": "@jupyter-widgets/base",
            "_model_module_version": "1.2.0",
            "_model_name": "LayoutModel",
            "_view_count": null,
            "_view_module": "@jupyter-widgets/base",
            "_view_module_version": "1.2.0",
            "_view_name": "LayoutView",
            "align_content": null,
            "align_items": null,
            "align_self": null,
            "border": null,
            "bottom": null,
            "display": null,
            "flex": null,
            "flex_flow": null,
            "grid_area": null,
            "grid_auto_columns": null,
            "grid_auto_flow": null,
            "grid_auto_rows": null,
            "grid_column": null,
            "grid_gap": null,
            "grid_row": null,
            "grid_template_areas": null,
            "grid_template_columns": null,
            "grid_template_rows": null,
            "height": null,
            "justify_content": null,
            "justify_items": null,
            "left": null,
            "margin": null,
            "max_height": null,
            "max_width": null,
            "min_height": null,
            "min_width": null,
            "object_fit": null,
            "object_position": null,
            "order": null,
            "overflow": null,
            "overflow_x": null,
            "overflow_y": null,
            "padding": null,
            "right": null,
            "top": null,
            "visibility": null,
            "width": null
          }
        },
        "6abea98ccda440ea9d761c0b7a459e9c": {
          "model_module": "@jupyter-widgets/base",
          "model_module_version": "1.2.0",
          "model_name": "LayoutModel",
          "state": {
            "_model_module": "@jupyter-widgets/base",
            "_model_module_version": "1.2.0",
            "_model_name": "LayoutModel",
            "_view_count": null,
            "_view_module": "@jupyter-widgets/base",
            "_view_module_version": "1.2.0",
            "_view_name": "LayoutView",
            "align_content": null,
            "align_items": null,
            "align_self": null,
            "border": null,
            "bottom": null,
            "display": null,
            "flex": null,
            "flex_flow": null,
            "grid_area": null,
            "grid_auto_columns": null,
            "grid_auto_flow": null,
            "grid_auto_rows": null,
            "grid_column": null,
            "grid_gap": null,
            "grid_row": null,
            "grid_template_areas": null,
            "grid_template_columns": null,
            "grid_template_rows": null,
            "height": null,
            "justify_content": null,
            "justify_items": null,
            "left": null,
            "margin": null,
            "max_height": null,
            "max_width": null,
            "min_height": null,
            "min_width": null,
            "object_fit": null,
            "object_position": null,
            "order": null,
            "overflow": null,
            "overflow_x": null,
            "overflow_y": null,
            "padding": null,
            "right": null,
            "top": null,
            "visibility": null,
            "width": null
          }
        },
        "6bf50ec5270146fbb65295a4c9ad0f5c": {
          "model_module": "@jupyter-widgets/controls",
          "model_module_version": "1.5.0",
          "model_name": "HBoxModel",
          "state": {
            "_dom_classes": [],
            "_model_module": "@jupyter-widgets/controls",
            "_model_module_version": "1.5.0",
            "_model_name": "HBoxModel",
            "_view_count": null,
            "_view_module": "@jupyter-widgets/controls",
            "_view_module_version": "1.5.0",
            "_view_name": "HBoxView",
            "box_style": "",
            "children": [
              "IPY_MODEL_d038c851f2cb4b6b959c20d48a12d1e5",
              "IPY_MODEL_5015ce9ea74645e08981cfee5ec4d3dd",
              "IPY_MODEL_f53a99cde06c4267b30836882449bfb8"
            ],
            "layout": "IPY_MODEL_e88d15667dd5452baf6f938af4abf3c5"
          }
        },
        "7080d7780a7f4eedaa8411ddee673152": {
          "model_module": "@jupyter-widgets/controls",
          "model_module_version": "1.5.0",
          "model_name": "HBoxModel",
          "state": {
            "_dom_classes": [],
            "_model_module": "@jupyter-widgets/controls",
            "_model_module_version": "1.5.0",
            "_model_name": "HBoxModel",
            "_view_count": null,
            "_view_module": "@jupyter-widgets/controls",
            "_view_module_version": "1.5.0",
            "_view_name": "HBoxView",
            "box_style": "",
            "children": [
              "IPY_MODEL_b57262d84c2341d09f5b8434461b57ac",
              "IPY_MODEL_678aaf643297420091e4456613879e6a",
              "IPY_MODEL_23c330374ea14a3a860b4e64accbc79f"
            ],
            "layout": "IPY_MODEL_9750e65d7c2f403ca3727782a03b545d"
          }
        },
        "70910b4710bb460d99ea7b0530747125": {
          "model_module": "@jupyter-widgets/base",
          "model_module_version": "1.2.0",
          "model_name": "LayoutModel",
          "state": {
            "_model_module": "@jupyter-widgets/base",
            "_model_module_version": "1.2.0",
            "_model_name": "LayoutModel",
            "_view_count": null,
            "_view_module": "@jupyter-widgets/base",
            "_view_module_version": "1.2.0",
            "_view_name": "LayoutView",
            "align_content": null,
            "align_items": null,
            "align_self": null,
            "border": null,
            "bottom": null,
            "display": null,
            "flex": null,
            "flex_flow": null,
            "grid_area": null,
            "grid_auto_columns": null,
            "grid_auto_flow": null,
            "grid_auto_rows": null,
            "grid_column": null,
            "grid_gap": null,
            "grid_row": null,
            "grid_template_areas": null,
            "grid_template_columns": null,
            "grid_template_rows": null,
            "height": null,
            "justify_content": null,
            "justify_items": null,
            "left": null,
            "margin": null,
            "max_height": null,
            "max_width": null,
            "min_height": null,
            "min_width": null,
            "object_fit": null,
            "object_position": null,
            "order": null,
            "overflow": null,
            "overflow_x": null,
            "overflow_y": null,
            "padding": null,
            "right": null,
            "top": null,
            "visibility": null,
            "width": null
          }
        },
        "70ce029c919c4b71a8d7a436e3907a5e": {
          "model_module": "@jupyter-widgets/controls",
          "model_module_version": "1.5.0",
          "model_name": "HTMLModel",
          "state": {
            "_dom_classes": [],
            "_model_module": "@jupyter-widgets/controls",
            "_model_module_version": "1.5.0",
            "_model_name": "HTMLModel",
            "_view_count": null,
            "_view_module": "@jupyter-widgets/controls",
            "_view_module_version": "1.5.0",
            "_view_name": "HTMLView",
            "description": "",
            "description_tooltip": null,
            "layout": "IPY_MODEL_ba60373f925e42a29b1f67364c917dc8",
            "placeholder": "​",
            "style": "IPY_MODEL_15f12584b3254263b50ec21251ce97b2",
            "value": " 0/0 [00:00&lt;?, ?it/s]"
          }
        },
        "711f78cbbda34e1097e50c7c3022e4f0": {
          "model_module": "@jupyter-widgets/controls",
          "model_module_version": "1.5.0",
          "model_name": "DescriptionStyleModel",
          "state": {
            "_model_module": "@jupyter-widgets/controls",
            "_model_module_version": "1.5.0",
            "_model_name": "DescriptionStyleModel",
            "_view_count": null,
            "_view_module": "@jupyter-widgets/base",
            "_view_module_version": "1.2.0",
            "_view_name": "StyleView",
            "description_width": ""
          }
        },
        "71f1c20513d44e4b857fbbab6b8a16fc": {
          "model_module": "@jupyter-widgets/controls",
          "model_module_version": "1.5.0",
          "model_name": "DescriptionStyleModel",
          "state": {
            "_model_module": "@jupyter-widgets/controls",
            "_model_module_version": "1.5.0",
            "_model_name": "DescriptionStyleModel",
            "_view_count": null,
            "_view_module": "@jupyter-widgets/base",
            "_view_module_version": "1.2.0",
            "_view_name": "StyleView",
            "description_width": ""
          }
        },
        "7222a90a28cb47638b9c20a5e18e151d": {
          "model_module": "@jupyter-widgets/controls",
          "model_module_version": "1.5.0",
          "model_name": "FloatProgressModel",
          "state": {
            "_dom_classes": [],
            "_model_module": "@jupyter-widgets/controls",
            "_model_module_version": "1.5.0",
            "_model_name": "FloatProgressModel",
            "_view_count": null,
            "_view_module": "@jupyter-widgets/controls",
            "_view_module_version": "1.5.0",
            "_view_name": "ProgressView",
            "bar_style": "success",
            "description": "",
            "description_tooltip": null,
            "layout": "IPY_MODEL_662900ecfd8b4e628b29a2b9926b9a08",
            "max": 1,
            "min": 0,
            "orientation": "horizontal",
            "style": "IPY_MODEL_467eca7f8a974645b8979094e1a5023e",
            "value": 0
          }
        },
        "7426011c61894c94aef33aa1bcb735a2": {
          "model_module": "@jupyter-widgets/controls",
          "model_module_version": "1.5.0",
          "model_name": "HTMLModel",
          "state": {
            "_dom_classes": [],
            "_model_module": "@jupyter-widgets/controls",
            "_model_module_version": "1.5.0",
            "_model_name": "HTMLModel",
            "_view_count": null,
            "_view_module": "@jupyter-widgets/controls",
            "_view_module_version": "1.5.0",
            "_view_name": "HTMLView",
            "description": "",
            "description_tooltip": null,
            "layout": "IPY_MODEL_405a05057fe542968181f8d08782ccf2",
            "placeholder": "​",
            "style": "IPY_MODEL_e6c0a16f47184fa99b2ba2dbd2526494",
            "value": "Downloading data files: "
          }
        },
        "7715c0a355204574b96f437f0c7ac0e7": {
          "model_module": "@jupyter-widgets/controls",
          "model_module_version": "1.5.0",
          "model_name": "ProgressStyleModel",
          "state": {
            "_model_module": "@jupyter-widgets/controls",
            "_model_module_version": "1.5.0",
            "_model_name": "ProgressStyleModel",
            "_view_count": null,
            "_view_module": "@jupyter-widgets/base",
            "_view_module_version": "1.2.0",
            "_view_name": "StyleView",
            "bar_color": null,
            "description_width": ""
          }
        },
        "79e3276eb0fe42e5bac4f25f1ba00c8a": {
          "model_module": "@jupyter-widgets/controls",
          "model_module_version": "1.5.0",
          "model_name": "DescriptionStyleModel",
          "state": {
            "_model_module": "@jupyter-widgets/controls",
            "_model_module_version": "1.5.0",
            "_model_name": "DescriptionStyleModel",
            "_view_count": null,
            "_view_module": "@jupyter-widgets/base",
            "_view_module_version": "1.2.0",
            "_view_name": "StyleView",
            "description_width": ""
          }
        },
        "7aeda03881ef485f9860d20f3b9e5029": {
          "model_module": "@jupyter-widgets/controls",
          "model_module_version": "1.5.0",
          "model_name": "DescriptionStyleModel",
          "state": {
            "_model_module": "@jupyter-widgets/controls",
            "_model_module_version": "1.5.0",
            "_model_name": "DescriptionStyleModel",
            "_view_count": null,
            "_view_module": "@jupyter-widgets/base",
            "_view_module_version": "1.2.0",
            "_view_name": "StyleView",
            "description_width": ""
          }
        },
        "7b5993a3277a494d9cf2ac5e15fac177": {
          "model_module": "@jupyter-widgets/base",
          "model_module_version": "1.2.0",
          "model_name": "LayoutModel",
          "state": {
            "_model_module": "@jupyter-widgets/base",
            "_model_module_version": "1.2.0",
            "_model_name": "LayoutModel",
            "_view_count": null,
            "_view_module": "@jupyter-widgets/base",
            "_view_module_version": "1.2.0",
            "_view_name": "LayoutView",
            "align_content": null,
            "align_items": null,
            "align_self": null,
            "border": null,
            "bottom": null,
            "display": null,
            "flex": null,
            "flex_flow": null,
            "grid_area": null,
            "grid_auto_columns": null,
            "grid_auto_flow": null,
            "grid_auto_rows": null,
            "grid_column": null,
            "grid_gap": null,
            "grid_row": null,
            "grid_template_areas": null,
            "grid_template_columns": null,
            "grid_template_rows": null,
            "height": null,
            "justify_content": null,
            "justify_items": null,
            "left": null,
            "margin": null,
            "max_height": null,
            "max_width": null,
            "min_height": null,
            "min_width": null,
            "object_fit": null,
            "object_position": null,
            "order": null,
            "overflow": null,
            "overflow_x": null,
            "overflow_y": null,
            "padding": null,
            "right": null,
            "top": null,
            "visibility": null,
            "width": null
          }
        },
        "7f224ca0fafc487aae2995ca43cdbde7": {
          "model_module": "@jupyter-widgets/controls",
          "model_module_version": "1.5.0",
          "model_name": "FloatProgressModel",
          "state": {
            "_dom_classes": [],
            "_model_module": "@jupyter-widgets/controls",
            "_model_module_version": "1.5.0",
            "_model_name": "FloatProgressModel",
            "_view_count": null,
            "_view_module": "@jupyter-widgets/controls",
            "_view_module_version": "1.5.0",
            "_view_name": "ProgressView",
            "bar_style": "success",
            "description": "",
            "description_tooltip": null,
            "layout": "IPY_MODEL_bc00fa9c5da84bbc82262ed640ea90e6",
            "max": 1,
            "min": 0,
            "orientation": "horizontal",
            "style": "IPY_MODEL_3ce96a8aca714f9793b8dccb3d4c47a6",
            "value": 1
          }
        },
        "7fd610f23e08478a8908d2b3b0c8ce1c": {
          "model_module": "@jupyter-widgets/base",
          "model_module_version": "1.2.0",
          "model_name": "LayoutModel",
          "state": {
            "_model_module": "@jupyter-widgets/base",
            "_model_module_version": "1.2.0",
            "_model_name": "LayoutModel",
            "_view_count": null,
            "_view_module": "@jupyter-widgets/base",
            "_view_module_version": "1.2.0",
            "_view_name": "LayoutView",
            "align_content": null,
            "align_items": null,
            "align_self": null,
            "border": null,
            "bottom": null,
            "display": null,
            "flex": null,
            "flex_flow": null,
            "grid_area": null,
            "grid_auto_columns": null,
            "grid_auto_flow": null,
            "grid_auto_rows": null,
            "grid_column": null,
            "grid_gap": null,
            "grid_row": null,
            "grid_template_areas": null,
            "grid_template_columns": null,
            "grid_template_rows": null,
            "height": null,
            "justify_content": null,
            "justify_items": null,
            "left": null,
            "margin": null,
            "max_height": null,
            "max_width": null,
            "min_height": null,
            "min_width": null,
            "object_fit": null,
            "object_position": null,
            "order": null,
            "overflow": null,
            "overflow_x": null,
            "overflow_y": null,
            "padding": null,
            "right": null,
            "top": null,
            "visibility": null,
            "width": null
          }
        },
        "803a7e1e8c0c4da4959b4b16b331aa72": {
          "model_module": "@jupyter-widgets/controls",
          "model_module_version": "1.5.0",
          "model_name": "HTMLModel",
          "state": {
            "_dom_classes": [],
            "_model_module": "@jupyter-widgets/controls",
            "_model_module_version": "1.5.0",
            "_model_name": "HTMLModel",
            "_view_count": null,
            "_view_module": "@jupyter-widgets/controls",
            "_view_module_version": "1.5.0",
            "_view_name": "HTMLView",
            "description": "",
            "description_tooltip": null,
            "layout": "IPY_MODEL_99f1e20e12e64de8b4b713c980ec5d62",
            "placeholder": "​",
            "style": "IPY_MODEL_6380551c27bb4d5c95d5531af2ca3536",
            "value": "Downloading data files: 100%"
          }
        },
        "8068519c5f3747a08cffc4acb9a276fd": {
          "model_module": "@jupyter-widgets/controls",
          "model_module_version": "1.5.0",
          "model_name": "ProgressStyleModel",
          "state": {
            "_model_module": "@jupyter-widgets/controls",
            "_model_module_version": "1.5.0",
            "_model_name": "ProgressStyleModel",
            "_view_count": null,
            "_view_module": "@jupyter-widgets/base",
            "_view_module_version": "1.2.0",
            "_view_name": "StyleView",
            "bar_color": null,
            "description_width": ""
          }
        },
        "815bc852e11c4a20b9ba8f43264458af": {
          "model_module": "@jupyter-widgets/controls",
          "model_module_version": "1.5.0",
          "model_name": "ProgressStyleModel",
          "state": {
            "_model_module": "@jupyter-widgets/controls",
            "_model_module_version": "1.5.0",
            "_model_name": "ProgressStyleModel",
            "_view_count": null,
            "_view_module": "@jupyter-widgets/base",
            "_view_module_version": "1.2.0",
            "_view_name": "StyleView",
            "bar_color": null,
            "description_width": ""
          }
        },
        "829292d3823c49599ba6331775045dbc": {
          "model_module": "@jupyter-widgets/controls",
          "model_module_version": "1.5.0",
          "model_name": "ProgressStyleModel",
          "state": {
            "_model_module": "@jupyter-widgets/controls",
            "_model_module_version": "1.5.0",
            "_model_name": "ProgressStyleModel",
            "_view_count": null,
            "_view_module": "@jupyter-widgets/base",
            "_view_module_version": "1.2.0",
            "_view_name": "StyleView",
            "bar_color": null,
            "description_width": ""
          }
        },
        "842158dc348c4247a3d2919069e8825a": {
          "model_module": "@jupyter-widgets/controls",
          "model_module_version": "1.5.0",
          "model_name": "HTMLModel",
          "state": {
            "_dom_classes": [],
            "_model_module": "@jupyter-widgets/controls",
            "_model_module_version": "1.5.0",
            "_model_name": "HTMLModel",
            "_view_count": null,
            "_view_module": "@jupyter-widgets/controls",
            "_view_module_version": "1.5.0",
            "_view_name": "HTMLView",
            "description": "",
            "description_tooltip": null,
            "layout": "IPY_MODEL_6abea98ccda440ea9d761c0b7a459e9c",
            "placeholder": "​",
            "style": "IPY_MODEL_711f78cbbda34e1097e50c7c3022e4f0",
            "value": " 9999/9999 [00:01&lt;00:00, 5136.80it/s]"
          }
        },
        "856680471e4947bf9e1635b16593b0a2": {
          "model_module": "@jupyter-widgets/controls",
          "model_module_version": "1.5.0",
          "model_name": "HTMLModel",
          "state": {
            "_dom_classes": [],
            "_model_module": "@jupyter-widgets/controls",
            "_model_module_version": "1.5.0",
            "_model_name": "HTMLModel",
            "_view_count": null,
            "_view_module": "@jupyter-widgets/controls",
            "_view_module_version": "1.5.0",
            "_view_name": "HTMLView",
            "description": "",
            "description_tooltip": null,
            "layout": "IPY_MODEL_19c5fdd96e0b42dd913107fda26c1af9",
            "placeholder": "​",
            "style": "IPY_MODEL_51f13f215d1c426489234f6d56245ec3",
            "value": " 1.84k/1.84k [00:00&lt;00:00, 48.2kB/s]"
          }
        },
        "865c9ec9e7ef4161a53ef1f81ab95c10": {
          "model_module": "@jupyter-widgets/base",
          "model_module_version": "1.2.0",
          "model_name": "LayoutModel",
          "state": {
            "_model_module": "@jupyter-widgets/base",
            "_model_module_version": "1.2.0",
            "_model_name": "LayoutModel",
            "_view_count": null,
            "_view_module": "@jupyter-widgets/base",
            "_view_module_version": "1.2.0",
            "_view_name": "LayoutView",
            "align_content": null,
            "align_items": null,
            "align_self": null,
            "border": null,
            "bottom": null,
            "display": null,
            "flex": null,
            "flex_flow": null,
            "grid_area": null,
            "grid_auto_columns": null,
            "grid_auto_flow": null,
            "grid_auto_rows": null,
            "grid_column": null,
            "grid_gap": null,
            "grid_row": null,
            "grid_template_areas": null,
            "grid_template_columns": null,
            "grid_template_rows": null,
            "height": null,
            "justify_content": null,
            "justify_items": null,
            "left": null,
            "margin": null,
            "max_height": null,
            "max_width": null,
            "min_height": null,
            "min_width": null,
            "object_fit": null,
            "object_position": null,
            "order": null,
            "overflow": null,
            "overflow_x": null,
            "overflow_y": null,
            "padding": null,
            "right": null,
            "top": null,
            "visibility": null,
            "width": null
          }
        },
        "8c6a49cdb9164760a4969a6cd3d74f04": {
          "model_module": "@jupyter-widgets/base",
          "model_module_version": "1.2.0",
          "model_name": "LayoutModel",
          "state": {
            "_model_module": "@jupyter-widgets/base",
            "_model_module_version": "1.2.0",
            "_model_name": "LayoutModel",
            "_view_count": null,
            "_view_module": "@jupyter-widgets/base",
            "_view_module_version": "1.2.0",
            "_view_name": "LayoutView",
            "align_content": null,
            "align_items": null,
            "align_self": null,
            "border": null,
            "bottom": null,
            "display": null,
            "flex": null,
            "flex_flow": null,
            "grid_area": null,
            "grid_auto_columns": null,
            "grid_auto_flow": null,
            "grid_auto_rows": null,
            "grid_column": null,
            "grid_gap": null,
            "grid_row": null,
            "grid_template_areas": null,
            "grid_template_columns": null,
            "grid_template_rows": null,
            "height": null,
            "justify_content": null,
            "justify_items": null,
            "left": null,
            "margin": null,
            "max_height": null,
            "max_width": null,
            "min_height": null,
            "min_width": null,
            "object_fit": null,
            "object_position": null,
            "order": null,
            "overflow": null,
            "overflow_x": null,
            "overflow_y": null,
            "padding": null,
            "right": null,
            "top": null,
            "visibility": null,
            "width": null
          }
        },
        "8c6a7d9e08304ef99e877c336b8a32f3": {
          "model_module": "@jupyter-widgets/base",
          "model_module_version": "1.2.0",
          "model_name": "LayoutModel",
          "state": {
            "_model_module": "@jupyter-widgets/base",
            "_model_module_version": "1.2.0",
            "_model_name": "LayoutModel",
            "_view_count": null,
            "_view_module": "@jupyter-widgets/base",
            "_view_module_version": "1.2.0",
            "_view_name": "LayoutView",
            "align_content": null,
            "align_items": null,
            "align_self": null,
            "border": null,
            "bottom": null,
            "display": null,
            "flex": null,
            "flex_flow": null,
            "grid_area": null,
            "grid_auto_columns": null,
            "grid_auto_flow": null,
            "grid_auto_rows": null,
            "grid_column": null,
            "grid_gap": null,
            "grid_row": null,
            "grid_template_areas": null,
            "grid_template_columns": null,
            "grid_template_rows": null,
            "height": null,
            "justify_content": null,
            "justify_items": null,
            "left": null,
            "margin": null,
            "max_height": null,
            "max_width": null,
            "min_height": null,
            "min_width": null,
            "object_fit": null,
            "object_position": null,
            "order": null,
            "overflow": null,
            "overflow_x": null,
            "overflow_y": null,
            "padding": null,
            "right": null,
            "top": null,
            "visibility": null,
            "width": null
          }
        },
        "9280fc420d164988846bf1111cdd4f33": {
          "model_module": "@jupyter-widgets/base",
          "model_module_version": "1.2.0",
          "model_name": "LayoutModel",
          "state": {
            "_model_module": "@jupyter-widgets/base",
            "_model_module_version": "1.2.0",
            "_model_name": "LayoutModel",
            "_view_count": null,
            "_view_module": "@jupyter-widgets/base",
            "_view_module_version": "1.2.0",
            "_view_name": "LayoutView",
            "align_content": null,
            "align_items": null,
            "align_self": null,
            "border": null,
            "bottom": null,
            "display": null,
            "flex": null,
            "flex_flow": null,
            "grid_area": null,
            "grid_auto_columns": null,
            "grid_auto_flow": null,
            "grid_auto_rows": null,
            "grid_column": null,
            "grid_gap": null,
            "grid_row": null,
            "grid_template_areas": null,
            "grid_template_columns": null,
            "grid_template_rows": null,
            "height": null,
            "justify_content": null,
            "justify_items": null,
            "left": null,
            "margin": null,
            "max_height": null,
            "max_width": null,
            "min_height": null,
            "min_width": null,
            "object_fit": null,
            "object_position": null,
            "order": null,
            "overflow": null,
            "overflow_x": null,
            "overflow_y": null,
            "padding": null,
            "right": null,
            "top": null,
            "visibility": null,
            "width": null
          }
        },
        "929a23bb28dc4bafa140e055dd221e3e": {
          "model_module": "@jupyter-widgets/base",
          "model_module_version": "1.2.0",
          "model_name": "LayoutModel",
          "state": {
            "_model_module": "@jupyter-widgets/base",
            "_model_module_version": "1.2.0",
            "_model_name": "LayoutModel",
            "_view_count": null,
            "_view_module": "@jupyter-widgets/base",
            "_view_module_version": "1.2.0",
            "_view_name": "LayoutView",
            "align_content": null,
            "align_items": null,
            "align_self": null,
            "border": null,
            "bottom": null,
            "display": null,
            "flex": null,
            "flex_flow": null,
            "grid_area": null,
            "grid_auto_columns": null,
            "grid_auto_flow": null,
            "grid_auto_rows": null,
            "grid_column": null,
            "grid_gap": null,
            "grid_row": null,
            "grid_template_areas": null,
            "grid_template_columns": null,
            "grid_template_rows": null,
            "height": null,
            "justify_content": null,
            "justify_items": null,
            "left": null,
            "margin": null,
            "max_height": null,
            "max_width": null,
            "min_height": null,
            "min_width": null,
            "object_fit": null,
            "object_position": null,
            "order": null,
            "overflow": null,
            "overflow_x": null,
            "overflow_y": null,
            "padding": null,
            "right": null,
            "top": null,
            "visibility": null,
            "width": null
          }
        },
        "944c7e886d2e4a1992b0ee895f896f7f": {
          "model_module": "@jupyter-widgets/base",
          "model_module_version": "1.2.0",
          "model_name": "LayoutModel",
          "state": {
            "_model_module": "@jupyter-widgets/base",
            "_model_module_version": "1.2.0",
            "_model_name": "LayoutModel",
            "_view_count": null,
            "_view_module": "@jupyter-widgets/base",
            "_view_module_version": "1.2.0",
            "_view_name": "LayoutView",
            "align_content": null,
            "align_items": null,
            "align_self": null,
            "border": null,
            "bottom": null,
            "display": null,
            "flex": null,
            "flex_flow": null,
            "grid_area": null,
            "grid_auto_columns": null,
            "grid_auto_flow": null,
            "grid_auto_rows": null,
            "grid_column": null,
            "grid_gap": null,
            "grid_row": null,
            "grid_template_areas": null,
            "grid_template_columns": null,
            "grid_template_rows": null,
            "height": null,
            "justify_content": null,
            "justify_items": null,
            "left": null,
            "margin": null,
            "max_height": null,
            "max_width": null,
            "min_height": null,
            "min_width": null,
            "object_fit": null,
            "object_position": null,
            "order": null,
            "overflow": null,
            "overflow_x": null,
            "overflow_y": null,
            "padding": null,
            "right": null,
            "top": null,
            "visibility": null,
            "width": null
          }
        },
        "95e46641b99242ff921e992fc1215bb1": {
          "model_module": "@jupyter-widgets/controls",
          "model_module_version": "1.5.0",
          "model_name": "HBoxModel",
          "state": {
            "_dom_classes": [],
            "_model_module": "@jupyter-widgets/controls",
            "_model_module_version": "1.5.0",
            "_model_name": "HBoxModel",
            "_view_count": null,
            "_view_module": "@jupyter-widgets/controls",
            "_view_module_version": "1.5.0",
            "_view_name": "HBoxView",
            "box_style": "",
            "children": [
              "IPY_MODEL_e85ad0683fef42619591984046f9d053",
              "IPY_MODEL_f27277d94c814998b0d553a075d3d632",
              "IPY_MODEL_2db8b405dce844d6a064055aab69dfe4"
            ],
            "layout": "IPY_MODEL_17e727913096415f9e0fa4e8173d2d55"
          }
        },
        "95e8f43429944fd1ab81b1694fd3d4ce": {
          "model_module": "@jupyter-widgets/controls",
          "model_module_version": "1.5.0",
          "model_name": "HTMLModel",
          "state": {
            "_dom_classes": [],
            "_model_module": "@jupyter-widgets/controls",
            "_model_module_version": "1.5.0",
            "_model_name": "HTMLModel",
            "_view_count": null,
            "_view_module": "@jupyter-widgets/controls",
            "_view_module_version": "1.5.0",
            "_view_name": "HTMLView",
            "description": "",
            "description_tooltip": null,
            "layout": "IPY_MODEL_1b2938acb4fe441b8a87876e8d67b2e9",
            "placeholder": "​",
            "style": "IPY_MODEL_3e99ead820d44cee82d3ee2307f3f5e7",
            "value": "Resolving data files: 100%"
          }
        },
        "968f642857404f47ba8f11584572835c": {
          "model_module": "@jupyter-widgets/base",
          "model_module_version": "1.2.0",
          "model_name": "LayoutModel",
          "state": {
            "_model_module": "@jupyter-widgets/base",
            "_model_module_version": "1.2.0",
            "_model_name": "LayoutModel",
            "_view_count": null,
            "_view_module": "@jupyter-widgets/base",
            "_view_module_version": "1.2.0",
            "_view_name": "LayoutView",
            "align_content": null,
            "align_items": null,
            "align_self": null,
            "border": null,
            "bottom": null,
            "display": null,
            "flex": null,
            "flex_flow": null,
            "grid_area": null,
            "grid_auto_columns": null,
            "grid_auto_flow": null,
            "grid_auto_rows": null,
            "grid_column": null,
            "grid_gap": null,
            "grid_row": null,
            "grid_template_areas": null,
            "grid_template_columns": null,
            "grid_template_rows": null,
            "height": null,
            "justify_content": null,
            "justify_items": null,
            "left": null,
            "margin": null,
            "max_height": null,
            "max_width": null,
            "min_height": null,
            "min_width": null,
            "object_fit": null,
            "object_position": null,
            "order": null,
            "overflow": null,
            "overflow_x": null,
            "overflow_y": null,
            "padding": null,
            "right": null,
            "top": null,
            "visibility": null,
            "width": null
          }
        },
        "9750e65d7c2f403ca3727782a03b545d": {
          "model_module": "@jupyter-widgets/base",
          "model_module_version": "1.2.0",
          "model_name": "LayoutModel",
          "state": {
            "_model_module": "@jupyter-widgets/base",
            "_model_module_version": "1.2.0",
            "_model_name": "LayoutModel",
            "_view_count": null,
            "_view_module": "@jupyter-widgets/base",
            "_view_module_version": "1.2.0",
            "_view_name": "LayoutView",
            "align_content": null,
            "align_items": null,
            "align_self": null,
            "border": null,
            "bottom": null,
            "display": null,
            "flex": null,
            "flex_flow": null,
            "grid_area": null,
            "grid_auto_columns": null,
            "grid_auto_flow": null,
            "grid_auto_rows": null,
            "grid_column": null,
            "grid_gap": null,
            "grid_row": null,
            "grid_template_areas": null,
            "grid_template_columns": null,
            "grid_template_rows": null,
            "height": null,
            "justify_content": null,
            "justify_items": null,
            "left": null,
            "margin": null,
            "max_height": null,
            "max_width": null,
            "min_height": null,
            "min_width": null,
            "object_fit": null,
            "object_position": null,
            "order": null,
            "overflow": null,
            "overflow_x": null,
            "overflow_y": null,
            "padding": null,
            "right": null,
            "top": null,
            "visibility": null,
            "width": null
          }
        },
        "99f1e20e12e64de8b4b713c980ec5d62": {
          "model_module": "@jupyter-widgets/base",
          "model_module_version": "1.2.0",
          "model_name": "LayoutModel",
          "state": {
            "_model_module": "@jupyter-widgets/base",
            "_model_module_version": "1.2.0",
            "_model_name": "LayoutModel",
            "_view_count": null,
            "_view_module": "@jupyter-widgets/base",
            "_view_module_version": "1.2.0",
            "_view_name": "LayoutView",
            "align_content": null,
            "align_items": null,
            "align_self": null,
            "border": null,
            "bottom": null,
            "display": null,
            "flex": null,
            "flex_flow": null,
            "grid_area": null,
            "grid_auto_columns": null,
            "grid_auto_flow": null,
            "grid_auto_rows": null,
            "grid_column": null,
            "grid_gap": null,
            "grid_row": null,
            "grid_template_areas": null,
            "grid_template_columns": null,
            "grid_template_rows": null,
            "height": null,
            "justify_content": null,
            "justify_items": null,
            "left": null,
            "margin": null,
            "max_height": null,
            "max_width": null,
            "min_height": null,
            "min_width": null,
            "object_fit": null,
            "object_position": null,
            "order": null,
            "overflow": null,
            "overflow_x": null,
            "overflow_y": null,
            "padding": null,
            "right": null,
            "top": null,
            "visibility": null,
            "width": null
          }
        },
        "9c22c74e5aa745cc80bf48719fb25c76": {
          "model_module": "@jupyter-widgets/controls",
          "model_module_version": "1.5.0",
          "model_name": "HBoxModel",
          "state": {
            "_dom_classes": [],
            "_model_module": "@jupyter-widgets/controls",
            "_model_module_version": "1.5.0",
            "_model_name": "HBoxModel",
            "_view_count": null,
            "_view_module": "@jupyter-widgets/controls",
            "_view_module_version": "1.5.0",
            "_view_name": "HBoxView",
            "box_style": "",
            "children": [
              "IPY_MODEL_f2bbe06025694ad594f46d408ea306f6",
              "IPY_MODEL_7f224ca0fafc487aae2995ca43cdbde7",
              "IPY_MODEL_a3a2a2820f5f4e19b2d471cb3d3fdc76"
            ],
            "layout": "IPY_MODEL_367d04b9a1444220bd84cc226c4c8e5a"
          }
        },
        "9f21d2ded83d45978501552936061227": {
          "model_module": "@jupyter-widgets/base",
          "model_module_version": "1.2.0",
          "model_name": "LayoutModel",
          "state": {
            "_model_module": "@jupyter-widgets/base",
            "_model_module_version": "1.2.0",
            "_model_name": "LayoutModel",
            "_view_count": null,
            "_view_module": "@jupyter-widgets/base",
            "_view_module_version": "1.2.0",
            "_view_name": "LayoutView",
            "align_content": null,
            "align_items": null,
            "align_self": null,
            "border": null,
            "bottom": null,
            "display": null,
            "flex": null,
            "flex_flow": null,
            "grid_area": null,
            "grid_auto_columns": null,
            "grid_auto_flow": null,
            "grid_auto_rows": null,
            "grid_column": null,
            "grid_gap": null,
            "grid_row": null,
            "grid_template_areas": null,
            "grid_template_columns": null,
            "grid_template_rows": null,
            "height": null,
            "justify_content": null,
            "justify_items": null,
            "left": null,
            "margin": null,
            "max_height": null,
            "max_width": null,
            "min_height": null,
            "min_width": null,
            "object_fit": null,
            "object_position": null,
            "order": null,
            "overflow": null,
            "overflow_x": null,
            "overflow_y": null,
            "padding": null,
            "right": null,
            "top": null,
            "visibility": null,
            "width": null
          }
        },
        "a381e3d78d7e4f3197a6af33f78d6c18": {
          "model_module": "@jupyter-widgets/controls",
          "model_module_version": "1.5.0",
          "model_name": "ProgressStyleModel",
          "state": {
            "_model_module": "@jupyter-widgets/controls",
            "_model_module_version": "1.5.0",
            "_model_name": "ProgressStyleModel",
            "_view_count": null,
            "_view_module": "@jupyter-widgets/base",
            "_view_module_version": "1.2.0",
            "_view_name": "StyleView",
            "bar_color": null,
            "description_width": ""
          }
        },
        "a3a2a2820f5f4e19b2d471cb3d3fdc76": {
          "model_module": "@jupyter-widgets/controls",
          "model_module_version": "1.5.0",
          "model_name": "HTMLModel",
          "state": {
            "_dom_classes": [],
            "_model_module": "@jupyter-widgets/controls",
            "_model_module_version": "1.5.0",
            "_model_name": "HTMLModel",
            "_view_count": null,
            "_view_module": "@jupyter-widgets/controls",
            "_view_module_version": "1.5.0",
            "_view_name": "HTMLView",
            "description": "",
            "description_tooltip": null,
            "layout": "IPY_MODEL_68398c1006cd442486cae4c16af9e0ec",
            "placeholder": "​",
            "style": "IPY_MODEL_ca9bf9d0f9f649b8babcf75b0976caab",
            "value": " 1209/0 [00:00&lt;00:00, 3588.07 examples/s]"
          }
        },
        "a58c8c4ad29e4cb9a99d30c88919039b": {
          "model_module": "@jupyter-widgets/controls",
          "model_module_version": "1.5.0",
          "model_name": "DescriptionStyleModel",
          "state": {
            "_model_module": "@jupyter-widgets/controls",
            "_model_module_version": "1.5.0",
            "_model_name": "DescriptionStyleModel",
            "_view_count": null,
            "_view_module": "@jupyter-widgets/base",
            "_view_module_version": "1.2.0",
            "_view_name": "StyleView",
            "description_width": ""
          }
        },
        "a62012fe285e4ec4a572d554069650e5": {
          "model_module": "@jupyter-widgets/base",
          "model_module_version": "1.2.0",
          "model_name": "LayoutModel",
          "state": {
            "_model_module": "@jupyter-widgets/base",
            "_model_module_version": "1.2.0",
            "_model_name": "LayoutModel",
            "_view_count": null,
            "_view_module": "@jupyter-widgets/base",
            "_view_module_version": "1.2.0",
            "_view_name": "LayoutView",
            "align_content": null,
            "align_items": null,
            "align_self": null,
            "border": null,
            "bottom": null,
            "display": null,
            "flex": null,
            "flex_flow": null,
            "grid_area": null,
            "grid_auto_columns": null,
            "grid_auto_flow": null,
            "grid_auto_rows": null,
            "grid_column": null,
            "grid_gap": null,
            "grid_row": null,
            "grid_template_areas": null,
            "grid_template_columns": null,
            "grid_template_rows": null,
            "height": null,
            "justify_content": null,
            "justify_items": null,
            "left": null,
            "margin": null,
            "max_height": null,
            "max_width": null,
            "min_height": null,
            "min_width": null,
            "object_fit": null,
            "object_position": null,
            "order": null,
            "overflow": null,
            "overflow_x": null,
            "overflow_y": null,
            "padding": null,
            "right": null,
            "top": null,
            "visibility": null,
            "width": null
          }
        },
        "a72a248821534f1fbe778ad8c2fa02f4": {
          "model_module": "@jupyter-widgets/controls",
          "model_module_version": "1.5.0",
          "model_name": "FloatProgressModel",
          "state": {
            "_dom_classes": [],
            "_model_module": "@jupyter-widgets/controls",
            "_model_module_version": "1.5.0",
            "_model_name": "FloatProgressModel",
            "_view_count": null,
            "_view_module": "@jupyter-widgets/controls",
            "_view_module_version": "1.5.0",
            "_view_name": "ProgressView",
            "bar_style": "success",
            "description": "",
            "description_tooltip": null,
            "layout": "IPY_MODEL_7fd610f23e08478a8908d2b3b0c8ce1c",
            "max": 1209,
            "min": 0,
            "orientation": "horizontal",
            "style": "IPY_MODEL_a381e3d78d7e4f3197a6af33f78d6c18",
            "value": 1209
          }
        },
        "a7ab93f512934a9f9769131a7c97d503": {
          "model_module": "@jupyter-widgets/controls",
          "model_module_version": "1.5.0",
          "model_name": "DescriptionStyleModel",
          "state": {
            "_model_module": "@jupyter-widgets/controls",
            "_model_module_version": "1.5.0",
            "_model_name": "DescriptionStyleModel",
            "_view_count": null,
            "_view_module": "@jupyter-widgets/base",
            "_view_module_version": "1.2.0",
            "_view_name": "StyleView",
            "description_width": ""
          }
        },
        "a9c87df753cd4b6188f2a89ff7131a6b": {
          "model_module": "@jupyter-widgets/controls",
          "model_module_version": "1.5.0",
          "model_name": "HTMLModel",
          "state": {
            "_dom_classes": [],
            "_model_module": "@jupyter-widgets/controls",
            "_model_module_version": "1.5.0",
            "_model_name": "HTMLModel",
            "_view_count": null,
            "_view_module": "@jupyter-widgets/controls",
            "_view_module_version": "1.5.0",
            "_view_name": "HTMLView",
            "description": "",
            "description_tooltip": null,
            "layout": "IPY_MODEL_1acc4578527c4095ba13397d19466a24",
            "placeholder": "​",
            "style": "IPY_MODEL_7aeda03881ef485f9860d20f3b9e5029",
            "value": " 0/0 [00:00&lt;?, ?it/s]"
          }
        },
        "abb478b92bb34bdb85519b5b57ef00c4": {
          "model_module": "@jupyter-widgets/controls",
          "model_module_version": "1.5.0",
          "model_name": "DescriptionStyleModel",
          "state": {
            "_model_module": "@jupyter-widgets/controls",
            "_model_module_version": "1.5.0",
            "_model_name": "DescriptionStyleModel",
            "_view_count": null,
            "_view_module": "@jupyter-widgets/base",
            "_view_module_version": "1.2.0",
            "_view_name": "StyleView",
            "description_width": ""
          }
        },
        "ac80b43146bb4b928dc013ce9687c08f": {
          "model_module": "@jupyter-widgets/controls",
          "model_module_version": "1.5.0",
          "model_name": "HTMLModel",
          "state": {
            "_dom_classes": [],
            "_model_module": "@jupyter-widgets/controls",
            "_model_module_version": "1.5.0",
            "_model_name": "HTMLModel",
            "_view_count": null,
            "_view_module": "@jupyter-widgets/controls",
            "_view_module_version": "1.5.0",
            "_view_name": "HTMLView",
            "description": "",
            "description_tooltip": null,
            "layout": "IPY_MODEL_adda792aa03f4495b3cb16fe708fe3ef",
            "placeholder": "​",
            "style": "IPY_MODEL_669304128d024785a4a0df89a297b9e3",
            "value": "Resolving data files: 100%"
          }
        },
        "adda792aa03f4495b3cb16fe708fe3ef": {
          "model_module": "@jupyter-widgets/base",
          "model_module_version": "1.2.0",
          "model_name": "LayoutModel",
          "state": {
            "_model_module": "@jupyter-widgets/base",
            "_model_module_version": "1.2.0",
            "_model_name": "LayoutModel",
            "_view_count": null,
            "_view_module": "@jupyter-widgets/base",
            "_view_module_version": "1.2.0",
            "_view_name": "LayoutView",
            "align_content": null,
            "align_items": null,
            "align_self": null,
            "border": null,
            "bottom": null,
            "display": null,
            "flex": null,
            "flex_flow": null,
            "grid_area": null,
            "grid_auto_columns": null,
            "grid_auto_flow": null,
            "grid_auto_rows": null,
            "grid_column": null,
            "grid_gap": null,
            "grid_row": null,
            "grid_template_areas": null,
            "grid_template_columns": null,
            "grid_template_rows": null,
            "height": null,
            "justify_content": null,
            "justify_items": null,
            "left": null,
            "margin": null,
            "max_height": null,
            "max_width": null,
            "min_height": null,
            "min_width": null,
            "object_fit": null,
            "object_position": null,
            "order": null,
            "overflow": null,
            "overflow_x": null,
            "overflow_y": null,
            "padding": null,
            "right": null,
            "top": null,
            "visibility": null,
            "width": null
          }
        },
        "b57262d84c2341d09f5b8434461b57ac": {
          "model_module": "@jupyter-widgets/controls",
          "model_module_version": "1.5.0",
          "model_name": "HTMLModel",
          "state": {
            "_dom_classes": [],
            "_model_module": "@jupyter-widgets/controls",
            "_model_module_version": "1.5.0",
            "_model_name": "HTMLModel",
            "_view_count": null,
            "_view_module": "@jupyter-widgets/controls",
            "_view_module_version": "1.5.0",
            "_view_name": "HTMLView",
            "description": "",
            "description_tooltip": null,
            "layout": "IPY_MODEL_70910b4710bb460d99ea7b0530747125",
            "placeholder": "​",
            "style": "IPY_MODEL_d32a366ac31e489dbe4fa10d0c8d9bf9",
            "value": "Downloading data files: "
          }
        },
        "b59b190ba38f40a9bf3494b76c5279ad": {
          "model_module": "@jupyter-widgets/base",
          "model_module_version": "1.2.0",
          "model_name": "LayoutModel",
          "state": {
            "_model_module": "@jupyter-widgets/base",
            "_model_module_version": "1.2.0",
            "_model_name": "LayoutModel",
            "_view_count": null,
            "_view_module": "@jupyter-widgets/base",
            "_view_module_version": "1.2.0",
            "_view_name": "LayoutView",
            "align_content": null,
            "align_items": null,
            "align_self": null,
            "border": null,
            "bottom": null,
            "display": null,
            "flex": null,
            "flex_flow": null,
            "grid_area": null,
            "grid_auto_columns": null,
            "grid_auto_flow": null,
            "grid_auto_rows": null,
            "grid_column": null,
            "grid_gap": null,
            "grid_row": null,
            "grid_template_areas": null,
            "grid_template_columns": null,
            "grid_template_rows": null,
            "height": null,
            "justify_content": null,
            "justify_items": null,
            "left": null,
            "margin": null,
            "max_height": null,
            "max_width": null,
            "min_height": null,
            "min_width": null,
            "object_fit": null,
            "object_position": null,
            "order": null,
            "overflow": null,
            "overflow_x": null,
            "overflow_y": null,
            "padding": null,
            "right": null,
            "top": null,
            "visibility": null,
            "width": null
          }
        },
        "b6633f636b244f77a247abb3ea4c0d82": {
          "model_module": "@jupyter-widgets/base",
          "model_module_version": "1.2.0",
          "model_name": "LayoutModel",
          "state": {
            "_model_module": "@jupyter-widgets/base",
            "_model_module_version": "1.2.0",
            "_model_name": "LayoutModel",
            "_view_count": null,
            "_view_module": "@jupyter-widgets/base",
            "_view_module_version": "1.2.0",
            "_view_name": "LayoutView",
            "align_content": null,
            "align_items": null,
            "align_self": null,
            "border": null,
            "bottom": null,
            "display": null,
            "flex": null,
            "flex_flow": null,
            "grid_area": null,
            "grid_auto_columns": null,
            "grid_auto_flow": null,
            "grid_auto_rows": null,
            "grid_column": null,
            "grid_gap": null,
            "grid_row": null,
            "grid_template_areas": null,
            "grid_template_columns": null,
            "grid_template_rows": null,
            "height": null,
            "justify_content": null,
            "justify_items": null,
            "left": null,
            "margin": null,
            "max_height": null,
            "max_width": null,
            "min_height": null,
            "min_width": null,
            "object_fit": null,
            "object_position": null,
            "order": null,
            "overflow": null,
            "overflow_x": null,
            "overflow_y": null,
            "padding": null,
            "right": null,
            "top": null,
            "visibility": null,
            "width": null
          }
        },
        "b6730b25010e4efa861014d5edb45f64": {
          "model_module": "@jupyter-widgets/base",
          "model_module_version": "1.2.0",
          "model_name": "LayoutModel",
          "state": {
            "_model_module": "@jupyter-widgets/base",
            "_model_module_version": "1.2.0",
            "_model_name": "LayoutModel",
            "_view_count": null,
            "_view_module": "@jupyter-widgets/base",
            "_view_module_version": "1.2.0",
            "_view_name": "LayoutView",
            "align_content": null,
            "align_items": null,
            "align_self": null,
            "border": null,
            "bottom": null,
            "display": null,
            "flex": null,
            "flex_flow": null,
            "grid_area": null,
            "grid_auto_columns": null,
            "grid_auto_flow": null,
            "grid_auto_rows": null,
            "grid_column": null,
            "grid_gap": null,
            "grid_row": null,
            "grid_template_areas": null,
            "grid_template_columns": null,
            "grid_template_rows": null,
            "height": null,
            "justify_content": null,
            "justify_items": null,
            "left": null,
            "margin": null,
            "max_height": null,
            "max_width": null,
            "min_height": null,
            "min_width": null,
            "object_fit": null,
            "object_position": null,
            "order": null,
            "overflow": null,
            "overflow_x": null,
            "overflow_y": null,
            "padding": null,
            "right": null,
            "top": null,
            "visibility": null,
            "width": "20px"
          }
        },
        "b6b7837e64ec436c881ce739c3c2db5a": {
          "model_module": "@jupyter-widgets/base",
          "model_module_version": "1.2.0",
          "model_name": "LayoutModel",
          "state": {
            "_model_module": "@jupyter-widgets/base",
            "_model_module_version": "1.2.0",
            "_model_name": "LayoutModel",
            "_view_count": null,
            "_view_module": "@jupyter-widgets/base",
            "_view_module_version": "1.2.0",
            "_view_name": "LayoutView",
            "align_content": null,
            "align_items": null,
            "align_self": null,
            "border": null,
            "bottom": null,
            "display": null,
            "flex": null,
            "flex_flow": null,
            "grid_area": null,
            "grid_auto_columns": null,
            "grid_auto_flow": null,
            "grid_auto_rows": null,
            "grid_column": null,
            "grid_gap": null,
            "grid_row": null,
            "grid_template_areas": null,
            "grid_template_columns": null,
            "grid_template_rows": null,
            "height": null,
            "justify_content": null,
            "justify_items": null,
            "left": null,
            "margin": null,
            "max_height": null,
            "max_width": null,
            "min_height": null,
            "min_width": null,
            "object_fit": null,
            "object_position": null,
            "order": null,
            "overflow": null,
            "overflow_x": null,
            "overflow_y": null,
            "padding": null,
            "right": null,
            "top": null,
            "visibility": null,
            "width": null
          }
        },
        "ba14cfa319ce4a3e88ac54980db53f16": {
          "model_module": "@jupyter-widgets/controls",
          "model_module_version": "1.5.0",
          "model_name": "HBoxModel",
          "state": {
            "_dom_classes": [],
            "_model_module": "@jupyter-widgets/controls",
            "_model_module_version": "1.5.0",
            "_model_name": "HBoxModel",
            "_view_count": null,
            "_view_module": "@jupyter-widgets/controls",
            "_view_module_version": "1.5.0",
            "_view_name": "HBoxView",
            "box_style": "",
            "children": [
              "IPY_MODEL_12f48e80cfc448e88c7427cb4ec39cc1",
              "IPY_MODEL_5a5d394bc3564b049545fc55136a19ef",
              "IPY_MODEL_112afa4e5dba437ba22a4c88bcceb6cd"
            ],
            "layout": "IPY_MODEL_b6b7837e64ec436c881ce739c3c2db5a"
          }
        },
        "ba60373f925e42a29b1f67364c917dc8": {
          "model_module": "@jupyter-widgets/base",
          "model_module_version": "1.2.0",
          "model_name": "LayoutModel",
          "state": {
            "_model_module": "@jupyter-widgets/base",
            "_model_module_version": "1.2.0",
            "_model_name": "LayoutModel",
            "_view_count": null,
            "_view_module": "@jupyter-widgets/base",
            "_view_module_version": "1.2.0",
            "_view_name": "LayoutView",
            "align_content": null,
            "align_items": null,
            "align_self": null,
            "border": null,
            "bottom": null,
            "display": null,
            "flex": null,
            "flex_flow": null,
            "grid_area": null,
            "grid_auto_columns": null,
            "grid_auto_flow": null,
            "grid_auto_rows": null,
            "grid_column": null,
            "grid_gap": null,
            "grid_row": null,
            "grid_template_areas": null,
            "grid_template_columns": null,
            "grid_template_rows": null,
            "height": null,
            "justify_content": null,
            "justify_items": null,
            "left": null,
            "margin": null,
            "max_height": null,
            "max_width": null,
            "min_height": null,
            "min_width": null,
            "object_fit": null,
            "object_position": null,
            "order": null,
            "overflow": null,
            "overflow_x": null,
            "overflow_y": null,
            "padding": null,
            "right": null,
            "top": null,
            "visibility": null,
            "width": null
          }
        },
        "bc00fa9c5da84bbc82262ed640ea90e6": {
          "model_module": "@jupyter-widgets/base",
          "model_module_version": "1.2.0",
          "model_name": "LayoutModel",
          "state": {
            "_model_module": "@jupyter-widgets/base",
            "_model_module_version": "1.2.0",
            "_model_name": "LayoutModel",
            "_view_count": null,
            "_view_module": "@jupyter-widgets/base",
            "_view_module_version": "1.2.0",
            "_view_name": "LayoutView",
            "align_content": null,
            "align_items": null,
            "align_self": null,
            "border": null,
            "bottom": null,
            "display": null,
            "flex": null,
            "flex_flow": null,
            "grid_area": null,
            "grid_auto_columns": null,
            "grid_auto_flow": null,
            "grid_auto_rows": null,
            "grid_column": null,
            "grid_gap": null,
            "grid_row": null,
            "grid_template_areas": null,
            "grid_template_columns": null,
            "grid_template_rows": null,
            "height": null,
            "justify_content": null,
            "justify_items": null,
            "left": null,
            "margin": null,
            "max_height": null,
            "max_width": null,
            "min_height": null,
            "min_width": null,
            "object_fit": null,
            "object_position": null,
            "order": null,
            "overflow": null,
            "overflow_x": null,
            "overflow_y": null,
            "padding": null,
            "right": null,
            "top": null,
            "visibility": null,
            "width": "20px"
          }
        },
        "bd9752dccb4a46d8877be82e5daf7986": {
          "model_module": "@jupyter-widgets/controls",
          "model_module_version": "1.5.0",
          "model_name": "HBoxModel",
          "state": {
            "_dom_classes": [],
            "_model_module": "@jupyter-widgets/controls",
            "_model_module_version": "1.5.0",
            "_model_name": "HBoxModel",
            "_view_count": null,
            "_view_module": "@jupyter-widgets/controls",
            "_view_module_version": "1.5.0",
            "_view_name": "HBoxView",
            "box_style": "",
            "children": [
              "IPY_MODEL_4ede36ac50c941ff961b712a6e8f61ba",
              "IPY_MODEL_c7bd348ec8954acabfc339f89516de47",
              "IPY_MODEL_be86f6cfc0c14cc5b0c803ae4afa67cc"
            ],
            "layout": "IPY_MODEL_2c82c9602d7e4456830f3c4b6d68af1b"
          }
        },
        "be86f6cfc0c14cc5b0c803ae4afa67cc": {
          "model_module": "@jupyter-widgets/controls",
          "model_module_version": "1.5.0",
          "model_name": "HTMLModel",
          "state": {
            "_dom_classes": [],
            "_model_module": "@jupyter-widgets/controls",
            "_model_module_version": "1.5.0",
            "_model_name": "HTMLModel",
            "_view_count": null,
            "_view_module": "@jupyter-widgets/controls",
            "_view_module_version": "1.5.0",
            "_view_name": "HTMLView",
            "description": "",
            "description_tooltip": null,
            "layout": "IPY_MODEL_e8250bfd6328469e818b8fc66441db01",
            "placeholder": "​",
            "style": "IPY_MODEL_0a07a47bbb0b4726aedd1c2e104913a6",
            "value": " 9999/0 [00:01&lt;00:00, 6833.53 examples/s]"
          }
        },
        "c121423eb88f47ac925ccadd7f3d0bfc": {
          "model_module": "@jupyter-widgets/controls",
          "model_module_version": "1.5.0",
          "model_name": "ProgressStyleModel",
          "state": {
            "_model_module": "@jupyter-widgets/controls",
            "_model_module_version": "1.5.0",
            "_model_name": "ProgressStyleModel",
            "_view_count": null,
            "_view_module": "@jupyter-widgets/base",
            "_view_module_version": "1.2.0",
            "_view_name": "StyleView",
            "bar_color": null,
            "description_width": ""
          }
        },
        "c47c84945dda43829082b5b7dbfb388a": {
          "model_module": "@jupyter-widgets/base",
          "model_module_version": "1.2.0",
          "model_name": "LayoutModel",
          "state": {
            "_model_module": "@jupyter-widgets/base",
            "_model_module_version": "1.2.0",
            "_model_name": "LayoutModel",
            "_view_count": null,
            "_view_module": "@jupyter-widgets/base",
            "_view_module_version": "1.2.0",
            "_view_name": "LayoutView",
            "align_content": null,
            "align_items": null,
            "align_self": null,
            "border": null,
            "bottom": null,
            "display": null,
            "flex": null,
            "flex_flow": null,
            "grid_area": null,
            "grid_auto_columns": null,
            "grid_auto_flow": null,
            "grid_auto_rows": null,
            "grid_column": null,
            "grid_gap": null,
            "grid_row": null,
            "grid_template_areas": null,
            "grid_template_columns": null,
            "grid_template_rows": null,
            "height": null,
            "justify_content": null,
            "justify_items": null,
            "left": null,
            "margin": null,
            "max_height": null,
            "max_width": null,
            "min_height": null,
            "min_width": null,
            "object_fit": null,
            "object_position": null,
            "order": null,
            "overflow": null,
            "overflow_x": null,
            "overflow_y": null,
            "padding": null,
            "right": null,
            "top": null,
            "visibility": null,
            "width": null
          }
        },
        "c47fbaaf0a2b4b4aabe8eaf4e57d6429": {
          "model_module": "@jupyter-widgets/controls",
          "model_module_version": "1.5.0",
          "model_name": "DescriptionStyleModel",
          "state": {
            "_model_module": "@jupyter-widgets/controls",
            "_model_module_version": "1.5.0",
            "_model_name": "DescriptionStyleModel",
            "_view_count": null,
            "_view_module": "@jupyter-widgets/base",
            "_view_module_version": "1.2.0",
            "_view_name": "StyleView",
            "description_width": ""
          }
        },
        "c5508bb6228e49baac33ca4441e876b5": {
          "model_module": "@jupyter-widgets/base",
          "model_module_version": "1.2.0",
          "model_name": "LayoutModel",
          "state": {
            "_model_module": "@jupyter-widgets/base",
            "_model_module_version": "1.2.0",
            "_model_name": "LayoutModel",
            "_view_count": null,
            "_view_module": "@jupyter-widgets/base",
            "_view_module_version": "1.2.0",
            "_view_name": "LayoutView",
            "align_content": null,
            "align_items": null,
            "align_self": null,
            "border": null,
            "bottom": null,
            "display": null,
            "flex": null,
            "flex_flow": null,
            "grid_area": null,
            "grid_auto_columns": null,
            "grid_auto_flow": null,
            "grid_auto_rows": null,
            "grid_column": null,
            "grid_gap": null,
            "grid_row": null,
            "grid_template_areas": null,
            "grid_template_columns": null,
            "grid_template_rows": null,
            "height": null,
            "justify_content": null,
            "justify_items": null,
            "left": null,
            "margin": null,
            "max_height": null,
            "max_width": null,
            "min_height": null,
            "min_width": null,
            "object_fit": null,
            "object_position": null,
            "order": null,
            "overflow": null,
            "overflow_x": null,
            "overflow_y": null,
            "padding": null,
            "right": null,
            "top": null,
            "visibility": null,
            "width": null
          }
        },
        "c7bd348ec8954acabfc339f89516de47": {
          "model_module": "@jupyter-widgets/controls",
          "model_module_version": "1.5.0",
          "model_name": "FloatProgressModel",
          "state": {
            "_dom_classes": [],
            "_model_module": "@jupyter-widgets/controls",
            "_model_module_version": "1.5.0",
            "_model_name": "FloatProgressModel",
            "_view_count": null,
            "_view_module": "@jupyter-widgets/controls",
            "_view_module_version": "1.5.0",
            "_view_name": "ProgressView",
            "bar_style": "success",
            "description": "",
            "description_tooltip": null,
            "layout": "IPY_MODEL_1160a2f0ec664d99bc1cf3db5a79432e",
            "max": 1,
            "min": 0,
            "orientation": "horizontal",
            "style": "IPY_MODEL_829292d3823c49599ba6331775045dbc",
            "value": 1
          }
        },
        "c7d26e7a740647f3af97f8b53779a46b": {
          "model_module": "@jupyter-widgets/controls",
          "model_module_version": "1.5.0",
          "model_name": "HBoxModel",
          "state": {
            "_dom_classes": [],
            "_model_module": "@jupyter-widgets/controls",
            "_model_module_version": "1.5.0",
            "_model_name": "HBoxModel",
            "_view_count": null,
            "_view_module": "@jupyter-widgets/controls",
            "_view_module_version": "1.5.0",
            "_view_name": "HBoxView",
            "box_style": "",
            "children": [
              "IPY_MODEL_95e8f43429944fd1ab81b1694fd3d4ce",
              "IPY_MODEL_a72a248821534f1fbe778ad8c2fa02f4",
              "IPY_MODEL_14c7fc72558840d48bca0d4dcbd2d817"
            ],
            "layout": "IPY_MODEL_944c7e886d2e4a1992b0ee895f896f7f"
          }
        },
        "ca9bf9d0f9f649b8babcf75b0976caab": {
          "model_module": "@jupyter-widgets/controls",
          "model_module_version": "1.5.0",
          "model_name": "DescriptionStyleModel",
          "state": {
            "_model_module": "@jupyter-widgets/controls",
            "_model_module_version": "1.5.0",
            "_model_name": "DescriptionStyleModel",
            "_view_count": null,
            "_view_module": "@jupyter-widgets/base",
            "_view_module_version": "1.2.0",
            "_view_name": "StyleView",
            "description_width": ""
          }
        },
        "ce0fed99fe354cb1a692d899043dcc0a": {
          "model_module": "@jupyter-widgets/controls",
          "model_module_version": "1.5.0",
          "model_name": "FloatProgressModel",
          "state": {
            "_dom_classes": [],
            "_model_module": "@jupyter-widgets/controls",
            "_model_module_version": "1.5.0",
            "_model_name": "FloatProgressModel",
            "_view_count": null,
            "_view_module": "@jupyter-widgets/controls",
            "_view_module_version": "1.5.0",
            "_view_name": "ProgressView",
            "bar_style": "success",
            "description": "",
            "description_tooltip": null,
            "layout": "IPY_MODEL_c47c84945dda43829082b5b7dbfb388a",
            "max": 1210,
            "min": 0,
            "orientation": "horizontal",
            "style": "IPY_MODEL_815bc852e11c4a20b9ba8f43264458af",
            "value": 1210
          }
        },
        "d038c851f2cb4b6b959c20d48a12d1e5": {
          "model_module": "@jupyter-widgets/controls",
          "model_module_version": "1.5.0",
          "model_name": "HTMLModel",
          "state": {
            "_dom_classes": [],
            "_model_module": "@jupyter-widgets/controls",
            "_model_module_version": "1.5.0",
            "_model_name": "HTMLModel",
            "_view_count": null,
            "_view_module": "@jupyter-widgets/controls",
            "_view_module_version": "1.5.0",
            "_view_name": "HTMLView",
            "description": "",
            "description_tooltip": null,
            "layout": "IPY_MODEL_9f21d2ded83d45978501552936061227",
            "placeholder": "​",
            "style": "IPY_MODEL_ef4dd6915b8e473fb0fd366b8867c477",
            "value": "Map: 100%"
          }
        },
        "d0f072585c7443c3b6e04b1f3b63cd39": {
          "model_module": "@jupyter-widgets/base",
          "model_module_version": "1.2.0",
          "model_name": "LayoutModel",
          "state": {
            "_model_module": "@jupyter-widgets/base",
            "_model_module_version": "1.2.0",
            "_model_name": "LayoutModel",
            "_view_count": null,
            "_view_module": "@jupyter-widgets/base",
            "_view_module_version": "1.2.0",
            "_view_name": "LayoutView",
            "align_content": null,
            "align_items": null,
            "align_self": null,
            "border": null,
            "bottom": null,
            "display": null,
            "flex": null,
            "flex_flow": null,
            "grid_area": null,
            "grid_auto_columns": null,
            "grid_auto_flow": null,
            "grid_auto_rows": null,
            "grid_column": null,
            "grid_gap": null,
            "grid_row": null,
            "grid_template_areas": null,
            "grid_template_columns": null,
            "grid_template_rows": null,
            "height": null,
            "justify_content": null,
            "justify_items": null,
            "left": null,
            "margin": null,
            "max_height": null,
            "max_width": null,
            "min_height": null,
            "min_width": null,
            "object_fit": null,
            "object_position": null,
            "order": null,
            "overflow": null,
            "overflow_x": null,
            "overflow_y": null,
            "padding": null,
            "right": null,
            "top": null,
            "visibility": null,
            "width": null
          }
        },
        "d0fe61e04f664491a9ee7fa6d10cd586": {
          "model_module": "@jupyter-widgets/controls",
          "model_module_version": "1.5.0",
          "model_name": "HBoxModel",
          "state": {
            "_dom_classes": [],
            "_model_module": "@jupyter-widgets/controls",
            "_model_module_version": "1.5.0",
            "_model_name": "HBoxModel",
            "_view_count": null,
            "_view_module": "@jupyter-widgets/controls",
            "_view_module_version": "1.5.0",
            "_view_name": "HBoxView",
            "box_style": "",
            "children": [
              "IPY_MODEL_65d5eab54d9847669c9059e5c5901d0f",
              "IPY_MODEL_7222a90a28cb47638b9c20a5e18e151d",
              "IPY_MODEL_a9c87df753cd4b6188f2a89ff7131a6b"
            ],
            "layout": "IPY_MODEL_d0f072585c7443c3b6e04b1f3b63cd39"
          }
        },
        "d32a366ac31e489dbe4fa10d0c8d9bf9": {
          "model_module": "@jupyter-widgets/controls",
          "model_module_version": "1.5.0",
          "model_name": "DescriptionStyleModel",
          "state": {
            "_model_module": "@jupyter-widgets/controls",
            "_model_module_version": "1.5.0",
            "_model_name": "DescriptionStyleModel",
            "_view_count": null,
            "_view_module": "@jupyter-widgets/base",
            "_view_module_version": "1.2.0",
            "_view_name": "StyleView",
            "description_width": ""
          }
        },
        "d3b761c4e2634e3eb6bd3c2288e2a818": {
          "model_module": "@jupyter-widgets/base",
          "model_module_version": "1.2.0",
          "model_name": "LayoutModel",
          "state": {
            "_model_module": "@jupyter-widgets/base",
            "_model_module_version": "1.2.0",
            "_model_name": "LayoutModel",
            "_view_count": null,
            "_view_module": "@jupyter-widgets/base",
            "_view_module_version": "1.2.0",
            "_view_name": "LayoutView",
            "align_content": null,
            "align_items": null,
            "align_self": null,
            "border": null,
            "bottom": null,
            "display": null,
            "flex": null,
            "flex_flow": null,
            "grid_area": null,
            "grid_auto_columns": null,
            "grid_auto_flow": null,
            "grid_auto_rows": null,
            "grid_column": null,
            "grid_gap": null,
            "grid_row": null,
            "grid_template_areas": null,
            "grid_template_columns": null,
            "grid_template_rows": null,
            "height": null,
            "justify_content": null,
            "justify_items": null,
            "left": null,
            "margin": null,
            "max_height": null,
            "max_width": null,
            "min_height": null,
            "min_width": null,
            "object_fit": null,
            "object_position": null,
            "order": null,
            "overflow": null,
            "overflow_x": null,
            "overflow_y": null,
            "padding": null,
            "right": null,
            "top": null,
            "visibility": null,
            "width": null
          }
        },
        "d427b41f99b74056ac239b015fd78c3d": {
          "model_module": "@jupyter-widgets/controls",
          "model_module_version": "1.5.0",
          "model_name": "HBoxModel",
          "state": {
            "_dom_classes": [],
            "_model_module": "@jupyter-widgets/controls",
            "_model_module_version": "1.5.0",
            "_model_name": "HBoxModel",
            "_view_count": null,
            "_view_module": "@jupyter-widgets/controls",
            "_view_module_version": "1.5.0",
            "_view_name": "HBoxView",
            "box_style": "",
            "children": [
              "IPY_MODEL_7426011c61894c94aef33aa1bcb735a2",
              "IPY_MODEL_f1453fbfa1b245a2bf5001c35a5c8efa",
              "IPY_MODEL_70ce029c919c4b71a8d7a436e3907a5e"
            ],
            "layout": "IPY_MODEL_5623c9aa067b42509458d631fbd4f2c2"
          }
        },
        "db9de2a8785241bd83db63167916463e": {
          "model_module": "@jupyter-widgets/controls",
          "model_module_version": "1.5.0",
          "model_name": "FloatProgressModel",
          "state": {
            "_dom_classes": [],
            "_model_module": "@jupyter-widgets/controls",
            "_model_module_version": "1.5.0",
            "_model_name": "FloatProgressModel",
            "_view_count": null,
            "_view_module": "@jupyter-widgets/controls",
            "_view_module_version": "1.5.0",
            "_view_name": "ProgressView",
            "bar_style": "success",
            "description": "",
            "description_tooltip": null,
            "layout": "IPY_MODEL_20cf31210cfa41dcb4743f542fddd855",
            "max": 1842,
            "min": 0,
            "orientation": "horizontal",
            "style": "IPY_MODEL_4890cf39f2894e0d9ef367d02768d81b",
            "value": 1842
          }
        },
        "e183c219fdbc48faad4f594a3916614c": {
          "model_module": "@jupyter-widgets/base",
          "model_module_version": "1.2.0",
          "model_name": "LayoutModel",
          "state": {
            "_model_module": "@jupyter-widgets/base",
            "_model_module_version": "1.2.0",
            "_model_name": "LayoutModel",
            "_view_count": null,
            "_view_module": "@jupyter-widgets/base",
            "_view_module_version": "1.2.0",
            "_view_name": "LayoutView",
            "align_content": null,
            "align_items": null,
            "align_self": null,
            "border": null,
            "bottom": null,
            "display": null,
            "flex": null,
            "flex_flow": null,
            "grid_area": null,
            "grid_auto_columns": null,
            "grid_auto_flow": null,
            "grid_auto_rows": null,
            "grid_column": null,
            "grid_gap": null,
            "grid_row": null,
            "grid_template_areas": null,
            "grid_template_columns": null,
            "grid_template_rows": null,
            "height": null,
            "justify_content": null,
            "justify_items": null,
            "left": null,
            "margin": null,
            "max_height": null,
            "max_width": null,
            "min_height": null,
            "min_width": null,
            "object_fit": null,
            "object_position": null,
            "order": null,
            "overflow": null,
            "overflow_x": null,
            "overflow_y": null,
            "padding": null,
            "right": null,
            "top": null,
            "visibility": null,
            "width": null
          }
        },
        "e67868fd256949568a05f8a27029001e": {
          "model_module": "@jupyter-widgets/controls",
          "model_module_version": "1.5.0",
          "model_name": "DescriptionStyleModel",
          "state": {
            "_model_module": "@jupyter-widgets/controls",
            "_model_module_version": "1.5.0",
            "_model_name": "DescriptionStyleModel",
            "_view_count": null,
            "_view_module": "@jupyter-widgets/base",
            "_view_module_version": "1.2.0",
            "_view_name": "StyleView",
            "description_width": ""
          }
        },
        "e6c0a16f47184fa99b2ba2dbd2526494": {
          "model_module": "@jupyter-widgets/controls",
          "model_module_version": "1.5.0",
          "model_name": "DescriptionStyleModel",
          "state": {
            "_model_module": "@jupyter-widgets/controls",
            "_model_module_version": "1.5.0",
            "_model_name": "DescriptionStyleModel",
            "_view_count": null,
            "_view_module": "@jupyter-widgets/base",
            "_view_module_version": "1.2.0",
            "_view_name": "StyleView",
            "description_width": ""
          }
        },
        "e7db16c156834a2784ada70e4f085c3c": {
          "model_module": "@jupyter-widgets/controls",
          "model_module_version": "1.5.0",
          "model_name": "ProgressStyleModel",
          "state": {
            "_model_module": "@jupyter-widgets/controls",
            "_model_module_version": "1.5.0",
            "_model_name": "ProgressStyleModel",
            "_view_count": null,
            "_view_module": "@jupyter-widgets/base",
            "_view_module_version": "1.2.0",
            "_view_name": "StyleView",
            "bar_color": null,
            "description_width": ""
          }
        },
        "e8250bfd6328469e818b8fc66441db01": {
          "model_module": "@jupyter-widgets/base",
          "model_module_version": "1.2.0",
          "model_name": "LayoutModel",
          "state": {
            "_model_module": "@jupyter-widgets/base",
            "_model_module_version": "1.2.0",
            "_model_name": "LayoutModel",
            "_view_count": null,
            "_view_module": "@jupyter-widgets/base",
            "_view_module_version": "1.2.0",
            "_view_name": "LayoutView",
            "align_content": null,
            "align_items": null,
            "align_self": null,
            "border": null,
            "bottom": null,
            "display": null,
            "flex": null,
            "flex_flow": null,
            "grid_area": null,
            "grid_auto_columns": null,
            "grid_auto_flow": null,
            "grid_auto_rows": null,
            "grid_column": null,
            "grid_gap": null,
            "grid_row": null,
            "grid_template_areas": null,
            "grid_template_columns": null,
            "grid_template_rows": null,
            "height": null,
            "justify_content": null,
            "justify_items": null,
            "left": null,
            "margin": null,
            "max_height": null,
            "max_width": null,
            "min_height": null,
            "min_width": null,
            "object_fit": null,
            "object_position": null,
            "order": null,
            "overflow": null,
            "overflow_x": null,
            "overflow_y": null,
            "padding": null,
            "right": null,
            "top": null,
            "visibility": null,
            "width": null
          }
        },
        "e85ad0683fef42619591984046f9d053": {
          "model_module": "@jupyter-widgets/controls",
          "model_module_version": "1.5.0",
          "model_name": "HTMLModel",
          "state": {
            "_dom_classes": [],
            "_model_module": "@jupyter-widgets/controls",
            "_model_module_version": "1.5.0",
            "_model_name": "HTMLModel",
            "_view_count": null,
            "_view_module": "@jupyter-widgets/controls",
            "_view_module_version": "1.5.0",
            "_view_name": "HTMLView",
            "description": "",
            "description_tooltip": null,
            "layout": "IPY_MODEL_865c9ec9e7ef4161a53ef1f81ab95c10",
            "placeholder": "​",
            "style": "IPY_MODEL_13c8182a38af4f3bb8f4497c2da395b1",
            "value": "Map: 100%"
          }
        },
        "e88d15667dd5452baf6f938af4abf3c5": {
          "model_module": "@jupyter-widgets/base",
          "model_module_version": "1.2.0",
          "model_name": "LayoutModel",
          "state": {
            "_model_module": "@jupyter-widgets/base",
            "_model_module_version": "1.2.0",
            "_model_name": "LayoutModel",
            "_view_count": null,
            "_view_module": "@jupyter-widgets/base",
            "_view_module_version": "1.2.0",
            "_view_name": "LayoutView",
            "align_content": null,
            "align_items": null,
            "align_self": null,
            "border": null,
            "bottom": null,
            "display": null,
            "flex": null,
            "flex_flow": null,
            "grid_area": null,
            "grid_auto_columns": null,
            "grid_auto_flow": null,
            "grid_auto_rows": null,
            "grid_column": null,
            "grid_gap": null,
            "grid_row": null,
            "grid_template_areas": null,
            "grid_template_columns": null,
            "grid_template_rows": null,
            "height": null,
            "justify_content": null,
            "justify_items": null,
            "left": null,
            "margin": null,
            "max_height": null,
            "max_width": null,
            "min_height": null,
            "min_width": null,
            "object_fit": null,
            "object_position": null,
            "order": null,
            "overflow": null,
            "overflow_x": null,
            "overflow_y": null,
            "padding": null,
            "right": null,
            "top": null,
            "visibility": null,
            "width": null
          }
        },
        "ef4dd6915b8e473fb0fd366b8867c477": {
          "model_module": "@jupyter-widgets/controls",
          "model_module_version": "1.5.0",
          "model_name": "DescriptionStyleModel",
          "state": {
            "_model_module": "@jupyter-widgets/controls",
            "_model_module_version": "1.5.0",
            "_model_name": "DescriptionStyleModel",
            "_view_count": null,
            "_view_module": "@jupyter-widgets/base",
            "_view_module_version": "1.2.0",
            "_view_name": "StyleView",
            "description_width": ""
          }
        },
        "f07487b29d484324a5cfef2ad456fca1": {
          "model_module": "@jupyter-widgets/controls",
          "model_module_version": "1.5.0",
          "model_name": "DescriptionStyleModel",
          "state": {
            "_model_module": "@jupyter-widgets/controls",
            "_model_module_version": "1.5.0",
            "_model_name": "DescriptionStyleModel",
            "_view_count": null,
            "_view_module": "@jupyter-widgets/base",
            "_view_module_version": "1.2.0",
            "_view_name": "StyleView",
            "description_width": ""
          }
        },
        "f1453fbfa1b245a2bf5001c35a5c8efa": {
          "model_module": "@jupyter-widgets/controls",
          "model_module_version": "1.5.0",
          "model_name": "FloatProgressModel",
          "state": {
            "_dom_classes": [],
            "_model_module": "@jupyter-widgets/controls",
            "_model_module_version": "1.5.0",
            "_model_name": "FloatProgressModel",
            "_view_count": null,
            "_view_module": "@jupyter-widgets/controls",
            "_view_module_version": "1.5.0",
            "_view_name": "ProgressView",
            "bar_style": "success",
            "description": "",
            "description_tooltip": null,
            "layout": "IPY_MODEL_b6730b25010e4efa861014d5edb45f64",
            "max": 1,
            "min": 0,
            "orientation": "horizontal",
            "style": "IPY_MODEL_2bff9bef182347baaf21c8cfe92500f5",
            "value": 0
          }
        },
        "f1c82b42dde944e18e16680dce0865f3": {
          "model_module": "@jupyter-widgets/controls",
          "model_module_version": "1.5.0",
          "model_name": "DescriptionStyleModel",
          "state": {
            "_model_module": "@jupyter-widgets/controls",
            "_model_module_version": "1.5.0",
            "_model_name": "DescriptionStyleModel",
            "_view_count": null,
            "_view_module": "@jupyter-widgets/base",
            "_view_module_version": "1.2.0",
            "_view_name": "StyleView",
            "description_width": ""
          }
        },
        "f27277d94c814998b0d553a075d3d632": {
          "model_module": "@jupyter-widgets/controls",
          "model_module_version": "1.5.0",
          "model_name": "FloatProgressModel",
          "state": {
            "_dom_classes": [],
            "_model_module": "@jupyter-widgets/controls",
            "_model_module_version": "1.5.0",
            "_model_name": "FloatProgressModel",
            "_view_count": null,
            "_view_module": "@jupyter-widgets/controls",
            "_view_module_version": "1.5.0",
            "_view_name": "ProgressView",
            "bar_style": "success",
            "description": "",
            "description_tooltip": null,
            "layout": "IPY_MODEL_d3b761c4e2634e3eb6bd3c2288e2a818",
            "max": 1209,
            "min": 0,
            "orientation": "horizontal",
            "style": "IPY_MODEL_e7db16c156834a2784ada70e4f085c3c",
            "value": 1209
          }
        },
        "f2bbe06025694ad594f46d408ea306f6": {
          "model_module": "@jupyter-widgets/controls",
          "model_module_version": "1.5.0",
          "model_name": "HTMLModel",
          "state": {
            "_dom_classes": [],
            "_model_module": "@jupyter-widgets/controls",
            "_model_module_version": "1.5.0",
            "_model_name": "HTMLModel",
            "_view_count": null,
            "_view_module": "@jupyter-widgets/controls",
            "_view_module_version": "1.5.0",
            "_view_name": "HTMLView",
            "description": "",
            "description_tooltip": null,
            "layout": "IPY_MODEL_929a23bb28dc4bafa140e055dd221e3e",
            "placeholder": "​",
            "style": "IPY_MODEL_71f1c20513d44e4b857fbbab6b8a16fc",
            "value": "Generating test split: "
          }
        },
        "f53a99cde06c4267b30836882449bfb8": {
          "model_module": "@jupyter-widgets/controls",
          "model_module_version": "1.5.0",
          "model_name": "HTMLModel",
          "state": {
            "_dom_classes": [],
            "_model_module": "@jupyter-widgets/controls",
            "_model_module_version": "1.5.0",
            "_model_name": "HTMLModel",
            "_view_count": null,
            "_view_module": "@jupyter-widgets/controls",
            "_view_module_version": "1.5.0",
            "_view_name": "HTMLView",
            "description": "",
            "description_tooltip": null,
            "layout": "IPY_MODEL_7b5993a3277a494d9cf2ac5e15fac177",
            "placeholder": "​",
            "style": "IPY_MODEL_f07487b29d484324a5cfef2ad456fca1",
            "value": " 9999/9999 [00:00&lt;00:00, 34247.87 examples/s]"
          }
        },
        "fa56b7977ad4450497f3a6883bd7f686": {
          "model_module": "@jupyter-widgets/base",
          "model_module_version": "1.2.0",
          "model_name": "LayoutModel",
          "state": {
            "_model_module": "@jupyter-widgets/base",
            "_model_module_version": "1.2.0",
            "_model_name": "LayoutModel",
            "_view_count": null,
            "_view_module": "@jupyter-widgets/base",
            "_view_module_version": "1.2.0",
            "_view_name": "LayoutView",
            "align_content": null,
            "align_items": null,
            "align_self": null,
            "border": null,
            "bottom": null,
            "display": null,
            "flex": null,
            "flex_flow": null,
            "grid_area": null,
            "grid_auto_columns": null,
            "grid_auto_flow": null,
            "grid_auto_rows": null,
            "grid_column": null,
            "grid_gap": null,
            "grid_row": null,
            "grid_template_areas": null,
            "grid_template_columns": null,
            "grid_template_rows": null,
            "height": null,
            "justify_content": null,
            "justify_items": null,
            "left": null,
            "margin": null,
            "max_height": null,
            "max_width": null,
            "min_height": null,
            "min_width": null,
            "object_fit": null,
            "object_position": null,
            "order": null,
            "overflow": null,
            "overflow_x": null,
            "overflow_y": null,
            "padding": null,
            "right": null,
            "top": null,
            "visibility": null,
            "width": null
          }
        },
        "fb2312cc2c794a1caaadd6bb36b4d9f7": {
          "model_module": "@jupyter-widgets/base",
          "model_module_version": "1.2.0",
          "model_name": "LayoutModel",
          "state": {
            "_model_module": "@jupyter-widgets/base",
            "_model_module_version": "1.2.0",
            "_model_name": "LayoutModel",
            "_view_count": null,
            "_view_module": "@jupyter-widgets/base",
            "_view_module_version": "1.2.0",
            "_view_name": "LayoutView",
            "align_content": null,
            "align_items": null,
            "align_self": null,
            "border": null,
            "bottom": null,
            "display": null,
            "flex": null,
            "flex_flow": null,
            "grid_area": null,
            "grid_auto_columns": null,
            "grid_auto_flow": null,
            "grid_auto_rows": null,
            "grid_column": null,
            "grid_gap": null,
            "grid_row": null,
            "grid_template_areas": null,
            "grid_template_columns": null,
            "grid_template_rows": null,
            "height": null,
            "justify_content": null,
            "justify_items": null,
            "left": null,
            "margin": null,
            "max_height": null,
            "max_width": null,
            "min_height": null,
            "min_width": null,
            "object_fit": null,
            "object_position": null,
            "order": null,
            "overflow": null,
            "overflow_x": null,
            "overflow_y": null,
            "padding": null,
            "right": null,
            "top": null,
            "visibility": null,
            "width": null
          }
        },
        "fbfb5615ad5a44b49f80561285724d10": {
          "model_module": "@jupyter-widgets/controls",
          "model_module_version": "1.5.0",
          "model_name": "HTMLModel",
          "state": {
            "_dom_classes": [],
            "_model_module": "@jupyter-widgets/controls",
            "_model_module_version": "1.5.0",
            "_model_name": "HTMLModel",
            "_view_count": null,
            "_view_module": "@jupyter-widgets/controls",
            "_view_module_version": "1.5.0",
            "_view_name": "HTMLView",
            "description": "",
            "description_tooltip": null,
            "layout": "IPY_MODEL_8c6a49cdb9164760a4969a6cd3d74f04",
            "placeholder": "​",
            "style": "IPY_MODEL_a58c8c4ad29e4cb9a99d30c88919039b",
            "value": " 10000/10000 [00:03&lt;00:00, 2963.61it/s]"
          }
        },
        "fd018eb1df334be1b26601e8e9b1618a": {
          "model_module": "@jupyter-widgets/base",
          "model_module_version": "1.2.0",
          "model_name": "LayoutModel",
          "state": {
            "_model_module": "@jupyter-widgets/base",
            "_model_module_version": "1.2.0",
            "_model_name": "LayoutModel",
            "_view_count": null,
            "_view_module": "@jupyter-widgets/base",
            "_view_module_version": "1.2.0",
            "_view_name": "LayoutView",
            "align_content": null,
            "align_items": null,
            "align_self": null,
            "border": null,
            "bottom": null,
            "display": null,
            "flex": null,
            "flex_flow": null,
            "grid_area": null,
            "grid_auto_columns": null,
            "grid_auto_flow": null,
            "grid_auto_rows": null,
            "grid_column": null,
            "grid_gap": null,
            "grid_row": null,
            "grid_template_areas": null,
            "grid_template_columns": null,
            "grid_template_rows": null,
            "height": null,
            "justify_content": null,
            "justify_items": null,
            "left": null,
            "margin": null,
            "max_height": null,
            "max_width": null,
            "min_height": null,
            "min_width": null,
            "object_fit": null,
            "object_position": null,
            "order": null,
            "overflow": null,
            "overflow_x": null,
            "overflow_y": null,
            "padding": null,
            "right": null,
            "top": null,
            "visibility": null,
            "width": null
          }
        },
        "fd18593fbb594ba8a6fe343650641543": {
          "model_module": "@jupyter-widgets/controls",
          "model_module_version": "1.5.0",
          "model_name": "FloatProgressModel",
          "state": {
            "_dom_classes": [],
            "_model_module": "@jupyter-widgets/controls",
            "_model_module_version": "1.5.0",
            "_model_name": "FloatProgressModel",
            "_view_count": null,
            "_view_module": "@jupyter-widgets/controls",
            "_view_module_version": "1.5.0",
            "_view_name": "ProgressView",
            "bar_style": "success",
            "description": "",
            "description_tooltip": null,
            "layout": "IPY_MODEL_1a4198b27e2a45119b9a538f2cb80fed",
            "max": 10000,
            "min": 0,
            "orientation": "horizontal",
            "style": "IPY_MODEL_8068519c5f3747a08cffc4acb9a276fd",
            "value": 10000
          }
        }
      }
    }
  },
  "nbformat": 4,
  "nbformat_minor": 0
}