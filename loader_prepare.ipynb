{
  "cells": [
    {
      "cell_type": "markdown",
      "metadata": {
        "id": "view-in-github",
        "colab_type": "text"
      },
      "source": [
        "<a href=\"https://colab.research.google.com/github/xinyueli2896/raptranscription/blob/main/loader_prepare.ipynb\" target=\"_parent\"><img src=\"https://colab.research.google.com/assets/colab-badge.svg\" alt=\"Open In Colab\"/></a>"
      ]
    },
    {
      "cell_type": "markdown",
      "source": [
        "# Create an audiofolder containing:\n",
        "1.   train: segmented mp3 files for training\n",
        "2.   test: segmented mp3 files for training\n",
        "3.   metadata.csv:  path to the mp3 files and label for the each file(lyrics)  \n",
        "\n",
        "\n",
        "\n"
      ],
      "metadata": {
        "id": "Bkqf8HAKnUOs"
      }
    },
    {
      "cell_type": "code",
      "execution_count": null,
      "metadata": {
        "id": "4cR0X7Lqu5xh"
      },
      "outputs": [],
      "source": [
        "!pip install faker\n",
        "!pip install datasets\n",
        "!pip install pydub\n",
        "!pip install datasets"
      ]
    },
    {
      "cell_type": "code",
      "execution_count": null,
      "metadata": {
        "id": "H86H-g2ouae5"
      },
      "outputs": [],
      "source": [
        "import pandas as pd\n",
        "import uuid\n",
        "import random\n",
        "from faker import Faker\n",
        "import datetime\n",
        "import os\n",
        "from datasets import Dataset\n",
        "from datasets import DatasetDict\n",
        "from pydub import AudioSegment\n",
        "import re\n",
        "import csv"
      ]
    },
    {
      "cell_type": "code",
      "execution_count": null,
      "metadata": {
        "id": "5745XkdG0UlG"
      },
      "outputs": [],
      "source": [
        "num_songs = 187"
      ]
    },
    {
      "cell_type": "code",
      "execution_count": null,
      "metadata": {
        "colab": {
          "base_uri": "https://localhost:8080/"
        },
        "id": "vhOnqbJI3Yrz",
        "outputId": "e425ae73-1f9b-436c-8e07-b6e7a6d09568"
      },
      "outputs": [
        {
          "output_type": "stream",
          "name": "stdout",
          "text": [
            "Mounted at /content/drive/\n"
          ]
        }
      ],
      "source": [
        "from google.colab import drive\n",
        "drive.mount('/content/drive/')\n",
        "dataset_path = \"/content/drive/MyDrive/data\"\n",
        "songs_path = \"/content/drive/MyDrive/data/songs\"\n",
        "lyrics_path = \"/content/drive/MyDrive/data/lyrics\""
      ]
    },
    {
      "cell_type": "code",
      "execution_count": null,
      "metadata": {
        "id": "3o6APH3a5BLR",
        "cellView": "form"
      },
      "outputs": [],
      "source": [
        "# @title Segment songs into chunks according to the timestamps in .lrc filesave them to individual mp3 files, store mp3 file path and lyrics into an array of size number_chunks*2\n",
        "def parse_lrc(lrc_content):\n",
        "    \"\"\"\n",
        "    Parse the LRC file content and extract timestamps and lyrics.\n",
        "    Returns a list of tuples (start_time, end_time, lyric).\n",
        "    \"\"\"\n",
        "    timestamps = []\n",
        "    lyrics = []\n",
        "    for line in lrc_content.split('\\n'):\n",
        "        match = re.match(r'\\[(\\d+):(\\d+\\.\\d+)\\](.*)', line)\n",
        "        if match:\n",
        "            minutes, seconds, lyric = match.groups()\n",
        "            time = int(minutes) * 60 * 1000 + int(float(seconds) * 1000)  # Convert to milliseconds\n",
        "            timestamps.append(time)\n",
        "            lyrics.append(lyric)\n",
        "\n",
        "    # Create tuples of (start_time, end_time, lyric)\n",
        "    intervals = [(timestamps[i], timestamps[i+1], lyrics[i]) for i in range(len(timestamps)-1)]\n",
        "    return intervals\n",
        "\n",
        "\n",
        "output_folder_songs = os.path.join(dataset_path, 'segmented_songs')\n",
        "if not os.path.exists(output_folder_songs):\n",
        "    os.makedirs(output_folder_songs)\n",
        "\n",
        "data = []\n",
        "\n",
        "n=0\n",
        "delimiters = \"-(.\"\n",
        "pattern = r'[' + delimiters + r']\\s*'\n",
        "for filename in os.listdir(songs_path):\n",
        "  if filename.endswith('.flac'):\n",
        "\n",
        "    audio = AudioSegment.from_file(os.path.join(songs_path,filename), format=\"flac\") # read audio\n",
        "    name = re.split(pattern, filename)[0]\n",
        "    for filename1 in os.listdir(lyrics_path): # search for lyrics file\n",
        "      if filename1.startswith(name):\n",
        "        with open(os.path.join(lyrics_path,filename1), 'r') as file:\n",
        "          lrc_content = file.read()\n",
        "        intervals = parse_lrc(lrc_content) # parse lyrics\n",
        "\n",
        "        for i, (start, end, lyric) in enumerate(intervals):\n",
        "          if i<3:\n",
        "            continue\n",
        "          chunk = audio[start:end]\n",
        "          chunk.export(f\"{output_folder_songs}/chunk_{n}.mp3\", format=\"mp3\")\n",
        "          data.append([f\"data/chunk_{n}.mp3\",lyric])\n",
        "          n = n+1"
      ]
    },
    {
      "cell_type": "code",
      "execution_count": null,
      "metadata": {
        "id": "Xrz4YR6RFoqi"
      },
      "outputs": [],
      "source": [
        "data.insert(0, ['file_name','lyrics']"
      ]
    },
    {
      "cell_type": "code",
      "execution_count": null,
      "metadata": {
        "colab": {
          "base_uri": "https://localhost:8080/"
        },
        "id": "vTZ2yIB4XtJK",
        "outputId": "9119da11-bde9-4770-a4b8-c4e2d8d4f596"
      },
      "outputs": [
        {
          "data": {
            "text/plain": [
              "15990"
            ]
          },
          "execution_count": 27,
          "metadata": {},
          "output_type": "execute_result"
        }
      ],
      "source": [
        "len(data)"
      ]
    },
    {
      "cell_type": "code",
      "execution_count": null,
      "metadata": {
        "cellView": "form",
        "id": "TVikpj0Y-ios"
      },
      "outputs": [],
      "source": [
        "# @title\n",
        "import re\n",
        "delimiters = \"-(.\"\n",
        "for filename in os.listdir(songs_path):\n",
        "  pattern = r'[' + delimiters + r']\\s*'\n",
        "  words = re.split(pattern, filename)\n",
        "  print(words)\n",
        "\n",
        "for filename in os.listdir(lyrics_path):\n",
        "  pattern = r'[' + delimiters + r']\\s*'\n",
        "  words = re.split(pattern, filename)\n",
        "  print(words)"
      ]
    },
    {
      "cell_type": "code",
      "execution_count": null,
      "metadata": {
        "id": "CkKMPynaLKyi",
        "cellView": "form"
      },
      "outputs": [],
      "source": [
        "# @title Store your array into a csv\n",
        "file_path = 'metadata.csv'\n",
        "\n",
        "# Writing to a CSV file\n",
        "with open(file_path, mode='w', newline='') as file:\n",
        "    writer = csv.writer(file)\n",
        "    for row in data:\n",
        "        writer.writerow(row)\n",
        "\n",
        "print(\"Data written to\", file_path)\n"
      ]
    },
    {
      "cell_type": "markdown",
      "source": [
        "Finally, manually split the files in the segmented songs folder to train folder and test folder and make changes to your csv to reflect the change in file paths."
      ],
      "metadata": {
        "id": "kEkYSEwVpNsE"
      }
    }
  ],
  "metadata": {
    "colab": {
      "provenance": [],
      "authorship_tag": "ABX9TyM7TFOZLMKVOJi8zA+0I/BL",
      "include_colab_link": true
    },
    "kernelspec": {
      "display_name": "Python 3",
      "name": "python3"
    },
    "language_info": {
      "name": "python"
    }
  },
  "nbformat": 4,
  "nbformat_minor": 0
}