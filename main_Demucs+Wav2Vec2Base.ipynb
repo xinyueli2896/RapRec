{
  "cells": [
    {
      "cell_type": "markdown",
      "metadata": {
        "id": "view-in-github",
        "colab_type": "text"
      },
      "source": [
        "<a href=\"https://colab.research.google.com/github/xinyueli2896/RapRec/blob/main/main_Demucs%2BWav2Vec2Base.ipynb\" target=\"_parent\"><img src=\"https://colab.research.google.com/assets/colab-badge.svg\" alt=\"Open In Colab\"/></a>"
      ]
    },
    {
      "cell_type": "markdown",
      "metadata": {
        "id": "LBSYoWbi-45k"
      },
      "source": [
        "# **Fine-tuning Speech Model with 🤗 Transformers**"
      ]
    },
    {
      "cell_type": "code",
      "execution_count": null,
      "metadata": {
        "id": "v7CftmzCuKYl",
        "outputId": "e2fa84de-6096-4e44-cabc-525870900ffc"
      },
      "outputs": [
        {
          "name": "stderr",
          "output_type": "stream",
          "text": [
            "c:\\Users\\wbsgus\\anaconda3\\envs\\rap\\lib\\site-packages\\tqdm\\auto.py:21: TqdmWarning: IProgress not found. Please update jupyter and ipywidgets. See https://ipywidgets.readthedocs.io/en/stable/user_install.html\n",
            "  from .autonotebook import tqdm as notebook_tqdm\n"
          ]
        }
      ],
      "source": [
        "import librosa\n",
        "import torch\n",
        "import transformers\n",
        "model_checkpoint = \"facebook/wav2vec2-base\"\n",
        "batch_size = 32"
      ]
    },
    {
      "cell_type": "markdown",
      "metadata": {
        "id": "0mW-C1Nt-j7k"
      },
      "source": [
        "## Prepare Data, Tokenizer, Feature Extractor"
      ]
    },
    {
      "cell_type": "markdown",
      "metadata": {
        "id": "sEXEWEJGQPqD"
      },
      "source": [
        "### Create Wav2Vec2CTCTokenizer"
      ]
    },
    {
      "cell_type": "code",
      "execution_count": null,
      "metadata": {
        "colab": {
          "base_uri": "https://localhost:8080/",
          "height": 337,
          "referenced_widgets": [
            "5c7a8e1156284e67b8cf4572306845c7",
            "ac80b43146bb4b928dc013ce9687c08f",
            "11c9d8cc7b6e4f58b5f45357a9c1ea48",
            "842158dc348c4247a3d2919069e8825a",
            "216f12852afe4ffc961b0715d2903368",
            "adda792aa03f4495b3cb16fe708fe3ef",
            "669304128d024785a4a0df89a297b9e3",
            "b6633f636b244f77a247abb3ea4c0d82",
            "41fefa64438b4bdca69373930756bb8a",
            "6abea98ccda440ea9d761c0b7a459e9c",
            "711f78cbbda34e1097e50c7c3022e4f0",
            "c7d26e7a740647f3af97f8b53779a46b",
            "95e8f43429944fd1ab81b1694fd3d4ce",
            "a72a248821534f1fbe778ad8c2fa02f4",
            "14c7fc72558840d48bca0d4dcbd2d817",
            "944c7e886d2e4a1992b0ee895f896f7f",
            "1b2938acb4fe441b8a87876e8d67b2e9",
            "3e99ead820d44cee82d3ee2307f3f5e7",
            "7fd610f23e08478a8908d2b3b0c8ce1c",
            "a381e3d78d7e4f3197a6af33f78d6c18",
            "8c6a7d9e08304ef99e877c336b8a32f3",
            "a7ab93f512934a9f9769131a7c97d503",
            "39c26695eab2476881934b05b4dd742b",
            "803a7e1e8c0c4da4959b4b16b331aa72",
            "fd18593fbb594ba8a6fe343650641543",
            "fbfb5615ad5a44b49f80561285724d10",
            "b59b190ba38f40a9bf3494b76c5279ad",
            "99f1e20e12e64de8b4b713c980ec5d62",
            "6380551c27bb4d5c95d5531af2ca3536",
            "1a4198b27e2a45119b9a538f2cb80fed",
            "8068519c5f3747a08cffc4acb9a276fd",
            "8c6a49cdb9164760a4969a6cd3d74f04",
            "a58c8c4ad29e4cb9a99d30c88919039b",
            "7080d7780a7f4eedaa8411ddee673152",
            "b57262d84c2341d09f5b8434461b57ac",
            "678aaf643297420091e4456613879e6a",
            "23c330374ea14a3a860b4e64accbc79f",
            "9750e65d7c2f403ca3727782a03b545d",
            "70910b4710bb460d99ea7b0530747125",
            "d32a366ac31e489dbe4fa10d0c8d9bf9",
            "67996c3ecdb34bef8f30063a65b4a6c7",
            "c121423eb88f47ac925ccadd7f3d0bfc",
            "c5508bb6228e49baac33ca4441e876b5",
            "e67868fd256949568a05f8a27029001e",
            "1739a34beb6040efb9d8fc916841f511",
            "58c3e4af7b8e4be280cf79b9b311b34b",
            "55249948929149bdb7a9446764327806",
            "5e05da47fe7e46f580a9a1a072622ccd",
            "0cce4a2eb29a4cf099c8cd2eec95dde4",
            "35d938f20d014fcdb0a4cbf04b961699",
            "0f2d8fb1535149f69da87511e4510225",
            "0c597ca304f44bb5a41423f529339fe2",
            "1cd4c142de5942219d75cf7c9fde7290",
            "2f43df25f8604add9317d0c019580129",
            "abb478b92bb34bdb85519b5b57ef00c4",
            "4aaa7f6374dc4eb2ba0b3ead0dbfe1b9",
            "1c59f6de42d54604a39e552a8aaf2aae",
            "ce0fed99fe354cb1a692d899043dcc0a",
            "1a18b8bb9fde473aaa79f8a7b1bb7e1f",
            "3434f1a4c896405398cbf6ae6dd33f24",
            "fd018eb1df334be1b26601e8e9b1618a",
            "0ca715996a6c493bb527733fe278ce14",
            "c47c84945dda43829082b5b7dbfb388a",
            "815bc852e11c4a20b9ba8f43264458af",
            "4f4d2aaa2f044cc4891f44b80fd1c2ac",
            "c47fbaaf0a2b4b4aabe8eaf4e57d6429",
            "d427b41f99b74056ac239b015fd78c3d",
            "7426011c61894c94aef33aa1bcb735a2",
            "f1453fbfa1b245a2bf5001c35a5c8efa",
            "70ce029c919c4b71a8d7a436e3907a5e",
            "5623c9aa067b42509458d631fbd4f2c2",
            "405a05057fe542968181f8d08782ccf2",
            "e6c0a16f47184fa99b2ba2dbd2526494",
            "b6730b25010e4efa861014d5edb45f64",
            "2bff9bef182347baaf21c8cfe92500f5",
            "ba60373f925e42a29b1f67364c917dc8",
            "15f12584b3254263b50ec21251ce97b2",
            "d0fe61e04f664491a9ee7fa6d10cd586",
            "65d5eab54d9847669c9059e5c5901d0f",
            "7222a90a28cb47638b9c20a5e18e151d",
            "a9c87df753cd4b6188f2a89ff7131a6b",
            "d0f072585c7443c3b6e04b1f3b63cd39",
            "9280fc420d164988846bf1111cdd4f33",
            "f1c82b42dde944e18e16680dce0865f3",
            "662900ecfd8b4e628b29a2b9926b9a08",
            "467eca7f8a974645b8979094e1a5023e",
            "1acc4578527c4095ba13397d19466a24",
            "7aeda03881ef485f9860d20f3b9e5029",
            "bd9752dccb4a46d8877be82e5daf7986",
            "4ede36ac50c941ff961b712a6e8f61ba",
            "c7bd348ec8954acabfc339f89516de47",
            "be86f6cfc0c14cc5b0c803ae4afa67cc",
            "2c82c9602d7e4456830f3c4b6d68af1b",
            "a62012fe285e4ec4a572d554069650e5",
            "19d7b84dd3bc47379b250ee72be83be5",
            "1160a2f0ec664d99bc1cf3db5a79432e",
            "829292d3823c49599ba6331775045dbc",
            "e8250bfd6328469e818b8fc66441db01",
            "0a07a47bbb0b4726aedd1c2e104913a6",
            "9c22c74e5aa745cc80bf48719fb25c76",
            "f2bbe06025694ad594f46d408ea306f6",
            "7f224ca0fafc487aae2995ca43cdbde7",
            "a3a2a2820f5f4e19b2d471cb3d3fdc76",
            "367d04b9a1444220bd84cc226c4c8e5a",
            "929a23bb28dc4bafa140e055dd221e3e",
            "71f1c20513d44e4b857fbbab6b8a16fc",
            "bc00fa9c5da84bbc82262ed640ea90e6",
            "3ce96a8aca714f9793b8dccb3d4c47a6",
            "68398c1006cd442486cae4c16af9e0ec",
            "ca9bf9d0f9f649b8babcf75b0976caab"
          ]
        },
        "id": "2MMXcWFFgCXU",
        "outputId": "b8934aec-aff2-4e48-ad9b-cdf7d2927fe0"
      },
      "outputs": [
        {
          "name": "stderr",
          "output_type": "stream",
          "text": [
            "Resolving data files: 100%|██████████| 12532/12532 [00:00<00:00, 184327.51it/s]\n",
            "Resolving data files: 100%|██████████| 3085/3085 [00:00<00:00, 39181.54it/s]\n"
          ]
        }
      ],
      "source": [
        "from datasets import load_dataset, load_metric\n",
        "dataset_path = \"dataset_cleaned_sep\"\n",
        "timit = load_dataset(\"audiofolder\", data_dir=dataset_path)"
      ]
    },
    {
      "cell_type": "code",
      "execution_count": null,
      "metadata": {
        "colab": {
          "base_uri": "https://localhost:8080/"
        },
        "id": "QbIM-L0xdvf4",
        "outputId": "e528c783-f035-4348-d2ab-be2b7dd1170a"
      },
      "outputs": [
        {
          "data": {
            "text/plain": [
              "DatasetDict({\n",
              "    train: Dataset({\n",
              "        features: ['audio', 'lyrics'],\n",
              "        num_rows: 12532\n",
              "    })\n",
              "    test: Dataset({\n",
              "        features: ['audio', 'lyrics'],\n",
              "        num_rows: 3085\n",
              "    })\n",
              "})"
            ]
          },
          "execution_count": 3,
          "metadata": {},
          "output_type": "execute_result"
        }
      ],
      "source": [
        "timit"
      ]
    },
    {
      "cell_type": "code",
      "execution_count": null,
      "metadata": {
        "id": "kbyq6lDgQc2a"
      },
      "outputs": [],
      "source": [
        "# timit = timit.remove_columns([\"phonetic_detail\", \"word_detail\", \"dialect_region\", \"id\", \"sentence_type\", \"speaker_id\"])"
      ]
    },
    {
      "cell_type": "code",
      "execution_count": null,
      "metadata": {
        "colab": {
          "base_uri": "https://localhost:8080/"
        },
        "id": "ad-UGTuAxdoz",
        "outputId": "f80e88f2-474a-4bea-9b29-4476438798e0"
      },
      "outputs": [
        {
          "name": "stdout",
          "output_type": "stream",
          "text": [
            "{'audio': {'path': 'E:/rap_rec/dataset_cleaned_sep/train/chunk_0.mp3', 'array': array([ 0.00000000e+00,  1.46443085e-09,  1.37479139e-09, ...,\n",
            "       -3.44191722e-05, -3.44486587e-04, -3.17874277e-04]), 'sampling_rate': 44100}, 'lyrics': 'Wait wait a minute'}\n"
          ]
        },
        {
          "data": {
            "text/plain": [
              "datasets.arrow_dataset.Dataset"
            ]
          },
          "execution_count": 5,
          "metadata": {},
          "output_type": "execute_result"
        }
      ],
      "source": [
        "print(timit['train'][0])\n",
        "type(timit['train'])"
      ]
    },
    {
      "cell_type": "code",
      "execution_count": null,
      "metadata": {
        "id": "72737oog2F6U"
      },
      "outputs": [],
      "source": [
        "from datasets import ClassLabel\n",
        "import random\n",
        "import pandas as pd\n",
        "from IPython.display import display, HTML\n",
        "\n",
        "def show_random_elements(dataset, num_examples=10):\n",
        "    assert num_examples <= len(dataset), \"Can't pick more elements than there are in the dataset.\"\n",
        "    picks = []\n",
        "    for _ in range(num_examples):\n",
        "        pick = random.randint(0, len(dataset)-1)\n",
        "        while pick in picks:\n",
        "            pick = random.randint(0, len(dataset)-1)\n",
        "        picks.append(pick)\n",
        "\n",
        "    df = pd.DataFrame(dataset[picks])\n",
        "    display(HTML(df.to_html()))"
      ]
    },
    {
      "cell_type": "code",
      "execution_count": null,
      "metadata": {
        "colab": {
          "base_uri": "https://localhost:8080/",
          "height": 363
        },
        "id": "K_JUmf3G3b9S",
        "outputId": "c2d7b295-cbf3-4bf8-e6d3-4d512835c492"
      },
      "outputs": [
        {
          "data": {
            "text/html": [
              "<table border=\"1\" class=\"dataframe\">\n",
              "  <thead>\n",
              "    <tr style=\"text-align: right;\">\n",
              "      <th></th>\n",
              "      <th>lyrics</th>\n",
              "    </tr>\n",
              "  </thead>\n",
              "  <tbody>\n",
              "    <tr>\n",
              "      <th>0</th>\n",
              "      <td>I needed me a die or ride or I need me the one</td>\n",
              "    </tr>\n",
              "    <tr>\n",
              "      <th>1</th>\n",
              "      <td>I ain't fucked her yesterday yeah</td>\n",
              "    </tr>\n",
              "    <tr>\n",
              "      <th>2</th>\n",
              "      <td>I be discouraged from sharing my blessings</td>\n",
              "    </tr>\n",
              "    <tr>\n",
              "      <th>3</th>\n",
              "      <td>I'm out</td>\n",
              "    </tr>\n",
              "    <tr>\n",
              "      <th>4</th>\n",
              "      <td>I gave her everything</td>\n",
              "    </tr>\n",
              "    <tr>\n",
              "      <th>5</th>\n",
              "      <td>And now they showin' up</td>\n",
              "    </tr>\n",
              "    <tr>\n",
              "      <th>6</th>\n",
              "      <td>I can't get you off my mind now</td>\n",
              "    </tr>\n",
              "    <tr>\n",
              "      <th>7</th>\n",
              "      <td>Shorty when you riding I be wilding</td>\n",
              "    </tr>\n",
              "    <tr>\n",
              "      <th>8</th>\n",
              "      <td>Everyone quick to throw a damn punch</td>\n",
              "    </tr>\n",
              "    <tr>\n",
              "      <th>9</th>\n",
              "      <td>I'm just hangin' in the fight</td>\n",
              "    </tr>\n",
              "  </tbody>\n",
              "</table>"
            ],
            "text/plain": [
              "<IPython.core.display.HTML object>"
            ]
          },
          "metadata": {},
          "output_type": "display_data"
        }
      ],
      "source": [
        "show_random_elements(timit[\"train\"].remove_columns([\"audio\"]), num_examples=10)"
      ]
    },
    {
      "cell_type": "code",
      "execution_count": null,
      "metadata": {
        "id": "svKzVJ_hQGK6"
      },
      "outputs": [],
      "source": [
        "import re\n",
        "chars_to_ignore_regex = '[\\,\\?\\.\\!\\-\\;\\:\\*\\$\\%\\\"]'\n",
        "\n",
        "def remove_special_characters(batch):\n",
        "    from unidecode import unidecode\n",
        "    batch[\"lyrics\"] = unidecode(batch[\"lyrics\"])\n",
        "    batch[\"lyrics\"] = re.sub(chars_to_ignore_regex, '', batch[\"lyrics\"]).lower() + \" \"\n",
        "    # print(type(batch['lyrics']), batch['lyrics'])\n",
        "    trans = (\n",
        "        ('1', 'one'),\n",
        "        ('2', 'two'),\n",
        "        ('3', 'three'),\n",
        "        ('4', 'four'),\n",
        "        ('5', 'five'),\n",
        "        ('6', 'six'),\n",
        "        ('7', 'seven'),\n",
        "        ('8', 'eight'),\n",
        "        ('9', 'nine'),\n",
        "        ('0', 'zero'),\n",
        "    )\n",
        "\n",
        "    for num, word in trans:\n",
        "        batch[\"lyrics\"] = batch[\"lyrics\"].replace(num, word)\n",
        "\n",
        "    return batch"
      ]
    },
    {
      "cell_type": "code",
      "execution_count": null,
      "metadata": {
        "id": "XIHocAuTQbBR"
      },
      "outputs": [],
      "source": [
        "timit = timit.map(remove_special_characters)"
      ]
    },
    {
      "cell_type": "code",
      "execution_count": null,
      "metadata": {
        "colab": {
          "base_uri": "https://localhost:8080/",
          "height": 363
        },
        "id": "RBDRAAYxRE6n",
        "outputId": "fb9f0fc0-72a2-400f-c367-b2ff6abae16d"
      },
      "outputs": [
        {
          "data": {
            "text/html": [
              "<table border=\"1\" class=\"dataframe\">\n",
              "  <thead>\n",
              "    <tr style=\"text-align: right;\">\n",
              "      <th></th>\n",
              "      <th>lyrics</th>\n",
              "    </tr>\n",
              "  </thead>\n",
              "  <tbody>\n",
              "    <tr>\n",
              "      <th>0</th>\n",
              "      <td>but i ended it by saying i was gonna propose to you</td>\n",
              "    </tr>\n",
              "    <tr>\n",
              "      <th>1</th>\n",
              "      <td>jump in the lamb i ain't parkin' it skrr</td>\n",
              "    </tr>\n",
              "    <tr>\n",
              "      <th>2</th>\n",
              "      <td>guess we all made for each other</td>\n",
              "    </tr>\n",
              "    <tr>\n",
              "      <th>3</th>\n",
              "      <td>can't be out here giving out my pussy 'cause you mad</td>\n",
              "    </tr>\n",
              "    <tr>\n",
              "      <th>4</th>\n",
              "      <td>and i'm gettin' rich young nigga bought that coupe ay</td>\n",
              "    </tr>\n",
              "    <tr>\n",
              "      <th>5</th>\n",
              "      <td>know you see me through</td>\n",
              "    </tr>\n",
              "    <tr>\n",
              "      <th>6</th>\n",
              "      <td>smacking your girlie's box she a camel pack whoo</td>\n",
              "    </tr>\n",
              "    <tr>\n",
              "      <th>7</th>\n",
              "      <td>i'm like a exit away yep</td>\n",
              "    </tr>\n",
              "    <tr>\n",
              "      <th>8</th>\n",
              "      <td>she think i'm a asshole</td>\n",
              "    </tr>\n",
              "    <tr>\n",
              "      <th>9</th>\n",
              "      <td>i'll be your best friend and you'll be my missus</td>\n",
              "    </tr>\n",
              "  </tbody>\n",
              "</table>"
            ],
            "text/plain": [
              "<IPython.core.display.HTML object>"
            ]
          },
          "metadata": {},
          "output_type": "display_data"
        }
      ],
      "source": [
        "show_random_elements(timit[\"train\"].remove_columns([\"audio\"]))"
      ]
    },
    {
      "cell_type": "code",
      "execution_count": null,
      "metadata": {
        "id": "LwCshNbbeRZR"
      },
      "outputs": [],
      "source": [
        "def extract_all_chars(batch):\n",
        "  all_text = \" \".join(batch[\"lyrics\"])\n",
        "  vocab = list(set(all_text))\n",
        "  return {\"vocab\": [vocab], \"all_text\": [all_text]}"
      ]
    },
    {
      "cell_type": "code",
      "execution_count": null,
      "metadata": {
        "colab": {
          "base_uri": "https://localhost:8080/",
          "height": 81,
          "referenced_widgets": [
            "6bf50ec5270146fbb65295a4c9ad0f5c",
            "d038c851f2cb4b6b959c20d48a12d1e5",
            "5015ce9ea74645e08981cfee5ec4d3dd",
            "f53a99cde06c4267b30836882449bfb8",
            "e88d15667dd5452baf6f938af4abf3c5",
            "9f21d2ded83d45978501552936061227",
            "ef4dd6915b8e473fb0fd366b8867c477",
            "2b0ff2c13e5b4346a1e6e7a2819fdbdb",
            "7715c0a355204574b96f437f0c7ac0e7",
            "7b5993a3277a494d9cf2ac5e15fac177",
            "f07487b29d484324a5cfef2ad456fca1",
            "95e46641b99242ff921e992fc1215bb1",
            "e85ad0683fef42619591984046f9d053",
            "f27277d94c814998b0d553a075d3d632",
            "2db8b405dce844d6a064055aab69dfe4",
            "17e727913096415f9e0fa4e8173d2d55",
            "865c9ec9e7ef4161a53ef1f81ab95c10",
            "13c8182a38af4f3bb8f4497c2da395b1",
            "d3b761c4e2634e3eb6bd3c2288e2a818",
            "e7db16c156834a2784ada70e4f085c3c",
            "fa56b7977ad4450497f3a6883bd7f686",
            "79e3276eb0fe42e5bac4f25f1ba00c8a"
          ]
        },
        "id": "_m6uUjjcfbjH",
        "outputId": "c414c0b7-768f-4eda-99e8-a8a773ed78f4"
      },
      "outputs": [
        {
          "name": "stderr",
          "output_type": "stream",
          "text": [
            "Map: 100%|██████████| 12532/12532 [00:00<00:00, 119375.67 examples/s]\n",
            "Map: 100%|██████████| 3085/3085 [00:00<00:00, 35726.12 examples/s]\n"
          ]
        }
      ],
      "source": [
        "vocabs = timit.map(\n",
        "  extract_all_chars,\n",
        "  batched=True,\n",
        "  batch_size=-1,\n",
        "  keep_in_memory=True,\n",
        "  remove_columns=timit.column_names[\"train\"]\n",
        ")"
      ]
    },
    {
      "cell_type": "code",
      "execution_count": null,
      "metadata": {
        "id": "aQfneNsmlJI0"
      },
      "outputs": [],
      "source": [
        "vocab_list = list(set(vocabs[\"train\"][\"vocab\"][0]) | set(vocabs[\"test\"][\"vocab\"][0]))"
      ]
    },
    {
      "cell_type": "code",
      "execution_count": null,
      "metadata": {
        "colab": {
          "base_uri": "https://localhost:8080/"
        },
        "id": "_0kRndSvqaKk",
        "outputId": "55694f4a-3c18-4e89-99f3-69e747102cb5"
      },
      "outputs": [
        {
          "data": {
            "text/plain": [
              "{'s': 0,\n",
              " 'b': 1,\n",
              " 'i': 2,\n",
              " 'o': 3,\n",
              " 'w': 4,\n",
              " 'a': 5,\n",
              " 'e': 6,\n",
              " '(': 7,\n",
              " 'f': 8,\n",
              " 'm': 9,\n",
              " 'j': 10,\n",
              " 'q': 11,\n",
              " 'd': 12,\n",
              " 'u': 13,\n",
              " 'h': 14,\n",
              " 'n': 15,\n",
              " 'v': 16,\n",
              " 'p': 17,\n",
              " 'l': 18,\n",
              " 'r': 19,\n",
              " \"'\": 20,\n",
              " 'x': 21,\n",
              " 'k': 22,\n",
              " 'z': 23,\n",
              " 'y': 24,\n",
              " 'c': 25,\n",
              " ' ': 26,\n",
              " 'g': 27,\n",
              " '/': 28,\n",
              " 't': 29}"
            ]
          },
          "execution_count": 14,
          "metadata": {},
          "output_type": "execute_result"
        }
      ],
      "source": [
        "vocab_dict = {v: k for k, v in enumerate(vocab_list)}\n",
        "vocab_dict"
      ]
    },
    {
      "cell_type": "code",
      "execution_count": null,
      "metadata": {
        "id": "npbIbBoLgaFX"
      },
      "outputs": [],
      "source": [
        "vocab_dict[\"|\"] = vocab_dict[\" \"]\n",
        "del vocab_dict[\" \"]"
      ]
    },
    {
      "cell_type": "code",
      "execution_count": null,
      "metadata": {
        "colab": {
          "base_uri": "https://localhost:8080/"
        },
        "id": "znF0bNunsjbl",
        "outputId": "243dced3-b402-4a76-9a20-1310b3b2e17c"
      },
      "outputs": [
        {
          "data": {
            "text/plain": [
              "32"
            ]
          },
          "execution_count": 16,
          "metadata": {},
          "output_type": "execute_result"
        }
      ],
      "source": [
        "vocab_dict[\"[UNK]\"] = len(vocab_dict)\n",
        "vocab_dict[\"[PAD]\"] = len(vocab_dict)\n",
        "len(vocab_dict)"
      ]
    },
    {
      "cell_type": "code",
      "execution_count": null,
      "metadata": {
        "id": "ehyUoh9vk191"
      },
      "outputs": [],
      "source": [
        "import json\n",
        "with open('vocab.json', 'w') as vocab_file:\n",
        "    json.dump(vocab_dict, vocab_file)"
      ]
    },
    {
      "cell_type": "code",
      "execution_count": null,
      "metadata": {
        "colab": {
          "base_uri": "https://localhost:8080/",
          "height": 104,
          "referenced_widgets": [
            "1c18254ffcbb45cf9cb93d6aa667fee0",
            "0da943e0515a4389856adcd06b2ca262",
            "db9de2a8785241bd83db63167916463e",
            "856680471e4947bf9e1635b16593b0a2",
            "968f642857404f47ba8f11584572835c",
            "10a9509ceaa2496cbf942db11fb6e326",
            "341e616f4b864f4796631b697f4b2934",
            "20cf31210cfa41dcb4743f542fddd855",
            "4890cf39f2894e0d9ef367d02768d81b",
            "19c5fdd96e0b42dd913107fda26c1af9",
            "51f13f215d1c426489234f6d56245ec3"
          ]
        },
        "id": "Sx5010dnDTz1",
        "outputId": "67c1819b-7e83-4de6-a2eb-718cb18f5d96"
      },
      "outputs": [
        {
          "name": "stderr",
          "output_type": "stream",
          "text": [
            "c:\\Users\\wbsgus\\anaconda3\\envs\\rap\\lib\\site-packages\\transformers\\configuration_utils.py:381: UserWarning: Passing `gradient_checkpointing` to a config initialization is deprecated and will be removed in v5 Transformers. Using `model.gradient_checkpointing_enable()` instead, or if you are using the `Trainer` API, pass `gradient_checkpointing=True` in your `TrainingArguments`.\n",
            "  warnings.warn(\n"
          ]
        }
      ],
      "source": [
        "from transformers import AutoConfig\n",
        "\n",
        "config = AutoConfig.from_pretrained(model_checkpoint)\n",
        "\n",
        "tokenizer_type = config.model_type if config.tokenizer_class is None else None\n",
        "config = config if config.tokenizer_class is not None else None"
      ]
    },
    {
      "cell_type": "code",
      "execution_count": null,
      "metadata": {
        "colab": {
          "base_uri": "https://localhost:8080/"
        },
        "id": "xriFGEWQkO4M",
        "outputId": "47d05cdd-7fef-4965-ebf7-385603e105d9"
      },
      "outputs": [
        {
          "name": "stderr",
          "output_type": "stream",
          "text": [
            "`use_fast` is set to `True` but the tokenizer class does not have a fast version.  Falling back to the slow version.\n"
          ]
        }
      ],
      "source": [
        "from transformers import AutoTokenizer\n",
        "\n",
        "tokenizer = AutoTokenizer.from_pretrained(\n",
        "  \"./\",\n",
        "  config=config,\n",
        "  tokenizer_type=tokenizer_type,\n",
        "  unk_token=\"[UNK]\",\n",
        "  pad_token=\"[PAD]\",\n",
        "  word_delimiter_token=\"|\",\n",
        ")"
      ]
    },
    {
      "cell_type": "code",
      "execution_count": null,
      "metadata": {
        "id": "1mbffBdxIl0M"
      },
      "outputs": [],
      "source": [
        "model_checkpoint_name = model_checkpoint.split(\"/\")[-1]"
      ]
    },
    {
      "cell_type": "markdown",
      "metadata": {
        "id": "YFmShnl7RE35"
      },
      "source": [
        "### Preprocess Data"
      ]
    },
    {
      "cell_type": "code",
      "execution_count": null,
      "metadata": {
        "id": "TTCS7W6XJ9BG"
      },
      "outputs": [],
      "source": [
        "# timit[\"train\"][0][\"file\"]"
      ]
    },
    {
      "cell_type": "code",
      "execution_count": null,
      "metadata": {
        "colab": {
          "base_uri": "https://localhost:8080/"
        },
        "id": "mk9QHuSsN7lf",
        "outputId": "85546070-4108-4cdb-8a19-baab6d65d737"
      },
      "outputs": [
        {
          "data": {
            "text/plain": [
              "{'path': 'E:/rap_rec/dataset_cleaned_sep/train/chunk_0.mp3',\n",
              " 'array': array([ 0.00000000e+00,  1.46443085e-09,  1.37479139e-09, ...,\n",
              "        -3.44191722e-05, -3.44486587e-04, -3.17874277e-04]),\n",
              " 'sampling_rate': 44100}"
            ]
          },
          "execution_count": 22,
          "metadata": {},
          "output_type": "execute_result"
        }
      ],
      "source": [
        "timit[\"train\"][0][\"audio\"]"
      ]
    },
    {
      "cell_type": "code",
      "execution_count": null,
      "metadata": {
        "colab": {
          "base_uri": "https://localhost:8080/",
          "height": 93
        },
        "id": "dueM6U7Ev0OA",
        "outputId": "6ab30537-e31a-495b-dfe6-06f2473af53f"
      },
      "outputs": [
        {
          "name": "stdout",
          "output_type": "stream",
          "text": [
            "don't tell me to calm down \n"
          ]
        },
        {
          "data": {
            "text/html": [
              "\n",
              "                <audio  controls=\"controls\" autoplay=\"autoplay\">\n",
              "                    <source src=\"data:audio/wav;base64,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\" type=\"audio/wav\" />\n",
              "                    Your browser does not support the audio element.\n",
              "                </audio>\n",
              "              "
            ],
            "text/plain": [
              "<IPython.lib.display.Audio object>"
            ]
          },
          "execution_count": 23,
          "metadata": {},
          "output_type": "execute_result"
        }
      ],
      "source": [
        "import IPython.display as ipd\n",
        "import numpy as np\n",
        "import random\n",
        "\n",
        "rand_int = random.randint(0, len(timit[\"train\"]))\n",
        "\n",
        "print(timit[\"train\"][rand_int][\"lyrics\"])\n",
        "ipd.Audio(data=np.asarray(timit[\"train\"][rand_int][\"audio\"][\"array\"]), autoplay=True, rate=44100)"
      ]
    },
    {
      "cell_type": "code",
      "execution_count": null,
      "metadata": {
        "colab": {
          "base_uri": "https://localhost:8080/",
          "height": 75
        },
        "id": "fKIjuqcV0X5R",
        "outputId": "01573f62-38be-4842-f5aa-c8c2d9b4dd01"
      },
      "outputs": [
        {
          "data": {
            "text/html": [
              "\n",
              "                <audio  controls=\"controls\" autoplay=\"autoplay\">\n",
              "                    <source src=\"data:audio/wav;base64,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\" type=\"audio/wav\" />\n",
              "                    Your browser does not support the audio element.\n",
              "                </audio>\n",
              "              "
            ],
            "text/plain": [
              "<IPython.lib.display.Audio object>"
            ]
          },
          "execution_count": 24,
          "metadata": {},
          "output_type": "execute_result"
        }
      ],
      "source": [
        "import librosa\n",
        "_data = librosa.resample(timit[\"train\"][rand_int][\"audio\"][\"array\"], orig_sr=44100, target_sr=16000)\n",
        "ipd.Audio(data=_data, autoplay=True, rate=16000)"
      ]
    },
    {
      "cell_type": "code",
      "execution_count": null,
      "metadata": {
        "colab": {
          "base_uri": "https://localhost:8080/"
        },
        "id": "1Po2g7YPuRTx",
        "outputId": "53d4b88b-f07b-43d6-b3a2-35397338af7b"
      },
      "outputs": [
        {
          "name": "stdout",
          "output_type": "stream",
          "text": [
            "Target text: ten week i been top tennin' \n",
            "Input array shape: (77184,)\n",
            "Sampling rate: 44100\n"
          ]
        }
      ],
      "source": [
        "rand_int = random.randint(0, len(timit[\"train\"]))\n",
        "\n",
        "print(\"Target text:\", timit[\"train\"][rand_int][\"lyrics\"])\n",
        "print(\"Input array shape:\", np.asarray(timit[\"train\"][rand_int][\"audio\"][\"array\"]).shape)\n",
        "print(\"Sampling rate:\", timit[\"train\"][rand_int][\"audio\"][\"sampling_rate\"])"
      ]
    },
    {
      "cell_type": "code",
      "execution_count": null,
      "metadata": {
        "id": "FFQCC3A9vz2r"
      },
      "outputs": [],
      "source": [
        "from transformers import AutoFeatureExtractor\n",
        "\n",
        "feature_extractor = AutoFeatureExtractor.from_pretrained(model_checkpoint)"
      ]
    },
    {
      "cell_type": "code",
      "execution_count": null,
      "metadata": {
        "id": "d-EuXD_rv7FP"
      },
      "outputs": [],
      "source": [
        "from transformers import Wav2Vec2Processor\n",
        "\n",
        "processor = Wav2Vec2Processor(feature_extractor=feature_extractor, tokenizer=tokenizer)"
      ]
    },
    {
      "cell_type": "code",
      "execution_count": null,
      "metadata": {
        "id": "eJY7I0XAwe9p"
      },
      "outputs": [],
      "source": [
        "def prepare_dataset(batch, processor=processor):\n",
        "    import librosa\n",
        "    audio = batch[\"audio\"]\n",
        "    wave = librosa.resample(audio['array'], orig_sr=44100, target_sr=16000)\n",
        "\n",
        "    # batched output is \"un-batched\" to ensure mapping is correct\n",
        "    batch[\"input_values\"] = processor(wave, sampling_rate=16000).input_values[0]\n",
        "    batch[\"input_length\"] = len(batch[\"input_values\"])\n",
        "\n",
        "    with processor.as_target_processor():\n",
        "        batch[\"labels\"] = processor(batch[\"lyrics\"]).input_ids\n",
        "    return batch"
      ]
    },
    {
      "cell_type": "code",
      "execution_count": null,
      "metadata": {
        "colab": {
          "base_uri": "https://localhost:8080/"
        },
        "id": "o6N0tLgv1IBd",
        "outputId": "a0326461-12d2-4c7d-d9ec-903e463743db"
      },
      "outputs": [
        {
          "data": {
            "text/plain": [
              "{'train': ['audio', 'lyrics'], 'test': ['audio', 'lyrics']}"
            ]
          },
          "execution_count": 29,
          "metadata": {},
          "output_type": "execute_result"
        }
      ],
      "source": [
        "# dir(timit)\n",
        "timit.column_names"
      ]
    },
    {
      "cell_type": "code",
      "execution_count": null,
      "metadata": {
        "colab": {
          "base_uri": "https://localhost:8080/",
          "height": 755,
          "referenced_widgets": [
            "ba14cfa319ce4a3e88ac54980db53f16",
            "12f48e80cfc448e88c7427cb4ec39cc1",
            "5a5d394bc3564b049545fc55136a19ef",
            "112afa4e5dba437ba22a4c88bcceb6cd",
            "b6b7837e64ec436c881ce739c3c2db5a",
            "fb2312cc2c794a1caaadd6bb36b4d9f7",
            "08df285de7fd46e9991c0173326d474f",
            "e183c219fdbc48faad4f594a3916614c",
            "10eedbd403e24bc4b3bba68a67094ba6",
            "4d76d58e57414847a69977b192430acc",
            "5b7af6695468486e8e66609907fb6f7d"
          ]
        },
        "id": "-np9xYK-wl8q",
        "outputId": "14053e1c-5c3d-4c8a-9d85-154a73fbe7ee"
      },
      "outputs": [
        {
          "name": "stderr",
          "output_type": "stream",
          "text": [
            "Map (num_proc=4): 100%|██████████| 12532/12532 [00:18<00:00, 684.36 examples/s] \n",
            "Map (num_proc=4): 100%|██████████| 3085/3085 [00:08<00:00, 376.68 examples/s] \n"
          ]
        }
      ],
      "source": [
        "timit = timit.map(prepare_dataset, remove_columns=[\"audio\", \"lyrics\"], num_proc=4)"
      ]
    },
    {
      "cell_type": "code",
      "execution_count": null,
      "metadata": {
        "id": "nqGobEPUvG3v",
        "outputId": "20df22b6-9564-4fac-e5b3-33ef20fa40e8"
      },
      "outputs": [
        {
          "name": "stderr",
          "output_type": "stream",
          "text": [
            "Filter: 100%|██████████| 12532/12532 [00:00<00:00, 624842.70 examples/s]\n",
            "Filter: 100%|██████████| 12201/12201 [00:00<00:00, 236966.00 examples/s]\n",
            "Filter: 100%|██████████| 3085/3085 [00:00<00:00, 338693.01 examples/s]\n",
            "Filter: 100%|██████████| 2915/2915 [00:00<00:00, 170533.46 examples/s]\n"
          ]
        }
      ],
      "source": [
        "max_input_length_in_sec = 4.0\n",
        "min_input_length_in_sec = 1.0\n",
        "timit[\"train\"] = timit[\"train\"].filter(lambda x: x < max_input_length_in_sec * processor.feature_extractor.sampling_rate, input_columns=[\"input_length\"])\n",
        "timit[\"train\"] = timit[\"train\"].filter(lambda x: x >= min_input_length_in_sec * processor.feature_extractor.sampling_rate, input_columns=[\"input_length\"])\n",
        "timit[\"test\"] = timit[\"test\"].filter(lambda x: x < max_input_length_in_sec * processor.feature_extractor.sampling_rate, input_columns=[\"input_length\"])\n",
        "timit[\"test\"] = timit[\"test\"].filter(lambda x: x >= min_input_length_in_sec * processor.feature_extractor.sampling_rate, input_columns=[\"input_length\"])"
      ]
    },
    {
      "cell_type": "markdown",
      "metadata": {
        "id": "gYlQkKVoRUos"
      },
      "source": [
        "## Training\n",
        "\n",
        "The data is processed so that we are ready to start setting up the training pipeline. We will make use of 🤗's [Trainer](https://huggingface.co/transformers/master/main_classes/trainer.html?highlight=trainer) for which we essentially need to do the following:\n",
        "\n"
      ]
    },
    {
      "cell_type": "markdown",
      "metadata": {
        "id": "Slk403unUS91"
      },
      "source": [
        "### Set-up Trainer\n",
        "\n",
        "Let's start by defining the data collator. The code for the data collator was copied from [this example](https://github.com/huggingface/transformers/blob/9a06b6b11bdfc42eea08fa91d0c737d1863c99e3/examples/research_projects/wav2vec2/run_asr.py#L81)."
      ]
    },
    {
      "cell_type": "code",
      "execution_count": null,
      "metadata": {
        "id": "tborvC9hx88e"
      },
      "outputs": [],
      "source": [
        "from dataclasses import dataclass, field\n",
        "from typing import Any, Dict, List, Optional, Union\n",
        "\n",
        "@dataclass\n",
        "class DataCollatorCTCWithPadding:\n",
        "    \"\"\"\n",
        "    Data collator that will dynamically pad the inputs received.\n",
        "    Args:\n",
        "        processor (:class:`~transformers.Wav2Vec2Processor`)\n",
        "            The processor used for proccessing the data.\n",
        "        padding (:obj:`bool`, :obj:`str` or :class:`~transformers.tokenization_utils_base.PaddingStrategy`, `optional`, defaults to :obj:`True`):\n",
        "            Select a strategy to pad the returned sequences (according to the model's padding side and padding index)\n",
        "            among:\n",
        "            * :obj:`True` or :obj:`'longest'`: Pad to the longest sequence in the batch (or no padding if only a single\n",
        "              sequence if provided).\n",
        "            * :obj:`'max_length'`: Pad to a maximum length specified with the argument :obj:`max_length` or to the\n",
        "              maximum acceptable input length for the model if that argument is not provided.\n",
        "            * :obj:`False` or :obj:`'do_not_pad'` (default): No padding (i.e., can output a batch with sequences of\n",
        "              different lengths).\n",
        "        max_length (:obj:`int`, `optional`):\n",
        "            Maximum length of the ``input_values`` of the returned list and optionally padding length (see above).\n",
        "        max_length_labels (:obj:`int`, `optional`):\n",
        "            Maximum length of the ``labels`` returned list and optionally padding length (see above).\n",
        "        pad_to_multiple_of (:obj:`int`, `optional`):\n",
        "            If set will pad the sequence to a multiple of the provided value.\n",
        "            This is especially useful to enable the use of Tensor Cores on NVIDIA hardware with compute capability >=\n",
        "            7.5 (Volta).\n",
        "    \"\"\"\n",
        "\n",
        "    processor: Wav2Vec2Processor\n",
        "    padding: Union[bool, str] = True\n",
        "    max_length: Optional[int] = None\n",
        "    max_length_labels: Optional[int] = None\n",
        "    pad_to_multiple_of: Optional[int] = None\n",
        "    pad_to_multiple_of_labels: Optional[int] = None\n",
        "\n",
        "    def __call__(self, features: List[Dict[str, Union[List[int], torch.Tensor]]]) -> Dict[str, torch.Tensor]:\n",
        "        # split inputs and labels since they have to be of different lenghts and need\n",
        "        # different padding methods\n",
        "        input_features = [{\"input_values\": feature[\"input_values\"]} for feature in features]\n",
        "        label_features = [{\"input_ids\": feature[\"labels\"]} for feature in features]\n",
        "\n",
        "        batch = self.processor.pad(\n",
        "            input_features,\n",
        "            padding=self.padding,\n",
        "            max_length=self.max_length,\n",
        "            pad_to_multiple_of=self.pad_to_multiple_of,\n",
        "            return_tensors=\"pt\",\n",
        "        )\n",
        "        with self.processor.as_target_processor():\n",
        "            labels_batch = self.processor.pad(\n",
        "                label_features,\n",
        "                padding=self.padding,\n",
        "                max_length=self.max_length_labels,\n",
        "                pad_to_multiple_of=self.pad_to_multiple_of_labels,\n",
        "                return_tensors=\"pt\",\n",
        "            )\n",
        "\n",
        "        # replace padding with -100 to ignore loss correctly\n",
        "        labels = labels_batch[\"input_ids\"].masked_fill(labels_batch.attention_mask.ne(1), -100)\n",
        "\n",
        "        batch[\"labels\"] = labels\n",
        "\n",
        "        return batch"
      ]
    },
    {
      "cell_type": "code",
      "execution_count": null,
      "metadata": {
        "id": "lbQf5GuZyQ4_"
      },
      "outputs": [],
      "source": [
        "data_collator = DataCollatorCTCWithPadding(processor=processor, padding=True)"
      ]
    },
    {
      "cell_type": "code",
      "execution_count": null,
      "metadata": {
        "id": "9Xsux2gmyXso",
        "outputId": "90ec8f82-2bb6-4ba1-fc36-c487110a1eb3"
      },
      "outputs": [
        {
          "name": "stderr",
          "output_type": "stream",
          "text": [
            "C:\\Users\\wbsgus\\AppData\\Local\\Temp\\ipykernel_19604\\24688115.py:1: FutureWarning: load_metric is deprecated and will be removed in the next major version of datasets. Use 'evaluate.load' instead, from the new library 🤗 Evaluate: https://huggingface.co/docs/evaluate\n",
            "  wer_metric = load_metric(\"wer\")\n"
          ]
        }
      ],
      "source": [
        "wer_metric = load_metric(\"wer\")"
      ]
    },
    {
      "cell_type": "code",
      "execution_count": null,
      "metadata": {
        "id": "1XZ-kjweyTy_"
      },
      "outputs": [],
      "source": [
        "def compute_metrics(pred):\n",
        "    pred_logits = pred.predictions\n",
        "    pred_ids = np.argmax(pred_logits, axis=-1)\n",
        "\n",
        "    pred.label_ids[pred.label_ids == -100] = processor.tokenizer.pad_token_id\n",
        "\n",
        "    pred_str = processor.batch_decode(pred_ids)\n",
        "    # we do not want to group tokens when computing the metrics\n",
        "    lyrics_str = processor.batch_decode(pred.label_ids, group_tokens=False)\n",
        "\n",
        "    wer = wer_metric.compute(predictions=pred_str, references=lyrics_str)\n",
        "\n",
        "    return {\"wer\": wer}"
      ]
    },
    {
      "cell_type": "code",
      "execution_count": null,
      "metadata": {
        "id": "e7cqAWIayn6w",
        "outputId": "1afead94-2bd6-47c7-8cea-c3b956636ed0"
      },
      "outputs": [
        {
          "name": "stderr",
          "output_type": "stream",
          "text": [
            "c:\\Users\\wbsgus\\anaconda3\\envs\\rap\\lib\\site-packages\\transformers\\configuration_utils.py:381: UserWarning: Passing `gradient_checkpointing` to a config initialization is deprecated and will be removed in v5 Transformers. Using `model.gradient_checkpointing_enable()` instead, or if you are using the `Trainer` API, pass `gradient_checkpointing=True` in your `TrainingArguments`.\n",
            "  warnings.warn(\n",
            "Some weights of Wav2Vec2ForCTC were not initialized from the model checkpoint at facebook/wav2vec2-base and are newly initialized: ['wav2vec2.encoder.pos_conv_embed.conv.parametrizations.weight.original0', 'lm_head.bias', 'lm_head.weight', 'wav2vec2.encoder.pos_conv_embed.conv.parametrizations.weight.original1']\n",
            "You should probably TRAIN this model on a down-stream task to be able to use it for predictions and inference.\n"
          ]
        }
      ],
      "source": [
        "from transformers import AutoModelForCTC\n",
        "\n",
        "model = AutoModelForCTC.from_pretrained(\n",
        "    model_checkpoint,\n",
        "    ctc_loss_reduction=\"mean\",\n",
        "    pad_token_id=processor.tokenizer.pad_token_id,\n",
        ")"
      ]
    },
    {
      "cell_type": "code",
      "execution_count": null,
      "metadata": {
        "id": "KbeKSV7uzGPP"
      },
      "outputs": [],
      "source": [
        "from transformers import TrainingArguments\n",
        "\n",
        "training_args = TrainingArguments(\n",
        "  output_dir='output',\n",
        "  group_by_length=True,\n",
        "  per_device_train_batch_size=32,\n",
        "  evaluation_strategy=\"steps\",\n",
        "  # num_train_epochs=30,\n",
        "  num_train_epochs=20,\n",
        "  fp16=True,\n",
        "  gradient_checkpointing=True,\n",
        "  save_steps=500,\n",
        "  eval_steps=500,\n",
        "  logging_steps=500,\n",
        "  learning_rate=1e-4,\n",
        "  # learning_rate=1e-5,\n",
        "  weight_decay=0.001,\n",
        "  warmup_steps=1000,\n",
        "  save_total_limit=2,\n",
        ")"
      ]
    },
    {
      "cell_type": "code",
      "execution_count": null,
      "metadata": {
        "id": "rY7vBmFCPFgC"
      },
      "outputs": [],
      "source": [
        "from transformers import Trainer\n",
        "\n",
        "trainer = Trainer(\n",
        "    model=model,\n",
        "    data_collator=data_collator,\n",
        "    args=training_args,\n",
        "    compute_metrics=compute_metrics,\n",
        "    train_dataset=timit[\"train\"],\n",
        "    eval_dataset=timit[\"test\"],\n",
        "    tokenizer=processor.feature_extractor,\n",
        ")"
      ]
    },
    {
      "cell_type": "markdown",
      "metadata": {
        "id": "rpvZHM1xReIW"
      },
      "source": [
        "### Training"
      ]
    },
    {
      "cell_type": "code",
      "execution_count": null,
      "metadata": {
        "id": "_UEjJqGsQw24",
        "outputId": "83d36dd2-a1b5-4ee4-ba58-4829e090ef9b"
      },
      "outputs": [
        {
          "name": "stderr",
          "output_type": "stream",
          "text": [
            "  8%|▊         | 500/6560 [07:44<42:08,  2.40it/s]  "
          ]
        },
        {
          "name": "stdout",
          "output_type": "stream",
          "text": [
            "{'loss': 3.8355, 'learning_rate': 4.93e-05, 'epoch': 1.52}\n"
          ]
        },
        {
          "name": "stderr",
          "output_type": "stream",
          "text": [
            "                                                  \n",
            "  8%|▊         | 500/6560 [08:20<42:08,  2.40it/s]"
          ]
        },
        {
          "name": "stdout",
          "output_type": "stream",
          "text": [
            "{'eval_loss': 3.014528751373291, 'eval_wer': 1.0, 'eval_runtime': 36.4003, 'eval_samples_per_second': 66.181, 'eval_steps_per_second': 8.297, 'epoch': 1.52}\n"
          ]
        },
        {
          "name": "stderr",
          "output_type": "stream",
          "text": [
            " 15%|█▌        | 1000/6560 [11:35<41:20,  2.24it/s]  "
          ]
        },
        {
          "name": "stdout",
          "output_type": "stream",
          "text": [
            "{'loss': 2.7178, 'learning_rate': 9.93e-05, 'epoch': 3.05}\n"
          ]
        },
        {
          "name": "stderr",
          "output_type": "stream",
          "text": [
            "                                                   \n",
            " 15%|█▌        | 1000/6560 [12:08<41:20,  2.24it/s]"
          ]
        },
        {
          "name": "stdout",
          "output_type": "stream",
          "text": [
            "{'eval_loss': 2.196859121322632, 'eval_wer': 1.0461328289197143, 'eval_runtime': 32.3455, 'eval_samples_per_second': 74.477, 'eval_steps_per_second': 9.337, 'epoch': 3.05}\n"
          ]
        },
        {
          "name": "stderr",
          "output_type": "stream",
          "text": [
            " 23%|██▎       | 1500/6560 [15:22<26:03,  3.24it/s]   "
          ]
        },
        {
          "name": "stdout",
          "output_type": "stream",
          "text": [
            "{'loss': 2.0911, 'learning_rate': 9.113309352517985e-05, 'epoch': 4.57}\n"
          ]
        },
        {
          "name": "stderr",
          "output_type": "stream",
          "text": [
            "                                                   \n",
            " 23%|██▎       | 1500/6560 [15:55<26:03,  3.24it/s]"
          ]
        },
        {
          "name": "stdout",
          "output_type": "stream",
          "text": [
            "{'eval_loss': 2.077099323272705, 'eval_wer': 0.9114649012189996, 'eval_runtime': 32.4409, 'eval_samples_per_second': 74.258, 'eval_steps_per_second': 9.309, 'epoch': 4.57}\n"
          ]
        },
        {
          "name": "stderr",
          "output_type": "stream",
          "text": [
            " 30%|███       | 2000/6560 [19:09<25:25,  2.99it/s]   "
          ]
        },
        {
          "name": "stdout",
          "output_type": "stream",
          "text": [
            "{'loss': 1.7798, 'learning_rate': 8.214028776978418e-05, 'epoch': 6.1}\n"
          ]
        },
        {
          "name": "stderr",
          "output_type": "stream",
          "text": [
            "                                                   \n",
            " 30%|███       | 2000/6560 [19:41<25:25,  2.99it/s]"
          ]
        },
        {
          "name": "stdout",
          "output_type": "stream",
          "text": [
            "{'eval_loss': 1.9805469512939453, 'eval_wer': 0.8843526691887348, 'eval_runtime': 32.3388, 'eval_samples_per_second': 74.492, 'eval_steps_per_second': 9.339, 'epoch': 6.1}\n"
          ]
        },
        {
          "name": "stderr",
          "output_type": "stream",
          "text": [
            " 38%|███▊      | 2500/6560 [22:56<35:44,  1.89it/s]   "
          ]
        },
        {
          "name": "stdout",
          "output_type": "stream",
          "text": [
            "{'loss': 1.582, 'learning_rate': 7.31474820143885e-05, 'epoch': 7.62}\n"
          ]
        },
        {
          "name": "stderr",
          "output_type": "stream",
          "text": [
            "                                                   \n",
            " 38%|███▊      | 2500/6560 [23:28<35:44,  1.89it/s]"
          ]
        },
        {
          "name": "stdout",
          "output_type": "stream",
          "text": [
            "{'eval_loss': 1.9301022291183472, 'eval_wer': 0.8454182429592265, 'eval_runtime': 32.2446, 'eval_samples_per_second': 74.71, 'eval_steps_per_second': 9.366, 'epoch': 7.62}\n"
          ]
        },
        {
          "name": "stderr",
          "output_type": "stream",
          "text": [
            " 46%|████▌     | 3000/6560 [26:43<14:41,  4.04it/s]   "
          ]
        },
        {
          "name": "stdout",
          "output_type": "stream",
          "text": [
            "{'loss': 1.4363, 'learning_rate': 6.415467625899281e-05, 'epoch': 9.15}\n"
          ]
        },
        {
          "name": "stderr",
          "output_type": "stream",
          "text": [
            "                                                   \n",
            " 46%|████▌     | 3000/6560 [27:15<14:41,  4.04it/s]"
          ]
        },
        {
          "name": "stdout",
          "output_type": "stream",
          "text": [
            "{'eval_loss': 1.8887971639633179, 'eval_wer': 0.823192517864649, 'eval_runtime': 32.7575, 'eval_samples_per_second': 73.54, 'eval_steps_per_second': 9.219, 'epoch': 9.15}\n"
          ]
        },
        {
          "name": "stderr",
          "output_type": "stream",
          "text": [
            " 53%|█████▎    | 3500/6560 [30:32<21:01,  2.42it/s]   "
          ]
        },
        {
          "name": "stdout",
          "output_type": "stream",
          "text": [
            "{'loss': 1.2929, 'learning_rate': 5.5161870503597126e-05, 'epoch': 10.67}\n"
          ]
        },
        {
          "name": "stderr",
          "output_type": "stream",
          "text": [
            "                                                   \n",
            " 53%|█████▎    | 3500/6560 [31:04<21:01,  2.42it/s]"
          ]
        },
        {
          "name": "stdout",
          "output_type": "stream",
          "text": [
            "{'eval_loss': 1.9417260885238647, 'eval_wer': 0.8213535098781001, 'eval_runtime': 32.4489, 'eval_samples_per_second': 74.24, 'eval_steps_per_second': 9.307, 'epoch': 10.67}\n"
          ]
        },
        {
          "name": "stderr",
          "output_type": "stream",
          "text": [
            " 61%|██████    | 4000/6560 [34:18<19:23,  2.20it/s]  "
          ]
        },
        {
          "name": "stdout",
          "output_type": "stream",
          "text": [
            "{'loss': 1.2189, 'learning_rate': 4.616906474820144e-05, 'epoch': 12.2}\n"
          ]
        },
        {
          "name": "stderr",
          "output_type": "stream",
          "text": [
            "                                                   \n",
            " 61%|██████    | 4000/6560 [34:51<19:23,  2.20it/s]"
          ]
        },
        {
          "name": "stdout",
          "output_type": "stream",
          "text": [
            "{'eval_loss': 1.9624958038330078, 'eval_wer': 0.807061790668348, 'eval_runtime': 32.528, 'eval_samples_per_second': 74.059, 'eval_steps_per_second': 9.284, 'epoch': 12.2}\n"
          ]
        },
        {
          "name": "stderr",
          "output_type": "stream",
          "text": [
            " 69%|██████▊   | 4500/6560 [38:05<10:43,  3.20it/s]  "
          ]
        },
        {
          "name": "stdout",
          "output_type": "stream",
          "text": [
            "{'loss': 1.1311, 'learning_rate': 3.7176258992805756e-05, 'epoch': 13.72}\n"
          ]
        },
        {
          "name": "stderr",
          "output_type": "stream",
          "text": [
            "                                                   \n",
            " 69%|██████▊   | 4500/6560 [38:38<10:43,  3.20it/s]"
          ]
        },
        {
          "name": "stdout",
          "output_type": "stream",
          "text": [
            "{'eval_loss': 1.852379322052002, 'eval_wer': 0.8146805380411938, 'eval_runtime': 32.4025, 'eval_samples_per_second': 74.346, 'eval_steps_per_second': 9.32, 'epoch': 13.72}\n"
          ]
        },
        {
          "name": "stderr",
          "output_type": "stream",
          "text": [
            " 76%|███████▌  | 5000/6560 [41:52<09:06,  2.86it/s]  "
          ]
        },
        {
          "name": "stdout",
          "output_type": "stream",
          "text": [
            "{'loss': 1.07, 'learning_rate': 2.8201438848920863e-05, 'epoch': 15.24}\n"
          ]
        },
        {
          "name": "stderr",
          "output_type": "stream",
          "text": [
            "                                                   \n",
            " 76%|███████▌  | 5000/6560 [42:25<09:06,  2.86it/s]"
          ]
        },
        {
          "name": "stdout",
          "output_type": "stream",
          "text": [
            "{'eval_loss': 1.9264492988586426, 'eval_wer': 0.7980243799915931, 'eval_runtime': 32.4326, 'eval_samples_per_second': 74.277, 'eval_steps_per_second': 9.312, 'epoch': 15.24}\n"
          ]
        },
        {
          "name": "stderr",
          "output_type": "stream",
          "text": [
            " 84%|████████▍ | 5500/6560 [45:38<08:38,  2.04it/s]  "
          ]
        },
        {
          "name": "stdout",
          "output_type": "stream",
          "text": [
            "{'loss': 1.0162, 'learning_rate': 1.920863309352518e-05, 'epoch': 16.77}\n"
          ]
        },
        {
          "name": "stderr",
          "output_type": "stream",
          "text": [
            "                                                   \n",
            " 84%|████████▍ | 5500/6560 [46:11<08:38,  2.04it/s]"
          ]
        },
        {
          "name": "stdout",
          "output_type": "stream",
          "text": [
            "{'eval_loss': 1.9273512363433838, 'eval_wer': 0.7885666246321984, 'eval_runtime': 32.595, 'eval_samples_per_second': 73.907, 'eval_steps_per_second': 9.265, 'epoch': 16.77}\n"
          ]
        },
        {
          "name": "stderr",
          "output_type": "stream",
          "text": [
            " 91%|█████████▏| 6000/6560 [49:25<02:25,  3.85it/s]  "
          ]
        },
        {
          "name": "stdout",
          "output_type": "stream",
          "text": [
            "{'loss': 0.9661, 'learning_rate': 1.0233812949640289e-05, 'epoch': 18.29}\n"
          ]
        },
        {
          "name": "stderr",
          "output_type": "stream",
          "text": [
            "                                                   \n",
            " 91%|█████████▏| 6000/6560 [49:57<02:25,  3.85it/s]"
          ]
        },
        {
          "name": "stdout",
          "output_type": "stream",
          "text": [
            "{'eval_loss': 2.0427169799804688, 'eval_wer': 0.8008091635140816, 'eval_runtime': 32.7295, 'eval_samples_per_second': 73.603, 'eval_steps_per_second': 9.227, 'epoch': 18.29}\n"
          ]
        },
        {
          "name": "stderr",
          "output_type": "stream",
          "text": [
            " 99%|█████████▉| 6500/6560 [53:14<00:25,  2.32it/s]  "
          ]
        },
        {
          "name": "stdout",
          "output_type": "stream",
          "text": [
            "{'loss': 0.9338, 'learning_rate': 1.2410071942446044e-06, 'epoch': 19.82}\n"
          ]
        },
        {
          "name": "stderr",
          "output_type": "stream",
          "text": [
            "                                                   \n",
            " 99%|█████████▉| 6500/6560 [53:46<00:25,  2.32it/s]"
          ]
        },
        {
          "name": "stdout",
          "output_type": "stream",
          "text": [
            "{'eval_loss': 2.0230443477630615, 'eval_wer': 0.7849411517444305, 'eval_runtime': 32.6548, 'eval_samples_per_second': 73.772, 'eval_steps_per_second': 9.248, 'epoch': 19.82}\n"
          ]
        },
        {
          "name": "stderr",
          "output_type": "stream",
          "text": [
            "100%|██████████| 6560/6560 [54:08<00:00,  2.02it/s]"
          ]
        },
        {
          "name": "stdout",
          "output_type": "stream",
          "text": [
            "{'train_runtime': 3248.3488, 'train_samples_per_second': 64.531, 'train_steps_per_second': 2.019, 'train_loss': 1.615396383913552, 'epoch': 20.0}\n"
          ]
        },
        {
          "name": "stderr",
          "output_type": "stream",
          "text": [
            "\n"
          ]
        },
        {
          "data": {
            "text/plain": [
              "TrainOutput(global_step=6560, training_loss=1.615396383913552, metrics={'train_runtime': 3248.3488, 'train_samples_per_second': 64.531, 'train_steps_per_second': 2.019, 'train_loss': 1.615396383913552, 'epoch': 20.0})"
            ]
          },
          "execution_count": 39,
          "metadata": {},
          "output_type": "execute_result"
        }
      ],
      "source": [
        "import warnings\n",
        "\n",
        "warnings.filterwarnings(action='ignore', module='torch')\n",
        "warnings.filterwarnings(action='ignore', module='transformers')\n",
        "trainer.train()"
      ]
    }
  ],
  "metadata": {
    "accelerator": "GPU",
    "colab": {
      "gpuType": "T4",
      "provenance": [],
      "include_colab_link": true
    },
    "kernelspec": {
      "display_name": "Python 3",
      "name": "python3"
    },
    "language_info": {
      "codemirror_mode": {
        "name": "ipython",
        "version": 3
      },
      "file_extension": ".py",
      "mimetype": "text/x-python",
      "name": "python",
      "nbconvert_exporter": "python",
      "pygments_lexer": "ipython3",
      "version": "3.10.13"
    },
    "widgets": {
      "application/vnd.jupyter.widget-state+json": {
        "08df285de7fd46e9991c0173326d474f": {
          "model_module": "@jupyter-widgets/controls",
          "model_module_version": "1.5.0",
          "model_name": "DescriptionStyleModel",
          "state": {
            "_model_module": "@jupyter-widgets/controls",
            "_model_module_version": "1.5.0",
            "_model_name": "DescriptionStyleModel",
            "_view_count": null,
            "_view_module": "@jupyter-widgets/base",
            "_view_module_version": "1.2.0",
            "_view_name": "StyleView",
            "description_width": ""
          }
        },
        "0a07a47bbb0b4726aedd1c2e104913a6": {
          "model_module": "@jupyter-widgets/controls",
          "model_module_version": "1.5.0",
          "model_name": "DescriptionStyleModel",
          "state": {
            "_model_module": "@jupyter-widgets/controls",
            "_model_module_version": "1.5.0",
            "_model_name": "DescriptionStyleModel",
            "_view_count": null,
            "_view_module": "@jupyter-widgets/base",
            "_view_module_version": "1.2.0",
            "_view_name": "StyleView",
            "description_width": ""
          }
        },
        "0c597ca304f44bb5a41423f529339fe2": {
          "model_module": "@jupyter-widgets/base",
          "model_module_version": "1.2.0",
          "model_name": "LayoutModel",
          "state": {
            "_model_module": "@jupyter-widgets/base",
            "_model_module_version": "1.2.0",
            "_model_name": "LayoutModel",
            "_view_count": null,
            "_view_module": "@jupyter-widgets/base",
            "_view_module_version": "1.2.0",
            "_view_name": "LayoutView",
            "align_content": null,
            "align_items": null,
            "align_self": null,
            "border": null,
            "bottom": null,
            "display": null,
            "flex": null,
            "flex_flow": null,
            "grid_area": null,
            "grid_auto_columns": null,
            "grid_auto_flow": null,
            "grid_auto_rows": null,
            "grid_column": null,
            "grid_gap": null,
            "grid_row": null,
            "grid_template_areas": null,
            "grid_template_columns": null,
            "grid_template_rows": null,
            "height": null,
            "justify_content": null,
            "justify_items": null,
            "left": null,
            "margin": null,
            "max_height": null,
            "max_width": null,
            "min_height": null,
            "min_width": null,
            "object_fit": null,
            "object_position": null,
            "order": null,
            "overflow": null,
            "overflow_x": null,
            "overflow_y": null,
            "padding": null,
            "right": null,
            "top": null,
            "visibility": null,
            "width": "20px"
          }
        },
        "0ca715996a6c493bb527733fe278ce14": {
          "model_module": "@jupyter-widgets/controls",
          "model_module_version": "1.5.0",
          "model_name": "DescriptionStyleModel",
          "state": {
            "_model_module": "@jupyter-widgets/controls",
            "_model_module_version": "1.5.0",
            "_model_name": "DescriptionStyleModel",
            "_view_count": null,
            "_view_module": "@jupyter-widgets/base",
            "_view_module_version": "1.2.0",
            "_view_name": "StyleView",
            "description_width": ""
          }
        },
        "0cce4a2eb29a4cf099c8cd2eec95dde4": {
          "model_module": "@jupyter-widgets/base",
          "model_module_version": "1.2.0",
          "model_name": "LayoutModel",
          "state": {
            "_model_module": "@jupyter-widgets/base",
            "_model_module_version": "1.2.0",
            "_model_name": "LayoutModel",
            "_view_count": null,
            "_view_module": "@jupyter-widgets/base",
            "_view_module_version": "1.2.0",
            "_view_name": "LayoutView",
            "align_content": null,
            "align_items": null,
            "align_self": null,
            "border": null,
            "bottom": null,
            "display": null,
            "flex": null,
            "flex_flow": null,
            "grid_area": null,
            "grid_auto_columns": null,
            "grid_auto_flow": null,
            "grid_auto_rows": null,
            "grid_column": null,
            "grid_gap": null,
            "grid_row": null,
            "grid_template_areas": null,
            "grid_template_columns": null,
            "grid_template_rows": null,
            "height": null,
            "justify_content": null,
            "justify_items": null,
            "left": null,
            "margin": null,
            "max_height": null,
            "max_width": null,
            "min_height": null,
            "min_width": null,
            "object_fit": null,
            "object_position": null,
            "order": null,
            "overflow": null,
            "overflow_x": null,
            "overflow_y": null,
            "padding": null,
            "right": null,
            "top": null,
            "visibility": null,
            "width": null
          }
        },
        "0da943e0515a4389856adcd06b2ca262": {
          "model_module": "@jupyter-widgets/controls",
          "model_module_version": "1.5.0",
          "model_name": "HTMLModel",
          "state": {
            "_dom_classes": [],
            "_model_module": "@jupyter-widgets/controls",
            "_model_module_version": "1.5.0",
            "_model_name": "HTMLModel",
            "_view_count": null,
            "_view_module": "@jupyter-widgets/controls",
            "_view_module_version": "1.5.0",
            "_view_name": "HTMLView",
            "description": "",
            "description_tooltip": null,
            "layout": "IPY_MODEL_10a9509ceaa2496cbf942db11fb6e326",
            "placeholder": "​",
            "style": "IPY_MODEL_341e616f4b864f4796631b697f4b2934",
            "value": "config.json: 100%"
          }
        },
        "0f2d8fb1535149f69da87511e4510225": {
          "model_module": "@jupyter-widgets/controls",
          "model_module_version": "1.5.0",
          "model_name": "DescriptionStyleModel",
          "state": {
            "_model_module": "@jupyter-widgets/controls",
            "_model_module_version": "1.5.0",
            "_model_name": "DescriptionStyleModel",
            "_view_count": null,
            "_view_module": "@jupyter-widgets/base",
            "_view_module_version": "1.2.0",
            "_view_name": "StyleView",
            "description_width": ""
          }
        },
        "10a9509ceaa2496cbf942db11fb6e326": {
          "model_module": "@jupyter-widgets/base",
          "model_module_version": "1.2.0",
          "model_name": "LayoutModel",
          "state": {
            "_model_module": "@jupyter-widgets/base",
            "_model_module_version": "1.2.0",
            "_model_name": "LayoutModel",
            "_view_count": null,
            "_view_module": "@jupyter-widgets/base",
            "_view_module_version": "1.2.0",
            "_view_name": "LayoutView",
            "align_content": null,
            "align_items": null,
            "align_self": null,
            "border": null,
            "bottom": null,
            "display": null,
            "flex": null,
            "flex_flow": null,
            "grid_area": null,
            "grid_auto_columns": null,
            "grid_auto_flow": null,
            "grid_auto_rows": null,
            "grid_column": null,
            "grid_gap": null,
            "grid_row": null,
            "grid_template_areas": null,
            "grid_template_columns": null,
            "grid_template_rows": null,
            "height": null,
            "justify_content": null,
            "justify_items": null,
            "left": null,
            "margin": null,
            "max_height": null,
            "max_width": null,
            "min_height": null,
            "min_width": null,
            "object_fit": null,
            "object_position": null,
            "order": null,
            "overflow": null,
            "overflow_x": null,
            "overflow_y": null,
            "padding": null,
            "right": null,
            "top": null,
            "visibility": null,
            "width": null
          }
        },
        "10eedbd403e24bc4b3bba68a67094ba6": {
          "model_module": "@jupyter-widgets/controls",
          "model_module_version": "1.5.0",
          "model_name": "ProgressStyleModel",
          "state": {
            "_model_module": "@jupyter-widgets/controls",
            "_model_module_version": "1.5.0",
            "_model_name": "ProgressStyleModel",
            "_view_count": null,
            "_view_module": "@jupyter-widgets/base",
            "_view_module_version": "1.2.0",
            "_view_name": "StyleView",
            "bar_color": null,
            "description_width": ""
          }
        },
        "112afa4e5dba437ba22a4c88bcceb6cd": {
          "model_module": "@jupyter-widgets/controls",
          "model_module_version": "1.5.0",
          "model_name": "HTMLModel",
          "state": {
            "_dom_classes": [],
            "_model_module": "@jupyter-widgets/controls",
            "_model_module_version": "1.5.0",
            "_model_name": "HTMLModel",
            "_view_count": null,
            "_view_module": "@jupyter-widgets/controls",
            "_view_module_version": "1.5.0",
            "_view_name": "HTMLView",
            "description": "",
            "description_tooltip": null,
            "layout": "IPY_MODEL_4d76d58e57414847a69977b192430acc",
            "placeholder": "​",
            "style": "IPY_MODEL_5b7af6695468486e8e66609907fb6f7d",
            "value": " 144/9999 [00:42&lt;29:52,  5.50 examples/s]"
          }
        },
        "1160a2f0ec664d99bc1cf3db5a79432e": {
          "model_module": "@jupyter-widgets/base",
          "model_module_version": "1.2.0",
          "model_name": "LayoutModel",
          "state": {
            "_model_module": "@jupyter-widgets/base",
            "_model_module_version": "1.2.0",
            "_model_name": "LayoutModel",
            "_view_count": null,
            "_view_module": "@jupyter-widgets/base",
            "_view_module_version": "1.2.0",
            "_view_name": "LayoutView",
            "align_content": null,
            "align_items": null,
            "align_self": null,
            "border": null,
            "bottom": null,
            "display": null,
            "flex": null,
            "flex_flow": null,
            "grid_area": null,
            "grid_auto_columns": null,
            "grid_auto_flow": null,
            "grid_auto_rows": null,
            "grid_column": null,
            "grid_gap": null,
            "grid_row": null,
            "grid_template_areas": null,
            "grid_template_columns": null,
            "grid_template_rows": null,
            "height": null,
            "justify_content": null,
            "justify_items": null,
            "left": null,
            "margin": null,
            "max_height": null,
            "max_width": null,
            "min_height": null,
            "min_width": null,
            "object_fit": null,
            "object_position": null,
            "order": null,
            "overflow": null,
            "overflow_x": null,
            "overflow_y": null,
            "padding": null,
            "right": null,
            "top": null,
            "visibility": null,
            "width": "20px"
          }
        },
        "11c9d8cc7b6e4f58b5f45357a9c1ea48": {
          "model_module": "@jupyter-widgets/controls",
          "model_module_version": "1.5.0",
          "model_name": "FloatProgressModel",
          "state": {
            "_dom_classes": [],
            "_model_module": "@jupyter-widgets/controls",
            "_model_module_version": "1.5.0",
            "_model_name": "FloatProgressModel",
            "_view_count": null,
            "_view_module": "@jupyter-widgets/controls",
            "_view_module_version": "1.5.0",
            "_view_name": "ProgressView",
            "bar_style": "success",
            "description": "",
            "description_tooltip": null,
            "layout": "IPY_MODEL_b6633f636b244f77a247abb3ea4c0d82",
            "max": 9999,
            "min": 0,
            "orientation": "horizontal",
            "style": "IPY_MODEL_41fefa64438b4bdca69373930756bb8a",
            "value": 9999
          }
        },
        "12f48e80cfc448e88c7427cb4ec39cc1": {
          "model_module": "@jupyter-widgets/controls",
          "model_module_version": "1.5.0",
          "model_name": "HTMLModel",
          "state": {
            "_dom_classes": [],
            "_model_module": "@jupyter-widgets/controls",
            "_model_module_version": "1.5.0",
            "_model_name": "HTMLModel",
            "_view_count": null,
            "_view_module": "@jupyter-widgets/controls",
            "_view_module_version": "1.5.0",
            "_view_name": "HTMLView",
            "description": "",
            "description_tooltip": null,
            "layout": "IPY_MODEL_fb2312cc2c794a1caaadd6bb36b4d9f7",
            "placeholder": "​",
            "style": "IPY_MODEL_08df285de7fd46e9991c0173326d474f",
            "value": "Map (num_proc=4):   1%"
          }
        },
        "13c8182a38af4f3bb8f4497c2da395b1": {
          "model_module": "@jupyter-widgets/controls",
          "model_module_version": "1.5.0",
          "model_name": "DescriptionStyleModel",
          "state": {
            "_model_module": "@jupyter-widgets/controls",
            "_model_module_version": "1.5.0",
            "_model_name": "DescriptionStyleModel",
            "_view_count": null,
            "_view_module": "@jupyter-widgets/base",
            "_view_module_version": "1.2.0",
            "_view_name": "StyleView",
            "description_width": ""
          }
        },
        "14c7fc72558840d48bca0d4dcbd2d817": {
          "model_module": "@jupyter-widgets/controls",
          "model_module_version": "1.5.0",
          "model_name": "HTMLModel",
          "state": {
            "_dom_classes": [],
            "_model_module": "@jupyter-widgets/controls",
            "_model_module_version": "1.5.0",
            "_model_name": "HTMLModel",
            "_view_count": null,
            "_view_module": "@jupyter-widgets/controls",
            "_view_module_version": "1.5.0",
            "_view_name": "HTMLView",
            "description": "",
            "description_tooltip": null,
            "layout": "IPY_MODEL_8c6a7d9e08304ef99e877c336b8a32f3",
            "placeholder": "​",
            "style": "IPY_MODEL_a7ab93f512934a9f9769131a7c97d503",
            "value": " 1209/1209 [00:00&lt;00:00, 8918.25it/s]"
          }
        },
        "15f12584b3254263b50ec21251ce97b2": {
          "model_module": "@jupyter-widgets/controls",
          "model_module_version": "1.5.0",
          "model_name": "DescriptionStyleModel",
          "state": {
            "_model_module": "@jupyter-widgets/controls",
            "_model_module_version": "1.5.0",
            "_model_name": "DescriptionStyleModel",
            "_view_count": null,
            "_view_module": "@jupyter-widgets/base",
            "_view_module_version": "1.2.0",
            "_view_name": "StyleView",
            "description_width": ""
          }
        },
        "1739a34beb6040efb9d8fc916841f511": {
          "model_module": "@jupyter-widgets/controls",
          "model_module_version": "1.5.0",
          "model_name": "HBoxModel",
          "state": {
            "_dom_classes": [],
            "_model_module": "@jupyter-widgets/controls",
            "_model_module_version": "1.5.0",
            "_model_name": "HBoxModel",
            "_view_count": null,
            "_view_module": "@jupyter-widgets/controls",
            "_view_module_version": "1.5.0",
            "_view_name": "HBoxView",
            "box_style": "",
            "children": [
              "IPY_MODEL_58c3e4af7b8e4be280cf79b9b311b34b",
              "IPY_MODEL_55249948929149bdb7a9446764327806",
              "IPY_MODEL_5e05da47fe7e46f580a9a1a072622ccd"
            ],
            "layout": "IPY_MODEL_0cce4a2eb29a4cf099c8cd2eec95dde4"
          }
        },
        "17e727913096415f9e0fa4e8173d2d55": {
          "model_module": "@jupyter-widgets/base",
          "model_module_version": "1.2.0",
          "model_name": "LayoutModel",
          "state": {
            "_model_module": "@jupyter-widgets/base",
            "_model_module_version": "1.2.0",
            "_model_name": "LayoutModel",
            "_view_count": null,
            "_view_module": "@jupyter-widgets/base",
            "_view_module_version": "1.2.0",
            "_view_name": "LayoutView",
            "align_content": null,
            "align_items": null,
            "align_self": null,
            "border": null,
            "bottom": null,
            "display": null,
            "flex": null,
            "flex_flow": null,
            "grid_area": null,
            "grid_auto_columns": null,
            "grid_auto_flow": null,
            "grid_auto_rows": null,
            "grid_column": null,
            "grid_gap": null,
            "grid_row": null,
            "grid_template_areas": null,
            "grid_template_columns": null,
            "grid_template_rows": null,
            "height": null,
            "justify_content": null,
            "justify_items": null,
            "left": null,
            "margin": null,
            "max_height": null,
            "max_width": null,
            "min_height": null,
            "min_width": null,
            "object_fit": null,
            "object_position": null,
            "order": null,
            "overflow": null,
            "overflow_x": null,
            "overflow_y": null,
            "padding": null,
            "right": null,
            "top": null,
            "visibility": null,
            "width": null
          }
        },
        "19c5fdd96e0b42dd913107fda26c1af9": {
          "model_module": "@jupyter-widgets/base",
          "model_module_version": "1.2.0",
          "model_name": "LayoutModel",
          "state": {
            "_model_module": "@jupyter-widgets/base",
            "_model_module_version": "1.2.0",
            "_model_name": "LayoutModel",
            "_view_count": null,
            "_view_module": "@jupyter-widgets/base",
            "_view_module_version": "1.2.0",
            "_view_name": "LayoutView",
            "align_content": null,
            "align_items": null,
            "align_self": null,
            "border": null,
            "bottom": null,
            "display": null,
            "flex": null,
            "flex_flow": null,
            "grid_area": null,
            "grid_auto_columns": null,
            "grid_auto_flow": null,
            "grid_auto_rows": null,
            "grid_column": null,
            "grid_gap": null,
            "grid_row": null,
            "grid_template_areas": null,
            "grid_template_columns": null,
            "grid_template_rows": null,
            "height": null,
            "justify_content": null,
            "justify_items": null,
            "left": null,
            "margin": null,
            "max_height": null,
            "max_width": null,
            "min_height": null,
            "min_width": null,
            "object_fit": null,
            "object_position": null,
            "order": null,
            "overflow": null,
            "overflow_x": null,
            "overflow_y": null,
            "padding": null,
            "right": null,
            "top": null,
            "visibility": null,
            "width": null
          }
        },
        "19d7b84dd3bc47379b250ee72be83be5": {
          "model_module": "@jupyter-widgets/controls",
          "model_module_version": "1.5.0",
          "model_name": "DescriptionStyleModel",
          "state": {
            "_model_module": "@jupyter-widgets/controls",
            "_model_module_version": "1.5.0",
            "_model_name": "DescriptionStyleModel",
            "_view_count": null,
            "_view_module": "@jupyter-widgets/base",
            "_view_module_version": "1.2.0",
            "_view_name": "StyleView",
            "description_width": ""
          }
        },
        "1a18b8bb9fde473aaa79f8a7b1bb7e1f": {
          "model_module": "@jupyter-widgets/controls",
          "model_module_version": "1.5.0",
          "model_name": "HTMLModel",
          "state": {
            "_dom_classes": [],
            "_model_module": "@jupyter-widgets/controls",
            "_model_module_version": "1.5.0",
            "_model_name": "HTMLModel",
            "_view_count": null,
            "_view_module": "@jupyter-widgets/controls",
            "_view_module_version": "1.5.0",
            "_view_name": "HTMLView",
            "description": "",
            "description_tooltip": null,
            "layout": "IPY_MODEL_4f4d2aaa2f044cc4891f44b80fd1c2ac",
            "placeholder": "​",
            "style": "IPY_MODEL_c47fbaaf0a2b4b4aabe8eaf4e57d6429",
            "value": " 1210/1210 [00:00&lt;00:00, 3109.52it/s]"
          }
        },
        "1a4198b27e2a45119b9a538f2cb80fed": {
          "model_module": "@jupyter-widgets/base",
          "model_module_version": "1.2.0",
          "model_name": "LayoutModel",
          "state": {
            "_model_module": "@jupyter-widgets/base",
            "_model_module_version": "1.2.0",
            "_model_name": "LayoutModel",
            "_view_count": null,
            "_view_module": "@jupyter-widgets/base",
            "_view_module_version": "1.2.0",
            "_view_name": "LayoutView",
            "align_content": null,
            "align_items": null,
            "align_self": null,
            "border": null,
            "bottom": null,
            "display": null,
            "flex": null,
            "flex_flow": null,
            "grid_area": null,
            "grid_auto_columns": null,
            "grid_auto_flow": null,
            "grid_auto_rows": null,
            "grid_column": null,
            "grid_gap": null,
            "grid_row": null,
            "grid_template_areas": null,
            "grid_template_columns": null,
            "grid_template_rows": null,
            "height": null,
            "justify_content": null,
            "justify_items": null,
            "left": null,
            "margin": null,
            "max_height": null,
            "max_width": null,
            "min_height": null,
            "min_width": null,
            "object_fit": null,
            "object_position": null,
            "order": null,
            "overflow": null,
            "overflow_x": null,
            "overflow_y": null,
            "padding": null,
            "right": null,
            "top": null,
            "visibility": null,
            "width": null
          }
        },
        "1acc4578527c4095ba13397d19466a24": {
          "model_module": "@jupyter-widgets/base",
          "model_module_version": "1.2.0",
          "model_name": "LayoutModel",
          "state": {
            "_model_module": "@jupyter-widgets/base",
            "_model_module_version": "1.2.0",
            "_model_name": "LayoutModel",
            "_view_count": null,
            "_view_module": "@jupyter-widgets/base",
            "_view_module_version": "1.2.0",
            "_view_name": "LayoutView",
            "align_content": null,
            "align_items": null,
            "align_self": null,
            "border": null,
            "bottom": null,
            "display": null,
            "flex": null,
            "flex_flow": null,
            "grid_area": null,
            "grid_auto_columns": null,
            "grid_auto_flow": null,
            "grid_auto_rows": null,
            "grid_column": null,
            "grid_gap": null,
            "grid_row": null,
            "grid_template_areas": null,
            "grid_template_columns": null,
            "grid_template_rows": null,
            "height": null,
            "justify_content": null,
            "justify_items": null,
            "left": null,
            "margin": null,
            "max_height": null,
            "max_width": null,
            "min_height": null,
            "min_width": null,
            "object_fit": null,
            "object_position": null,
            "order": null,
            "overflow": null,
            "overflow_x": null,
            "overflow_y": null,
            "padding": null,
            "right": null,
            "top": null,
            "visibility": null,
            "width": null
          }
        },
        "1b2938acb4fe441b8a87876e8d67b2e9": {
          "model_module": "@jupyter-widgets/base",
          "model_module_version": "1.2.0",
          "model_name": "LayoutModel",
          "state": {
            "_model_module": "@jupyter-widgets/base",
            "_model_module_version": "1.2.0",
            "_model_name": "LayoutModel",
            "_view_count": null,
            "_view_module": "@jupyter-widgets/base",
            "_view_module_version": "1.2.0",
            "_view_name": "LayoutView",
            "align_content": null,
            "align_items": null,
            "align_self": null,
            "border": null,
            "bottom": null,
            "display": null,
            "flex": null,
            "flex_flow": null,
            "grid_area": null,
            "grid_auto_columns": null,
            "grid_auto_flow": null,
            "grid_auto_rows": null,
            "grid_column": null,
            "grid_gap": null,
            "grid_row": null,
            "grid_template_areas": null,
            "grid_template_columns": null,
            "grid_template_rows": null,
            "height": null,
            "justify_content": null,
            "justify_items": null,
            "left": null,
            "margin": null,
            "max_height": null,
            "max_width": null,
            "min_height": null,
            "min_width": null,
            "object_fit": null,
            "object_position": null,
            "order": null,
            "overflow": null,
            "overflow_x": null,
            "overflow_y": null,
            "padding": null,
            "right": null,
            "top": null,
            "visibility": null,
            "width": null
          }
        },
        "1c18254ffcbb45cf9cb93d6aa667fee0": {
          "model_module": "@jupyter-widgets/controls",
          "model_module_version": "1.5.0",
          "model_name": "HBoxModel",
          "state": {
            "_dom_classes": [],
            "_model_module": "@jupyter-widgets/controls",
            "_model_module_version": "1.5.0",
            "_model_name": "HBoxModel",
            "_view_count": null,
            "_view_module": "@jupyter-widgets/controls",
            "_view_module_version": "1.5.0",
            "_view_name": "HBoxView",
            "box_style": "",
            "children": [
              "IPY_MODEL_0da943e0515a4389856adcd06b2ca262",
              "IPY_MODEL_db9de2a8785241bd83db63167916463e",
              "IPY_MODEL_856680471e4947bf9e1635b16593b0a2"
            ],
            "layout": "IPY_MODEL_968f642857404f47ba8f11584572835c"
          }
        },
        "1c59f6de42d54604a39e552a8aaf2aae": {
          "model_module": "@jupyter-widgets/controls",
          "model_module_version": "1.5.0",
          "model_name": "HTMLModel",
          "state": {
            "_dom_classes": [],
            "_model_module": "@jupyter-widgets/controls",
            "_model_module_version": "1.5.0",
            "_model_name": "HTMLModel",
            "_view_count": null,
            "_view_module": "@jupyter-widgets/controls",
            "_view_module_version": "1.5.0",
            "_view_name": "HTMLView",
            "description": "",
            "description_tooltip": null,
            "layout": "IPY_MODEL_fd018eb1df334be1b26601e8e9b1618a",
            "placeholder": "​",
            "style": "IPY_MODEL_0ca715996a6c493bb527733fe278ce14",
            "value": "Downloading data files: 100%"
          }
        },
        "1cd4c142de5942219d75cf7c9fde7290": {
          "model_module": "@jupyter-widgets/controls",
          "model_module_version": "1.5.0",
          "model_name": "ProgressStyleModel",
          "state": {
            "_model_module": "@jupyter-widgets/controls",
            "_model_module_version": "1.5.0",
            "_model_name": "ProgressStyleModel",
            "_view_count": null,
            "_view_module": "@jupyter-widgets/base",
            "_view_module_version": "1.2.0",
            "_view_name": "StyleView",
            "bar_color": null,
            "description_width": ""
          }
        },
        "20cf31210cfa41dcb4743f542fddd855": {
          "model_module": "@jupyter-widgets/base",
          "model_module_version": "1.2.0",
          "model_name": "LayoutModel",
          "state": {
            "_model_module": "@jupyter-widgets/base",
            "_model_module_version": "1.2.0",
            "_model_name": "LayoutModel",
            "_view_count": null,
            "_view_module": "@jupyter-widgets/base",
            "_view_module_version": "1.2.0",
            "_view_name": "LayoutView",
            "align_content": null,
            "align_items": null,
            "align_self": null,
            "border": null,
            "bottom": null,
            "display": null,
            "flex": null,
            "flex_flow": null,
            "grid_area": null,
            "grid_auto_columns": null,
            "grid_auto_flow": null,
            "grid_auto_rows": null,
            "grid_column": null,
            "grid_gap": null,
            "grid_row": null,
            "grid_template_areas": null,
            "grid_template_columns": null,
            "grid_template_rows": null,
            "height": null,
            "justify_content": null,
            "justify_items": null,
            "left": null,
            "margin": null,
            "max_height": null,
            "max_width": null,
            "min_height": null,
            "min_width": null,
            "object_fit": null,
            "object_position": null,
            "order": null,
            "overflow": null,
            "overflow_x": null,
            "overflow_y": null,
            "padding": null,
            "right": null,
            "top": null,
            "visibility": null,
            "width": null
          }
        },
        "216f12852afe4ffc961b0715d2903368": {
          "model_module": "@jupyter-widgets/base",
          "model_module_version": "1.2.0",
          "model_name": "LayoutModel",
          "state": {
            "_model_module": "@jupyter-widgets/base",
            "_model_module_version": "1.2.0",
            "_model_name": "LayoutModel",
            "_view_count": null,
            "_view_module": "@jupyter-widgets/base",
            "_view_module_version": "1.2.0",
            "_view_name": "LayoutView",
            "align_content": null,
            "align_items": null,
            "align_self": null,
            "border": null,
            "bottom": null,
            "display": null,
            "flex": null,
            "flex_flow": null,
            "grid_area": null,
            "grid_auto_columns": null,
            "grid_auto_flow": null,
            "grid_auto_rows": null,
            "grid_column": null,
            "grid_gap": null,
            "grid_row": null,
            "grid_template_areas": null,
            "grid_template_columns": null,
            "grid_template_rows": null,
            "height": null,
            "justify_content": null,
            "justify_items": null,
            "left": null,
            "margin": null,
            "max_height": null,
            "max_width": null,
            "min_height": null,
            "min_width": null,
            "object_fit": null,
            "object_position": null,
            "order": null,
            "overflow": null,
            "overflow_x": null,
            "overflow_y": null,
            "padding": null,
            "right": null,
            "top": null,
            "visibility": null,
            "width": null
          }
        },
        "23c330374ea14a3a860b4e64accbc79f": {
          "model_module": "@jupyter-widgets/controls",
          "model_module_version": "1.5.0",
          "model_name": "HTMLModel",
          "state": {
            "_dom_classes": [],
            "_model_module": "@jupyter-widgets/controls",
            "_model_module_version": "1.5.0",
            "_model_name": "HTMLModel",
            "_view_count": null,
            "_view_module": "@jupyter-widgets/controls",
            "_view_module_version": "1.5.0",
            "_view_name": "HTMLView",
            "description": "",
            "description_tooltip": null,
            "layout": "IPY_MODEL_c5508bb6228e49baac33ca4441e876b5",
            "placeholder": "​",
            "style": "IPY_MODEL_e67868fd256949568a05f8a27029001e",
            "value": " 0/0 [00:00&lt;?, ?it/s]"
          }
        },
        "2b0ff2c13e5b4346a1e6e7a2819fdbdb": {
          "model_module": "@jupyter-widgets/base",
          "model_module_version": "1.2.0",
          "model_name": "LayoutModel",
          "state": {
            "_model_module": "@jupyter-widgets/base",
            "_model_module_version": "1.2.0",
            "_model_name": "LayoutModel",
            "_view_count": null,
            "_view_module": "@jupyter-widgets/base",
            "_view_module_version": "1.2.0",
            "_view_name": "LayoutView",
            "align_content": null,
            "align_items": null,
            "align_self": null,
            "border": null,
            "bottom": null,
            "display": null,
            "flex": null,
            "flex_flow": null,
            "grid_area": null,
            "grid_auto_columns": null,
            "grid_auto_flow": null,
            "grid_auto_rows": null,
            "grid_column": null,
            "grid_gap": null,
            "grid_row": null,
            "grid_template_areas": null,
            "grid_template_columns": null,
            "grid_template_rows": null,
            "height": null,
            "justify_content": null,
            "justify_items": null,
            "left": null,
            "margin": null,
            "max_height": null,
            "max_width": null,
            "min_height": null,
            "min_width": null,
            "object_fit": null,
            "object_position": null,
            "order": null,
            "overflow": null,
            "overflow_x": null,
            "overflow_y": null,
            "padding": null,
            "right": null,
            "top": null,
            "visibility": null,
            "width": null
          }
        },
        "2bff9bef182347baaf21c8cfe92500f5": {
          "model_module": "@jupyter-widgets/controls",
          "model_module_version": "1.5.0",
          "model_name": "ProgressStyleModel",
          "state": {
            "_model_module": "@jupyter-widgets/controls",
            "_model_module_version": "1.5.0",
            "_model_name": "ProgressStyleModel",
            "_view_count": null,
            "_view_module": "@jupyter-widgets/base",
            "_view_module_version": "1.2.0",
            "_view_name": "StyleView",
            "bar_color": null,
            "description_width": ""
          }
        },
        "2c82c9602d7e4456830f3c4b6d68af1b": {
          "model_module": "@jupyter-widgets/base",
          "model_module_version": "1.2.0",
          "model_name": "LayoutModel",
          "state": {
            "_model_module": "@jupyter-widgets/base",
            "_model_module_version": "1.2.0",
            "_model_name": "LayoutModel",
            "_view_count": null,
            "_view_module": "@jupyter-widgets/base",
            "_view_module_version": "1.2.0",
            "_view_name": "LayoutView",
            "align_content": null,
            "align_items": null,
            "align_self": null,
            "border": null,
            "bottom": null,
            "display": null,
            "flex": null,
            "flex_flow": null,
            "grid_area": null,
            "grid_auto_columns": null,
            "grid_auto_flow": null,
            "grid_auto_rows": null,
            "grid_column": null,
            "grid_gap": null,
            "grid_row": null,
            "grid_template_areas": null,
            "grid_template_columns": null,
            "grid_template_rows": null,
            "height": null,
            "justify_content": null,
            "justify_items": null,
            "left": null,
            "margin": null,
            "max_height": null,
            "max_width": null,
            "min_height": null,
            "min_width": null,
            "object_fit": null,
            "object_position": null,
            "order": null,
            "overflow": null,
            "overflow_x": null,
            "overflow_y": null,
            "padding": null,
            "right": null,
            "top": null,
            "visibility": null,
            "width": null
          }
        },
        "2db8b405dce844d6a064055aab69dfe4": {
          "model_module": "@jupyter-widgets/controls",
          "model_module_version": "1.5.0",
          "model_name": "HTMLModel",
          "state": {
            "_dom_classes": [],
            "_model_module": "@jupyter-widgets/controls",
            "_model_module_version": "1.5.0",
            "_model_name": "HTMLModel",
            "_view_count": null,
            "_view_module": "@jupyter-widgets/controls",
            "_view_module_version": "1.5.0",
            "_view_name": "HTMLView",
            "description": "",
            "description_tooltip": null,
            "layout": "IPY_MODEL_fa56b7977ad4450497f3a6883bd7f686",
            "placeholder": "​",
            "style": "IPY_MODEL_79e3276eb0fe42e5bac4f25f1ba00c8a",
            "value": " 1209/1209 [00:00&lt;00:00, 4425.43 examples/s]"
          }
        },
        "2f43df25f8604add9317d0c019580129": {
          "model_module": "@jupyter-widgets/base",
          "model_module_version": "1.2.0",
          "model_name": "LayoutModel",
          "state": {
            "_model_module": "@jupyter-widgets/base",
            "_model_module_version": "1.2.0",
            "_model_name": "LayoutModel",
            "_view_count": null,
            "_view_module": "@jupyter-widgets/base",
            "_view_module_version": "1.2.0",
            "_view_name": "LayoutView",
            "align_content": null,
            "align_items": null,
            "align_self": null,
            "border": null,
            "bottom": null,
            "display": null,
            "flex": null,
            "flex_flow": null,
            "grid_area": null,
            "grid_auto_columns": null,
            "grid_auto_flow": null,
            "grid_auto_rows": null,
            "grid_column": null,
            "grid_gap": null,
            "grid_row": null,
            "grid_template_areas": null,
            "grid_template_columns": null,
            "grid_template_rows": null,
            "height": null,
            "justify_content": null,
            "justify_items": null,
            "left": null,
            "margin": null,
            "max_height": null,
            "max_width": null,
            "min_height": null,
            "min_width": null,
            "object_fit": null,
            "object_position": null,
            "order": null,
            "overflow": null,
            "overflow_x": null,
            "overflow_y": null,
            "padding": null,
            "right": null,
            "top": null,
            "visibility": null,
            "width": null
          }
        },
        "341e616f4b864f4796631b697f4b2934": {
          "model_module": "@jupyter-widgets/controls",
          "model_module_version": "1.5.0",
          "model_name": "DescriptionStyleModel",
          "state": {
            "_model_module": "@jupyter-widgets/controls",
            "_model_module_version": "1.5.0",
            "_model_name": "DescriptionStyleModel",
            "_view_count": null,
            "_view_module": "@jupyter-widgets/base",
            "_view_module_version": "1.2.0",
            "_view_name": "StyleView",
            "description_width": ""
          }
        },
        "3434f1a4c896405398cbf6ae6dd33f24": {
          "model_module": "@jupyter-widgets/base",
          "model_module_version": "1.2.0",
          "model_name": "LayoutModel",
          "state": {
            "_model_module": "@jupyter-widgets/base",
            "_model_module_version": "1.2.0",
            "_model_name": "LayoutModel",
            "_view_count": null,
            "_view_module": "@jupyter-widgets/base",
            "_view_module_version": "1.2.0",
            "_view_name": "LayoutView",
            "align_content": null,
            "align_items": null,
            "align_self": null,
            "border": null,
            "bottom": null,
            "display": null,
            "flex": null,
            "flex_flow": null,
            "grid_area": null,
            "grid_auto_columns": null,
            "grid_auto_flow": null,
            "grid_auto_rows": null,
            "grid_column": null,
            "grid_gap": null,
            "grid_row": null,
            "grid_template_areas": null,
            "grid_template_columns": null,
            "grid_template_rows": null,
            "height": null,
            "justify_content": null,
            "justify_items": null,
            "left": null,
            "margin": null,
            "max_height": null,
            "max_width": null,
            "min_height": null,
            "min_width": null,
            "object_fit": null,
            "object_position": null,
            "order": null,
            "overflow": null,
            "overflow_x": null,
            "overflow_y": null,
            "padding": null,
            "right": null,
            "top": null,
            "visibility": null,
            "width": null
          }
        },
        "35d938f20d014fcdb0a4cbf04b961699": {
          "model_module": "@jupyter-widgets/base",
          "model_module_version": "1.2.0",
          "model_name": "LayoutModel",
          "state": {
            "_model_module": "@jupyter-widgets/base",
            "_model_module_version": "1.2.0",
            "_model_name": "LayoutModel",
            "_view_count": null,
            "_view_module": "@jupyter-widgets/base",
            "_view_module_version": "1.2.0",
            "_view_name": "LayoutView",
            "align_content": null,
            "align_items": null,
            "align_self": null,
            "border": null,
            "bottom": null,
            "display": null,
            "flex": null,
            "flex_flow": null,
            "grid_area": null,
            "grid_auto_columns": null,
            "grid_auto_flow": null,
            "grid_auto_rows": null,
            "grid_column": null,
            "grid_gap": null,
            "grid_row": null,
            "grid_template_areas": null,
            "grid_template_columns": null,
            "grid_template_rows": null,
            "height": null,
            "justify_content": null,
            "justify_items": null,
            "left": null,
            "margin": null,
            "max_height": null,
            "max_width": null,
            "min_height": null,
            "min_width": null,
            "object_fit": null,
            "object_position": null,
            "order": null,
            "overflow": null,
            "overflow_x": null,
            "overflow_y": null,
            "padding": null,
            "right": null,
            "top": null,
            "visibility": null,
            "width": null
          }
        },
        "367d04b9a1444220bd84cc226c4c8e5a": {
          "model_module": "@jupyter-widgets/base",
          "model_module_version": "1.2.0",
          "model_name": "LayoutModel",
          "state": {
            "_model_module": "@jupyter-widgets/base",
            "_model_module_version": "1.2.0",
            "_model_name": "LayoutModel",
            "_view_count": null,
            "_view_module": "@jupyter-widgets/base",
            "_view_module_version": "1.2.0",
            "_view_name": "LayoutView",
            "align_content": null,
            "align_items": null,
            "align_self": null,
            "border": null,
            "bottom": null,
            "display": null,
            "flex": null,
            "flex_flow": null,
            "grid_area": null,
            "grid_auto_columns": null,
            "grid_auto_flow": null,
            "grid_auto_rows": null,
            "grid_column": null,
            "grid_gap": null,
            "grid_row": null,
            "grid_template_areas": null,
            "grid_template_columns": null,
            "grid_template_rows": null,
            "height": null,
            "justify_content": null,
            "justify_items": null,
            "left": null,
            "margin": null,
            "max_height": null,
            "max_width": null,
            "min_height": null,
            "min_width": null,
            "object_fit": null,
            "object_position": null,
            "order": null,
            "overflow": null,
            "overflow_x": null,
            "overflow_y": null,
            "padding": null,
            "right": null,
            "top": null,
            "visibility": null,
            "width": null
          }
        },
        "39c26695eab2476881934b05b4dd742b": {
          "model_module": "@jupyter-widgets/controls",
          "model_module_version": "1.5.0",
          "model_name": "HBoxModel",
          "state": {
            "_dom_classes": [],
            "_model_module": "@jupyter-widgets/controls",
            "_model_module_version": "1.5.0",
            "_model_name": "HBoxModel",
            "_view_count": null,
            "_view_module": "@jupyter-widgets/controls",
            "_view_module_version": "1.5.0",
            "_view_name": "HBoxView",
            "box_style": "",
            "children": [
              "IPY_MODEL_803a7e1e8c0c4da4959b4b16b331aa72",
              "IPY_MODEL_fd18593fbb594ba8a6fe343650641543",
              "IPY_MODEL_fbfb5615ad5a44b49f80561285724d10"
            ],
            "layout": "IPY_MODEL_b59b190ba38f40a9bf3494b76c5279ad"
          }
        },
        "3ce96a8aca714f9793b8dccb3d4c47a6": {
          "model_module": "@jupyter-widgets/controls",
          "model_module_version": "1.5.0",
          "model_name": "ProgressStyleModel",
          "state": {
            "_model_module": "@jupyter-widgets/controls",
            "_model_module_version": "1.5.0",
            "_model_name": "ProgressStyleModel",
            "_view_count": null,
            "_view_module": "@jupyter-widgets/base",
            "_view_module_version": "1.2.0",
            "_view_name": "StyleView",
            "bar_color": null,
            "description_width": ""
          }
        },
        "3e99ead820d44cee82d3ee2307f3f5e7": {
          "model_module": "@jupyter-widgets/controls",
          "model_module_version": "1.5.0",
          "model_name": "DescriptionStyleModel",
          "state": {
            "_model_module": "@jupyter-widgets/controls",
            "_model_module_version": "1.5.0",
            "_model_name": "DescriptionStyleModel",
            "_view_count": null,
            "_view_module": "@jupyter-widgets/base",
            "_view_module_version": "1.2.0",
            "_view_name": "StyleView",
            "description_width": ""
          }
        },
        "405a05057fe542968181f8d08782ccf2": {
          "model_module": "@jupyter-widgets/base",
          "model_module_version": "1.2.0",
          "model_name": "LayoutModel",
          "state": {
            "_model_module": "@jupyter-widgets/base",
            "_model_module_version": "1.2.0",
            "_model_name": "LayoutModel",
            "_view_count": null,
            "_view_module": "@jupyter-widgets/base",
            "_view_module_version": "1.2.0",
            "_view_name": "LayoutView",
            "align_content": null,
            "align_items": null,
            "align_self": null,
            "border": null,
            "bottom": null,
            "display": null,
            "flex": null,
            "flex_flow": null,
            "grid_area": null,
            "grid_auto_columns": null,
            "grid_auto_flow": null,
            "grid_auto_rows": null,
            "grid_column": null,
            "grid_gap": null,
            "grid_row": null,
            "grid_template_areas": null,
            "grid_template_columns": null,
            "grid_template_rows": null,
            "height": null,
            "justify_content": null,
            "justify_items": null,
            "left": null,
            "margin": null,
            "max_height": null,
            "max_width": null,
            "min_height": null,
            "min_width": null,
            "object_fit": null,
            "object_position": null,
            "order": null,
            "overflow": null,
            "overflow_x": null,
            "overflow_y": null,
            "padding": null,
            "right": null,
            "top": null,
            "visibility": null,
            "width": null
          }
        },
        "41fefa64438b4bdca69373930756bb8a": {
          "model_module": "@jupyter-widgets/controls",
          "model_module_version": "1.5.0",
          "model_name": "ProgressStyleModel",
          "state": {
            "_model_module": "@jupyter-widgets/controls",
            "_model_module_version": "1.5.0",
            "_model_name": "ProgressStyleModel",
            "_view_count": null,
            "_view_module": "@jupyter-widgets/base",
            "_view_module_version": "1.2.0",
            "_view_name": "StyleView",
            "bar_color": null,
            "description_width": ""
          }
        },
        "467eca7f8a974645b8979094e1a5023e": {
          "model_module": "@jupyter-widgets/controls",
          "model_module_version": "1.5.0",
          "model_name": "ProgressStyleModel",
          "state": {
            "_model_module": "@jupyter-widgets/controls",
            "_model_module_version": "1.5.0",
            "_model_name": "ProgressStyleModel",
            "_view_count": null,
            "_view_module": "@jupyter-widgets/base",
            "_view_module_version": "1.2.0",
            "_view_name": "StyleView",
            "bar_color": null,
            "description_width": ""
          }
        },
        "4890cf39f2894e0d9ef367d02768d81b": {
          "model_module": "@jupyter-widgets/controls",
          "model_module_version": "1.5.0",
          "model_name": "ProgressStyleModel",
          "state": {
            "_model_module": "@jupyter-widgets/controls",
            "_model_module_version": "1.5.0",
            "_model_name": "ProgressStyleModel",
            "_view_count": null,
            "_view_module": "@jupyter-widgets/base",
            "_view_module_version": "1.2.0",
            "_view_name": "StyleView",
            "bar_color": null,
            "description_width": ""
          }
        },
        "4aaa7f6374dc4eb2ba0b3ead0dbfe1b9": {
          "model_module": "@jupyter-widgets/controls",
          "model_module_version": "1.5.0",
          "model_name": "HBoxModel",
          "state": {
            "_dom_classes": [],
            "_model_module": "@jupyter-widgets/controls",
            "_model_module_version": "1.5.0",
            "_model_name": "HBoxModel",
            "_view_count": null,
            "_view_module": "@jupyter-widgets/controls",
            "_view_module_version": "1.5.0",
            "_view_name": "HBoxView",
            "box_style": "",
            "children": [
              "IPY_MODEL_1c59f6de42d54604a39e552a8aaf2aae",
              "IPY_MODEL_ce0fed99fe354cb1a692d899043dcc0a",
              "IPY_MODEL_1a18b8bb9fde473aaa79f8a7b1bb7e1f"
            ],
            "layout": "IPY_MODEL_3434f1a4c896405398cbf6ae6dd33f24"
          }
        },
        "4d76d58e57414847a69977b192430acc": {
          "model_module": "@jupyter-widgets/base",
          "model_module_version": "1.2.0",
          "model_name": "LayoutModel",
          "state": {
            "_model_module": "@jupyter-widgets/base",
            "_model_module_version": "1.2.0",
            "_model_name": "LayoutModel",
            "_view_count": null,
            "_view_module": "@jupyter-widgets/base",
            "_view_module_version": "1.2.0",
            "_view_name": "LayoutView",
            "align_content": null,
            "align_items": null,
            "align_self": null,
            "border": null,
            "bottom": null,
            "display": null,
            "flex": null,
            "flex_flow": null,
            "grid_area": null,
            "grid_auto_columns": null,
            "grid_auto_flow": null,
            "grid_auto_rows": null,
            "grid_column": null,
            "grid_gap": null,
            "grid_row": null,
            "grid_template_areas": null,
            "grid_template_columns": null,
            "grid_template_rows": null,
            "height": null,
            "justify_content": null,
            "justify_items": null,
            "left": null,
            "margin": null,
            "max_height": null,
            "max_width": null,
            "min_height": null,
            "min_width": null,
            "object_fit": null,
            "object_position": null,
            "order": null,
            "overflow": null,
            "overflow_x": null,
            "overflow_y": null,
            "padding": null,
            "right": null,
            "top": null,
            "visibility": null,
            "width": null
          }
        },
        "4ede36ac50c941ff961b712a6e8f61ba": {
          "model_module": "@jupyter-widgets/controls",
          "model_module_version": "1.5.0",
          "model_name": "HTMLModel",
          "state": {
            "_dom_classes": [],
            "_model_module": "@jupyter-widgets/controls",
            "_model_module_version": "1.5.0",
            "_model_name": "HTMLModel",
            "_view_count": null,
            "_view_module": "@jupyter-widgets/controls",
            "_view_module_version": "1.5.0",
            "_view_name": "HTMLView",
            "description": "",
            "description_tooltip": null,
            "layout": "IPY_MODEL_a62012fe285e4ec4a572d554069650e5",
            "placeholder": "​",
            "style": "IPY_MODEL_19d7b84dd3bc47379b250ee72be83be5",
            "value": "Generating train split: "
          }
        },
        "4f4d2aaa2f044cc4891f44b80fd1c2ac": {
          "model_module": "@jupyter-widgets/base",
          "model_module_version": "1.2.0",
          "model_name": "LayoutModel",
          "state": {
            "_model_module": "@jupyter-widgets/base",
            "_model_module_version": "1.2.0",
            "_model_name": "LayoutModel",
            "_view_count": null,
            "_view_module": "@jupyter-widgets/base",
            "_view_module_version": "1.2.0",
            "_view_name": "LayoutView",
            "align_content": null,
            "align_items": null,
            "align_self": null,
            "border": null,
            "bottom": null,
            "display": null,
            "flex": null,
            "flex_flow": null,
            "grid_area": null,
            "grid_auto_columns": null,
            "grid_auto_flow": null,
            "grid_auto_rows": null,
            "grid_column": null,
            "grid_gap": null,
            "grid_row": null,
            "grid_template_areas": null,
            "grid_template_columns": null,
            "grid_template_rows": null,
            "height": null,
            "justify_content": null,
            "justify_items": null,
            "left": null,
            "margin": null,
            "max_height": null,
            "max_width": null,
            "min_height": null,
            "min_width": null,
            "object_fit": null,
            "object_position": null,
            "order": null,
            "overflow": null,
            "overflow_x": null,
            "overflow_y": null,
            "padding": null,
            "right": null,
            "top": null,
            "visibility": null,
            "width": null
          }
        },
        "5015ce9ea74645e08981cfee5ec4d3dd": {
          "model_module": "@jupyter-widgets/controls",
          "model_module_version": "1.5.0",
          "model_name": "FloatProgressModel",
          "state": {
            "_dom_classes": [],
            "_model_module": "@jupyter-widgets/controls",
            "_model_module_version": "1.5.0",
            "_model_name": "FloatProgressModel",
            "_view_count": null,
            "_view_module": "@jupyter-widgets/controls",
            "_view_module_version": "1.5.0",
            "_view_name": "ProgressView",
            "bar_style": "success",
            "description": "",
            "description_tooltip": null,
            "layout": "IPY_MODEL_2b0ff2c13e5b4346a1e6e7a2819fdbdb",
            "max": 9999,
            "min": 0,
            "orientation": "horizontal",
            "style": "IPY_MODEL_7715c0a355204574b96f437f0c7ac0e7",
            "value": 9999
          }
        },
        "51f13f215d1c426489234f6d56245ec3": {
          "model_module": "@jupyter-widgets/controls",
          "model_module_version": "1.5.0",
          "model_name": "DescriptionStyleModel",
          "state": {
            "_model_module": "@jupyter-widgets/controls",
            "_model_module_version": "1.5.0",
            "_model_name": "DescriptionStyleModel",
            "_view_count": null,
            "_view_module": "@jupyter-widgets/base",
            "_view_module_version": "1.2.0",
            "_view_name": "StyleView",
            "description_width": ""
          }
        },
        "55249948929149bdb7a9446764327806": {
          "model_module": "@jupyter-widgets/controls",
          "model_module_version": "1.5.0",
          "model_name": "FloatProgressModel",
          "state": {
            "_dom_classes": [],
            "_model_module": "@jupyter-widgets/controls",
            "_model_module_version": "1.5.0",
            "_model_name": "FloatProgressModel",
            "_view_count": null,
            "_view_module": "@jupyter-widgets/controls",
            "_view_module_version": "1.5.0",
            "_view_name": "ProgressView",
            "bar_style": "success",
            "description": "",
            "description_tooltip": null,
            "layout": "IPY_MODEL_0c597ca304f44bb5a41423f529339fe2",
            "max": 1,
            "min": 0,
            "orientation": "horizontal",
            "style": "IPY_MODEL_1cd4c142de5942219d75cf7c9fde7290",
            "value": 0
          }
        },
        "5623c9aa067b42509458d631fbd4f2c2": {
          "model_module": "@jupyter-widgets/base",
          "model_module_version": "1.2.0",
          "model_name": "LayoutModel",
          "state": {
            "_model_module": "@jupyter-widgets/base",
            "_model_module_version": "1.2.0",
            "_model_name": "LayoutModel",
            "_view_count": null,
            "_view_module": "@jupyter-widgets/base",
            "_view_module_version": "1.2.0",
            "_view_name": "LayoutView",
            "align_content": null,
            "align_items": null,
            "align_self": null,
            "border": null,
            "bottom": null,
            "display": null,
            "flex": null,
            "flex_flow": null,
            "grid_area": null,
            "grid_auto_columns": null,
            "grid_auto_flow": null,
            "grid_auto_rows": null,
            "grid_column": null,
            "grid_gap": null,
            "grid_row": null,
            "grid_template_areas": null,
            "grid_template_columns": null,
            "grid_template_rows": null,
            "height": null,
            "justify_content": null,
            "justify_items": null,
            "left": null,
            "margin": null,
            "max_height": null,
            "max_width": null,
            "min_height": null,
            "min_width": null,
            "object_fit": null,
            "object_position": null,
            "order": null,
            "overflow": null,
            "overflow_x": null,
            "overflow_y": null,
            "padding": null,
            "right": null,
            "top": null,
            "visibility": null,
            "width": null
          }
        },
        "58c3e4af7b8e4be280cf79b9b311b34b": {
          "model_module": "@jupyter-widgets/controls",
          "model_module_version": "1.5.0",
          "model_name": "HTMLModel",
          "state": {
            "_dom_classes": [],
            "_model_module": "@jupyter-widgets/controls",
            "_model_module_version": "1.5.0",
            "_model_name": "HTMLModel",
            "_view_count": null,
            "_view_module": "@jupyter-widgets/controls",
            "_view_module_version": "1.5.0",
            "_view_name": "HTMLView",
            "description": "",
            "description_tooltip": null,
            "layout": "IPY_MODEL_35d938f20d014fcdb0a4cbf04b961699",
            "placeholder": "​",
            "style": "IPY_MODEL_0f2d8fb1535149f69da87511e4510225",
            "value": "Extracting data files: "
          }
        },
        "5a5d394bc3564b049545fc55136a19ef": {
          "model_module": "@jupyter-widgets/controls",
          "model_module_version": "1.5.0",
          "model_name": "FloatProgressModel",
          "state": {
            "_dom_classes": [],
            "_model_module": "@jupyter-widgets/controls",
            "_model_module_version": "1.5.0",
            "_model_name": "FloatProgressModel",
            "_view_count": null,
            "_view_module": "@jupyter-widgets/controls",
            "_view_module_version": "1.5.0",
            "_view_name": "ProgressView",
            "bar_style": "danger",
            "description": "",
            "description_tooltip": null,
            "layout": "IPY_MODEL_e183c219fdbc48faad4f594a3916614c",
            "max": 9999,
            "min": 0,
            "orientation": "horizontal",
            "style": "IPY_MODEL_10eedbd403e24bc4b3bba68a67094ba6",
            "value": 144
          }
        },
        "5b7af6695468486e8e66609907fb6f7d": {
          "model_module": "@jupyter-widgets/controls",
          "model_module_version": "1.5.0",
          "model_name": "DescriptionStyleModel",
          "state": {
            "_model_module": "@jupyter-widgets/controls",
            "_model_module_version": "1.5.0",
            "_model_name": "DescriptionStyleModel",
            "_view_count": null,
            "_view_module": "@jupyter-widgets/base",
            "_view_module_version": "1.2.0",
            "_view_name": "StyleView",
            "description_width": ""
          }
        },
        "5c7a8e1156284e67b8cf4572306845c7": {
          "model_module": "@jupyter-widgets/controls",
          "model_module_version": "1.5.0",
          "model_name": "HBoxModel",
          "state": {
            "_dom_classes": [],
            "_model_module": "@jupyter-widgets/controls",
            "_model_module_version": "1.5.0",
            "_model_name": "HBoxModel",
            "_view_count": null,
            "_view_module": "@jupyter-widgets/controls",
            "_view_module_version": "1.5.0",
            "_view_name": "HBoxView",
            "box_style": "",
            "children": [
              "IPY_MODEL_ac80b43146bb4b928dc013ce9687c08f",
              "IPY_MODEL_11c9d8cc7b6e4f58b5f45357a9c1ea48",
              "IPY_MODEL_842158dc348c4247a3d2919069e8825a"
            ],
            "layout": "IPY_MODEL_216f12852afe4ffc961b0715d2903368"
          }
        },
        "5e05da47fe7e46f580a9a1a072622ccd": {
          "model_module": "@jupyter-widgets/controls",
          "model_module_version": "1.5.0",
          "model_name": "HTMLModel",
          "state": {
            "_dom_classes": [],
            "_model_module": "@jupyter-widgets/controls",
            "_model_module_version": "1.5.0",
            "_model_name": "HTMLModel",
            "_view_count": null,
            "_view_module": "@jupyter-widgets/controls",
            "_view_module_version": "1.5.0",
            "_view_name": "HTMLView",
            "description": "",
            "description_tooltip": null,
            "layout": "IPY_MODEL_2f43df25f8604add9317d0c019580129",
            "placeholder": "​",
            "style": "IPY_MODEL_abb478b92bb34bdb85519b5b57ef00c4",
            "value": " 0/0 [00:00&lt;?, ?it/s]"
          }
        },
        "6380551c27bb4d5c95d5531af2ca3536": {
          "model_module": "@jupyter-widgets/controls",
          "model_module_version": "1.5.0",
          "model_name": "DescriptionStyleModel",
          "state": {
            "_model_module": "@jupyter-widgets/controls",
            "_model_module_version": "1.5.0",
            "_model_name": "DescriptionStyleModel",
            "_view_count": null,
            "_view_module": "@jupyter-widgets/base",
            "_view_module_version": "1.2.0",
            "_view_name": "StyleView",
            "description_width": ""
          }
        },
        "65d5eab54d9847669c9059e5c5901d0f": {
          "model_module": "@jupyter-widgets/controls",
          "model_module_version": "1.5.0",
          "model_name": "HTMLModel",
          "state": {
            "_dom_classes": [],
            "_model_module": "@jupyter-widgets/controls",
            "_model_module_version": "1.5.0",
            "_model_name": "HTMLModel",
            "_view_count": null,
            "_view_module": "@jupyter-widgets/controls",
            "_view_module_version": "1.5.0",
            "_view_name": "HTMLView",
            "description": "",
            "description_tooltip": null,
            "layout": "IPY_MODEL_9280fc420d164988846bf1111cdd4f33",
            "placeholder": "​",
            "style": "IPY_MODEL_f1c82b42dde944e18e16680dce0865f3",
            "value": "Extracting data files: "
          }
        },
        "662900ecfd8b4e628b29a2b9926b9a08": {
          "model_module": "@jupyter-widgets/base",
          "model_module_version": "1.2.0",
          "model_name": "LayoutModel",
          "state": {
            "_model_module": "@jupyter-widgets/base",
            "_model_module_version": "1.2.0",
            "_model_name": "LayoutModel",
            "_view_count": null,
            "_view_module": "@jupyter-widgets/base",
            "_view_module_version": "1.2.0",
            "_view_name": "LayoutView",
            "align_content": null,
            "align_items": null,
            "align_self": null,
            "border": null,
            "bottom": null,
            "display": null,
            "flex": null,
            "flex_flow": null,
            "grid_area": null,
            "grid_auto_columns": null,
            "grid_auto_flow": null,
            "grid_auto_rows": null,
            "grid_column": null,
            "grid_gap": null,
            "grid_row": null,
            "grid_template_areas": null,
            "grid_template_columns": null,
            "grid_template_rows": null,
            "height": null,
            "justify_content": null,
            "justify_items": null,
            "left": null,
            "margin": null,
            "max_height": null,
            "max_width": null,
            "min_height": null,
            "min_width": null,
            "object_fit": null,
            "object_position": null,
            "order": null,
            "overflow": null,
            "overflow_x": null,
            "overflow_y": null,
            "padding": null,
            "right": null,
            "top": null,
            "visibility": null,
            "width": "20px"
          }
        },
        "669304128d024785a4a0df89a297b9e3": {
          "model_module": "@jupyter-widgets/controls",
          "model_module_version": "1.5.0",
          "model_name": "DescriptionStyleModel",
          "state": {
            "_model_module": "@jupyter-widgets/controls",
            "_model_module_version": "1.5.0",
            "_model_name": "DescriptionStyleModel",
            "_view_count": null,
            "_view_module": "@jupyter-widgets/base",
            "_view_module_version": "1.2.0",
            "_view_name": "StyleView",
            "description_width": ""
          }
        },
        "678aaf643297420091e4456613879e6a": {
          "model_module": "@jupyter-widgets/controls",
          "model_module_version": "1.5.0",
          "model_name": "FloatProgressModel",
          "state": {
            "_dom_classes": [],
            "_model_module": "@jupyter-widgets/controls",
            "_model_module_version": "1.5.0",
            "_model_name": "FloatProgressModel",
            "_view_count": null,
            "_view_module": "@jupyter-widgets/controls",
            "_view_module_version": "1.5.0",
            "_view_name": "ProgressView",
            "bar_style": "success",
            "description": "",
            "description_tooltip": null,
            "layout": "IPY_MODEL_67996c3ecdb34bef8f30063a65b4a6c7",
            "max": 1,
            "min": 0,
            "orientation": "horizontal",
            "style": "IPY_MODEL_c121423eb88f47ac925ccadd7f3d0bfc",
            "value": 0
          }
        },
        "67996c3ecdb34bef8f30063a65b4a6c7": {
          "model_module": "@jupyter-widgets/base",
          "model_module_version": "1.2.0",
          "model_name": "LayoutModel",
          "state": {
            "_model_module": "@jupyter-widgets/base",
            "_model_module_version": "1.2.0",
            "_model_name": "LayoutModel",
            "_view_count": null,
            "_view_module": "@jupyter-widgets/base",
            "_view_module_version": "1.2.0",
            "_view_name": "LayoutView",
            "align_content": null,
            "align_items": null,
            "align_self": null,
            "border": null,
            "bottom": null,
            "display": null,
            "flex": null,
            "flex_flow": null,
            "grid_area": null,
            "grid_auto_columns": null,
            "grid_auto_flow": null,
            "grid_auto_rows": null,
            "grid_column": null,
            "grid_gap": null,
            "grid_row": null,
            "grid_template_areas": null,
            "grid_template_columns": null,
            "grid_template_rows": null,
            "height": null,
            "justify_content": null,
            "justify_items": null,
            "left": null,
            "margin": null,
            "max_height": null,
            "max_width": null,
            "min_height": null,
            "min_width": null,
            "object_fit": null,
            "object_position": null,
            "order": null,
            "overflow": null,
            "overflow_x": null,
            "overflow_y": null,
            "padding": null,
            "right": null,
            "top": null,
            "visibility": null,
            "width": "20px"
          }
        },
        "68398c1006cd442486cae4c16af9e0ec": {
          "model_module": "@jupyter-widgets/base",
          "model_module_version": "1.2.0",
          "model_name": "LayoutModel",
          "state": {
            "_model_module": "@jupyter-widgets/base",
            "_model_module_version": "1.2.0",
            "_model_name": "LayoutModel",
            "_view_count": null,
            "_view_module": "@jupyter-widgets/base",
            "_view_module_version": "1.2.0",
            "_view_name": "LayoutView",
            "align_content": null,
            "align_items": null,
            "align_self": null,
            "border": null,
            "bottom": null,
            "display": null,
            "flex": null,
            "flex_flow": null,
            "grid_area": null,
            "grid_auto_columns": null,
            "grid_auto_flow": null,
            "grid_auto_rows": null,
            "grid_column": null,
            "grid_gap": null,
            "grid_row": null,
            "grid_template_areas": null,
            "grid_template_columns": null,
            "grid_template_rows": null,
            "height": null,
            "justify_content": null,
            "justify_items": null,
            "left": null,
            "margin": null,
            "max_height": null,
            "max_width": null,
            "min_height": null,
            "min_width": null,
            "object_fit": null,
            "object_position": null,
            "order": null,
            "overflow": null,
            "overflow_x": null,
            "overflow_y": null,
            "padding": null,
            "right": null,
            "top": null,
            "visibility": null,
            "width": null
          }
        },
        "6abea98ccda440ea9d761c0b7a459e9c": {
          "model_module": "@jupyter-widgets/base",
          "model_module_version": "1.2.0",
          "model_name": "LayoutModel",
          "state": {
            "_model_module": "@jupyter-widgets/base",
            "_model_module_version": "1.2.0",
            "_model_name": "LayoutModel",
            "_view_count": null,
            "_view_module": "@jupyter-widgets/base",
            "_view_module_version": "1.2.0",
            "_view_name": "LayoutView",
            "align_content": null,
            "align_items": null,
            "align_self": null,
            "border": null,
            "bottom": null,
            "display": null,
            "flex": null,
            "flex_flow": null,
            "grid_area": null,
            "grid_auto_columns": null,
            "grid_auto_flow": null,
            "grid_auto_rows": null,
            "grid_column": null,
            "grid_gap": null,
            "grid_row": null,
            "grid_template_areas": null,
            "grid_template_columns": null,
            "grid_template_rows": null,
            "height": null,
            "justify_content": null,
            "justify_items": null,
            "left": null,
            "margin": null,
            "max_height": null,
            "max_width": null,
            "min_height": null,
            "min_width": null,
            "object_fit": null,
            "object_position": null,
            "order": null,
            "overflow": null,
            "overflow_x": null,
            "overflow_y": null,
            "padding": null,
            "right": null,
            "top": null,
            "visibility": null,
            "width": null
          }
        },
        "6bf50ec5270146fbb65295a4c9ad0f5c": {
          "model_module": "@jupyter-widgets/controls",
          "model_module_version": "1.5.0",
          "model_name": "HBoxModel",
          "state": {
            "_dom_classes": [],
            "_model_module": "@jupyter-widgets/controls",
            "_model_module_version": "1.5.0",
            "_model_name": "HBoxModel",
            "_view_count": null,
            "_view_module": "@jupyter-widgets/controls",
            "_view_module_version": "1.5.0",
            "_view_name": "HBoxView",
            "box_style": "",
            "children": [
              "IPY_MODEL_d038c851f2cb4b6b959c20d48a12d1e5",
              "IPY_MODEL_5015ce9ea74645e08981cfee5ec4d3dd",
              "IPY_MODEL_f53a99cde06c4267b30836882449bfb8"
            ],
            "layout": "IPY_MODEL_e88d15667dd5452baf6f938af4abf3c5"
          }
        },
        "7080d7780a7f4eedaa8411ddee673152": {
          "model_module": "@jupyter-widgets/controls",
          "model_module_version": "1.5.0",
          "model_name": "HBoxModel",
          "state": {
            "_dom_classes": [],
            "_model_module": "@jupyter-widgets/controls",
            "_model_module_version": "1.5.0",
            "_model_name": "HBoxModel",
            "_view_count": null,
            "_view_module": "@jupyter-widgets/controls",
            "_view_module_version": "1.5.0",
            "_view_name": "HBoxView",
            "box_style": "",
            "children": [
              "IPY_MODEL_b57262d84c2341d09f5b8434461b57ac",
              "IPY_MODEL_678aaf643297420091e4456613879e6a",
              "IPY_MODEL_23c330374ea14a3a860b4e64accbc79f"
            ],
            "layout": "IPY_MODEL_9750e65d7c2f403ca3727782a03b545d"
          }
        },
        "70910b4710bb460d99ea7b0530747125": {
          "model_module": "@jupyter-widgets/base",
          "model_module_version": "1.2.0",
          "model_name": "LayoutModel",
          "state": {
            "_model_module": "@jupyter-widgets/base",
            "_model_module_version": "1.2.0",
            "_model_name": "LayoutModel",
            "_view_count": null,
            "_view_module": "@jupyter-widgets/base",
            "_view_module_version": "1.2.0",
            "_view_name": "LayoutView",
            "align_content": null,
            "align_items": null,
            "align_self": null,
            "border": null,
            "bottom": null,
            "display": null,
            "flex": null,
            "flex_flow": null,
            "grid_area": null,
            "grid_auto_columns": null,
            "grid_auto_flow": null,
            "grid_auto_rows": null,
            "grid_column": null,
            "grid_gap": null,
            "grid_row": null,
            "grid_template_areas": null,
            "grid_template_columns": null,
            "grid_template_rows": null,
            "height": null,
            "justify_content": null,
            "justify_items": null,
            "left": null,
            "margin": null,
            "max_height": null,
            "max_width": null,
            "min_height": null,
            "min_width": null,
            "object_fit": null,
            "object_position": null,
            "order": null,
            "overflow": null,
            "overflow_x": null,
            "overflow_y": null,
            "padding": null,
            "right": null,
            "top": null,
            "visibility": null,
            "width": null
          }
        },
        "70ce029c919c4b71a8d7a436e3907a5e": {
          "model_module": "@jupyter-widgets/controls",
          "model_module_version": "1.5.0",
          "model_name": "HTMLModel",
          "state": {
            "_dom_classes": [],
            "_model_module": "@jupyter-widgets/controls",
            "_model_module_version": "1.5.0",
            "_model_name": "HTMLModel",
            "_view_count": null,
            "_view_module": "@jupyter-widgets/controls",
            "_view_module_version": "1.5.0",
            "_view_name": "HTMLView",
            "description": "",
            "description_tooltip": null,
            "layout": "IPY_MODEL_ba60373f925e42a29b1f67364c917dc8",
            "placeholder": "​",
            "style": "IPY_MODEL_15f12584b3254263b50ec21251ce97b2",
            "value": " 0/0 [00:00&lt;?, ?it/s]"
          }
        },
        "711f78cbbda34e1097e50c7c3022e4f0": {
          "model_module": "@jupyter-widgets/controls",
          "model_module_version": "1.5.0",
          "model_name": "DescriptionStyleModel",
          "state": {
            "_model_module": "@jupyter-widgets/controls",
            "_model_module_version": "1.5.0",
            "_model_name": "DescriptionStyleModel",
            "_view_count": null,
            "_view_module": "@jupyter-widgets/base",
            "_view_module_version": "1.2.0",
            "_view_name": "StyleView",
            "description_width": ""
          }
        },
        "71f1c20513d44e4b857fbbab6b8a16fc": {
          "model_module": "@jupyter-widgets/controls",
          "model_module_version": "1.5.0",
          "model_name": "DescriptionStyleModel",
          "state": {
            "_model_module": "@jupyter-widgets/controls",
            "_model_module_version": "1.5.0",
            "_model_name": "DescriptionStyleModel",
            "_view_count": null,
            "_view_module": "@jupyter-widgets/base",
            "_view_module_version": "1.2.0",
            "_view_name": "StyleView",
            "description_width": ""
          }
        },
        "7222a90a28cb47638b9c20a5e18e151d": {
          "model_module": "@jupyter-widgets/controls",
          "model_module_version": "1.5.0",
          "model_name": "FloatProgressModel",
          "state": {
            "_dom_classes": [],
            "_model_module": "@jupyter-widgets/controls",
            "_model_module_version": "1.5.0",
            "_model_name": "FloatProgressModel",
            "_view_count": null,
            "_view_module": "@jupyter-widgets/controls",
            "_view_module_version": "1.5.0",
            "_view_name": "ProgressView",
            "bar_style": "success",
            "description": "",
            "description_tooltip": null,
            "layout": "IPY_MODEL_662900ecfd8b4e628b29a2b9926b9a08",
            "max": 1,
            "min": 0,
            "orientation": "horizontal",
            "style": "IPY_MODEL_467eca7f8a974645b8979094e1a5023e",
            "value": 0
          }
        },
        "7426011c61894c94aef33aa1bcb735a2": {
          "model_module": "@jupyter-widgets/controls",
          "model_module_version": "1.5.0",
          "model_name": "HTMLModel",
          "state": {
            "_dom_classes": [],
            "_model_module": "@jupyter-widgets/controls",
            "_model_module_version": "1.5.0",
            "_model_name": "HTMLModel",
            "_view_count": null,
            "_view_module": "@jupyter-widgets/controls",
            "_view_module_version": "1.5.0",
            "_view_name": "HTMLView",
            "description": "",
            "description_tooltip": null,
            "layout": "IPY_MODEL_405a05057fe542968181f8d08782ccf2",
            "placeholder": "​",
            "style": "IPY_MODEL_e6c0a16f47184fa99b2ba2dbd2526494",
            "value": "Downloading data files: "
          }
        },
        "7715c0a355204574b96f437f0c7ac0e7": {
          "model_module": "@jupyter-widgets/controls",
          "model_module_version": "1.5.0",
          "model_name": "ProgressStyleModel",
          "state": {
            "_model_module": "@jupyter-widgets/controls",
            "_model_module_version": "1.5.0",
            "_model_name": "ProgressStyleModel",
            "_view_count": null,
            "_view_module": "@jupyter-widgets/base",
            "_view_module_version": "1.2.0",
            "_view_name": "StyleView",
            "bar_color": null,
            "description_width": ""
          }
        },
        "79e3276eb0fe42e5bac4f25f1ba00c8a": {
          "model_module": "@jupyter-widgets/controls",
          "model_module_version": "1.5.0",
          "model_name": "DescriptionStyleModel",
          "state": {
            "_model_module": "@jupyter-widgets/controls",
            "_model_module_version": "1.5.0",
            "_model_name": "DescriptionStyleModel",
            "_view_count": null,
            "_view_module": "@jupyter-widgets/base",
            "_view_module_version": "1.2.0",
            "_view_name": "StyleView",
            "description_width": ""
          }
        },
        "7aeda03881ef485f9860d20f3b9e5029": {
          "model_module": "@jupyter-widgets/controls",
          "model_module_version": "1.5.0",
          "model_name": "DescriptionStyleModel",
          "state": {
            "_model_module": "@jupyter-widgets/controls",
            "_model_module_version": "1.5.0",
            "_model_name": "DescriptionStyleModel",
            "_view_count": null,
            "_view_module": "@jupyter-widgets/base",
            "_view_module_version": "1.2.0",
            "_view_name": "StyleView",
            "description_width": ""
          }
        },
        "7b5993a3277a494d9cf2ac5e15fac177": {
          "model_module": "@jupyter-widgets/base",
          "model_module_version": "1.2.0",
          "model_name": "LayoutModel",
          "state": {
            "_model_module": "@jupyter-widgets/base",
            "_model_module_version": "1.2.0",
            "_model_name": "LayoutModel",
            "_view_count": null,
            "_view_module": "@jupyter-widgets/base",
            "_view_module_version": "1.2.0",
            "_view_name": "LayoutView",
            "align_content": null,
            "align_items": null,
            "align_self": null,
            "border": null,
            "bottom": null,
            "display": null,
            "flex": null,
            "flex_flow": null,
            "grid_area": null,
            "grid_auto_columns": null,
            "grid_auto_flow": null,
            "grid_auto_rows": null,
            "grid_column": null,
            "grid_gap": null,
            "grid_row": null,
            "grid_template_areas": null,
            "grid_template_columns": null,
            "grid_template_rows": null,
            "height": null,
            "justify_content": null,
            "justify_items": null,
            "left": null,
            "margin": null,
            "max_height": null,
            "max_width": null,
            "min_height": null,
            "min_width": null,
            "object_fit": null,
            "object_position": null,
            "order": null,
            "overflow": null,
            "overflow_x": null,
            "overflow_y": null,
            "padding": null,
            "right": null,
            "top": null,
            "visibility": null,
            "width": null
          }
        },
        "7f224ca0fafc487aae2995ca43cdbde7": {
          "model_module": "@jupyter-widgets/controls",
          "model_module_version": "1.5.0",
          "model_name": "FloatProgressModel",
          "state": {
            "_dom_classes": [],
            "_model_module": "@jupyter-widgets/controls",
            "_model_module_version": "1.5.0",
            "_model_name": "FloatProgressModel",
            "_view_count": null,
            "_view_module": "@jupyter-widgets/controls",
            "_view_module_version": "1.5.0",
            "_view_name": "ProgressView",
            "bar_style": "success",
            "description": "",
            "description_tooltip": null,
            "layout": "IPY_MODEL_bc00fa9c5da84bbc82262ed640ea90e6",
            "max": 1,
            "min": 0,
            "orientation": "horizontal",
            "style": "IPY_MODEL_3ce96a8aca714f9793b8dccb3d4c47a6",
            "value": 1
          }
        },
        "7fd610f23e08478a8908d2b3b0c8ce1c": {
          "model_module": "@jupyter-widgets/base",
          "model_module_version": "1.2.0",
          "model_name": "LayoutModel",
          "state": {
            "_model_module": "@jupyter-widgets/base",
            "_model_module_version": "1.2.0",
            "_model_name": "LayoutModel",
            "_view_count": null,
            "_view_module": "@jupyter-widgets/base",
            "_view_module_version": "1.2.0",
            "_view_name": "LayoutView",
            "align_content": null,
            "align_items": null,
            "align_self": null,
            "border": null,
            "bottom": null,
            "display": null,
            "flex": null,
            "flex_flow": null,
            "grid_area": null,
            "grid_auto_columns": null,
            "grid_auto_flow": null,
            "grid_auto_rows": null,
            "grid_column": null,
            "grid_gap": null,
            "grid_row": null,
            "grid_template_areas": null,
            "grid_template_columns": null,
            "grid_template_rows": null,
            "height": null,
            "justify_content": null,
            "justify_items": null,
            "left": null,
            "margin": null,
            "max_height": null,
            "max_width": null,
            "min_height": null,
            "min_width": null,
            "object_fit": null,
            "object_position": null,
            "order": null,
            "overflow": null,
            "overflow_x": null,
            "overflow_y": null,
            "padding": null,
            "right": null,
            "top": null,
            "visibility": null,
            "width": null
          }
        },
        "803a7e1e8c0c4da4959b4b16b331aa72": {
          "model_module": "@jupyter-widgets/controls",
          "model_module_version": "1.5.0",
          "model_name": "HTMLModel",
          "state": {
            "_dom_classes": [],
            "_model_module": "@jupyter-widgets/controls",
            "_model_module_version": "1.5.0",
            "_model_name": "HTMLModel",
            "_view_count": null,
            "_view_module": "@jupyter-widgets/controls",
            "_view_module_version": "1.5.0",
            "_view_name": "HTMLView",
            "description": "",
            "description_tooltip": null,
            "layout": "IPY_MODEL_99f1e20e12e64de8b4b713c980ec5d62",
            "placeholder": "​",
            "style": "IPY_MODEL_6380551c27bb4d5c95d5531af2ca3536",
            "value": "Downloading data files: 100%"
          }
        },
        "8068519c5f3747a08cffc4acb9a276fd": {
          "model_module": "@jupyter-widgets/controls",
          "model_module_version": "1.5.0",
          "model_name": "ProgressStyleModel",
          "state": {
            "_model_module": "@jupyter-widgets/controls",
            "_model_module_version": "1.5.0",
            "_model_name": "ProgressStyleModel",
            "_view_count": null,
            "_view_module": "@jupyter-widgets/base",
            "_view_module_version": "1.2.0",
            "_view_name": "StyleView",
            "bar_color": null,
            "description_width": ""
          }
        },
        "815bc852e11c4a20b9ba8f43264458af": {
          "model_module": "@jupyter-widgets/controls",
          "model_module_version": "1.5.0",
          "model_name": "ProgressStyleModel",
          "state": {
            "_model_module": "@jupyter-widgets/controls",
            "_model_module_version": "1.5.0",
            "_model_name": "ProgressStyleModel",
            "_view_count": null,
            "_view_module": "@jupyter-widgets/base",
            "_view_module_version": "1.2.0",
            "_view_name": "StyleView",
            "bar_color": null,
            "description_width": ""
          }
        },
        "829292d3823c49599ba6331775045dbc": {
          "model_module": "@jupyter-widgets/controls",
          "model_module_version": "1.5.0",
          "model_name": "ProgressStyleModel",
          "state": {
            "_model_module": "@jupyter-widgets/controls",
            "_model_module_version": "1.5.0",
            "_model_name": "ProgressStyleModel",
            "_view_count": null,
            "_view_module": "@jupyter-widgets/base",
            "_view_module_version": "1.2.0",
            "_view_name": "StyleView",
            "bar_color": null,
            "description_width": ""
          }
        },
        "842158dc348c4247a3d2919069e8825a": {
          "model_module": "@jupyter-widgets/controls",
          "model_module_version": "1.5.0",
          "model_name": "HTMLModel",
          "state": {
            "_dom_classes": [],
            "_model_module": "@jupyter-widgets/controls",
            "_model_module_version": "1.5.0",
            "_model_name": "HTMLModel",
            "_view_count": null,
            "_view_module": "@jupyter-widgets/controls",
            "_view_module_version": "1.5.0",
            "_view_name": "HTMLView",
            "description": "",
            "description_tooltip": null,
            "layout": "IPY_MODEL_6abea98ccda440ea9d761c0b7a459e9c",
            "placeholder": "​",
            "style": "IPY_MODEL_711f78cbbda34e1097e50c7c3022e4f0",
            "value": " 9999/9999 [00:01&lt;00:00, 5136.80it/s]"
          }
        },
        "856680471e4947bf9e1635b16593b0a2": {
          "model_module": "@jupyter-widgets/controls",
          "model_module_version": "1.5.0",
          "model_name": "HTMLModel",
          "state": {
            "_dom_classes": [],
            "_model_module": "@jupyter-widgets/controls",
            "_model_module_version": "1.5.0",
            "_model_name": "HTMLModel",
            "_view_count": null,
            "_view_module": "@jupyter-widgets/controls",
            "_view_module_version": "1.5.0",
            "_view_name": "HTMLView",
            "description": "",
            "description_tooltip": null,
            "layout": "IPY_MODEL_19c5fdd96e0b42dd913107fda26c1af9",
            "placeholder": "​",
            "style": "IPY_MODEL_51f13f215d1c426489234f6d56245ec3",
            "value": " 1.84k/1.84k [00:00&lt;00:00, 48.2kB/s]"
          }
        },
        "865c9ec9e7ef4161a53ef1f81ab95c10": {
          "model_module": "@jupyter-widgets/base",
          "model_module_version": "1.2.0",
          "model_name": "LayoutModel",
          "state": {
            "_model_module": "@jupyter-widgets/base",
            "_model_module_version": "1.2.0",
            "_model_name": "LayoutModel",
            "_view_count": null,
            "_view_module": "@jupyter-widgets/base",
            "_view_module_version": "1.2.0",
            "_view_name": "LayoutView",
            "align_content": null,
            "align_items": null,
            "align_self": null,
            "border": null,
            "bottom": null,
            "display": null,
            "flex": null,
            "flex_flow": null,
            "grid_area": null,
            "grid_auto_columns": null,
            "grid_auto_flow": null,
            "grid_auto_rows": null,
            "grid_column": null,
            "grid_gap": null,
            "grid_row": null,
            "grid_template_areas": null,
            "grid_template_columns": null,
            "grid_template_rows": null,
            "height": null,
            "justify_content": null,
            "justify_items": null,
            "left": null,
            "margin": null,
            "max_height": null,
            "max_width": null,
            "min_height": null,
            "min_width": null,
            "object_fit": null,
            "object_position": null,
            "order": null,
            "overflow": null,
            "overflow_x": null,
            "overflow_y": null,
            "padding": null,
            "right": null,
            "top": null,
            "visibility": null,
            "width": null
          }
        },
        "8c6a49cdb9164760a4969a6cd3d74f04": {
          "model_module": "@jupyter-widgets/base",
          "model_module_version": "1.2.0",
          "model_name": "LayoutModel",
          "state": {
            "_model_module": "@jupyter-widgets/base",
            "_model_module_version": "1.2.0",
            "_model_name": "LayoutModel",
            "_view_count": null,
            "_view_module": "@jupyter-widgets/base",
            "_view_module_version": "1.2.0",
            "_view_name": "LayoutView",
            "align_content": null,
            "align_items": null,
            "align_self": null,
            "border": null,
            "bottom": null,
            "display": null,
            "flex": null,
            "flex_flow": null,
            "grid_area": null,
            "grid_auto_columns": null,
            "grid_auto_flow": null,
            "grid_auto_rows": null,
            "grid_column": null,
            "grid_gap": null,
            "grid_row": null,
            "grid_template_areas": null,
            "grid_template_columns": null,
            "grid_template_rows": null,
            "height": null,
            "justify_content": null,
            "justify_items": null,
            "left": null,
            "margin": null,
            "max_height": null,
            "max_width": null,
            "min_height": null,
            "min_width": null,
            "object_fit": null,
            "object_position": null,
            "order": null,
            "overflow": null,
            "overflow_x": null,
            "overflow_y": null,
            "padding": null,
            "right": null,
            "top": null,
            "visibility": null,
            "width": null
          }
        },
        "8c6a7d9e08304ef99e877c336b8a32f3": {
          "model_module": "@jupyter-widgets/base",
          "model_module_version": "1.2.0",
          "model_name": "LayoutModel",
          "state": {
            "_model_module": "@jupyter-widgets/base",
            "_model_module_version": "1.2.0",
            "_model_name": "LayoutModel",
            "_view_count": null,
            "_view_module": "@jupyter-widgets/base",
            "_view_module_version": "1.2.0",
            "_view_name": "LayoutView",
            "align_content": null,
            "align_items": null,
            "align_self": null,
            "border": null,
            "bottom": null,
            "display": null,
            "flex": null,
            "flex_flow": null,
            "grid_area": null,
            "grid_auto_columns": null,
            "grid_auto_flow": null,
            "grid_auto_rows": null,
            "grid_column": null,
            "grid_gap": null,
            "grid_row": null,
            "grid_template_areas": null,
            "grid_template_columns": null,
            "grid_template_rows": null,
            "height": null,
            "justify_content": null,
            "justify_items": null,
            "left": null,
            "margin": null,
            "max_height": null,
            "max_width": null,
            "min_height": null,
            "min_width": null,
            "object_fit": null,
            "object_position": null,
            "order": null,
            "overflow": null,
            "overflow_x": null,
            "overflow_y": null,
            "padding": null,
            "right": null,
            "top": null,
            "visibility": null,
            "width": null
          }
        },
        "9280fc420d164988846bf1111cdd4f33": {
          "model_module": "@jupyter-widgets/base",
          "model_module_version": "1.2.0",
          "model_name": "LayoutModel",
          "state": {
            "_model_module": "@jupyter-widgets/base",
            "_model_module_version": "1.2.0",
            "_model_name": "LayoutModel",
            "_view_count": null,
            "_view_module": "@jupyter-widgets/base",
            "_view_module_version": "1.2.0",
            "_view_name": "LayoutView",
            "align_content": null,
            "align_items": null,
            "align_self": null,
            "border": null,
            "bottom": null,
            "display": null,
            "flex": null,
            "flex_flow": null,
            "grid_area": null,
            "grid_auto_columns": null,
            "grid_auto_flow": null,
            "grid_auto_rows": null,
            "grid_column": null,
            "grid_gap": null,
            "grid_row": null,
            "grid_template_areas": null,
            "grid_template_columns": null,
            "grid_template_rows": null,
            "height": null,
            "justify_content": null,
            "justify_items": null,
            "left": null,
            "margin": null,
            "max_height": null,
            "max_width": null,
            "min_height": null,
            "min_width": null,
            "object_fit": null,
            "object_position": null,
            "order": null,
            "overflow": null,
            "overflow_x": null,
            "overflow_y": null,
            "padding": null,
            "right": null,
            "top": null,
            "visibility": null,
            "width": null
          }
        },
        "929a23bb28dc4bafa140e055dd221e3e": {
          "model_module": "@jupyter-widgets/base",
          "model_module_version": "1.2.0",
          "model_name": "LayoutModel",
          "state": {
            "_model_module": "@jupyter-widgets/base",
            "_model_module_version": "1.2.0",
            "_model_name": "LayoutModel",
            "_view_count": null,
            "_view_module": "@jupyter-widgets/base",
            "_view_module_version": "1.2.0",
            "_view_name": "LayoutView",
            "align_content": null,
            "align_items": null,
            "align_self": null,
            "border": null,
            "bottom": null,
            "display": null,
            "flex": null,
            "flex_flow": null,
            "grid_area": null,
            "grid_auto_columns": null,
            "grid_auto_flow": null,
            "grid_auto_rows": null,
            "grid_column": null,
            "grid_gap": null,
            "grid_row": null,
            "grid_template_areas": null,
            "grid_template_columns": null,
            "grid_template_rows": null,
            "height": null,
            "justify_content": null,
            "justify_items": null,
            "left": null,
            "margin": null,
            "max_height": null,
            "max_width": null,
            "min_height": null,
            "min_width": null,
            "object_fit": null,
            "object_position": null,
            "order": null,
            "overflow": null,
            "overflow_x": null,
            "overflow_y": null,
            "padding": null,
            "right": null,
            "top": null,
            "visibility": null,
            "width": null
          }
        },
        "944c7e886d2e4a1992b0ee895f896f7f": {
          "model_module": "@jupyter-widgets/base",
          "model_module_version": "1.2.0",
          "model_name": "LayoutModel",
          "state": {
            "_model_module": "@jupyter-widgets/base",
            "_model_module_version": "1.2.0",
            "_model_name": "LayoutModel",
            "_view_count": null,
            "_view_module": "@jupyter-widgets/base",
            "_view_module_version": "1.2.0",
            "_view_name": "LayoutView",
            "align_content": null,
            "align_items": null,
            "align_self": null,
            "border": null,
            "bottom": null,
            "display": null,
            "flex": null,
            "flex_flow": null,
            "grid_area": null,
            "grid_auto_columns": null,
            "grid_auto_flow": null,
            "grid_auto_rows": null,
            "grid_column": null,
            "grid_gap": null,
            "grid_row": null,
            "grid_template_areas": null,
            "grid_template_columns": null,
            "grid_template_rows": null,
            "height": null,
            "justify_content": null,
            "justify_items": null,
            "left": null,
            "margin": null,
            "max_height": null,
            "max_width": null,
            "min_height": null,
            "min_width": null,
            "object_fit": null,
            "object_position": null,
            "order": null,
            "overflow": null,
            "overflow_x": null,
            "overflow_y": null,
            "padding": null,
            "right": null,
            "top": null,
            "visibility": null,
            "width": null
          }
        },
        "95e46641b99242ff921e992fc1215bb1": {
          "model_module": "@jupyter-widgets/controls",
          "model_module_version": "1.5.0",
          "model_name": "HBoxModel",
          "state": {
            "_dom_classes": [],
            "_model_module": "@jupyter-widgets/controls",
            "_model_module_version": "1.5.0",
            "_model_name": "HBoxModel",
            "_view_count": null,
            "_view_module": "@jupyter-widgets/controls",
            "_view_module_version": "1.5.0",
            "_view_name": "HBoxView",
            "box_style": "",
            "children": [
              "IPY_MODEL_e85ad0683fef42619591984046f9d053",
              "IPY_MODEL_f27277d94c814998b0d553a075d3d632",
              "IPY_MODEL_2db8b405dce844d6a064055aab69dfe4"
            ],
            "layout": "IPY_MODEL_17e727913096415f9e0fa4e8173d2d55"
          }
        },
        "95e8f43429944fd1ab81b1694fd3d4ce": {
          "model_module": "@jupyter-widgets/controls",
          "model_module_version": "1.5.0",
          "model_name": "HTMLModel",
          "state": {
            "_dom_classes": [],
            "_model_module": "@jupyter-widgets/controls",
            "_model_module_version": "1.5.0",
            "_model_name": "HTMLModel",
            "_view_count": null,
            "_view_module": "@jupyter-widgets/controls",
            "_view_module_version": "1.5.0",
            "_view_name": "HTMLView",
            "description": "",
            "description_tooltip": null,
            "layout": "IPY_MODEL_1b2938acb4fe441b8a87876e8d67b2e9",
            "placeholder": "​",
            "style": "IPY_MODEL_3e99ead820d44cee82d3ee2307f3f5e7",
            "value": "Resolving data files: 100%"
          }
        },
        "968f642857404f47ba8f11584572835c": {
          "model_module": "@jupyter-widgets/base",
          "model_module_version": "1.2.0",
          "model_name": "LayoutModel",
          "state": {
            "_model_module": "@jupyter-widgets/base",
            "_model_module_version": "1.2.0",
            "_model_name": "LayoutModel",
            "_view_count": null,
            "_view_module": "@jupyter-widgets/base",
            "_view_module_version": "1.2.0",
            "_view_name": "LayoutView",
            "align_content": null,
            "align_items": null,
            "align_self": null,
            "border": null,
            "bottom": null,
            "display": null,
            "flex": null,
            "flex_flow": null,
            "grid_area": null,
            "grid_auto_columns": null,
            "grid_auto_flow": null,
            "grid_auto_rows": null,
            "grid_column": null,
            "grid_gap": null,
            "grid_row": null,
            "grid_template_areas": null,
            "grid_template_columns": null,
            "grid_template_rows": null,
            "height": null,
            "justify_content": null,
            "justify_items": null,
            "left": null,
            "margin": null,
            "max_height": null,
            "max_width": null,
            "min_height": null,
            "min_width": null,
            "object_fit": null,
            "object_position": null,
            "order": null,
            "overflow": null,
            "overflow_x": null,
            "overflow_y": null,
            "padding": null,
            "right": null,
            "top": null,
            "visibility": null,
            "width": null
          }
        },
        "9750e65d7c2f403ca3727782a03b545d": {
          "model_module": "@jupyter-widgets/base",
          "model_module_version": "1.2.0",
          "model_name": "LayoutModel",
          "state": {
            "_model_module": "@jupyter-widgets/base",
            "_model_module_version": "1.2.0",
            "_model_name": "LayoutModel",
            "_view_count": null,
            "_view_module": "@jupyter-widgets/base",
            "_view_module_version": "1.2.0",
            "_view_name": "LayoutView",
            "align_content": null,
            "align_items": null,
            "align_self": null,
            "border": null,
            "bottom": null,
            "display": null,
            "flex": null,
            "flex_flow": null,
            "grid_area": null,
            "grid_auto_columns": null,
            "grid_auto_flow": null,
            "grid_auto_rows": null,
            "grid_column": null,
            "grid_gap": null,
            "grid_row": null,
            "grid_template_areas": null,
            "grid_template_columns": null,
            "grid_template_rows": null,
            "height": null,
            "justify_content": null,
            "justify_items": null,
            "left": null,
            "margin": null,
            "max_height": null,
            "max_width": null,
            "min_height": null,
            "min_width": null,
            "object_fit": null,
            "object_position": null,
            "order": null,
            "overflow": null,
            "overflow_x": null,
            "overflow_y": null,
            "padding": null,
            "right": null,
            "top": null,
            "visibility": null,
            "width": null
          }
        },
        "99f1e20e12e64de8b4b713c980ec5d62": {
          "model_module": "@jupyter-widgets/base",
          "model_module_version": "1.2.0",
          "model_name": "LayoutModel",
          "state": {
            "_model_module": "@jupyter-widgets/base",
            "_model_module_version": "1.2.0",
            "_model_name": "LayoutModel",
            "_view_count": null,
            "_view_module": "@jupyter-widgets/base",
            "_view_module_version": "1.2.0",
            "_view_name": "LayoutView",
            "align_content": null,
            "align_items": null,
            "align_self": null,
            "border": null,
            "bottom": null,
            "display": null,
            "flex": null,
            "flex_flow": null,
            "grid_area": null,
            "grid_auto_columns": null,
            "grid_auto_flow": null,
            "grid_auto_rows": null,
            "grid_column": null,
            "grid_gap": null,
            "grid_row": null,
            "grid_template_areas": null,
            "grid_template_columns": null,
            "grid_template_rows": null,
            "height": null,
            "justify_content": null,
            "justify_items": null,
            "left": null,
            "margin": null,
            "max_height": null,
            "max_width": null,
            "min_height": null,
            "min_width": null,
            "object_fit": null,
            "object_position": null,
            "order": null,
            "overflow": null,
            "overflow_x": null,
            "overflow_y": null,
            "padding": null,
            "right": null,
            "top": null,
            "visibility": null,
            "width": null
          }
        },
        "9c22c74e5aa745cc80bf48719fb25c76": {
          "model_module": "@jupyter-widgets/controls",
          "model_module_version": "1.5.0",
          "model_name": "HBoxModel",
          "state": {
            "_dom_classes": [],
            "_model_module": "@jupyter-widgets/controls",
            "_model_module_version": "1.5.0",
            "_model_name": "HBoxModel",
            "_view_count": null,
            "_view_module": "@jupyter-widgets/controls",
            "_view_module_version": "1.5.0",
            "_view_name": "HBoxView",
            "box_style": "",
            "children": [
              "IPY_MODEL_f2bbe06025694ad594f46d408ea306f6",
              "IPY_MODEL_7f224ca0fafc487aae2995ca43cdbde7",
              "IPY_MODEL_a3a2a2820f5f4e19b2d471cb3d3fdc76"
            ],
            "layout": "IPY_MODEL_367d04b9a1444220bd84cc226c4c8e5a"
          }
        },
        "9f21d2ded83d45978501552936061227": {
          "model_module": "@jupyter-widgets/base",
          "model_module_version": "1.2.0",
          "model_name": "LayoutModel",
          "state": {
            "_model_module": "@jupyter-widgets/base",
            "_model_module_version": "1.2.0",
            "_model_name": "LayoutModel",
            "_view_count": null,
            "_view_module": "@jupyter-widgets/base",
            "_view_module_version": "1.2.0",
            "_view_name": "LayoutView",
            "align_content": null,
            "align_items": null,
            "align_self": null,
            "border": null,
            "bottom": null,
            "display": null,
            "flex": null,
            "flex_flow": null,
            "grid_area": null,
            "grid_auto_columns": null,
            "grid_auto_flow": null,
            "grid_auto_rows": null,
            "grid_column": null,
            "grid_gap": null,
            "grid_row": null,
            "grid_template_areas": null,
            "grid_template_columns": null,
            "grid_template_rows": null,
            "height": null,
            "justify_content": null,
            "justify_items": null,
            "left": null,
            "margin": null,
            "max_height": null,
            "max_width": null,
            "min_height": null,
            "min_width": null,
            "object_fit": null,
            "object_position": null,
            "order": null,
            "overflow": null,
            "overflow_x": null,
            "overflow_y": null,
            "padding": null,
            "right": null,
            "top": null,
            "visibility": null,
            "width": null
          }
        },
        "a381e3d78d7e4f3197a6af33f78d6c18": {
          "model_module": "@jupyter-widgets/controls",
          "model_module_version": "1.5.0",
          "model_name": "ProgressStyleModel",
          "state": {
            "_model_module": "@jupyter-widgets/controls",
            "_model_module_version": "1.5.0",
            "_model_name": "ProgressStyleModel",
            "_view_count": null,
            "_view_module": "@jupyter-widgets/base",
            "_view_module_version": "1.2.0",
            "_view_name": "StyleView",
            "bar_color": null,
            "description_width": ""
          }
        },
        "a3a2a2820f5f4e19b2d471cb3d3fdc76": {
          "model_module": "@jupyter-widgets/controls",
          "model_module_version": "1.5.0",
          "model_name": "HTMLModel",
          "state": {
            "_dom_classes": [],
            "_model_module": "@jupyter-widgets/controls",
            "_model_module_version": "1.5.0",
            "_model_name": "HTMLModel",
            "_view_count": null,
            "_view_module": "@jupyter-widgets/controls",
            "_view_module_version": "1.5.0",
            "_view_name": "HTMLView",
            "description": "",
            "description_tooltip": null,
            "layout": "IPY_MODEL_68398c1006cd442486cae4c16af9e0ec",
            "placeholder": "​",
            "style": "IPY_MODEL_ca9bf9d0f9f649b8babcf75b0976caab",
            "value": " 1209/0 [00:00&lt;00:00, 3588.07 examples/s]"
          }
        },
        "a58c8c4ad29e4cb9a99d30c88919039b": {
          "model_module": "@jupyter-widgets/controls",
          "model_module_version": "1.5.0",
          "model_name": "DescriptionStyleModel",
          "state": {
            "_model_module": "@jupyter-widgets/controls",
            "_model_module_version": "1.5.0",
            "_model_name": "DescriptionStyleModel",
            "_view_count": null,
            "_view_module": "@jupyter-widgets/base",
            "_view_module_version": "1.2.0",
            "_view_name": "StyleView",
            "description_width": ""
          }
        },
        "a62012fe285e4ec4a572d554069650e5": {
          "model_module": "@jupyter-widgets/base",
          "model_module_version": "1.2.0",
          "model_name": "LayoutModel",
          "state": {
            "_model_module": "@jupyter-widgets/base",
            "_model_module_version": "1.2.0",
            "_model_name": "LayoutModel",
            "_view_count": null,
            "_view_module": "@jupyter-widgets/base",
            "_view_module_version": "1.2.0",
            "_view_name": "LayoutView",
            "align_content": null,
            "align_items": null,
            "align_self": null,
            "border": null,
            "bottom": null,
            "display": null,
            "flex": null,
            "flex_flow": null,
            "grid_area": null,
            "grid_auto_columns": null,
            "grid_auto_flow": null,
            "grid_auto_rows": null,
            "grid_column": null,
            "grid_gap": null,
            "grid_row": null,
            "grid_template_areas": null,
            "grid_template_columns": null,
            "grid_template_rows": null,
            "height": null,
            "justify_content": null,
            "justify_items": null,
            "left": null,
            "margin": null,
            "max_height": null,
            "max_width": null,
            "min_height": null,
            "min_width": null,
            "object_fit": null,
            "object_position": null,
            "order": null,
            "overflow": null,
            "overflow_x": null,
            "overflow_y": null,
            "padding": null,
            "right": null,
            "top": null,
            "visibility": null,
            "width": null
          }
        },
        "a72a248821534f1fbe778ad8c2fa02f4": {
          "model_module": "@jupyter-widgets/controls",
          "model_module_version": "1.5.0",
          "model_name": "FloatProgressModel",
          "state": {
            "_dom_classes": [],
            "_model_module": "@jupyter-widgets/controls",
            "_model_module_version": "1.5.0",
            "_model_name": "FloatProgressModel",
            "_view_count": null,
            "_view_module": "@jupyter-widgets/controls",
            "_view_module_version": "1.5.0",
            "_view_name": "ProgressView",
            "bar_style": "success",
            "description": "",
            "description_tooltip": null,
            "layout": "IPY_MODEL_7fd610f23e08478a8908d2b3b0c8ce1c",
            "max": 1209,
            "min": 0,
            "orientation": "horizontal",
            "style": "IPY_MODEL_a381e3d78d7e4f3197a6af33f78d6c18",
            "value": 1209
          }
        },
        "a7ab93f512934a9f9769131a7c97d503": {
          "model_module": "@jupyter-widgets/controls",
          "model_module_version": "1.5.0",
          "model_name": "DescriptionStyleModel",
          "state": {
            "_model_module": "@jupyter-widgets/controls",
            "_model_module_version": "1.5.0",
            "_model_name": "DescriptionStyleModel",
            "_view_count": null,
            "_view_module": "@jupyter-widgets/base",
            "_view_module_version": "1.2.0",
            "_view_name": "StyleView",
            "description_width": ""
          }
        },
        "a9c87df753cd4b6188f2a89ff7131a6b": {
          "model_module": "@jupyter-widgets/controls",
          "model_module_version": "1.5.0",
          "model_name": "HTMLModel",
          "state": {
            "_dom_classes": [],
            "_model_module": "@jupyter-widgets/controls",
            "_model_module_version": "1.5.0",
            "_model_name": "HTMLModel",
            "_view_count": null,
            "_view_module": "@jupyter-widgets/controls",
            "_view_module_version": "1.5.0",
            "_view_name": "HTMLView",
            "description": "",
            "description_tooltip": null,
            "layout": "IPY_MODEL_1acc4578527c4095ba13397d19466a24",
            "placeholder": "​",
            "style": "IPY_MODEL_7aeda03881ef485f9860d20f3b9e5029",
            "value": " 0/0 [00:00&lt;?, ?it/s]"
          }
        },
        "abb478b92bb34bdb85519b5b57ef00c4": {
          "model_module": "@jupyter-widgets/controls",
          "model_module_version": "1.5.0",
          "model_name": "DescriptionStyleModel",
          "state": {
            "_model_module": "@jupyter-widgets/controls",
            "_model_module_version": "1.5.0",
            "_model_name": "DescriptionStyleModel",
            "_view_count": null,
            "_view_module": "@jupyter-widgets/base",
            "_view_module_version": "1.2.0",
            "_view_name": "StyleView",
            "description_width": ""
          }
        },
        "ac80b43146bb4b928dc013ce9687c08f": {
          "model_module": "@jupyter-widgets/controls",
          "model_module_version": "1.5.0",
          "model_name": "HTMLModel",
          "state": {
            "_dom_classes": [],
            "_model_module": "@jupyter-widgets/controls",
            "_model_module_version": "1.5.0",
            "_model_name": "HTMLModel",
            "_view_count": null,
            "_view_module": "@jupyter-widgets/controls",
            "_view_module_version": "1.5.0",
            "_view_name": "HTMLView",
            "description": "",
            "description_tooltip": null,
            "layout": "IPY_MODEL_adda792aa03f4495b3cb16fe708fe3ef",
            "placeholder": "​",
            "style": "IPY_MODEL_669304128d024785a4a0df89a297b9e3",
            "value": "Resolving data files: 100%"
          }
        },
        "adda792aa03f4495b3cb16fe708fe3ef": {
          "model_module": "@jupyter-widgets/base",
          "model_module_version": "1.2.0",
          "model_name": "LayoutModel",
          "state": {
            "_model_module": "@jupyter-widgets/base",
            "_model_module_version": "1.2.0",
            "_model_name": "LayoutModel",
            "_view_count": null,
            "_view_module": "@jupyter-widgets/base",
            "_view_module_version": "1.2.0",
            "_view_name": "LayoutView",
            "align_content": null,
            "align_items": null,
            "align_self": null,
            "border": null,
            "bottom": null,
            "display": null,
            "flex": null,
            "flex_flow": null,
            "grid_area": null,
            "grid_auto_columns": null,
            "grid_auto_flow": null,
            "grid_auto_rows": null,
            "grid_column": null,
            "grid_gap": null,
            "grid_row": null,
            "grid_template_areas": null,
            "grid_template_columns": null,
            "grid_template_rows": null,
            "height": null,
            "justify_content": null,
            "justify_items": null,
            "left": null,
            "margin": null,
            "max_height": null,
            "max_width": null,
            "min_height": null,
            "min_width": null,
            "object_fit": null,
            "object_position": null,
            "order": null,
            "overflow": null,
            "overflow_x": null,
            "overflow_y": null,
            "padding": null,
            "right": null,
            "top": null,
            "visibility": null,
            "width": null
          }
        },
        "b57262d84c2341d09f5b8434461b57ac": {
          "model_module": "@jupyter-widgets/controls",
          "model_module_version": "1.5.0",
          "model_name": "HTMLModel",
          "state": {
            "_dom_classes": [],
            "_model_module": "@jupyter-widgets/controls",
            "_model_module_version": "1.5.0",
            "_model_name": "HTMLModel",
            "_view_count": null,
            "_view_module": "@jupyter-widgets/controls",
            "_view_module_version": "1.5.0",
            "_view_name": "HTMLView",
            "description": "",
            "description_tooltip": null,
            "layout": "IPY_MODEL_70910b4710bb460d99ea7b0530747125",
            "placeholder": "​",
            "style": "IPY_MODEL_d32a366ac31e489dbe4fa10d0c8d9bf9",
            "value": "Downloading data files: "
          }
        },
        "b59b190ba38f40a9bf3494b76c5279ad": {
          "model_module": "@jupyter-widgets/base",
          "model_module_version": "1.2.0",
          "model_name": "LayoutModel",
          "state": {
            "_model_module": "@jupyter-widgets/base",
            "_model_module_version": "1.2.0",
            "_model_name": "LayoutModel",
            "_view_count": null,
            "_view_module": "@jupyter-widgets/base",
            "_view_module_version": "1.2.0",
            "_view_name": "LayoutView",
            "align_content": null,
            "align_items": null,
            "align_self": null,
            "border": null,
            "bottom": null,
            "display": null,
            "flex": null,
            "flex_flow": null,
            "grid_area": null,
            "grid_auto_columns": null,
            "grid_auto_flow": null,
            "grid_auto_rows": null,
            "grid_column": null,
            "grid_gap": null,
            "grid_row": null,
            "grid_template_areas": null,
            "grid_template_columns": null,
            "grid_template_rows": null,
            "height": null,
            "justify_content": null,
            "justify_items": null,
            "left": null,
            "margin": null,
            "max_height": null,
            "max_width": null,
            "min_height": null,
            "min_width": null,
            "object_fit": null,
            "object_position": null,
            "order": null,
            "overflow": null,
            "overflow_x": null,
            "overflow_y": null,
            "padding": null,
            "right": null,
            "top": null,
            "visibility": null,
            "width": null
          }
        },
        "b6633f636b244f77a247abb3ea4c0d82": {
          "model_module": "@jupyter-widgets/base",
          "model_module_version": "1.2.0",
          "model_name": "LayoutModel",
          "state": {
            "_model_module": "@jupyter-widgets/base",
            "_model_module_version": "1.2.0",
            "_model_name": "LayoutModel",
            "_view_count": null,
            "_view_module": "@jupyter-widgets/base",
            "_view_module_version": "1.2.0",
            "_view_name": "LayoutView",
            "align_content": null,
            "align_items": null,
            "align_self": null,
            "border": null,
            "bottom": null,
            "display": null,
            "flex": null,
            "flex_flow": null,
            "grid_area": null,
            "grid_auto_columns": null,
            "grid_auto_flow": null,
            "grid_auto_rows": null,
            "grid_column": null,
            "grid_gap": null,
            "grid_row": null,
            "grid_template_areas": null,
            "grid_template_columns": null,
            "grid_template_rows": null,
            "height": null,
            "justify_content": null,
            "justify_items": null,
            "left": null,
            "margin": null,
            "max_height": null,
            "max_width": null,
            "min_height": null,
            "min_width": null,
            "object_fit": null,
            "object_position": null,
            "order": null,
            "overflow": null,
            "overflow_x": null,
            "overflow_y": null,
            "padding": null,
            "right": null,
            "top": null,
            "visibility": null,
            "width": null
          }
        },
        "b6730b25010e4efa861014d5edb45f64": {
          "model_module": "@jupyter-widgets/base",
          "model_module_version": "1.2.0",
          "model_name": "LayoutModel",
          "state": {
            "_model_module": "@jupyter-widgets/base",
            "_model_module_version": "1.2.0",
            "_model_name": "LayoutModel",
            "_view_count": null,
            "_view_module": "@jupyter-widgets/base",
            "_view_module_version": "1.2.0",
            "_view_name": "LayoutView",
            "align_content": null,
            "align_items": null,
            "align_self": null,
            "border": null,
            "bottom": null,
            "display": null,
            "flex": null,
            "flex_flow": null,
            "grid_area": null,
            "grid_auto_columns": null,
            "grid_auto_flow": null,
            "grid_auto_rows": null,
            "grid_column": null,
            "grid_gap": null,
            "grid_row": null,
            "grid_template_areas": null,
            "grid_template_columns": null,
            "grid_template_rows": null,
            "height": null,
            "justify_content": null,
            "justify_items": null,
            "left": null,
            "margin": null,
            "max_height": null,
            "max_width": null,
            "min_height": null,
            "min_width": null,
            "object_fit": null,
            "object_position": null,
            "order": null,
            "overflow": null,
            "overflow_x": null,
            "overflow_y": null,
            "padding": null,
            "right": null,
            "top": null,
            "visibility": null,
            "width": "20px"
          }
        },
        "b6b7837e64ec436c881ce739c3c2db5a": {
          "model_module": "@jupyter-widgets/base",
          "model_module_version": "1.2.0",
          "model_name": "LayoutModel",
          "state": {
            "_model_module": "@jupyter-widgets/base",
            "_model_module_version": "1.2.0",
            "_model_name": "LayoutModel",
            "_view_count": null,
            "_view_module": "@jupyter-widgets/base",
            "_view_module_version": "1.2.0",
            "_view_name": "LayoutView",
            "align_content": null,
            "align_items": null,
            "align_self": null,
            "border": null,
            "bottom": null,
            "display": null,
            "flex": null,
            "flex_flow": null,
            "grid_area": null,
            "grid_auto_columns": null,
            "grid_auto_flow": null,
            "grid_auto_rows": null,
            "grid_column": null,
            "grid_gap": null,
            "grid_row": null,
            "grid_template_areas": null,
            "grid_template_columns": null,
            "grid_template_rows": null,
            "height": null,
            "justify_content": null,
            "justify_items": null,
            "left": null,
            "margin": null,
            "max_height": null,
            "max_width": null,
            "min_height": null,
            "min_width": null,
            "object_fit": null,
            "object_position": null,
            "order": null,
            "overflow": null,
            "overflow_x": null,
            "overflow_y": null,
            "padding": null,
            "right": null,
            "top": null,
            "visibility": null,
            "width": null
          }
        },
        "ba14cfa319ce4a3e88ac54980db53f16": {
          "model_module": "@jupyter-widgets/controls",
          "model_module_version": "1.5.0",
          "model_name": "HBoxModel",
          "state": {
            "_dom_classes": [],
            "_model_module": "@jupyter-widgets/controls",
            "_model_module_version": "1.5.0",
            "_model_name": "HBoxModel",
            "_view_count": null,
            "_view_module": "@jupyter-widgets/controls",
            "_view_module_version": "1.5.0",
            "_view_name": "HBoxView",
            "box_style": "",
            "children": [
              "IPY_MODEL_12f48e80cfc448e88c7427cb4ec39cc1",
              "IPY_MODEL_5a5d394bc3564b049545fc55136a19ef",
              "IPY_MODEL_112afa4e5dba437ba22a4c88bcceb6cd"
            ],
            "layout": "IPY_MODEL_b6b7837e64ec436c881ce739c3c2db5a"
          }
        },
        "ba60373f925e42a29b1f67364c917dc8": {
          "model_module": "@jupyter-widgets/base",
          "model_module_version": "1.2.0",
          "model_name": "LayoutModel",
          "state": {
            "_model_module": "@jupyter-widgets/base",
            "_model_module_version": "1.2.0",
            "_model_name": "LayoutModel",
            "_view_count": null,
            "_view_module": "@jupyter-widgets/base",
            "_view_module_version": "1.2.0",
            "_view_name": "LayoutView",
            "align_content": null,
            "align_items": null,
            "align_self": null,
            "border": null,
            "bottom": null,
            "display": null,
            "flex": null,
            "flex_flow": null,
            "grid_area": null,
            "grid_auto_columns": null,
            "grid_auto_flow": null,
            "grid_auto_rows": null,
            "grid_column": null,
            "grid_gap": null,
            "grid_row": null,
            "grid_template_areas": null,
            "grid_template_columns": null,
            "grid_template_rows": null,
            "height": null,
            "justify_content": null,
            "justify_items": null,
            "left": null,
            "margin": null,
            "max_height": null,
            "max_width": null,
            "min_height": null,
            "min_width": null,
            "object_fit": null,
            "object_position": null,
            "order": null,
            "overflow": null,
            "overflow_x": null,
            "overflow_y": null,
            "padding": null,
            "right": null,
            "top": null,
            "visibility": null,
            "width": null
          }
        },
        "bc00fa9c5da84bbc82262ed640ea90e6": {
          "model_module": "@jupyter-widgets/base",
          "model_module_version": "1.2.0",
          "model_name": "LayoutModel",
          "state": {
            "_model_module": "@jupyter-widgets/base",
            "_model_module_version": "1.2.0",
            "_model_name": "LayoutModel",
            "_view_count": null,
            "_view_module": "@jupyter-widgets/base",
            "_view_module_version": "1.2.0",
            "_view_name": "LayoutView",
            "align_content": null,
            "align_items": null,
            "align_self": null,
            "border": null,
            "bottom": null,
            "display": null,
            "flex": null,
            "flex_flow": null,
            "grid_area": null,
            "grid_auto_columns": null,
            "grid_auto_flow": null,
            "grid_auto_rows": null,
            "grid_column": null,
            "grid_gap": null,
            "grid_row": null,
            "grid_template_areas": null,
            "grid_template_columns": null,
            "grid_template_rows": null,
            "height": null,
            "justify_content": null,
            "justify_items": null,
            "left": null,
            "margin": null,
            "max_height": null,
            "max_width": null,
            "min_height": null,
            "min_width": null,
            "object_fit": null,
            "object_position": null,
            "order": null,
            "overflow": null,
            "overflow_x": null,
            "overflow_y": null,
            "padding": null,
            "right": null,
            "top": null,
            "visibility": null,
            "width": "20px"
          }
        },
        "bd9752dccb4a46d8877be82e5daf7986": {
          "model_module": "@jupyter-widgets/controls",
          "model_module_version": "1.5.0",
          "model_name": "HBoxModel",
          "state": {
            "_dom_classes": [],
            "_model_module": "@jupyter-widgets/controls",
            "_model_module_version": "1.5.0",
            "_model_name": "HBoxModel",
            "_view_count": null,
            "_view_module": "@jupyter-widgets/controls",
            "_view_module_version": "1.5.0",
            "_view_name": "HBoxView",
            "box_style": "",
            "children": [
              "IPY_MODEL_4ede36ac50c941ff961b712a6e8f61ba",
              "IPY_MODEL_c7bd348ec8954acabfc339f89516de47",
              "IPY_MODEL_be86f6cfc0c14cc5b0c803ae4afa67cc"
            ],
            "layout": "IPY_MODEL_2c82c9602d7e4456830f3c4b6d68af1b"
          }
        },
        "be86f6cfc0c14cc5b0c803ae4afa67cc": {
          "model_module": "@jupyter-widgets/controls",
          "model_module_version": "1.5.0",
          "model_name": "HTMLModel",
          "state": {
            "_dom_classes": [],
            "_model_module": "@jupyter-widgets/controls",
            "_model_module_version": "1.5.0",
            "_model_name": "HTMLModel",
            "_view_count": null,
            "_view_module": "@jupyter-widgets/controls",
            "_view_module_version": "1.5.0",
            "_view_name": "HTMLView",
            "description": "",
            "description_tooltip": null,
            "layout": "IPY_MODEL_e8250bfd6328469e818b8fc66441db01",
            "placeholder": "​",
            "style": "IPY_MODEL_0a07a47bbb0b4726aedd1c2e104913a6",
            "value": " 9999/0 [00:01&lt;00:00, 6833.53 examples/s]"
          }
        },
        "c121423eb88f47ac925ccadd7f3d0bfc": {
          "model_module": "@jupyter-widgets/controls",
          "model_module_version": "1.5.0",
          "model_name": "ProgressStyleModel",
          "state": {
            "_model_module": "@jupyter-widgets/controls",
            "_model_module_version": "1.5.0",
            "_model_name": "ProgressStyleModel",
            "_view_count": null,
            "_view_module": "@jupyter-widgets/base",
            "_view_module_version": "1.2.0",
            "_view_name": "StyleView",
            "bar_color": null,
            "description_width": ""
          }
        },
        "c47c84945dda43829082b5b7dbfb388a": {
          "model_module": "@jupyter-widgets/base",
          "model_module_version": "1.2.0",
          "model_name": "LayoutModel",
          "state": {
            "_model_module": "@jupyter-widgets/base",
            "_model_module_version": "1.2.0",
            "_model_name": "LayoutModel",
            "_view_count": null,
            "_view_module": "@jupyter-widgets/base",
            "_view_module_version": "1.2.0",
            "_view_name": "LayoutView",
            "align_content": null,
            "align_items": null,
            "align_self": null,
            "border": null,
            "bottom": null,
            "display": null,
            "flex": null,
            "flex_flow": null,
            "grid_area": null,
            "grid_auto_columns": null,
            "grid_auto_flow": null,
            "grid_auto_rows": null,
            "grid_column": null,
            "grid_gap": null,
            "grid_row": null,
            "grid_template_areas": null,
            "grid_template_columns": null,
            "grid_template_rows": null,
            "height": null,
            "justify_content": null,
            "justify_items": null,
            "left": null,
            "margin": null,
            "max_height": null,
            "max_width": null,
            "min_height": null,
            "min_width": null,
            "object_fit": null,
            "object_position": null,
            "order": null,
            "overflow": null,
            "overflow_x": null,
            "overflow_y": null,
            "padding": null,
            "right": null,
            "top": null,
            "visibility": null,
            "width": null
          }
        },
        "c47fbaaf0a2b4b4aabe8eaf4e57d6429": {
          "model_module": "@jupyter-widgets/controls",
          "model_module_version": "1.5.0",
          "model_name": "DescriptionStyleModel",
          "state": {
            "_model_module": "@jupyter-widgets/controls",
            "_model_module_version": "1.5.0",
            "_model_name": "DescriptionStyleModel",
            "_view_count": null,
            "_view_module": "@jupyter-widgets/base",
            "_view_module_version": "1.2.0",
            "_view_name": "StyleView",
            "description_width": ""
          }
        },
        "c5508bb6228e49baac33ca4441e876b5": {
          "model_module": "@jupyter-widgets/base",
          "model_module_version": "1.2.0",
          "model_name": "LayoutModel",
          "state": {
            "_model_module": "@jupyter-widgets/base",
            "_model_module_version": "1.2.0",
            "_model_name": "LayoutModel",
            "_view_count": null,
            "_view_module": "@jupyter-widgets/base",
            "_view_module_version": "1.2.0",
            "_view_name": "LayoutView",
            "align_content": null,
            "align_items": null,
            "align_self": null,
            "border": null,
            "bottom": null,
            "display": null,
            "flex": null,
            "flex_flow": null,
            "grid_area": null,
            "grid_auto_columns": null,
            "grid_auto_flow": null,
            "grid_auto_rows": null,
            "grid_column": null,
            "grid_gap": null,
            "grid_row": null,
            "grid_template_areas": null,
            "grid_template_columns": null,
            "grid_template_rows": null,
            "height": null,
            "justify_content": null,
            "justify_items": null,
            "left": null,
            "margin": null,
            "max_height": null,
            "max_width": null,
            "min_height": null,
            "min_width": null,
            "object_fit": null,
            "object_position": null,
            "order": null,
            "overflow": null,
            "overflow_x": null,
            "overflow_y": null,
            "padding": null,
            "right": null,
            "top": null,
            "visibility": null,
            "width": null
          }
        },
        "c7bd348ec8954acabfc339f89516de47": {
          "model_module": "@jupyter-widgets/controls",
          "model_module_version": "1.5.0",
          "model_name": "FloatProgressModel",
          "state": {
            "_dom_classes": [],
            "_model_module": "@jupyter-widgets/controls",
            "_model_module_version": "1.5.0",
            "_model_name": "FloatProgressModel",
            "_view_count": null,
            "_view_module": "@jupyter-widgets/controls",
            "_view_module_version": "1.5.0",
            "_view_name": "ProgressView",
            "bar_style": "success",
            "description": "",
            "description_tooltip": null,
            "layout": "IPY_MODEL_1160a2f0ec664d99bc1cf3db5a79432e",
            "max": 1,
            "min": 0,
            "orientation": "horizontal",
            "style": "IPY_MODEL_829292d3823c49599ba6331775045dbc",
            "value": 1
          }
        },
        "c7d26e7a740647f3af97f8b53779a46b": {
          "model_module": "@jupyter-widgets/controls",
          "model_module_version": "1.5.0",
          "model_name": "HBoxModel",
          "state": {
            "_dom_classes": [],
            "_model_module": "@jupyter-widgets/controls",
            "_model_module_version": "1.5.0",
            "_model_name": "HBoxModel",
            "_view_count": null,
            "_view_module": "@jupyter-widgets/controls",
            "_view_module_version": "1.5.0",
            "_view_name": "HBoxView",
            "box_style": "",
            "children": [
              "IPY_MODEL_95e8f43429944fd1ab81b1694fd3d4ce",
              "IPY_MODEL_a72a248821534f1fbe778ad8c2fa02f4",
              "IPY_MODEL_14c7fc72558840d48bca0d4dcbd2d817"
            ],
            "layout": "IPY_MODEL_944c7e886d2e4a1992b0ee895f896f7f"
          }
        },
        "ca9bf9d0f9f649b8babcf75b0976caab": {
          "model_module": "@jupyter-widgets/controls",
          "model_module_version": "1.5.0",
          "model_name": "DescriptionStyleModel",
          "state": {
            "_model_module": "@jupyter-widgets/controls",
            "_model_module_version": "1.5.0",
            "_model_name": "DescriptionStyleModel",
            "_view_count": null,
            "_view_module": "@jupyter-widgets/base",
            "_view_module_version": "1.2.0",
            "_view_name": "StyleView",
            "description_width": ""
          }
        },
        "ce0fed99fe354cb1a692d899043dcc0a": {
          "model_module": "@jupyter-widgets/controls",
          "model_module_version": "1.5.0",
          "model_name": "FloatProgressModel",
          "state": {
            "_dom_classes": [],
            "_model_module": "@jupyter-widgets/controls",
            "_model_module_version": "1.5.0",
            "_model_name": "FloatProgressModel",
            "_view_count": null,
            "_view_module": "@jupyter-widgets/controls",
            "_view_module_version": "1.5.0",
            "_view_name": "ProgressView",
            "bar_style": "success",
            "description": "",
            "description_tooltip": null,
            "layout": "IPY_MODEL_c47c84945dda43829082b5b7dbfb388a",
            "max": 1210,
            "min": 0,
            "orientation": "horizontal",
            "style": "IPY_MODEL_815bc852e11c4a20b9ba8f43264458af",
            "value": 1210
          }
        },
        "d038c851f2cb4b6b959c20d48a12d1e5": {
          "model_module": "@jupyter-widgets/controls",
          "model_module_version": "1.5.0",
          "model_name": "HTMLModel",
          "state": {
            "_dom_classes": [],
            "_model_module": "@jupyter-widgets/controls",
            "_model_module_version": "1.5.0",
            "_model_name": "HTMLModel",
            "_view_count": null,
            "_view_module": "@jupyter-widgets/controls",
            "_view_module_version": "1.5.0",
            "_view_name": "HTMLView",
            "description": "",
            "description_tooltip": null,
            "layout": "IPY_MODEL_9f21d2ded83d45978501552936061227",
            "placeholder": "​",
            "style": "IPY_MODEL_ef4dd6915b8e473fb0fd366b8867c477",
            "value": "Map: 100%"
          }
        },
        "d0f072585c7443c3b6e04b1f3b63cd39": {
          "model_module": "@jupyter-widgets/base",
          "model_module_version": "1.2.0",
          "model_name": "LayoutModel",
          "state": {
            "_model_module": "@jupyter-widgets/base",
            "_model_module_version": "1.2.0",
            "_model_name": "LayoutModel",
            "_view_count": null,
            "_view_module": "@jupyter-widgets/base",
            "_view_module_version": "1.2.0",
            "_view_name": "LayoutView",
            "align_content": null,
            "align_items": null,
            "align_self": null,
            "border": null,
            "bottom": null,
            "display": null,
            "flex": null,
            "flex_flow": null,
            "grid_area": null,
            "grid_auto_columns": null,
            "grid_auto_flow": null,
            "grid_auto_rows": null,
            "grid_column": null,
            "grid_gap": null,
            "grid_row": null,
            "grid_template_areas": null,
            "grid_template_columns": null,
            "grid_template_rows": null,
            "height": null,
            "justify_content": null,
            "justify_items": null,
            "left": null,
            "margin": null,
            "max_height": null,
            "max_width": null,
            "min_height": null,
            "min_width": null,
            "object_fit": null,
            "object_position": null,
            "order": null,
            "overflow": null,
            "overflow_x": null,
            "overflow_y": null,
            "padding": null,
            "right": null,
            "top": null,
            "visibility": null,
            "width": null
          }
        },
        "d0fe61e04f664491a9ee7fa6d10cd586": {
          "model_module": "@jupyter-widgets/controls",
          "model_module_version": "1.5.0",
          "model_name": "HBoxModel",
          "state": {
            "_dom_classes": [],
            "_model_module": "@jupyter-widgets/controls",
            "_model_module_version": "1.5.0",
            "_model_name": "HBoxModel",
            "_view_count": null,
            "_view_module": "@jupyter-widgets/controls",
            "_view_module_version": "1.5.0",
            "_view_name": "HBoxView",
            "box_style": "",
            "children": [
              "IPY_MODEL_65d5eab54d9847669c9059e5c5901d0f",
              "IPY_MODEL_7222a90a28cb47638b9c20a5e18e151d",
              "IPY_MODEL_a9c87df753cd4b6188f2a89ff7131a6b"
            ],
            "layout": "IPY_MODEL_d0f072585c7443c3b6e04b1f3b63cd39"
          }
        },
        "d32a366ac31e489dbe4fa10d0c8d9bf9": {
          "model_module": "@jupyter-widgets/controls",
          "model_module_version": "1.5.0",
          "model_name": "DescriptionStyleModel",
          "state": {
            "_model_module": "@jupyter-widgets/controls",
            "_model_module_version": "1.5.0",
            "_model_name": "DescriptionStyleModel",
            "_view_count": null,
            "_view_module": "@jupyter-widgets/base",
            "_view_module_version": "1.2.0",
            "_view_name": "StyleView",
            "description_width": ""
          }
        },
        "d3b761c4e2634e3eb6bd3c2288e2a818": {
          "model_module": "@jupyter-widgets/base",
          "model_module_version": "1.2.0",
          "model_name": "LayoutModel",
          "state": {
            "_model_module": "@jupyter-widgets/base",
            "_model_module_version": "1.2.0",
            "_model_name": "LayoutModel",
            "_view_count": null,
            "_view_module": "@jupyter-widgets/base",
            "_view_module_version": "1.2.0",
            "_view_name": "LayoutView",
            "align_content": null,
            "align_items": null,
            "align_self": null,
            "border": null,
            "bottom": null,
            "display": null,
            "flex": null,
            "flex_flow": null,
            "grid_area": null,
            "grid_auto_columns": null,
            "grid_auto_flow": null,
            "grid_auto_rows": null,
            "grid_column": null,
            "grid_gap": null,
            "grid_row": null,
            "grid_template_areas": null,
            "grid_template_columns": null,
            "grid_template_rows": null,
            "height": null,
            "justify_content": null,
            "justify_items": null,
            "left": null,
            "margin": null,
            "max_height": null,
            "max_width": null,
            "min_height": null,
            "min_width": null,
            "object_fit": null,
            "object_position": null,
            "order": null,
            "overflow": null,
            "overflow_x": null,
            "overflow_y": null,
            "padding": null,
            "right": null,
            "top": null,
            "visibility": null,
            "width": null
          }
        },
        "d427b41f99b74056ac239b015fd78c3d": {
          "model_module": "@jupyter-widgets/controls",
          "model_module_version": "1.5.0",
          "model_name": "HBoxModel",
          "state": {
            "_dom_classes": [],
            "_model_module": "@jupyter-widgets/controls",
            "_model_module_version": "1.5.0",
            "_model_name": "HBoxModel",
            "_view_count": null,
            "_view_module": "@jupyter-widgets/controls",
            "_view_module_version": "1.5.0",
            "_view_name": "HBoxView",
            "box_style": "",
            "children": [
              "IPY_MODEL_7426011c61894c94aef33aa1bcb735a2",
              "IPY_MODEL_f1453fbfa1b245a2bf5001c35a5c8efa",
              "IPY_MODEL_70ce029c919c4b71a8d7a436e3907a5e"
            ],
            "layout": "IPY_MODEL_5623c9aa067b42509458d631fbd4f2c2"
          }
        },
        "db9de2a8785241bd83db63167916463e": {
          "model_module": "@jupyter-widgets/controls",
          "model_module_version": "1.5.0",
          "model_name": "FloatProgressModel",
          "state": {
            "_dom_classes": [],
            "_model_module": "@jupyter-widgets/controls",
            "_model_module_version": "1.5.0",
            "_model_name": "FloatProgressModel",
            "_view_count": null,
            "_view_module": "@jupyter-widgets/controls",
            "_view_module_version": "1.5.0",
            "_view_name": "ProgressView",
            "bar_style": "success",
            "description": "",
            "description_tooltip": null,
            "layout": "IPY_MODEL_20cf31210cfa41dcb4743f542fddd855",
            "max": 1842,
            "min": 0,
            "orientation": "horizontal",
            "style": "IPY_MODEL_4890cf39f2894e0d9ef367d02768d81b",
            "value": 1842
          }
        },
        "e183c219fdbc48faad4f594a3916614c": {
          "model_module": "@jupyter-widgets/base",
          "model_module_version": "1.2.0",
          "model_name": "LayoutModel",
          "state": {
            "_model_module": "@jupyter-widgets/base",
            "_model_module_version": "1.2.0",
            "_model_name": "LayoutModel",
            "_view_count": null,
            "_view_module": "@jupyter-widgets/base",
            "_view_module_version": "1.2.0",
            "_view_name": "LayoutView",
            "align_content": null,
            "align_items": null,
            "align_self": null,
            "border": null,
            "bottom": null,
            "display": null,
            "flex": null,
            "flex_flow": null,
            "grid_area": null,
            "grid_auto_columns": null,
            "grid_auto_flow": null,
            "grid_auto_rows": null,
            "grid_column": null,
            "grid_gap": null,
            "grid_row": null,
            "grid_template_areas": null,
            "grid_template_columns": null,
            "grid_template_rows": null,
            "height": null,
            "justify_content": null,
            "justify_items": null,
            "left": null,
            "margin": null,
            "max_height": null,
            "max_width": null,
            "min_height": null,
            "min_width": null,
            "object_fit": null,
            "object_position": null,
            "order": null,
            "overflow": null,
            "overflow_x": null,
            "overflow_y": null,
            "padding": null,
            "right": null,
            "top": null,
            "visibility": null,
            "width": null
          }
        },
        "e67868fd256949568a05f8a27029001e": {
          "model_module": "@jupyter-widgets/controls",
          "model_module_version": "1.5.0",
          "model_name": "DescriptionStyleModel",
          "state": {
            "_model_module": "@jupyter-widgets/controls",
            "_model_module_version": "1.5.0",
            "_model_name": "DescriptionStyleModel",
            "_view_count": null,
            "_view_module": "@jupyter-widgets/base",
            "_view_module_version": "1.2.0",
            "_view_name": "StyleView",
            "description_width": ""
          }
        },
        "e6c0a16f47184fa99b2ba2dbd2526494": {
          "model_module": "@jupyter-widgets/controls",
          "model_module_version": "1.5.0",
          "model_name": "DescriptionStyleModel",
          "state": {
            "_model_module": "@jupyter-widgets/controls",
            "_model_module_version": "1.5.0",
            "_model_name": "DescriptionStyleModel",
            "_view_count": null,
            "_view_module": "@jupyter-widgets/base",
            "_view_module_version": "1.2.0",
            "_view_name": "StyleView",
            "description_width": ""
          }
        },
        "e7db16c156834a2784ada70e4f085c3c": {
          "model_module": "@jupyter-widgets/controls",
          "model_module_version": "1.5.0",
          "model_name": "ProgressStyleModel",
          "state": {
            "_model_module": "@jupyter-widgets/controls",
            "_model_module_version": "1.5.0",
            "_model_name": "ProgressStyleModel",
            "_view_count": null,
            "_view_module": "@jupyter-widgets/base",
            "_view_module_version": "1.2.0",
            "_view_name": "StyleView",
            "bar_color": null,
            "description_width": ""
          }
        },
        "e8250bfd6328469e818b8fc66441db01": {
          "model_module": "@jupyter-widgets/base",
          "model_module_version": "1.2.0",
          "model_name": "LayoutModel",
          "state": {
            "_model_module": "@jupyter-widgets/base",
            "_model_module_version": "1.2.0",
            "_model_name": "LayoutModel",
            "_view_count": null,
            "_view_module": "@jupyter-widgets/base",
            "_view_module_version": "1.2.0",
            "_view_name": "LayoutView",
            "align_content": null,
            "align_items": null,
            "align_self": null,
            "border": null,
            "bottom": null,
            "display": null,
            "flex": null,
            "flex_flow": null,
            "grid_area": null,
            "grid_auto_columns": null,
            "grid_auto_flow": null,
            "grid_auto_rows": null,
            "grid_column": null,
            "grid_gap": null,
            "grid_row": null,
            "grid_template_areas": null,
            "grid_template_columns": null,
            "grid_template_rows": null,
            "height": null,
            "justify_content": null,
            "justify_items": null,
            "left": null,
            "margin": null,
            "max_height": null,
            "max_width": null,
            "min_height": null,
            "min_width": null,
            "object_fit": null,
            "object_position": null,
            "order": null,
            "overflow": null,
            "overflow_x": null,
            "overflow_y": null,
            "padding": null,
            "right": null,
            "top": null,
            "visibility": null,
            "width": null
          }
        },
        "e85ad0683fef42619591984046f9d053": {
          "model_module": "@jupyter-widgets/controls",
          "model_module_version": "1.5.0",
          "model_name": "HTMLModel",
          "state": {
            "_dom_classes": [],
            "_model_module": "@jupyter-widgets/controls",
            "_model_module_version": "1.5.0",
            "_model_name": "HTMLModel",
            "_view_count": null,
            "_view_module": "@jupyter-widgets/controls",
            "_view_module_version": "1.5.0",
            "_view_name": "HTMLView",
            "description": "",
            "description_tooltip": null,
            "layout": "IPY_MODEL_865c9ec9e7ef4161a53ef1f81ab95c10",
            "placeholder": "​",
            "style": "IPY_MODEL_13c8182a38af4f3bb8f4497c2da395b1",
            "value": "Map: 100%"
          }
        },
        "e88d15667dd5452baf6f938af4abf3c5": {
          "model_module": "@jupyter-widgets/base",
          "model_module_version": "1.2.0",
          "model_name": "LayoutModel",
          "state": {
            "_model_module": "@jupyter-widgets/base",
            "_model_module_version": "1.2.0",
            "_model_name": "LayoutModel",
            "_view_count": null,
            "_view_module": "@jupyter-widgets/base",
            "_view_module_version": "1.2.0",
            "_view_name": "LayoutView",
            "align_content": null,
            "align_items": null,
            "align_self": null,
            "border": null,
            "bottom": null,
            "display": null,
            "flex": null,
            "flex_flow": null,
            "grid_area": null,
            "grid_auto_columns": null,
            "grid_auto_flow": null,
            "grid_auto_rows": null,
            "grid_column": null,
            "grid_gap": null,
            "grid_row": null,
            "grid_template_areas": null,
            "grid_template_columns": null,
            "grid_template_rows": null,
            "height": null,
            "justify_content": null,
            "justify_items": null,
            "left": null,
            "margin": null,
            "max_height": null,
            "max_width": null,
            "min_height": null,
            "min_width": null,
            "object_fit": null,
            "object_position": null,
            "order": null,
            "overflow": null,
            "overflow_x": null,
            "overflow_y": null,
            "padding": null,
            "right": null,
            "top": null,
            "visibility": null,
            "width": null
          }
        },
        "ef4dd6915b8e473fb0fd366b8867c477": {
          "model_module": "@jupyter-widgets/controls",
          "model_module_version": "1.5.0",
          "model_name": "DescriptionStyleModel",
          "state": {
            "_model_module": "@jupyter-widgets/controls",
            "_model_module_version": "1.5.0",
            "_model_name": "DescriptionStyleModel",
            "_view_count": null,
            "_view_module": "@jupyter-widgets/base",
            "_view_module_version": "1.2.0",
            "_view_name": "StyleView",
            "description_width": ""
          }
        },
        "f07487b29d484324a5cfef2ad456fca1": {
          "model_module": "@jupyter-widgets/controls",
          "model_module_version": "1.5.0",
          "model_name": "DescriptionStyleModel",
          "state": {
            "_model_module": "@jupyter-widgets/controls",
            "_model_module_version": "1.5.0",
            "_model_name": "DescriptionStyleModel",
            "_view_count": null,
            "_view_module": "@jupyter-widgets/base",
            "_view_module_version": "1.2.0",
            "_view_name": "StyleView",
            "description_width": ""
          }
        },
        "f1453fbfa1b245a2bf5001c35a5c8efa": {
          "model_module": "@jupyter-widgets/controls",
          "model_module_version": "1.5.0",
          "model_name": "FloatProgressModel",
          "state": {
            "_dom_classes": [],
            "_model_module": "@jupyter-widgets/controls",
            "_model_module_version": "1.5.0",
            "_model_name": "FloatProgressModel",
            "_view_count": null,
            "_view_module": "@jupyter-widgets/controls",
            "_view_module_version": "1.5.0",
            "_view_name": "ProgressView",
            "bar_style": "success",
            "description": "",
            "description_tooltip": null,
            "layout": "IPY_MODEL_b6730b25010e4efa861014d5edb45f64",
            "max": 1,
            "min": 0,
            "orientation": "horizontal",
            "style": "IPY_MODEL_2bff9bef182347baaf21c8cfe92500f5",
            "value": 0
          }
        },
        "f1c82b42dde944e18e16680dce0865f3": {
          "model_module": "@jupyter-widgets/controls",
          "model_module_version": "1.5.0",
          "model_name": "DescriptionStyleModel",
          "state": {
            "_model_module": "@jupyter-widgets/controls",
            "_model_module_version": "1.5.0",
            "_model_name": "DescriptionStyleModel",
            "_view_count": null,
            "_view_module": "@jupyter-widgets/base",
            "_view_module_version": "1.2.0",
            "_view_name": "StyleView",
            "description_width": ""
          }
        },
        "f27277d94c814998b0d553a075d3d632": {
          "model_module": "@jupyter-widgets/controls",
          "model_module_version": "1.5.0",
          "model_name": "FloatProgressModel",
          "state": {
            "_dom_classes": [],
            "_model_module": "@jupyter-widgets/controls",
            "_model_module_version": "1.5.0",
            "_model_name": "FloatProgressModel",
            "_view_count": null,
            "_view_module": "@jupyter-widgets/controls",
            "_view_module_version": "1.5.0",
            "_view_name": "ProgressView",
            "bar_style": "success",
            "description": "",
            "description_tooltip": null,
            "layout": "IPY_MODEL_d3b761c4e2634e3eb6bd3c2288e2a818",
            "max": 1209,
            "min": 0,
            "orientation": "horizontal",
            "style": "IPY_MODEL_e7db16c156834a2784ada70e4f085c3c",
            "value": 1209
          }
        },
        "f2bbe06025694ad594f46d408ea306f6": {
          "model_module": "@jupyter-widgets/controls",
          "model_module_version": "1.5.0",
          "model_name": "HTMLModel",
          "state": {
            "_dom_classes": [],
            "_model_module": "@jupyter-widgets/controls",
            "_model_module_version": "1.5.0",
            "_model_name": "HTMLModel",
            "_view_count": null,
            "_view_module": "@jupyter-widgets/controls",
            "_view_module_version": "1.5.0",
            "_view_name": "HTMLView",
            "description": "",
            "description_tooltip": null,
            "layout": "IPY_MODEL_929a23bb28dc4bafa140e055dd221e3e",
            "placeholder": "​",
            "style": "IPY_MODEL_71f1c20513d44e4b857fbbab6b8a16fc",
            "value": "Generating test split: "
          }
        },
        "f53a99cde06c4267b30836882449bfb8": {
          "model_module": "@jupyter-widgets/controls",
          "model_module_version": "1.5.0",
          "model_name": "HTMLModel",
          "state": {
            "_dom_classes": [],
            "_model_module": "@jupyter-widgets/controls",
            "_model_module_version": "1.5.0",
            "_model_name": "HTMLModel",
            "_view_count": null,
            "_view_module": "@jupyter-widgets/controls",
            "_view_module_version": "1.5.0",
            "_view_name": "HTMLView",
            "description": "",
            "description_tooltip": null,
            "layout": "IPY_MODEL_7b5993a3277a494d9cf2ac5e15fac177",
            "placeholder": "​",
            "style": "IPY_MODEL_f07487b29d484324a5cfef2ad456fca1",
            "value": " 9999/9999 [00:00&lt;00:00, 34247.87 examples/s]"
          }
        },
        "fa56b7977ad4450497f3a6883bd7f686": {
          "model_module": "@jupyter-widgets/base",
          "model_module_version": "1.2.0",
          "model_name": "LayoutModel",
          "state": {
            "_model_module": "@jupyter-widgets/base",
            "_model_module_version": "1.2.0",
            "_model_name": "LayoutModel",
            "_view_count": null,
            "_view_module": "@jupyter-widgets/base",
            "_view_module_version": "1.2.0",
            "_view_name": "LayoutView",
            "align_content": null,
            "align_items": null,
            "align_self": null,
            "border": null,
            "bottom": null,
            "display": null,
            "flex": null,
            "flex_flow": null,
            "grid_area": null,
            "grid_auto_columns": null,
            "grid_auto_flow": null,
            "grid_auto_rows": null,
            "grid_column": null,
            "grid_gap": null,
            "grid_row": null,
            "grid_template_areas": null,
            "grid_template_columns": null,
            "grid_template_rows": null,
            "height": null,
            "justify_content": null,
            "justify_items": null,
            "left": null,
            "margin": null,
            "max_height": null,
            "max_width": null,
            "min_height": null,
            "min_width": null,
            "object_fit": null,
            "object_position": null,
            "order": null,
            "overflow": null,
            "overflow_x": null,
            "overflow_y": null,
            "padding": null,
            "right": null,
            "top": null,
            "visibility": null,
            "width": null
          }
        },
        "fb2312cc2c794a1caaadd6bb36b4d9f7": {
          "model_module": "@jupyter-widgets/base",
          "model_module_version": "1.2.0",
          "model_name": "LayoutModel",
          "state": {
            "_model_module": "@jupyter-widgets/base",
            "_model_module_version": "1.2.0",
            "_model_name": "LayoutModel",
            "_view_count": null,
            "_view_module": "@jupyter-widgets/base",
            "_view_module_version": "1.2.0",
            "_view_name": "LayoutView",
            "align_content": null,
            "align_items": null,
            "align_self": null,
            "border": null,
            "bottom": null,
            "display": null,
            "flex": null,
            "flex_flow": null,
            "grid_area": null,
            "grid_auto_columns": null,
            "grid_auto_flow": null,
            "grid_auto_rows": null,
            "grid_column": null,
            "grid_gap": null,
            "grid_row": null,
            "grid_template_areas": null,
            "grid_template_columns": null,
            "grid_template_rows": null,
            "height": null,
            "justify_content": null,
            "justify_items": null,
            "left": null,
            "margin": null,
            "max_height": null,
            "max_width": null,
            "min_height": null,
            "min_width": null,
            "object_fit": null,
            "object_position": null,
            "order": null,
            "overflow": null,
            "overflow_x": null,
            "overflow_y": null,
            "padding": null,
            "right": null,
            "top": null,
            "visibility": null,
            "width": null
          }
        },
        "fbfb5615ad5a44b49f80561285724d10": {
          "model_module": "@jupyter-widgets/controls",
          "model_module_version": "1.5.0",
          "model_name": "HTMLModel",
          "state": {
            "_dom_classes": [],
            "_model_module": "@jupyter-widgets/controls",
            "_model_module_version": "1.5.0",
            "_model_name": "HTMLModel",
            "_view_count": null,
            "_view_module": "@jupyter-widgets/controls",
            "_view_module_version": "1.5.0",
            "_view_name": "HTMLView",
            "description": "",
            "description_tooltip": null,
            "layout": "IPY_MODEL_8c6a49cdb9164760a4969a6cd3d74f04",
            "placeholder": "​",
            "style": "IPY_MODEL_a58c8c4ad29e4cb9a99d30c88919039b",
            "value": " 10000/10000 [00:03&lt;00:00, 2963.61it/s]"
          }
        },
        "fd018eb1df334be1b26601e8e9b1618a": {
          "model_module": "@jupyter-widgets/base",
          "model_module_version": "1.2.0",
          "model_name": "LayoutModel",
          "state": {
            "_model_module": "@jupyter-widgets/base",
            "_model_module_version": "1.2.0",
            "_model_name": "LayoutModel",
            "_view_count": null,
            "_view_module": "@jupyter-widgets/base",
            "_view_module_version": "1.2.0",
            "_view_name": "LayoutView",
            "align_content": null,
            "align_items": null,
            "align_self": null,
            "border": null,
            "bottom": null,
            "display": null,
            "flex": null,
            "flex_flow": null,
            "grid_area": null,
            "grid_auto_columns": null,
            "grid_auto_flow": null,
            "grid_auto_rows": null,
            "grid_column": null,
            "grid_gap": null,
            "grid_row": null,
            "grid_template_areas": null,
            "grid_template_columns": null,
            "grid_template_rows": null,
            "height": null,
            "justify_content": null,
            "justify_items": null,
            "left": null,
            "margin": null,
            "max_height": null,
            "max_width": null,
            "min_height": null,
            "min_width": null,
            "object_fit": null,
            "object_position": null,
            "order": null,
            "overflow": null,
            "overflow_x": null,
            "overflow_y": null,
            "padding": null,
            "right": null,
            "top": null,
            "visibility": null,
            "width": null
          }
        },
        "fd18593fbb594ba8a6fe343650641543": {
          "model_module": "@jupyter-widgets/controls",
          "model_module_version": "1.5.0",
          "model_name": "FloatProgressModel",
          "state": {
            "_dom_classes": [],
            "_model_module": "@jupyter-widgets/controls",
            "_model_module_version": "1.5.0",
            "_model_name": "FloatProgressModel",
            "_view_count": null,
            "_view_module": "@jupyter-widgets/controls",
            "_view_module_version": "1.5.0",
            "_view_name": "ProgressView",
            "bar_style": "success",
            "description": "",
            "description_tooltip": null,
            "layout": "IPY_MODEL_1a4198b27e2a45119b9a538f2cb80fed",
            "max": 10000,
            "min": 0,
            "orientation": "horizontal",
            "style": "IPY_MODEL_8068519c5f3747a08cffc4acb9a276fd",
            "value": 10000
          }
        }
      }
    }
  },
  "nbformat": 4,
  "nbformat_minor": 0
}