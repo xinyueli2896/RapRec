{
  "cells": [
    {
      "cell_type": "markdown",
      "metadata": {
        "id": "view-in-github",
        "colab_type": "text"
      },
      "source": [
        "<a href=\"https://colab.research.google.com/github/xinyueli2896/RapRec/blob/main/main_large_sep.ipynb\" target=\"_parent\"><img src=\"https://colab.research.google.com/assets/colab-badge.svg\" alt=\"Open In Colab\"/></a>"
      ]
    },
    {
      "cell_type": "markdown",
      "metadata": {
        "id": "LBSYoWbi-45k"
      },
      "source": [
        "# **Fine-tuning Speech Model with 🤗 Transformers**"
      ]
    },
    {
      "cell_type": "code",
      "execution_count": null,
      "metadata": {
        "id": "v7CftmzCuKYl",
        "outputId": "5a744e42-2039-4664-bcae-380b1405d4f7"
      },
      "outputs": [
        {
          "name": "stderr",
          "output_type": "stream",
          "text": [
            "c:\\Users\\wbsgus\\anaconda3\\envs\\rap\\lib\\site-packages\\tqdm\\auto.py:21: TqdmWarning: IProgress not found. Please update jupyter and ipywidgets. See https://ipywidgets.readthedocs.io/en/stable/user_install.html\n",
            "  from .autonotebook import tqdm as notebook_tqdm\n"
          ]
        }
      ],
      "source": [
        "import librosa\n",
        "import torch\n",
        "import transformers\n",
        "model_checkpoint = \"facebook/wav2vec2-large-xlsr-53\"\n",
        "batch_size = 32"
      ]
    },
    {
      "cell_type": "markdown",
      "metadata": {
        "id": "0mW-C1Nt-j7k"
      },
      "source": [
        "## Prepare Data, Tokenizer, Feature Extractor"
      ]
    },
    {
      "cell_type": "markdown",
      "metadata": {
        "id": "sEXEWEJGQPqD"
      },
      "source": [
        "### Create Wav2Vec2CTCTokenizer"
      ]
    },
    {
      "cell_type": "code",
      "execution_count": null,
      "metadata": {
        "colab": {
          "base_uri": "https://localhost:8080/",
          "height": 337,
          "referenced_widgets": [
            "5c7a8e1156284e67b8cf4572306845c7",
            "ac80b43146bb4b928dc013ce9687c08f",
            "11c9d8cc7b6e4f58b5f45357a9c1ea48",
            "842158dc348c4247a3d2919069e8825a",
            "216f12852afe4ffc961b0715d2903368",
            "adda792aa03f4495b3cb16fe708fe3ef",
            "669304128d024785a4a0df89a297b9e3",
            "b6633f636b244f77a247abb3ea4c0d82",
            "41fefa64438b4bdca69373930756bb8a",
            "6abea98ccda440ea9d761c0b7a459e9c",
            "711f78cbbda34e1097e50c7c3022e4f0",
            "c7d26e7a740647f3af97f8b53779a46b",
            "95e8f43429944fd1ab81b1694fd3d4ce",
            "a72a248821534f1fbe778ad8c2fa02f4",
            "14c7fc72558840d48bca0d4dcbd2d817",
            "944c7e886d2e4a1992b0ee895f896f7f",
            "1b2938acb4fe441b8a87876e8d67b2e9",
            "3e99ead820d44cee82d3ee2307f3f5e7",
            "7fd610f23e08478a8908d2b3b0c8ce1c",
            "a381e3d78d7e4f3197a6af33f78d6c18",
            "8c6a7d9e08304ef99e877c336b8a32f3",
            "a7ab93f512934a9f9769131a7c97d503",
            "39c26695eab2476881934b05b4dd742b",
            "803a7e1e8c0c4da4959b4b16b331aa72",
            "fd18593fbb594ba8a6fe343650641543",
            "fbfb5615ad5a44b49f80561285724d10",
            "b59b190ba38f40a9bf3494b76c5279ad",
            "99f1e20e12e64de8b4b713c980ec5d62",
            "6380551c27bb4d5c95d5531af2ca3536",
            "1a4198b27e2a45119b9a538f2cb80fed",
            "8068519c5f3747a08cffc4acb9a276fd",
            "8c6a49cdb9164760a4969a6cd3d74f04",
            "a58c8c4ad29e4cb9a99d30c88919039b",
            "7080d7780a7f4eedaa8411ddee673152",
            "b57262d84c2341d09f5b8434461b57ac",
            "678aaf643297420091e4456613879e6a",
            "23c330374ea14a3a860b4e64accbc79f",
            "9750e65d7c2f403ca3727782a03b545d",
            "70910b4710bb460d99ea7b0530747125",
            "d32a366ac31e489dbe4fa10d0c8d9bf9",
            "67996c3ecdb34bef8f30063a65b4a6c7",
            "c121423eb88f47ac925ccadd7f3d0bfc",
            "c5508bb6228e49baac33ca4441e876b5",
            "e67868fd256949568a05f8a27029001e",
            "1739a34beb6040efb9d8fc916841f511",
            "58c3e4af7b8e4be280cf79b9b311b34b",
            "55249948929149bdb7a9446764327806",
            "5e05da47fe7e46f580a9a1a072622ccd",
            "0cce4a2eb29a4cf099c8cd2eec95dde4",
            "35d938f20d014fcdb0a4cbf04b961699",
            "0f2d8fb1535149f69da87511e4510225",
            "0c597ca304f44bb5a41423f529339fe2",
            "1cd4c142de5942219d75cf7c9fde7290",
            "2f43df25f8604add9317d0c019580129",
            "abb478b92bb34bdb85519b5b57ef00c4",
            "4aaa7f6374dc4eb2ba0b3ead0dbfe1b9",
            "1c59f6de42d54604a39e552a8aaf2aae",
            "ce0fed99fe354cb1a692d899043dcc0a",
            "1a18b8bb9fde473aaa79f8a7b1bb7e1f",
            "3434f1a4c896405398cbf6ae6dd33f24",
            "fd018eb1df334be1b26601e8e9b1618a",
            "0ca715996a6c493bb527733fe278ce14",
            "c47c84945dda43829082b5b7dbfb388a",
            "815bc852e11c4a20b9ba8f43264458af",
            "4f4d2aaa2f044cc4891f44b80fd1c2ac",
            "c47fbaaf0a2b4b4aabe8eaf4e57d6429",
            "d427b41f99b74056ac239b015fd78c3d",
            "7426011c61894c94aef33aa1bcb735a2",
            "f1453fbfa1b245a2bf5001c35a5c8efa",
            "70ce029c919c4b71a8d7a436e3907a5e",
            "5623c9aa067b42509458d631fbd4f2c2",
            "405a05057fe542968181f8d08782ccf2",
            "e6c0a16f47184fa99b2ba2dbd2526494",
            "b6730b25010e4efa861014d5edb45f64",
            "2bff9bef182347baaf21c8cfe92500f5",
            "ba60373f925e42a29b1f67364c917dc8",
            "15f12584b3254263b50ec21251ce97b2",
            "d0fe61e04f664491a9ee7fa6d10cd586",
            "65d5eab54d9847669c9059e5c5901d0f",
            "7222a90a28cb47638b9c20a5e18e151d",
            "a9c87df753cd4b6188f2a89ff7131a6b",
            "d0f072585c7443c3b6e04b1f3b63cd39",
            "9280fc420d164988846bf1111cdd4f33",
            "f1c82b42dde944e18e16680dce0865f3",
            "662900ecfd8b4e628b29a2b9926b9a08",
            "467eca7f8a974645b8979094e1a5023e",
            "1acc4578527c4095ba13397d19466a24",
            "7aeda03881ef485f9860d20f3b9e5029",
            "bd9752dccb4a46d8877be82e5daf7986",
            "4ede36ac50c941ff961b712a6e8f61ba",
            "c7bd348ec8954acabfc339f89516de47",
            "be86f6cfc0c14cc5b0c803ae4afa67cc",
            "2c82c9602d7e4456830f3c4b6d68af1b",
            "a62012fe285e4ec4a572d554069650e5",
            "19d7b84dd3bc47379b250ee72be83be5",
            "1160a2f0ec664d99bc1cf3db5a79432e",
            "829292d3823c49599ba6331775045dbc",
            "e8250bfd6328469e818b8fc66441db01",
            "0a07a47bbb0b4726aedd1c2e104913a6",
            "9c22c74e5aa745cc80bf48719fb25c76",
            "f2bbe06025694ad594f46d408ea306f6",
            "7f224ca0fafc487aae2995ca43cdbde7",
            "a3a2a2820f5f4e19b2d471cb3d3fdc76",
            "367d04b9a1444220bd84cc226c4c8e5a",
            "929a23bb28dc4bafa140e055dd221e3e",
            "71f1c20513d44e4b857fbbab6b8a16fc",
            "bc00fa9c5da84bbc82262ed640ea90e6",
            "3ce96a8aca714f9793b8dccb3d4c47a6",
            "68398c1006cd442486cae4c16af9e0ec",
            "ca9bf9d0f9f649b8babcf75b0976caab"
          ]
        },
        "id": "2MMXcWFFgCXU",
        "outputId": "b8934aec-aff2-4e48-ad9b-cdf7d2927fe0"
      },
      "outputs": [
        {
          "name": "stderr",
          "output_type": "stream",
          "text": [
            "Resolving data files: 100%|██████████| 12532/12532 [00:00<00:00, 28315.76it/s]\n",
            "Resolving data files: 100%|██████████| 3085/3085 [00:00<00:00, 46275.71it/s]\n",
            "Downloading data files: 100%|██████████| 12533/12533 [00:00<00:00, 46948.72it/s]\n",
            "Downloading data files: 0it [00:00, ?it/s]\n",
            "Extracting data files: 0it [00:00, ?it/s]\n",
            "Downloading data files: 100%|██████████| 3086/3086 [00:00<00:00, 42230.14it/s]\n",
            "Downloading data files: 0it [00:00, ?it/s]\n",
            "Extracting data files: 0it [00:00, ?it/s]\n",
            "Generating train split: 12532 examples [00:00, 13538.37 examples/s]\n",
            "Generating test split: 3085 examples [00:00, 12033.25 examples/s]\n"
          ]
        }
      ],
      "source": [
        "from datasets import load_dataset, load_metric\n",
        "dataset_path = \"dataset_cleaned_sep\"\n",
        "timit = load_dataset(\"audiofolder\", data_dir=dataset_path)"
      ]
    },
    {
      "cell_type": "code",
      "execution_count": null,
      "metadata": {
        "colab": {
          "base_uri": "https://localhost:8080/"
        },
        "id": "QbIM-L0xdvf4",
        "outputId": "e528c783-f035-4348-d2ab-be2b7dd1170a"
      },
      "outputs": [
        {
          "data": {
            "text/plain": [
              "DatasetDict({\n",
              "    train: Dataset({\n",
              "        features: ['audio', 'lyrics'],\n",
              "        num_rows: 12532\n",
              "    })\n",
              "    test: Dataset({\n",
              "        features: ['audio', 'lyrics'],\n",
              "        num_rows: 3085\n",
              "    })\n",
              "})"
            ]
          },
          "execution_count": 3,
          "metadata": {},
          "output_type": "execute_result"
        }
      ],
      "source": [
        "timit"
      ]
    },
    {
      "cell_type": "code",
      "execution_count": null,
      "metadata": {
        "id": "kbyq6lDgQc2a"
      },
      "outputs": [],
      "source": [
        "# timit = timit.remove_columns([\"phonetic_detail\", \"word_detail\", \"dialect_region\", \"id\", \"sentence_type\", \"speaker_id\"])"
      ]
    },
    {
      "cell_type": "code",
      "execution_count": null,
      "metadata": {
        "colab": {
          "base_uri": "https://localhost:8080/"
        },
        "id": "ad-UGTuAxdoz",
        "outputId": "f80e88f2-474a-4bea-9b29-4476438798e0"
      },
      "outputs": [
        {
          "name": "stdout",
          "output_type": "stream",
          "text": [
            "{'audio': {'path': 'E:/rap_rec/dataset_cleaned_sep/train/chunk_0.mp3', 'array': array([ 0.00000000e+00,  1.46443085e-09,  1.37479139e-09, ...,\n",
            "       -3.44191722e-05, -3.44486587e-04, -3.17874277e-04]), 'sampling_rate': 44100}, 'lyrics': 'Wait wait a minute'}\n"
          ]
        },
        {
          "data": {
            "text/plain": [
              "datasets.arrow_dataset.Dataset"
            ]
          },
          "execution_count": 5,
          "metadata": {},
          "output_type": "execute_result"
        }
      ],
      "source": [
        "print(timit['train'][0])\n",
        "type(timit['train'])"
      ]
    },
    {
      "cell_type": "code",
      "execution_count": null,
      "metadata": {
        "id": "72737oog2F6U"
      },
      "outputs": [],
      "source": [
        "from datasets import ClassLabel\n",
        "import random\n",
        "import pandas as pd\n",
        "from IPython.display import display, HTML\n",
        "\n",
        "def show_random_elements(dataset, num_examples=10):\n",
        "    assert num_examples <= len(dataset), \"Can't pick more elements than there are in the dataset.\"\n",
        "    picks = []\n",
        "    for _ in range(num_examples):\n",
        "        pick = random.randint(0, len(dataset)-1)\n",
        "        while pick in picks:\n",
        "            pick = random.randint(0, len(dataset)-1)\n",
        "        picks.append(pick)\n",
        "\n",
        "    df = pd.DataFrame(dataset[picks])\n",
        "    display(HTML(df.to_html()))"
      ]
    },
    {
      "cell_type": "code",
      "execution_count": null,
      "metadata": {
        "colab": {
          "base_uri": "https://localhost:8080/",
          "height": 363
        },
        "id": "K_JUmf3G3b9S",
        "outputId": "c2d7b295-cbf3-4bf8-e6d3-4d512835c492"
      },
      "outputs": [
        {
          "data": {
            "text/html": [
              "<table border=\"1\" class=\"dataframe\">\n",
              "  <thead>\n",
              "    <tr style=\"text-align: right;\">\n",
              "      <th></th>\n",
              "      <th>lyrics</th>\n",
              "    </tr>\n",
              "  </thead>\n",
              "  <tbody>\n",
              "    <tr>\n",
              "      <th>0</th>\n",
              "      <td>I just wanna let go</td>\n",
              "    </tr>\n",
              "    <tr>\n",
              "      <th>1</th>\n",
              "      <td>Longev' on emotion</td>\n",
              "    </tr>\n",
              "    <tr>\n",
              "      <th>2</th>\n",
              "      <td>And that's why</td>\n",
              "    </tr>\n",
              "    <tr>\n",
              "      <th>3</th>\n",
              "      <td>I'm cooking up I'm cooking up ain't tryna lose time</td>\n",
              "    </tr>\n",
              "    <tr>\n",
              "      <th>4</th>\n",
              "      <td>Proof's room slept on the floor of 'da motel then</td>\n",
              "    </tr>\n",
              "    <tr>\n",
              "      <th>5</th>\n",
              "      <td>Nah you rap with venom and then you pack the rhythm</td>\n",
              "    </tr>\n",
              "    <tr>\n",
              "      <th>6</th>\n",
              "      <td>Okay I admit it that's over the top not</td>\n",
              "    </tr>\n",
              "    <tr>\n",
              "      <th>7</th>\n",
              "      <td>They call me Yea Yea</td>\n",
              "    </tr>\n",
              "    <tr>\n",
              "      <th>8</th>\n",
              "      <td>So much time might pass can't ignore it</td>\n",
              "    </tr>\n",
              "    <tr>\n",
              "      <th>9</th>\n",
              "      <td>This shit soul for this shit</td>\n",
              "    </tr>\n",
              "  </tbody>\n",
              "</table>"
            ],
            "text/plain": [
              "<IPython.core.display.HTML object>"
            ]
          },
          "metadata": {},
          "output_type": "display_data"
        }
      ],
      "source": [
        "show_random_elements(timit[\"train\"].remove_columns([\"audio\"]), num_examples=10)"
      ]
    },
    {
      "cell_type": "code",
      "execution_count": null,
      "metadata": {
        "id": "svKzVJ_hQGK6"
      },
      "outputs": [],
      "source": [
        "import re\n",
        "chars_to_ignore_regex = '[\\,\\?\\.\\!\\-\\;\\:\\*\\$\\%\\\"]'\n",
        "\n",
        "def remove_special_characters(batch):\n",
        "    from unidecode import unidecode\n",
        "    batch[\"lyrics\"] = unidecode(batch[\"lyrics\"])\n",
        "    batch[\"lyrics\"] = re.sub(chars_to_ignore_regex, '', batch[\"lyrics\"]).lower() + \" \"\n",
        "    # print(type(batch['lyrics']), batch['lyrics'])\n",
        "    trans = (\n",
        "        ('1', 'one'),\n",
        "        ('2', 'two'),\n",
        "        ('3', 'three'),\n",
        "        ('4', 'four'),\n",
        "        ('5', 'five'),\n",
        "        ('6', 'six'),\n",
        "        ('7', 'seven'),\n",
        "        ('8', 'eight'),\n",
        "        ('9', 'nine'),\n",
        "        ('0', 'zero'),\n",
        "    )\n",
        "\n",
        "    for num, word in trans:\n",
        "        batch[\"lyrics\"] = batch[\"lyrics\"].replace(num, word)\n",
        "\n",
        "    return batch"
      ]
    },
    {
      "cell_type": "code",
      "execution_count": null,
      "metadata": {
        "colab": {
          "base_uri": "https://localhost:8080/",
          "height": 81,
          "referenced_widgets": [
            "9e9b960daaf04e588ed01bb52b191230",
            "ba0ea34a71784576a80afdddb98faea6",
            "7cd00c0336714f628b8e2a1a40ddbae4",
            "981c05bcfa714c969d8bf80926abd0d8",
            "8092d16d669b40b697995721aae587f6",
            "848947f884dc4fe0b4e4901e3200f6f0",
            "eb112174c77842198dc3ec23b4cb81af",
            "752114f6da524e3db49c69938d827879",
            "d632c387438a44c4be88e5e7a6bba522",
            "643a8660e0de454892c6d8cb77914bcb",
            "c15b716ff802470d9e766bd839557d63",
            "0396f1ae3bef4fa89cb96c0779110288",
            "bd3991e59b6748c28558594228f5c02d",
            "7d44316d36ce44e2960f272ea93a0556",
            "71898233b03043c1b1b68fa67e3e8c2b",
            "ffe506eaa2dd4c05b9468026fe37050e",
            "740fece56def407a8f94a66fd7e072b9",
            "7843184707dd47bca99a85292dce2818",
            "790b7b2aec7a4a8db0281d1560b8cfa8",
            "1c53e87e439b44338d760fbb61b927b5",
            "e2c66321ee884f1a94db6007b41e70e4",
            "6643c0c695a1417fb7204080fca4f9dd"
          ]
        },
        "id": "XIHocAuTQbBR",
        "outputId": "49b820a5-8751-470c-e5c1-e27d0d0927a4"
      },
      "outputs": [
        {
          "name": "stderr",
          "output_type": "stream",
          "text": [
            "Map: 100%|██████████| 12532/12532 [00:00<00:00, 30802.90 examples/s]\n",
            "Map: 100%|██████████| 3085/3085 [00:00<00:00, 17491.55 examples/s]\n"
          ]
        }
      ],
      "source": [
        "timit = timit.map(remove_special_characters)"
      ]
    },
    {
      "cell_type": "code",
      "execution_count": null,
      "metadata": {
        "colab": {
          "base_uri": "https://localhost:8080/",
          "height": 363
        },
        "id": "RBDRAAYxRE6n",
        "outputId": "fb9f0fc0-72a2-400f-c367-b2ff6abae16d"
      },
      "outputs": [
        {
          "data": {
            "text/html": [
              "<table border=\"1\" class=\"dataframe\">\n",
              "  <thead>\n",
              "    <tr style=\"text-align: right;\">\n",
              "      <th></th>\n",
              "      <th>lyrics</th>\n",
              "    </tr>\n",
              "  </thead>\n",
              "  <tbody>\n",
              "    <tr>\n",
              "      <th>0</th>\n",
              "      <td>a closet of saint laurent get what i want when i want</td>\n",
              "    </tr>\n",
              "    <tr>\n",
              "      <th>1</th>\n",
              "      <td>bad bitch like she playin' with the mixes</td>\n",
              "    </tr>\n",
              "    <tr>\n",
              "      <th>2</th>\n",
              "      <td>got some gold teeth and i'm grining</td>\n",
              "    </tr>\n",
              "    <tr>\n",
              "      <th>3</th>\n",
              "      <td>she wanna stay with a thug forreal</td>\n",
              "    </tr>\n",
              "    <tr>\n",
              "      <th>4</th>\n",
              "      <td>i just spent a check and i made it back</td>\n",
              "    </tr>\n",
              "    <tr>\n",
              "      <th>5</th>\n",
              "      <td>never lost a fight but i'm looking for a beating</td>\n",
              "    </tr>\n",
              "    <tr>\n",
              "      <th>6</th>\n",
              "      <td>i don't gafos</td>\n",
              "    </tr>\n",
              "    <tr>\n",
              "      <th>7</th>\n",
              "      <td>didn't make the cut like it's live wire</td>\n",
              "    </tr>\n",
              "    <tr>\n",
              "      <th>8</th>\n",
              "      <td>who tryna who tryna bust it for the dollars</td>\n",
              "    </tr>\n",
              "    <tr>\n",
              "      <th>9</th>\n",
              "      <td>and no matter what they say it's my day</td>\n",
              "    </tr>\n",
              "  </tbody>\n",
              "</table>"
            ],
            "text/plain": [
              "<IPython.core.display.HTML object>"
            ]
          },
          "metadata": {},
          "output_type": "display_data"
        }
      ],
      "source": [
        "show_random_elements(timit[\"train\"].remove_columns([\"audio\"]))"
      ]
    },
    {
      "cell_type": "code",
      "execution_count": null,
      "metadata": {
        "id": "LwCshNbbeRZR"
      },
      "outputs": [],
      "source": [
        "def extract_all_chars(batch):\n",
        "  all_text = \" \".join(batch[\"lyrics\"])\n",
        "  vocab = list(set(all_text))\n",
        "  return {\"vocab\": [vocab], \"all_text\": [all_text]}"
      ]
    },
    {
      "cell_type": "code",
      "execution_count": null,
      "metadata": {
        "colab": {
          "base_uri": "https://localhost:8080/",
          "height": 81,
          "referenced_widgets": [
            "6bf50ec5270146fbb65295a4c9ad0f5c",
            "d038c851f2cb4b6b959c20d48a12d1e5",
            "5015ce9ea74645e08981cfee5ec4d3dd",
            "f53a99cde06c4267b30836882449bfb8",
            "e88d15667dd5452baf6f938af4abf3c5",
            "9f21d2ded83d45978501552936061227",
            "ef4dd6915b8e473fb0fd366b8867c477",
            "2b0ff2c13e5b4346a1e6e7a2819fdbdb",
            "7715c0a355204574b96f437f0c7ac0e7",
            "7b5993a3277a494d9cf2ac5e15fac177",
            "f07487b29d484324a5cfef2ad456fca1",
            "95e46641b99242ff921e992fc1215bb1",
            "e85ad0683fef42619591984046f9d053",
            "f27277d94c814998b0d553a075d3d632",
            "2db8b405dce844d6a064055aab69dfe4",
            "17e727913096415f9e0fa4e8173d2d55",
            "865c9ec9e7ef4161a53ef1f81ab95c10",
            "13c8182a38af4f3bb8f4497c2da395b1",
            "d3b761c4e2634e3eb6bd3c2288e2a818",
            "e7db16c156834a2784ada70e4f085c3c",
            "fa56b7977ad4450497f3a6883bd7f686",
            "79e3276eb0fe42e5bac4f25f1ba00c8a"
          ]
        },
        "id": "_m6uUjjcfbjH",
        "outputId": "c414c0b7-768f-4eda-99e8-a8a773ed78f4"
      },
      "outputs": [
        {
          "name": "stderr",
          "output_type": "stream",
          "text": [
            "Map: 100%|██████████| 12532/12532 [00:00<00:00, 116280.60 examples/s]\n",
            "Map: 100%|██████████| 3085/3085 [00:00<00:00, 35182.04 examples/s]\n"
          ]
        }
      ],
      "source": [
        "vocabs = timit.map(\n",
        "  extract_all_chars,\n",
        "  batched=True,\n",
        "  batch_size=-1,\n",
        "  keep_in_memory=True,\n",
        "  remove_columns=timit.column_names[\"train\"]\n",
        ")"
      ]
    },
    {
      "cell_type": "code",
      "execution_count": null,
      "metadata": {
        "id": "aQfneNsmlJI0"
      },
      "outputs": [],
      "source": [
        "vocab_list = list(set(vocabs[\"train\"][\"vocab\"][0]) | set(vocabs[\"test\"][\"vocab\"][0]))"
      ]
    },
    {
      "cell_type": "code",
      "execution_count": null,
      "metadata": {
        "colab": {
          "base_uri": "https://localhost:8080/"
        },
        "id": "_0kRndSvqaKk",
        "outputId": "55694f4a-3c18-4e89-99f3-69e747102cb5"
      },
      "outputs": [
        {
          "data": {
            "text/plain": [
              "{'e': 0,\n",
              " 'h': 1,\n",
              " 'v': 2,\n",
              " 'g': 3,\n",
              " 'b': 4,\n",
              " ' ': 5,\n",
              " 'm': 6,\n",
              " 'r': 7,\n",
              " 'z': 8,\n",
              " 'x': 9,\n",
              " 'q': 10,\n",
              " 'j': 11,\n",
              " 'c': 12,\n",
              " 'u': 13,\n",
              " 't': 14,\n",
              " '/': 15,\n",
              " \"'\": 16,\n",
              " 'f': 17,\n",
              " '(': 18,\n",
              " 'k': 19,\n",
              " 'n': 20,\n",
              " 'w': 21,\n",
              " 'a': 22,\n",
              " 'y': 23,\n",
              " 'l': 24,\n",
              " 'o': 25,\n",
              " 'i': 26,\n",
              " 'd': 27,\n",
              " 'p': 28,\n",
              " 's': 29}"
            ]
          },
          "execution_count": 14,
          "metadata": {},
          "output_type": "execute_result"
        }
      ],
      "source": [
        "vocab_dict = {v: k for k, v in enumerate(vocab_list)}\n",
        "vocab_dict"
      ]
    },
    {
      "cell_type": "code",
      "execution_count": null,
      "metadata": {
        "id": "npbIbBoLgaFX"
      },
      "outputs": [],
      "source": [
        "vocab_dict[\"|\"] = vocab_dict[\" \"]\n",
        "del vocab_dict[\" \"]"
      ]
    },
    {
      "cell_type": "code",
      "execution_count": null,
      "metadata": {
        "colab": {
          "base_uri": "https://localhost:8080/"
        },
        "id": "znF0bNunsjbl",
        "outputId": "243dced3-b402-4a76-9a20-1310b3b2e17c"
      },
      "outputs": [
        {
          "data": {
            "text/plain": [
              "32"
            ]
          },
          "execution_count": 16,
          "metadata": {},
          "output_type": "execute_result"
        }
      ],
      "source": [
        "vocab_dict[\"[UNK]\"] = len(vocab_dict)\n",
        "vocab_dict[\"[PAD]\"] = len(vocab_dict)\n",
        "len(vocab_dict)"
      ]
    },
    {
      "cell_type": "code",
      "execution_count": null,
      "metadata": {
        "id": "ehyUoh9vk191"
      },
      "outputs": [],
      "source": [
        "import json\n",
        "with open('vocab.json', 'w') as vocab_file:\n",
        "    json.dump(vocab_dict, vocab_file)"
      ]
    },
    {
      "cell_type": "code",
      "execution_count": null,
      "metadata": {
        "id": "Sx5010dnDTz1"
      },
      "outputs": [],
      "source": [
        "from transformers import AutoConfig\n",
        "\n",
        "config = AutoConfig.from_pretrained(model_checkpoint)\n",
        "\n",
        "tokenizer_type = config.model_type if config.tokenizer_class is None else None\n",
        "config = config if config.tokenizer_class is not None else None"
      ]
    },
    {
      "cell_type": "code",
      "execution_count": null,
      "metadata": {
        "colab": {
          "base_uri": "https://localhost:8080/"
        },
        "id": "xriFGEWQkO4M",
        "outputId": "47d05cdd-7fef-4965-ebf7-385603e105d9"
      },
      "outputs": [
        {
          "name": "stderr",
          "output_type": "stream",
          "text": [
            "`use_fast` is set to `True` but the tokenizer class does not have a fast version.  Falling back to the slow version.\n"
          ]
        }
      ],
      "source": [
        "from transformers import AutoTokenizer\n",
        "\n",
        "tokenizer = AutoTokenizer.from_pretrained(\n",
        "  \"./\",\n",
        "  config=config,\n",
        "  tokenizer_type=tokenizer_type,\n",
        "  unk_token=\"[UNK]\",\n",
        "  pad_token=\"[PAD]\",\n",
        "  word_delimiter_token=\"|\",\n",
        ")"
      ]
    },
    {
      "cell_type": "code",
      "execution_count": null,
      "metadata": {
        "id": "1mbffBdxIl0M"
      },
      "outputs": [],
      "source": [
        "model_checkpoint_name = model_checkpoint.split(\"/\")[-1]"
      ]
    },
    {
      "cell_type": "code",
      "execution_count": null,
      "metadata": {
        "id": "TTCS7W6XJ9BG"
      },
      "outputs": [],
      "source": [
        "# timit[\"train\"][0][\"file\"]"
      ]
    },
    {
      "cell_type": "code",
      "execution_count": null,
      "metadata": {
        "colab": {
          "base_uri": "https://localhost:8080/"
        },
        "id": "mk9QHuSsN7lf",
        "outputId": "85546070-4108-4cdb-8a19-baab6d65d737"
      },
      "outputs": [
        {
          "data": {
            "text/plain": [
              "{'path': 'E:/rap_rec/dataset_cleaned_sep/train/chunk_0.mp3',\n",
              " 'array': array([ 0.00000000e+00,  1.46443085e-09,  1.37479139e-09, ...,\n",
              "        -3.44191722e-05, -3.44486587e-04, -3.17874277e-04]),\n",
              " 'sampling_rate': 44100}"
            ]
          },
          "execution_count": 22,
          "metadata": {},
          "output_type": "execute_result"
        }
      ],
      "source": [
        "timit[\"train\"][0][\"audio\"]"
      ]
    },
    {
      "cell_type": "code",
      "execution_count": null,
      "metadata": {
        "colab": {
          "base_uri": "https://localhost:8080/",
          "height": 93
        },
        "id": "dueM6U7Ev0OA",
        "outputId": "6ab30537-e31a-495b-dfe6-06f2473af53f"
      },
      "outputs": [
        {
          "name": "stdout",
          "output_type": "stream",
          "text": [
            "they knowin' that we lit yeah \n"
          ]
        },
        {
          "data": {
            "text/html": [
              "\n",
              "                <audio  controls=\"controls\" autoplay=\"autoplay\">\n",
              "                    <source src=\"data:audio/wav;base64,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\" type=\"audio/wav\" />\n",
              "                    Your browser does not support the audio element.\n",
              "                </audio>\n",
              "              "
            ],
            "text/plain": [
              "<IPython.lib.display.Audio object>"
            ]
          },
          "execution_count": 23,
          "metadata": {},
          "output_type": "execute_result"
        }
      ],
      "source": [
        "import IPython.display as ipd\n",
        "import numpy as np\n",
        "import random\n",
        "\n",
        "rand_int = random.randint(0, len(timit[\"train\"]))\n",
        "\n",
        "print(timit[\"train\"][rand_int][\"lyrics\"])\n",
        "ipd.Audio(data=np.asarray(timit[\"train\"][rand_int][\"audio\"][\"array\"]), autoplay=True, rate=44100)"
      ]
    },
    {
      "cell_type": "code",
      "execution_count": null,
      "metadata": {
        "colab": {
          "base_uri": "https://localhost:8080/",
          "height": 75
        },
        "id": "fKIjuqcV0X5R",
        "outputId": "01573f62-38be-4842-f5aa-c8c2d9b4dd01"
      },
      "outputs": [
        {
          "data": {
            "text/html": [
              "\n",
              "                <audio  controls=\"controls\" autoplay=\"autoplay\">\n",
              "                    <source src=\"data:audio/wav;base64,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\" type=\"audio/wav\" />\n",
              "                    Your browser does not support the audio element.\n",
              "                </audio>\n",
              "              "
            ],
            "text/plain": [
              "<IPython.lib.display.Audio object>"
            ]
          },
          "execution_count": 24,
          "metadata": {},
          "output_type": "execute_result"
        }
      ],
      "source": [
        "import librosa\n",
        "_data = librosa.resample(timit[\"train\"][rand_int][\"audio\"][\"array\"], orig_sr=44100, target_sr=16000)\n",
        "ipd.Audio(data=_data, autoplay=True, rate=16000)"
      ]
    },
    {
      "cell_type": "code",
      "execution_count": null,
      "metadata": {
        "colab": {
          "base_uri": "https://localhost:8080/"
        },
        "id": "1Po2g7YPuRTx",
        "outputId": "53d4b88b-f07b-43d6-b3a2-35397338af7b"
      },
      "outputs": [
        {
          "name": "stdout",
          "output_type": "stream",
          "text": [
            "Target text: bitch i was made inside the projects i got crip on my set \n",
            "Input array shape: (134784,)\n",
            "Sampling rate: 44100\n"
          ]
        }
      ],
      "source": [
        "rand_int = random.randint(0, len(timit[\"train\"]))\n",
        "\n",
        "print(\"Target text:\", timit[\"train\"][rand_int][\"lyrics\"])\n",
        "print(\"Input array shape:\", np.asarray(timit[\"train\"][rand_int][\"audio\"][\"array\"]).shape)\n",
        "print(\"Sampling rate:\", timit[\"train\"][rand_int][\"audio\"][\"sampling_rate\"])"
      ]
    },
    {
      "cell_type": "code",
      "execution_count": null,
      "metadata": {
        "id": "FFQCC3A9vz2r"
      },
      "outputs": [],
      "source": [
        "from transformers import AutoFeatureExtractor\n",
        "\n",
        "feature_extractor = AutoFeatureExtractor.from_pretrained(model_checkpoint)"
      ]
    },
    {
      "cell_type": "code",
      "execution_count": null,
      "metadata": {
        "id": "d-EuXD_rv7FP"
      },
      "outputs": [],
      "source": [
        "from transformers import Wav2Vec2Processor\n",
        "\n",
        "processor = Wav2Vec2Processor(feature_extractor=feature_extractor, tokenizer=tokenizer)"
      ]
    },
    {
      "cell_type": "code",
      "execution_count": null,
      "metadata": {
        "id": "eJY7I0XAwe9p"
      },
      "outputs": [],
      "source": [
        "def prepare_dataset(batch, processor=processor):\n",
        "    import librosa\n",
        "    audio = batch[\"audio\"]\n",
        "    wave = librosa.resample(audio['array'], orig_sr=44100, target_sr=16000)\n",
        "\n",
        "    # batched output is \"un-batched\" to ensure mapping is correct\n",
        "    batch[\"input_values\"] = processor(wave, sampling_rate=16000).input_values[0]\n",
        "    batch[\"input_length\"] = len(batch[\"input_values\"])\n",
        "\n",
        "    with processor.as_target_processor():\n",
        "        batch[\"labels\"] = processor(batch[\"lyrics\"]).input_ids\n",
        "    return batch"
      ]
    },
    {
      "cell_type": "code",
      "execution_count": null,
      "metadata": {
        "colab": {
          "base_uri": "https://localhost:8080/"
        },
        "id": "o6N0tLgv1IBd",
        "outputId": "a0326461-12d2-4c7d-d9ec-903e463743db"
      },
      "outputs": [
        {
          "data": {
            "text/plain": [
              "{'train': ['audio', 'lyrics'], 'test': ['audio', 'lyrics']}"
            ]
          },
          "execution_count": 29,
          "metadata": {},
          "output_type": "execute_result"
        }
      ],
      "source": [
        "# dir(timit)\n",
        "timit.column_names"
      ]
    },
    {
      "cell_type": "code",
      "execution_count": null,
      "metadata": {
        "colab": {
          "base_uri": "https://localhost:8080/",
          "height": 755,
          "referenced_widgets": [
            "ba14cfa319ce4a3e88ac54980db53f16",
            "12f48e80cfc448e88c7427cb4ec39cc1",
            "5a5d394bc3564b049545fc55136a19ef",
            "112afa4e5dba437ba22a4c88bcceb6cd",
            "b6b7837e64ec436c881ce739c3c2db5a",
            "fb2312cc2c794a1caaadd6bb36b4d9f7",
            "08df285de7fd46e9991c0173326d474f",
            "e183c219fdbc48faad4f594a3916614c",
            "10eedbd403e24bc4b3bba68a67094ba6",
            "4d76d58e57414847a69977b192430acc",
            "5b7af6695468486e8e66609907fb6f7d"
          ]
        },
        "id": "-np9xYK-wl8q",
        "outputId": "14053e1c-5c3d-4c8a-9d85-154a73fbe7ee"
      },
      "outputs": [
        {
          "name": "stderr",
          "output_type": "stream",
          "text": [
            "Map (num_proc=4): 100%|██████████| 12532/12532 [00:26<00:00, 476.91 examples/s]\n",
            "Map (num_proc=4): 100%|██████████| 3085/3085 [00:10<00:00, 292.85 examples/s]\n"
          ]
        }
      ],
      "source": [
        "timit = timit.map(prepare_dataset, remove_columns=[\"audio\", \"lyrics\"], num_proc=4)"
      ]
    },
    {
      "cell_type": "code",
      "execution_count": null,
      "metadata": {
        "id": "nqGobEPUvG3v",
        "outputId": "d9f50785-e8b2-4e9f-c6a6-0f6c41b8eb74"
      },
      "outputs": [
        {
          "name": "stderr",
          "output_type": "stream",
          "text": [
            "Filter: 100%|██████████| 12532/12532 [00:00<00:00, 441758.00 examples/s]\n",
            "Filter: 100%|██████████| 12201/12201 [00:00<00:00, 249253.35 examples/s]\n",
            "Filter: 100%|██████████| 3085/3085 [00:00<00:00, 251090.13 examples/s]\n",
            "Filter: 100%|██████████| 2915/2915 [00:00<00:00, 159598.94 examples/s]\n"
          ]
        }
      ],
      "source": [
        "max_input_length_in_sec = 4.0\n",
        "min_input_length_in_sec = 1.0\n",
        "timit[\"train\"] = timit[\"train\"].filter(lambda x: x < max_input_length_in_sec * processor.feature_extractor.sampling_rate, input_columns=[\"input_length\"])\n",
        "timit[\"train\"] = timit[\"train\"].filter(lambda x: x >= min_input_length_in_sec * processor.feature_extractor.sampling_rate, input_columns=[\"input_length\"])\n",
        "timit[\"test\"] = timit[\"test\"].filter(lambda x: x < max_input_length_in_sec * processor.feature_extractor.sampling_rate, input_columns=[\"input_length\"])\n",
        "timit[\"test\"] = timit[\"test\"].filter(lambda x: x >= min_input_length_in_sec * processor.feature_extractor.sampling_rate, input_columns=[\"input_length\"])"
      ]
    },
    {
      "cell_type": "markdown",
      "metadata": {
        "id": "gYlQkKVoRUos"
      },
      "source": [
        "## Training\n",
        "[Trainer](https://huggingface.co/transformers/master/main_classes/trainer.html?highlight=trainer)"
      ]
    },
    {
      "cell_type": "markdown",
      "metadata": {
        "id": "Slk403unUS91"
      },
      "source": [
        "### Set-up Trainer\n",
        "\n",
        "Let's start by defining the data collator. The code for the data collator was copied from [this example](https://github.com/huggingface/transformers/blob/9a06b6b11bdfc42eea08fa91d0c737d1863c99e3/examples/research_projects/wav2vec2/run_asr.py#L81)."
      ]
    },
    {
      "cell_type": "code",
      "execution_count": null,
      "metadata": {
        "id": "tborvC9hx88e"
      },
      "outputs": [],
      "source": [
        "from dataclasses import dataclass, field\n",
        "from typing import Any, Dict, List, Optional, Union\n",
        "\n",
        "@dataclass\n",
        "class DataCollatorCTCWithPadding:\n",
        "    \"\"\"\n",
        "    Data collator that will dynamically pad the inputs received.\n",
        "    Args:\n",
        "        processor (:class:`~transformers.Wav2Vec2Processor`)\n",
        "            The processor used for proccessing the data.\n",
        "        padding (:obj:`bool`, :obj:`str` or :class:`~transformers.tokenization_utils_base.PaddingStrategy`, `optional`, defaults to :obj:`True`):\n",
        "            Select a strategy to pad the returned sequences (according to the model's padding side and padding index)\n",
        "            among:\n",
        "            * :obj:`True` or :obj:`'longest'`: Pad to the longest sequence in the batch (or no padding if only a single\n",
        "              sequence if provided).\n",
        "            * :obj:`'max_length'`: Pad to a maximum length specified with the argument :obj:`max_length` or to the\n",
        "              maximum acceptable input length for the model if that argument is not provided.\n",
        "            * :obj:`False` or :obj:`'do_not_pad'` (default): No padding (i.e., can output a batch with sequences of\n",
        "              different lengths).\n",
        "        max_length (:obj:`int`, `optional`):\n",
        "            Maximum length of the ``input_values`` of the returned list and optionally padding length (see above).\n",
        "        max_length_labels (:obj:`int`, `optional`):\n",
        "            Maximum length of the ``labels`` returned list and optionally padding length (see above).\n",
        "        pad_to_multiple_of (:obj:`int`, `optional`):\n",
        "            If set will pad the sequence to a multiple of the provided value.\n",
        "            This is especially useful to enable the use of Tensor Cores on NVIDIA hardware with compute capability >=\n",
        "            7.5 (Volta).\n",
        "    \"\"\"\n",
        "\n",
        "    processor: Wav2Vec2Processor\n",
        "    padding: Union[bool, str] = True\n",
        "    max_length: Optional[int] = None\n",
        "    max_length_labels: Optional[int] = None\n",
        "    pad_to_multiple_of: Optional[int] = None\n",
        "    pad_to_multiple_of_labels: Optional[int] = None\n",
        "\n",
        "    def __call__(self, features: List[Dict[str, Union[List[int], torch.Tensor]]]) -> Dict[str, torch.Tensor]:\n",
        "        # split inputs and labels since they have to be of different lenghts and need\n",
        "        # different padding methods\n",
        "        input_features = [{\"input_values\": feature[\"input_values\"]} for feature in features]\n",
        "        label_features = [{\"input_ids\": feature[\"labels\"]} for feature in features]\n",
        "\n",
        "        batch = self.processor.pad(\n",
        "            input_features,\n",
        "            padding=self.padding,\n",
        "            max_length=self.max_length,\n",
        "            pad_to_multiple_of=self.pad_to_multiple_of,\n",
        "            return_tensors=\"pt\",\n",
        "        )\n",
        "        with self.processor.as_target_processor():\n",
        "            labels_batch = self.processor.pad(\n",
        "                label_features,\n",
        "                padding=self.padding,\n",
        "                max_length=self.max_length_labels,\n",
        "                pad_to_multiple_of=self.pad_to_multiple_of_labels,\n",
        "                return_tensors=\"pt\",\n",
        "            )\n",
        "\n",
        "        # replace padding with -100 to ignore loss correctly\n",
        "        labels = labels_batch[\"input_ids\"].masked_fill(labels_batch.attention_mask.ne(1), -100)\n",
        "\n",
        "        batch[\"labels\"] = labels\n",
        "\n",
        "        return batch"
      ]
    },
    {
      "cell_type": "code",
      "execution_count": null,
      "metadata": {
        "id": "lbQf5GuZyQ4_"
      },
      "outputs": [],
      "source": [
        "data_collator = DataCollatorCTCWithPadding(processor=processor, padding=True)"
      ]
    },
    {
      "cell_type": "code",
      "execution_count": null,
      "metadata": {
        "id": "9Xsux2gmyXso",
        "outputId": "83dd5cf1-4471-4ebe-f9cd-7d52d8b13bea"
      },
      "outputs": [
        {
          "name": "stderr",
          "output_type": "stream",
          "text": [
            "C:\\Users\\wbsgus\\AppData\\Local\\Temp\\ipykernel_17000\\24688115.py:1: FutureWarning: load_metric is deprecated and will be removed in the next major version of datasets. Use 'evaluate.load' instead, from the new library 🤗 Evaluate: https://huggingface.co/docs/evaluate\n",
            "  wer_metric = load_metric(\"wer\")\n"
          ]
        }
      ],
      "source": [
        "wer_metric = load_metric(\"wer\")"
      ]
    },
    {
      "cell_type": "code",
      "execution_count": null,
      "metadata": {
        "id": "1XZ-kjweyTy_"
      },
      "outputs": [],
      "source": [
        "def compute_metrics(pred):\n",
        "    pred_logits = pred.predictions\n",
        "    pred_ids = np.argmax(pred_logits, axis=-1)\n",
        "\n",
        "    pred.label_ids[pred.label_ids == -100] = processor.tokenizer.pad_token_id\n",
        "\n",
        "    pred_str = processor.batch_decode(pred_ids)\n",
        "    # we do not want to group tokens when computing the metrics\n",
        "    lyrics_str = processor.batch_decode(pred.label_ids, group_tokens=False)\n",
        "\n",
        "    wer = wer_metric.compute(predictions=pred_str, references=lyrics_str)\n",
        "\n",
        "    return {\"wer\": wer}"
      ]
    },
    {
      "cell_type": "code",
      "execution_count": null,
      "metadata": {
        "id": "e7cqAWIayn6w",
        "outputId": "fb386117-32b4-4f8d-ba1b-305cd8f2e75c"
      },
      "outputs": [
        {
          "name": "stderr",
          "output_type": "stream",
          "text": [
            "Some weights of Wav2Vec2ForCTC were not initialized from the model checkpoint at facebook/wav2vec2-large-xlsr-53 and are newly initialized: ['wav2vec2.encoder.pos_conv_embed.conv.parametrizations.weight.original1', 'lm_head.bias', 'lm_head.weight', 'wav2vec2.encoder.pos_conv_embed.conv.parametrizations.weight.original0']\n",
            "You should probably TRAIN this model on a down-stream task to be able to use it for predictions and inference.\n"
          ]
        }
      ],
      "source": [
        "from transformers import AutoModelForCTC\n",
        "\n",
        "model = AutoModelForCTC.from_pretrained(\n",
        "    model_checkpoint,\n",
        "    ctc_loss_reduction=\"mean\",\n",
        "    pad_token_id=processor.tokenizer.pad_token_id,\n",
        ")"
      ]
    },
    {
      "cell_type": "code",
      "execution_count": null,
      "metadata": {
        "id": "KbeKSV7uzGPP"
      },
      "outputs": [],
      "source": [
        "from transformers import TrainingArguments\n",
        "\n",
        "training_args = TrainingArguments(\n",
        "  output_dir='output',\n",
        "  group_by_length=True,\n",
        "  per_device_train_batch_size=16,\n",
        "  evaluation_strategy=\"steps\",\n",
        "  # num_train_epochs=30,\n",
        "  num_train_epochs=20,\n",
        "  fp16=True,\n",
        "  gradient_checkpointing=True,\n",
        "  save_steps=500,\n",
        "  eval_steps=500,\n",
        "  logging_steps=500,\n",
        "  learning_rate=1e-4,\n",
        "  # learning_rate=1e-5,\n",
        "  weight_decay=0.001,\n",
        "  warmup_steps=1000,\n",
        "  save_total_limit=2,\n",
        ")"
      ]
    },
    {
      "cell_type": "code",
      "execution_count": null,
      "metadata": {
        "id": "rY7vBmFCPFgC"
      },
      "outputs": [],
      "source": [
        "from transformers import Trainer\n",
        "\n",
        "trainer = Trainer(\n",
        "    model=model,\n",
        "    data_collator=data_collator,\n",
        "    args=training_args,\n",
        "    compute_metrics=compute_metrics,\n",
        "    train_dataset=timit[\"train\"],\n",
        "    eval_dataset=timit[\"test\"],\n",
        "    tokenizer=processor.feature_extractor,\n",
        ")"
      ]
    },
    {
      "cell_type": "markdown",
      "metadata": {
        "id": "rpvZHM1xReIW"
      },
      "source": [
        "### Training"
      ]
    },
    {
      "cell_type": "code",
      "execution_count": null,
      "metadata": {
        "id": "_UEjJqGsQw24",
        "outputId": "a74f9208-840f-4079-a5a8-dfd5ba2c287d"
      },
      "outputs": [
        {
          "name": "stderr",
          "output_type": "stream",
          "text": [
            "  4%|▍         | 500/13120 [02:31<55:11,  3.81it/s]  "
          ]
        },
        {
          "name": "stdout",
          "output_type": "stream",
          "text": [
            "{'loss': 5.0095, 'learning_rate': 4.93e-05, 'epoch': 0.76}\n"
          ]
        },
        {
          "name": "stderr",
          "output_type": "stream",
          "text": [
            "                                                   \n",
            "  4%|▍         | 500/13120 [03:06<55:11,  3.81it/s]"
          ]
        },
        {
          "name": "stdout",
          "output_type": "stream",
          "text": [
            "{'eval_loss': 3.0790061950683594, 'eval_wer': 0.99994745691467, 'eval_runtime': 35.6335, 'eval_samples_per_second': 67.605, 'eval_steps_per_second': 8.475, 'epoch': 0.76}\n"
          ]
        },
        {
          "name": "stderr",
          "output_type": "stream",
          "text": [
            "  8%|▊         | 1000/13120 [05:32<44:55,  4.50it/s]  "
          ]
        },
        {
          "name": "stdout",
          "output_type": "stream",
          "text": [
            "{'loss': 3.0243, 'learning_rate': 9.93e-05, 'epoch': 1.52}\n"
          ]
        },
        {
          "name": "stderr",
          "output_type": "stream",
          "text": [
            "                                                    \n",
            "  8%|▊         | 1000/13120 [06:07<44:55,  4.50it/s]"
          ]
        },
        {
          "name": "stdout",
          "output_type": "stream",
          "text": [
            "{'eval_loss': 2.903154134750366, 'eval_wer': 0.9710487599831862, 'eval_runtime': 34.2758, 'eval_samples_per_second': 70.283, 'eval_steps_per_second': 8.811, 'epoch': 1.52}\n"
          ]
        },
        {
          "name": "stderr",
          "output_type": "stream",
          "text": [
            " 11%|█▏        | 1500/13120 [08:32<45:54,  4.22it/s]   "
          ]
        },
        {
          "name": "stdout",
          "output_type": "stream",
          "text": [
            "{'loss': 2.7009, 'learning_rate': 9.593234323432344e-05, 'epoch': 2.29}\n"
          ]
        },
        {
          "name": "stderr",
          "output_type": "stream",
          "text": [
            "                                                    \n",
            " 11%|█▏        | 1500/13120 [09:07<45:54,  4.22it/s]"
          ]
        },
        {
          "name": "stdout",
          "output_type": "stream",
          "text": [
            "{'eval_loss': 2.2170491218566895, 'eval_wer': 1.0716162253047499, 'eval_runtime': 34.7575, 'eval_samples_per_second': 69.309, 'eval_steps_per_second': 8.689, 'epoch': 2.29}\n"
          ]
        },
        {
          "name": "stderr",
          "output_type": "stream",
          "text": [
            " 15%|█▌        | 2000/13120 [11:33<49:01,  3.78it/s]   "
          ]
        },
        {
          "name": "stdout",
          "output_type": "stream",
          "text": [
            "{'loss': 2.224, 'learning_rate': 9.180693069306932e-05, 'epoch': 3.05}\n"
          ]
        },
        {
          "name": "stderr",
          "output_type": "stream",
          "text": [
            "                                                    \n",
            " 15%|█▌        | 2000/13120 [12:08<49:01,  3.78it/s]"
          ]
        },
        {
          "name": "stdout",
          "output_type": "stream",
          "text": [
            "{'eval_loss': 1.865464687347412, 'eval_wer': 0.9355821773854561, 'eval_runtime': 34.6586, 'eval_samples_per_second': 69.507, 'eval_steps_per_second': 8.714, 'epoch': 3.05}\n"
          ]
        },
        {
          "name": "stderr",
          "output_type": "stream",
          "text": [
            " 19%|█▉        | 2500/13120 [14:34<44:22,  3.99it/s]   "
          ]
        },
        {
          "name": "stdout",
          "output_type": "stream",
          "text": [
            "{'loss': 1.9821, 'learning_rate': 8.768151815181519e-05, 'epoch': 3.81}\n"
          ]
        },
        {
          "name": "stderr",
          "output_type": "stream",
          "text": [
            "                                                    \n",
            " 19%|█▉        | 2500/13120 [15:09<44:22,  3.99it/s]"
          ]
        },
        {
          "name": "stdout",
          "output_type": "stream",
          "text": [
            "{'eval_loss': 1.7686375379562378, 'eval_wer': 0.850042034468264, 'eval_runtime': 34.9562, 'eval_samples_per_second': 68.915, 'eval_steps_per_second': 8.639, 'epoch': 3.81}\n"
          ]
        },
        {
          "name": "stderr",
          "output_type": "stream",
          "text": [
            " 23%|██▎       | 3000/13120 [17:36<46:45,  3.61it/s]   "
          ]
        },
        {
          "name": "stdout",
          "output_type": "stream",
          "text": [
            "{'loss': 1.836, 'learning_rate': 8.355610561056107e-05, 'epoch': 4.57}\n"
          ]
        },
        {
          "name": "stderr",
          "output_type": "stream",
          "text": [
            "                                                    \n",
            " 23%|██▎       | 3000/13120 [18:11<46:45,  3.61it/s]"
          ]
        },
        {
          "name": "stdout",
          "output_type": "stream",
          "text": [
            "{'eval_loss': 1.8247777223587036, 'eval_wer': 0.8405842791088692, 'eval_runtime': 34.7065, 'eval_samples_per_second': 69.411, 'eval_steps_per_second': 8.702, 'epoch': 4.57}\n"
          ]
        },
        {
          "name": "stderr",
          "output_type": "stream",
          "text": [
            " 27%|██▋       | 3500/13120 [20:37<48:16,  3.32it/s]   "
          ]
        },
        {
          "name": "stdout",
          "output_type": "stream",
          "text": [
            "{'loss': 1.732, 'learning_rate': 7.943069306930693e-05, 'epoch': 5.34}\n"
          ]
        },
        {
          "name": "stderr",
          "output_type": "stream",
          "text": [
            "                                                    \n",
            " 27%|██▋       | 3500/13120 [21:12<48:16,  3.32it/s]"
          ]
        },
        {
          "name": "stdout",
          "output_type": "stream",
          "text": [
            "{'eval_loss': 1.7499325275421143, 'eval_wer': 0.8069041614123581, 'eval_runtime': 34.5888, 'eval_samples_per_second': 69.647, 'eval_steps_per_second': 8.731, 'epoch': 5.34}\n"
          ]
        },
        {
          "name": "stderr",
          "output_type": "stream",
          "text": [
            " 30%|███       | 4000/13120 [23:38<50:45,  2.99it/s]   "
          ]
        },
        {
          "name": "stdout",
          "output_type": "stream",
          "text": [
            "{'loss': 1.6678, 'learning_rate': 7.530528052805281e-05, 'epoch': 6.1}\n"
          ]
        },
        {
          "name": "stderr",
          "output_type": "stream",
          "text": [
            "                                                    \n",
            " 30%|███       | 4000/13120 [24:12<50:45,  2.99it/s]"
          ]
        },
        {
          "name": "stdout",
          "output_type": "stream",
          "text": [
            "{'eval_loss': 1.739078402519226, 'eval_wer': 0.78572929802438, 'eval_runtime': 34.8486, 'eval_samples_per_second': 69.128, 'eval_steps_per_second': 8.666, 'epoch': 6.1}\n"
          ]
        },
        {
          "name": "stderr",
          "output_type": "stream",
          "text": [
            " 34%|███▍      | 4500/13120 [26:39<48:45,  2.95it/s]   "
          ]
        },
        {
          "name": "stdout",
          "output_type": "stream",
          "text": [
            "{'loss': 1.5806, 'learning_rate': 7.117986798679869e-05, 'epoch': 6.86}\n"
          ]
        },
        {
          "name": "stderr",
          "output_type": "stream",
          "text": [
            "                                                    \n",
            " 34%|███▍      | 4500/13120 [27:13<48:45,  2.95it/s]"
          ]
        },
        {
          "name": "stdout",
          "output_type": "stream",
          "text": [
            "{'eval_loss': 1.748615026473999, 'eval_wer': 0.7634510298444724, 'eval_runtime': 34.3867, 'eval_samples_per_second': 70.056, 'eval_steps_per_second': 8.782, 'epoch': 6.86}\n"
          ]
        },
        {
          "name": "stderr",
          "output_type": "stream",
          "text": [
            " 38%|███▊      | 5000/13120 [29:39<49:36,  2.73it/s]   "
          ]
        },
        {
          "name": "stdout",
          "output_type": "stream",
          "text": [
            "{'loss': 1.5044, 'learning_rate': 6.705445544554456e-05, 'epoch': 7.62}\n"
          ]
        },
        {
          "name": "stderr",
          "output_type": "stream",
          "text": [
            "                                                    \n",
            " 38%|███▊      | 5000/13120 [30:14<49:36,  2.73it/s]"
          ]
        },
        {
          "name": "stdout",
          "output_type": "stream",
          "text": [
            "{'eval_loss': 1.6589716672897339, 'eval_wer': 0.7686527952921396, 'eval_runtime': 34.6931, 'eval_samples_per_second': 69.437, 'eval_steps_per_second': 8.705, 'epoch': 7.62}\n"
          ]
        },
        {
          "name": "stderr",
          "output_type": "stream",
          "text": [
            " 42%|████▏     | 5500/13120 [32:40<44:50,  2.83it/s]   "
          ]
        },
        {
          "name": "stdout",
          "output_type": "stream",
          "text": [
            "{'loss': 1.4646, 'learning_rate': 6.292904290429044e-05, 'epoch': 8.38}\n"
          ]
        },
        {
          "name": "stderr",
          "output_type": "stream",
          "text": [
            "                                                    \n",
            " 42%|████▏     | 5500/13120 [33:15<44:50,  2.83it/s]"
          ]
        },
        {
          "name": "stdout",
          "output_type": "stream",
          "text": [
            "{'eval_loss': 1.6129701137542725, 'eval_wer': 0.7708070617906684, 'eval_runtime': 34.8577, 'eval_samples_per_second': 69.11, 'eval_steps_per_second': 8.664, 'epoch': 8.38}\n"
          ]
        },
        {
          "name": "stderr",
          "output_type": "stream",
          "text": [
            " 46%|████▌     | 6000/13120 [35:41<25:37,  4.63it/s]   "
          ]
        },
        {
          "name": "stdout",
          "output_type": "stream",
          "text": [
            "{'loss': 1.4354, 'learning_rate': 5.880363036303631e-05, 'epoch': 9.15}\n"
          ]
        },
        {
          "name": "stderr",
          "output_type": "stream",
          "text": [
            "                                                    \n",
            " 46%|████▌     | 6000/13120 [36:16<25:37,  4.63it/s]"
          ]
        },
        {
          "name": "stdout",
          "output_type": "stream",
          "text": [
            "{'eval_loss': 1.6160348653793335, 'eval_wer': 0.7581441782261454, 'eval_runtime': 34.8718, 'eval_samples_per_second': 69.082, 'eval_steps_per_second': 8.66, 'epoch': 9.15}\n"
          ]
        },
        {
          "name": "stderr",
          "output_type": "stream",
          "text": [
            " 50%|████▉     | 6500/13120 [38:42<24:20,  4.53it/s]   "
          ]
        },
        {
          "name": "stdout",
          "output_type": "stream",
          "text": [
            "{'loss': 1.3837, 'learning_rate': 5.468646864686469e-05, 'epoch': 9.91}\n"
          ]
        },
        {
          "name": "stderr",
          "output_type": "stream",
          "text": [
            "                                                    \n",
            " 50%|████▉     | 6500/13120 [39:17<24:20,  4.53it/s]"
          ]
        },
        {
          "name": "stdout",
          "output_type": "stream",
          "text": [
            "{'eval_loss': 1.6505930423736572, 'eval_wer': 0.7533102143757882, 'eval_runtime': 34.8854, 'eval_samples_per_second': 69.055, 'eval_steps_per_second': 8.657, 'epoch': 9.91}\n"
          ]
        },
        {
          "name": "stderr",
          "output_type": "stream",
          "text": [
            " 53%|█████▎    | 7000/13120 [41:44<23:22,  4.37it/s]   "
          ]
        },
        {
          "name": "stdout",
          "output_type": "stream",
          "text": [
            "{'loss': 1.3248, 'learning_rate': 5.056105610561056e-05, 'epoch': 10.67}\n"
          ]
        },
        {
          "name": "stderr",
          "output_type": "stream",
          "text": [
            "                                                    \n",
            " 53%|█████▎    | 7000/13120 [42:19<23:22,  4.37it/s]"
          ]
        },
        {
          "name": "stdout",
          "output_type": "stream",
          "text": [
            "{'eval_loss': 1.5912902355194092, 'eval_wer': 0.780369903320723, 'eval_runtime': 34.5434, 'eval_samples_per_second': 69.738, 'eval_steps_per_second': 8.743, 'epoch': 10.67}\n"
          ]
        },
        {
          "name": "stderr",
          "output_type": "stream",
          "text": [
            " 57%|█████▋    | 7500/13120 [44:46<23:20,  4.01it/s]   "
          ]
        },
        {
          "name": "stdout",
          "output_type": "stream",
          "text": [
            "{'loss': 1.2878, 'learning_rate': 4.643564356435644e-05, 'epoch': 11.43}\n"
          ]
        },
        {
          "name": "stderr",
          "output_type": "stream",
          "text": [
            "                                                    \n",
            " 57%|█████▋    | 7500/13120 [45:21<23:20,  4.01it/s]"
          ]
        },
        {
          "name": "stdout",
          "output_type": "stream",
          "text": [
            "{'eval_loss': 1.7010352611541748, 'eval_wer': 0.746427070197562, 'eval_runtime': 34.8799, 'eval_samples_per_second': 69.065, 'eval_steps_per_second': 8.658, 'epoch': 11.43}\n"
          ]
        },
        {
          "name": "stderr",
          "output_type": "stream",
          "text": [
            " 61%|██████    | 8000/13120 [47:48<22:51,  3.73it/s]   "
          ]
        },
        {
          "name": "stdout",
          "output_type": "stream",
          "text": [
            "{'loss': 1.2775, 'learning_rate': 4.2310231023102314e-05, 'epoch': 12.2}\n"
          ]
        },
        {
          "name": "stderr",
          "output_type": "stream",
          "text": [
            "                                                    \n",
            " 61%|██████    | 8000/13120 [48:22<22:51,  3.73it/s]"
          ]
        },
        {
          "name": "stdout",
          "output_type": "stream",
          "text": [
            "{'eval_loss': 1.7846089601516724, 'eval_wer': 0.7474253888188315, 'eval_runtime': 34.4913, 'eval_samples_per_second': 69.844, 'eval_steps_per_second': 8.756, 'epoch': 12.2}\n"
          ]
        },
        {
          "name": "stderr",
          "output_type": "stream",
          "text": [
            " 65%|██████▍   | 8500/13120 [50:49<20:56,  3.68it/s]   "
          ]
        },
        {
          "name": "stdout",
          "output_type": "stream",
          "text": [
            "{'loss': 1.2515, 'learning_rate': 3.818481848184819e-05, 'epoch': 12.96}\n"
          ]
        },
        {
          "name": "stderr",
          "output_type": "stream",
          "text": [
            "                                                    \n",
            " 65%|██████▍   | 8500/13120 [51:23<20:56,  3.68it/s]"
          ]
        },
        {
          "name": "stdout",
          "output_type": "stream",
          "text": [
            "{'eval_loss': 1.74103581905365, 'eval_wer': 0.739228667507356, 'eval_runtime': 34.8637, 'eval_samples_per_second': 69.098, 'eval_steps_per_second': 8.662, 'epoch': 12.96}\n"
          ]
        },
        {
          "name": "stderr",
          "output_type": "stream",
          "text": [
            " 69%|██████▊   | 9000/13120 [53:50<19:51,  3.46it/s]   "
          ]
        },
        {
          "name": "stdout",
          "output_type": "stream",
          "text": [
            "{'loss': 1.1999, 'learning_rate': 3.406765676567657e-05, 'epoch': 13.72}\n"
          ]
        },
        {
          "name": "stderr",
          "output_type": "stream",
          "text": [
            "                                                    \n",
            " 69%|██████▊   | 9000/13120 [54:24<19:51,  3.46it/s]"
          ]
        },
        {
          "name": "stdout",
          "output_type": "stream",
          "text": [
            "{'eval_loss': 1.7469180822372437, 'eval_wer': 0.7320302648171501, 'eval_runtime': 34.2627, 'eval_samples_per_second': 70.31, 'eval_steps_per_second': 8.814, 'epoch': 13.72}\n"
          ]
        },
        {
          "name": "stderr",
          "output_type": "stream",
          "text": [
            " 72%|███████▏  | 9500/13120 [56:51<19:18,  3.12it/s]   "
          ]
        },
        {
          "name": "stdout",
          "output_type": "stream",
          "text": [
            "{'loss': 1.1952, 'learning_rate': 2.9942244224422443e-05, 'epoch': 14.48}\n"
          ]
        },
        {
          "name": "stderr",
          "output_type": "stream",
          "text": [
            "                                                    \n",
            " 72%|███████▏  | 9500/13120 [57:26<19:18,  3.12it/s]"
          ]
        },
        {
          "name": "stdout",
          "output_type": "stream",
          "text": [
            "{'eval_loss': 1.7273343801498413, 'eval_wer': 0.7337641866330391, 'eval_runtime': 34.8739, 'eval_samples_per_second': 69.077, 'eval_steps_per_second': 8.66, 'epoch': 14.48}\n"
          ]
        },
        {
          "name": "stderr",
          "output_type": "stream",
          "text": [
            " 76%|███████▌  | 10000/13120 [59:51<18:16,  2.84it/s]  "
          ]
        },
        {
          "name": "stdout",
          "output_type": "stream",
          "text": [
            "{'loss': 1.1808, 'learning_rate': 2.581683168316832e-05, 'epoch': 15.24}\n"
          ]
        },
        {
          "name": "stderr",
          "output_type": "stream",
          "text": [
            "                                                     \n",
            " 76%|███████▌  | 10000/13120 [1:00:26<18:16,  2.84it/s]"
          ]
        },
        {
          "name": "stdout",
          "output_type": "stream",
          "text": [
            "{'eval_loss': 1.7394053936004639, 'eval_wer': 0.7286675073560319, 'eval_runtime': 34.5956, 'eval_samples_per_second': 69.633, 'eval_steps_per_second': 8.729, 'epoch': 15.24}\n"
          ]
        },
        {
          "name": "stderr",
          "output_type": "stream",
          "text": [
            " 80%|████████  | 10500/13120 [1:02:52<16:21,  2.67it/s]  "
          ]
        },
        {
          "name": "stdout",
          "output_type": "stream",
          "text": [
            "{'loss': 1.1603, 'learning_rate': 2.1691419141914193e-05, 'epoch': 16.01}\n"
          ]
        },
        {
          "name": "stderr",
          "output_type": "stream",
          "text": [
            "                                                       \n",
            " 80%|████████  | 10500/13120 [1:03:27<16:21,  2.67it/s]"
          ]
        },
        {
          "name": "stdout",
          "output_type": "stream",
          "text": [
            "{'eval_loss': 1.8044114112854004, 'eval_wer': 0.7297709121479613, 'eval_runtime': 34.8508, 'eval_samples_per_second': 69.123, 'eval_steps_per_second': 8.666, 'epoch': 16.01}\n"
          ]
        },
        {
          "name": "stderr",
          "output_type": "stream",
          "text": [
            " 84%|████████▍ | 11000/13120 [1:05:54<12:54,  2.74it/s]  "
          ]
        },
        {
          "name": "stdout",
          "output_type": "stream",
          "text": [
            "{'loss': 1.1151, 'learning_rate': 1.756600660066007e-05, 'epoch': 16.77}\n"
          ]
        },
        {
          "name": "stderr",
          "output_type": "stream",
          "text": [
            "                                                       \n",
            " 84%|████████▍ | 11000/13120 [1:06:29<12:54,  2.74it/s]"
          ]
        },
        {
          "name": "stdout",
          "output_type": "stream",
          "text": [
            "{'eval_loss': 1.7306268215179443, 'eval_wer': 0.7284573350147121, 'eval_runtime': 34.7122, 'eval_samples_per_second': 69.399, 'eval_steps_per_second': 8.7, 'epoch': 16.77}\n"
          ]
        },
        {
          "name": "stderr",
          "output_type": "stream",
          "text": [
            " 88%|████████▊ | 11500/13120 [1:08:55<05:45,  4.69it/s]  "
          ]
        },
        {
          "name": "stdout",
          "output_type": "stream",
          "text": [
            "{'loss': 1.1326, 'learning_rate': 1.3440594059405943e-05, 'epoch': 17.53}\n"
          ]
        },
        {
          "name": "stderr",
          "output_type": "stream",
          "text": [
            "                                                       \n",
            " 88%|████████▊ | 11500/13120 [1:09:29<05:45,  4.69it/s]"
          ]
        },
        {
          "name": "stdout",
          "output_type": "stream",
          "text": [
            "{'eval_loss': 1.7843365669250488, 'eval_wer': 0.724989491382934, 'eval_runtime': 34.8395, 'eval_samples_per_second': 69.146, 'eval_steps_per_second': 8.668, 'epoch': 17.53}\n"
          ]
        },
        {
          "name": "stderr",
          "output_type": "stream",
          "text": [
            " 91%|█████████▏| 12000/13120 [1:12:12<04:32,  4.11it/s]  "
          ]
        },
        {
          "name": "stdout",
          "output_type": "stream",
          "text": [
            "{'loss': 1.0926, 'learning_rate': 9.315181518151816e-06, 'epoch': 18.29}\n"
          ]
        },
        {
          "name": "stderr",
          "output_type": "stream",
          "text": [
            "                                                       \n",
            " 91%|█████████▏| 12000/13120 [1:12:46<04:32,  4.11it/s]"
          ]
        },
        {
          "name": "stdout",
          "output_type": "stream",
          "text": [
            "{'eval_loss': 1.7739977836608887, 'eval_wer': 0.7276166456494325, 'eval_runtime': 34.8426, 'eval_samples_per_second': 69.139, 'eval_steps_per_second': 8.668, 'epoch': 18.29}\n"
          ]
        },
        {
          "name": "stderr",
          "output_type": "stream",
          "text": [
            " 95%|█████████▌| 12500/13120 [1:15:15<02:32,  4.07it/s]  "
          ]
        },
        {
          "name": "stdout",
          "output_type": "stream",
          "text": [
            "{'loss': 1.1133, 'learning_rate': 5.198019801980198e-06, 'epoch': 19.05}\n"
          ]
        },
        {
          "name": "stderr",
          "output_type": "stream",
          "text": [
            "                                                       \n",
            " 95%|█████████▌| 12500/13120 [1:15:55<02:32,  4.07it/s]"
          ]
        },
        {
          "name": "stdout",
          "output_type": "stream",
          "text": [
            "{'eval_loss': 1.763869047164917, 'eval_wer': 0.7275641025641025, 'eval_runtime': 40.2487, 'eval_samples_per_second': 59.853, 'eval_steps_per_second': 7.503, 'epoch': 19.05}\n"
          ]
        },
        {
          "name": "stderr",
          "output_type": "stream",
          "text": [
            " 99%|█████████▉| 13000/13120 [1:18:23<00:30,  3.88it/s]  "
          ]
        },
        {
          "name": "stdout",
          "output_type": "stream",
          "text": [
            "{'loss': 1.0781, 'learning_rate': 1.080858085808581e-06, 'epoch': 19.82}\n"
          ]
        },
        {
          "name": "stderr",
          "output_type": "stream",
          "text": [
            "                                                       \n",
            " 99%|█████████▉| 13000/13120 [1:18:58<00:30,  3.88it/s]"
          ]
        },
        {
          "name": "stdout",
          "output_type": "stream",
          "text": [
            "{'eval_loss': 1.7701514959335327, 'eval_wer': 0.7264606977721731, 'eval_runtime': 35.0921, 'eval_samples_per_second': 68.648, 'eval_steps_per_second': 8.606, 'epoch': 19.82}\n"
          ]
        },
        {
          "name": "stderr",
          "output_type": "stream",
          "text": [
            "100%|██████████| 13120/13120 [1:19:34<00:00,  2.75it/s]"
          ]
        },
        {
          "name": "stdout",
          "output_type": "stream",
          "text": [
            "{'train_runtime': 4774.9911, 'train_samples_per_second': 43.9, 'train_steps_per_second': 2.748, 'train_loss': 1.6471022582635646, 'epoch': 20.0}\n"
          ]
        },
        {
          "name": "stderr",
          "output_type": "stream",
          "text": [
            "\n"
          ]
        },
        {
          "data": {
            "text/plain": [
              "TrainOutput(global_step=13120, training_loss=1.6471022582635646, metrics={'train_runtime': 4774.9911, 'train_samples_per_second': 43.9, 'train_steps_per_second': 2.748, 'train_loss': 1.6471022582635646, 'epoch': 20.0})"
            ]
          },
          "execution_count": 39,
          "metadata": {},
          "output_type": "execute_result"
        }
      ],
      "source": [
        "import warnings\n",
        "\n",
        "warnings.filterwarnings(action='ignore', module='torch')\n",
        "warnings.filterwarnings(action='ignore', module='transformers')\n",
        "trainer.train()"
      ]
    }
  ],
  "metadata": {
    "accelerator": "GPU",
    "colab": {
      "gpuType": "T4",
      "provenance": [],
      "include_colab_link": true
    },
    "kernelspec": {
      "display_name": "Python 3",
      "name": "python3"
    },
    "language_info": {
      "codemirror_mode": {
        "name": "ipython",
        "version": 3
      },
      "file_extension": ".py",
      "mimetype": "text/x-python",
      "name": "python",
      "nbconvert_exporter": "python",
      "pygments_lexer": "ipython3",
      "version": "3.10.13"
    },
    "widgets": {
      "application/vnd.jupyter.widget-state+json": {
        "0396f1ae3bef4fa89cb96c0779110288": {
          "model_module": "@jupyter-widgets/controls",
          "model_module_version": "1.5.0",
          "model_name": "HBoxModel",
          "state": {
            "_dom_classes": [],
            "_model_module": "@jupyter-widgets/controls",
            "_model_module_version": "1.5.0",
            "_model_name": "HBoxModel",
            "_view_count": null,
            "_view_module": "@jupyter-widgets/controls",
            "_view_module_version": "1.5.0",
            "_view_name": "HBoxView",
            "box_style": "",
            "children": [
              "IPY_MODEL_bd3991e59b6748c28558594228f5c02d",
              "IPY_MODEL_7d44316d36ce44e2960f272ea93a0556",
              "IPY_MODEL_71898233b03043c1b1b68fa67e3e8c2b"
            ],
            "layout": "IPY_MODEL_ffe506eaa2dd4c05b9468026fe37050e"
          }
        },
        "08df285de7fd46e9991c0173326d474f": {
          "model_module": "@jupyter-widgets/controls",
          "model_module_version": "1.5.0",
          "model_name": "DescriptionStyleModel",
          "state": {
            "_model_module": "@jupyter-widgets/controls",
            "_model_module_version": "1.5.0",
            "_model_name": "DescriptionStyleModel",
            "_view_count": null,
            "_view_module": "@jupyter-widgets/base",
            "_view_module_version": "1.2.0",
            "_view_name": "StyleView",
            "description_width": ""
          }
        },
        "0a07a47bbb0b4726aedd1c2e104913a6": {
          "model_module": "@jupyter-widgets/controls",
          "model_module_version": "1.5.0",
          "model_name": "DescriptionStyleModel",
          "state": {
            "_model_module": "@jupyter-widgets/controls",
            "_model_module_version": "1.5.0",
            "_model_name": "DescriptionStyleModel",
            "_view_count": null,
            "_view_module": "@jupyter-widgets/base",
            "_view_module_version": "1.2.0",
            "_view_name": "StyleView",
            "description_width": ""
          }
        },
        "0c597ca304f44bb5a41423f529339fe2": {
          "model_module": "@jupyter-widgets/base",
          "model_module_version": "1.2.0",
          "model_name": "LayoutModel",
          "state": {
            "_model_module": "@jupyter-widgets/base",
            "_model_module_version": "1.2.0",
            "_model_name": "LayoutModel",
            "_view_count": null,
            "_view_module": "@jupyter-widgets/base",
            "_view_module_version": "1.2.0",
            "_view_name": "LayoutView",
            "align_content": null,
            "align_items": null,
            "align_self": null,
            "border": null,
            "bottom": null,
            "display": null,
            "flex": null,
            "flex_flow": null,
            "grid_area": null,
            "grid_auto_columns": null,
            "grid_auto_flow": null,
            "grid_auto_rows": null,
            "grid_column": null,
            "grid_gap": null,
            "grid_row": null,
            "grid_template_areas": null,
            "grid_template_columns": null,
            "grid_template_rows": null,
            "height": null,
            "justify_content": null,
            "justify_items": null,
            "left": null,
            "margin": null,
            "max_height": null,
            "max_width": null,
            "min_height": null,
            "min_width": null,
            "object_fit": null,
            "object_position": null,
            "order": null,
            "overflow": null,
            "overflow_x": null,
            "overflow_y": null,
            "padding": null,
            "right": null,
            "top": null,
            "visibility": null,
            "width": "20px"
          }
        },
        "0ca715996a6c493bb527733fe278ce14": {
          "model_module": "@jupyter-widgets/controls",
          "model_module_version": "1.5.0",
          "model_name": "DescriptionStyleModel",
          "state": {
            "_model_module": "@jupyter-widgets/controls",
            "_model_module_version": "1.5.0",
            "_model_name": "DescriptionStyleModel",
            "_view_count": null,
            "_view_module": "@jupyter-widgets/base",
            "_view_module_version": "1.2.0",
            "_view_name": "StyleView",
            "description_width": ""
          }
        },
        "0cce4a2eb29a4cf099c8cd2eec95dde4": {
          "model_module": "@jupyter-widgets/base",
          "model_module_version": "1.2.0",
          "model_name": "LayoutModel",
          "state": {
            "_model_module": "@jupyter-widgets/base",
            "_model_module_version": "1.2.0",
            "_model_name": "LayoutModel",
            "_view_count": null,
            "_view_module": "@jupyter-widgets/base",
            "_view_module_version": "1.2.0",
            "_view_name": "LayoutView",
            "align_content": null,
            "align_items": null,
            "align_self": null,
            "border": null,
            "bottom": null,
            "display": null,
            "flex": null,
            "flex_flow": null,
            "grid_area": null,
            "grid_auto_columns": null,
            "grid_auto_flow": null,
            "grid_auto_rows": null,
            "grid_column": null,
            "grid_gap": null,
            "grid_row": null,
            "grid_template_areas": null,
            "grid_template_columns": null,
            "grid_template_rows": null,
            "height": null,
            "justify_content": null,
            "justify_items": null,
            "left": null,
            "margin": null,
            "max_height": null,
            "max_width": null,
            "min_height": null,
            "min_width": null,
            "object_fit": null,
            "object_position": null,
            "order": null,
            "overflow": null,
            "overflow_x": null,
            "overflow_y": null,
            "padding": null,
            "right": null,
            "top": null,
            "visibility": null,
            "width": null
          }
        },
        "0f2d8fb1535149f69da87511e4510225": {
          "model_module": "@jupyter-widgets/controls",
          "model_module_version": "1.5.0",
          "model_name": "DescriptionStyleModel",
          "state": {
            "_model_module": "@jupyter-widgets/controls",
            "_model_module_version": "1.5.0",
            "_model_name": "DescriptionStyleModel",
            "_view_count": null,
            "_view_module": "@jupyter-widgets/base",
            "_view_module_version": "1.2.0",
            "_view_name": "StyleView",
            "description_width": ""
          }
        },
        "10eedbd403e24bc4b3bba68a67094ba6": {
          "model_module": "@jupyter-widgets/controls",
          "model_module_version": "1.5.0",
          "model_name": "ProgressStyleModel",
          "state": {
            "_model_module": "@jupyter-widgets/controls",
            "_model_module_version": "1.5.0",
            "_model_name": "ProgressStyleModel",
            "_view_count": null,
            "_view_module": "@jupyter-widgets/base",
            "_view_module_version": "1.2.0",
            "_view_name": "StyleView",
            "bar_color": null,
            "description_width": ""
          }
        },
        "112afa4e5dba437ba22a4c88bcceb6cd": {
          "model_module": "@jupyter-widgets/controls",
          "model_module_version": "1.5.0",
          "model_name": "HTMLModel",
          "state": {
            "_dom_classes": [],
            "_model_module": "@jupyter-widgets/controls",
            "_model_module_version": "1.5.0",
            "_model_name": "HTMLModel",
            "_view_count": null,
            "_view_module": "@jupyter-widgets/controls",
            "_view_module_version": "1.5.0",
            "_view_name": "HTMLView",
            "description": "",
            "description_tooltip": null,
            "layout": "IPY_MODEL_4d76d58e57414847a69977b192430acc",
            "placeholder": "​",
            "style": "IPY_MODEL_5b7af6695468486e8e66609907fb6f7d",
            "value": " 144/9999 [00:42&lt;29:52,  5.50 examples/s]"
          }
        },
        "1160a2f0ec664d99bc1cf3db5a79432e": {
          "model_module": "@jupyter-widgets/base",
          "model_module_version": "1.2.0",
          "model_name": "LayoutModel",
          "state": {
            "_model_module": "@jupyter-widgets/base",
            "_model_module_version": "1.2.0",
            "_model_name": "LayoutModel",
            "_view_count": null,
            "_view_module": "@jupyter-widgets/base",
            "_view_module_version": "1.2.0",
            "_view_name": "LayoutView",
            "align_content": null,
            "align_items": null,
            "align_self": null,
            "border": null,
            "bottom": null,
            "display": null,
            "flex": null,
            "flex_flow": null,
            "grid_area": null,
            "grid_auto_columns": null,
            "grid_auto_flow": null,
            "grid_auto_rows": null,
            "grid_column": null,
            "grid_gap": null,
            "grid_row": null,
            "grid_template_areas": null,
            "grid_template_columns": null,
            "grid_template_rows": null,
            "height": null,
            "justify_content": null,
            "justify_items": null,
            "left": null,
            "margin": null,
            "max_height": null,
            "max_width": null,
            "min_height": null,
            "min_width": null,
            "object_fit": null,
            "object_position": null,
            "order": null,
            "overflow": null,
            "overflow_x": null,
            "overflow_y": null,
            "padding": null,
            "right": null,
            "top": null,
            "visibility": null,
            "width": "20px"
          }
        },
        "11c9d8cc7b6e4f58b5f45357a9c1ea48": {
          "model_module": "@jupyter-widgets/controls",
          "model_module_version": "1.5.0",
          "model_name": "FloatProgressModel",
          "state": {
            "_dom_classes": [],
            "_model_module": "@jupyter-widgets/controls",
            "_model_module_version": "1.5.0",
            "_model_name": "FloatProgressModel",
            "_view_count": null,
            "_view_module": "@jupyter-widgets/controls",
            "_view_module_version": "1.5.0",
            "_view_name": "ProgressView",
            "bar_style": "success",
            "description": "",
            "description_tooltip": null,
            "layout": "IPY_MODEL_b6633f636b244f77a247abb3ea4c0d82",
            "max": 9999,
            "min": 0,
            "orientation": "horizontal",
            "style": "IPY_MODEL_41fefa64438b4bdca69373930756bb8a",
            "value": 9999
          }
        },
        "12f48e80cfc448e88c7427cb4ec39cc1": {
          "model_module": "@jupyter-widgets/controls",
          "model_module_version": "1.5.0",
          "model_name": "HTMLModel",
          "state": {
            "_dom_classes": [],
            "_model_module": "@jupyter-widgets/controls",
            "_model_module_version": "1.5.0",
            "_model_name": "HTMLModel",
            "_view_count": null,
            "_view_module": "@jupyter-widgets/controls",
            "_view_module_version": "1.5.0",
            "_view_name": "HTMLView",
            "description": "",
            "description_tooltip": null,
            "layout": "IPY_MODEL_fb2312cc2c794a1caaadd6bb36b4d9f7",
            "placeholder": "​",
            "style": "IPY_MODEL_08df285de7fd46e9991c0173326d474f",
            "value": "Map (num_proc=4):   1%"
          }
        },
        "13c8182a38af4f3bb8f4497c2da395b1": {
          "model_module": "@jupyter-widgets/controls",
          "model_module_version": "1.5.0",
          "model_name": "DescriptionStyleModel",
          "state": {
            "_model_module": "@jupyter-widgets/controls",
            "_model_module_version": "1.5.0",
            "_model_name": "DescriptionStyleModel",
            "_view_count": null,
            "_view_module": "@jupyter-widgets/base",
            "_view_module_version": "1.2.0",
            "_view_name": "StyleView",
            "description_width": ""
          }
        },
        "14c7fc72558840d48bca0d4dcbd2d817": {
          "model_module": "@jupyter-widgets/controls",
          "model_module_version": "1.5.0",
          "model_name": "HTMLModel",
          "state": {
            "_dom_classes": [],
            "_model_module": "@jupyter-widgets/controls",
            "_model_module_version": "1.5.0",
            "_model_name": "HTMLModel",
            "_view_count": null,
            "_view_module": "@jupyter-widgets/controls",
            "_view_module_version": "1.5.0",
            "_view_name": "HTMLView",
            "description": "",
            "description_tooltip": null,
            "layout": "IPY_MODEL_8c6a7d9e08304ef99e877c336b8a32f3",
            "placeholder": "​",
            "style": "IPY_MODEL_a7ab93f512934a9f9769131a7c97d503",
            "value": " 1209/1209 [00:00&lt;00:00, 8918.25it/s]"
          }
        },
        "15f12584b3254263b50ec21251ce97b2": {
          "model_module": "@jupyter-widgets/controls",
          "model_module_version": "1.5.0",
          "model_name": "DescriptionStyleModel",
          "state": {
            "_model_module": "@jupyter-widgets/controls",
            "_model_module_version": "1.5.0",
            "_model_name": "DescriptionStyleModel",
            "_view_count": null,
            "_view_module": "@jupyter-widgets/base",
            "_view_module_version": "1.2.0",
            "_view_name": "StyleView",
            "description_width": ""
          }
        },
        "1739a34beb6040efb9d8fc916841f511": {
          "model_module": "@jupyter-widgets/controls",
          "model_module_version": "1.5.0",
          "model_name": "HBoxModel",
          "state": {
            "_dom_classes": [],
            "_model_module": "@jupyter-widgets/controls",
            "_model_module_version": "1.5.0",
            "_model_name": "HBoxModel",
            "_view_count": null,
            "_view_module": "@jupyter-widgets/controls",
            "_view_module_version": "1.5.0",
            "_view_name": "HBoxView",
            "box_style": "",
            "children": [
              "IPY_MODEL_58c3e4af7b8e4be280cf79b9b311b34b",
              "IPY_MODEL_55249948929149bdb7a9446764327806",
              "IPY_MODEL_5e05da47fe7e46f580a9a1a072622ccd"
            ],
            "layout": "IPY_MODEL_0cce4a2eb29a4cf099c8cd2eec95dde4"
          }
        },
        "17e727913096415f9e0fa4e8173d2d55": {
          "model_module": "@jupyter-widgets/base",
          "model_module_version": "1.2.0",
          "model_name": "LayoutModel",
          "state": {
            "_model_module": "@jupyter-widgets/base",
            "_model_module_version": "1.2.0",
            "_model_name": "LayoutModel",
            "_view_count": null,
            "_view_module": "@jupyter-widgets/base",
            "_view_module_version": "1.2.0",
            "_view_name": "LayoutView",
            "align_content": null,
            "align_items": null,
            "align_self": null,
            "border": null,
            "bottom": null,
            "display": null,
            "flex": null,
            "flex_flow": null,
            "grid_area": null,
            "grid_auto_columns": null,
            "grid_auto_flow": null,
            "grid_auto_rows": null,
            "grid_column": null,
            "grid_gap": null,
            "grid_row": null,
            "grid_template_areas": null,
            "grid_template_columns": null,
            "grid_template_rows": null,
            "height": null,
            "justify_content": null,
            "justify_items": null,
            "left": null,
            "margin": null,
            "max_height": null,
            "max_width": null,
            "min_height": null,
            "min_width": null,
            "object_fit": null,
            "object_position": null,
            "order": null,
            "overflow": null,
            "overflow_x": null,
            "overflow_y": null,
            "padding": null,
            "right": null,
            "top": null,
            "visibility": null,
            "width": null
          }
        },
        "19d7b84dd3bc47379b250ee72be83be5": {
          "model_module": "@jupyter-widgets/controls",
          "model_module_version": "1.5.0",
          "model_name": "DescriptionStyleModel",
          "state": {
            "_model_module": "@jupyter-widgets/controls",
            "_model_module_version": "1.5.0",
            "_model_name": "DescriptionStyleModel",
            "_view_count": null,
            "_view_module": "@jupyter-widgets/base",
            "_view_module_version": "1.2.0",
            "_view_name": "StyleView",
            "description_width": ""
          }
        },
        "1a18b8bb9fde473aaa79f8a7b1bb7e1f": {
          "model_module": "@jupyter-widgets/controls",
          "model_module_version": "1.5.0",
          "model_name": "HTMLModel",
          "state": {
            "_dom_classes": [],
            "_model_module": "@jupyter-widgets/controls",
            "_model_module_version": "1.5.0",
            "_model_name": "HTMLModel",
            "_view_count": null,
            "_view_module": "@jupyter-widgets/controls",
            "_view_module_version": "1.5.0",
            "_view_name": "HTMLView",
            "description": "",
            "description_tooltip": null,
            "layout": "IPY_MODEL_4f4d2aaa2f044cc4891f44b80fd1c2ac",
            "placeholder": "​",
            "style": "IPY_MODEL_c47fbaaf0a2b4b4aabe8eaf4e57d6429",
            "value": " 1210/1210 [00:00&lt;00:00, 3109.52it/s]"
          }
        },
        "1a4198b27e2a45119b9a538f2cb80fed": {
          "model_module": "@jupyter-widgets/base",
          "model_module_version": "1.2.0",
          "model_name": "LayoutModel",
          "state": {
            "_model_module": "@jupyter-widgets/base",
            "_model_module_version": "1.2.0",
            "_model_name": "LayoutModel",
            "_view_count": null,
            "_view_module": "@jupyter-widgets/base",
            "_view_module_version": "1.2.0",
            "_view_name": "LayoutView",
            "align_content": null,
            "align_items": null,
            "align_self": null,
            "border": null,
            "bottom": null,
            "display": null,
            "flex": null,
            "flex_flow": null,
            "grid_area": null,
            "grid_auto_columns": null,
            "grid_auto_flow": null,
            "grid_auto_rows": null,
            "grid_column": null,
            "grid_gap": null,
            "grid_row": null,
            "grid_template_areas": null,
            "grid_template_columns": null,
            "grid_template_rows": null,
            "height": null,
            "justify_content": null,
            "justify_items": null,
            "left": null,
            "margin": null,
            "max_height": null,
            "max_width": null,
            "min_height": null,
            "min_width": null,
            "object_fit": null,
            "object_position": null,
            "order": null,
            "overflow": null,
            "overflow_x": null,
            "overflow_y": null,
            "padding": null,
            "right": null,
            "top": null,
            "visibility": null,
            "width": null
          }
        },
        "1acc4578527c4095ba13397d19466a24": {
          "model_module": "@jupyter-widgets/base",
          "model_module_version": "1.2.0",
          "model_name": "LayoutModel",
          "state": {
            "_model_module": "@jupyter-widgets/base",
            "_model_module_version": "1.2.0",
            "_model_name": "LayoutModel",
            "_view_count": null,
            "_view_module": "@jupyter-widgets/base",
            "_view_module_version": "1.2.0",
            "_view_name": "LayoutView",
            "align_content": null,
            "align_items": null,
            "align_self": null,
            "border": null,
            "bottom": null,
            "display": null,
            "flex": null,
            "flex_flow": null,
            "grid_area": null,
            "grid_auto_columns": null,
            "grid_auto_flow": null,
            "grid_auto_rows": null,
            "grid_column": null,
            "grid_gap": null,
            "grid_row": null,
            "grid_template_areas": null,
            "grid_template_columns": null,
            "grid_template_rows": null,
            "height": null,
            "justify_content": null,
            "justify_items": null,
            "left": null,
            "margin": null,
            "max_height": null,
            "max_width": null,
            "min_height": null,
            "min_width": null,
            "object_fit": null,
            "object_position": null,
            "order": null,
            "overflow": null,
            "overflow_x": null,
            "overflow_y": null,
            "padding": null,
            "right": null,
            "top": null,
            "visibility": null,
            "width": null
          }
        },
        "1b2938acb4fe441b8a87876e8d67b2e9": {
          "model_module": "@jupyter-widgets/base",
          "model_module_version": "1.2.0",
          "model_name": "LayoutModel",
          "state": {
            "_model_module": "@jupyter-widgets/base",
            "_model_module_version": "1.2.0",
            "_model_name": "LayoutModel",
            "_view_count": null,
            "_view_module": "@jupyter-widgets/base",
            "_view_module_version": "1.2.0",
            "_view_name": "LayoutView",
            "align_content": null,
            "align_items": null,
            "align_self": null,
            "border": null,
            "bottom": null,
            "display": null,
            "flex": null,
            "flex_flow": null,
            "grid_area": null,
            "grid_auto_columns": null,
            "grid_auto_flow": null,
            "grid_auto_rows": null,
            "grid_column": null,
            "grid_gap": null,
            "grid_row": null,
            "grid_template_areas": null,
            "grid_template_columns": null,
            "grid_template_rows": null,
            "height": null,
            "justify_content": null,
            "justify_items": null,
            "left": null,
            "margin": null,
            "max_height": null,
            "max_width": null,
            "min_height": null,
            "min_width": null,
            "object_fit": null,
            "object_position": null,
            "order": null,
            "overflow": null,
            "overflow_x": null,
            "overflow_y": null,
            "padding": null,
            "right": null,
            "top": null,
            "visibility": null,
            "width": null
          }
        },
        "1c53e87e439b44338d760fbb61b927b5": {
          "model_module": "@jupyter-widgets/controls",
          "model_module_version": "1.5.0",
          "model_name": "ProgressStyleModel",
          "state": {
            "_model_module": "@jupyter-widgets/controls",
            "_model_module_version": "1.5.0",
            "_model_name": "ProgressStyleModel",
            "_view_count": null,
            "_view_module": "@jupyter-widgets/base",
            "_view_module_version": "1.2.0",
            "_view_name": "StyleView",
            "bar_color": null,
            "description_width": ""
          }
        },
        "1c59f6de42d54604a39e552a8aaf2aae": {
          "model_module": "@jupyter-widgets/controls",
          "model_module_version": "1.5.0",
          "model_name": "HTMLModel",
          "state": {
            "_dom_classes": [],
            "_model_module": "@jupyter-widgets/controls",
            "_model_module_version": "1.5.0",
            "_model_name": "HTMLModel",
            "_view_count": null,
            "_view_module": "@jupyter-widgets/controls",
            "_view_module_version": "1.5.0",
            "_view_name": "HTMLView",
            "description": "",
            "description_tooltip": null,
            "layout": "IPY_MODEL_fd018eb1df334be1b26601e8e9b1618a",
            "placeholder": "​",
            "style": "IPY_MODEL_0ca715996a6c493bb527733fe278ce14",
            "value": "Downloading data files: 100%"
          }
        },
        "1cd4c142de5942219d75cf7c9fde7290": {
          "model_module": "@jupyter-widgets/controls",
          "model_module_version": "1.5.0",
          "model_name": "ProgressStyleModel",
          "state": {
            "_model_module": "@jupyter-widgets/controls",
            "_model_module_version": "1.5.0",
            "_model_name": "ProgressStyleModel",
            "_view_count": null,
            "_view_module": "@jupyter-widgets/base",
            "_view_module_version": "1.2.0",
            "_view_name": "StyleView",
            "bar_color": null,
            "description_width": ""
          }
        },
        "216f12852afe4ffc961b0715d2903368": {
          "model_module": "@jupyter-widgets/base",
          "model_module_version": "1.2.0",
          "model_name": "LayoutModel",
          "state": {
            "_model_module": "@jupyter-widgets/base",
            "_model_module_version": "1.2.0",
            "_model_name": "LayoutModel",
            "_view_count": null,
            "_view_module": "@jupyter-widgets/base",
            "_view_module_version": "1.2.0",
            "_view_name": "LayoutView",
            "align_content": null,
            "align_items": null,
            "align_self": null,
            "border": null,
            "bottom": null,
            "display": null,
            "flex": null,
            "flex_flow": null,
            "grid_area": null,
            "grid_auto_columns": null,
            "grid_auto_flow": null,
            "grid_auto_rows": null,
            "grid_column": null,
            "grid_gap": null,
            "grid_row": null,
            "grid_template_areas": null,
            "grid_template_columns": null,
            "grid_template_rows": null,
            "height": null,
            "justify_content": null,
            "justify_items": null,
            "left": null,
            "margin": null,
            "max_height": null,
            "max_width": null,
            "min_height": null,
            "min_width": null,
            "object_fit": null,
            "object_position": null,
            "order": null,
            "overflow": null,
            "overflow_x": null,
            "overflow_y": null,
            "padding": null,
            "right": null,
            "top": null,
            "visibility": null,
            "width": null
          }
        },
        "23c330374ea14a3a860b4e64accbc79f": {
          "model_module": "@jupyter-widgets/controls",
          "model_module_version": "1.5.0",
          "model_name": "HTMLModel",
          "state": {
            "_dom_classes": [],
            "_model_module": "@jupyter-widgets/controls",
            "_model_module_version": "1.5.0",
            "_model_name": "HTMLModel",
            "_view_count": null,
            "_view_module": "@jupyter-widgets/controls",
            "_view_module_version": "1.5.0",
            "_view_name": "HTMLView",
            "description": "",
            "description_tooltip": null,
            "layout": "IPY_MODEL_c5508bb6228e49baac33ca4441e876b5",
            "placeholder": "​",
            "style": "IPY_MODEL_e67868fd256949568a05f8a27029001e",
            "value": " 0/0 [00:00&lt;?, ?it/s]"
          }
        },
        "2b0ff2c13e5b4346a1e6e7a2819fdbdb": {
          "model_module": "@jupyter-widgets/base",
          "model_module_version": "1.2.0",
          "model_name": "LayoutModel",
          "state": {
            "_model_module": "@jupyter-widgets/base",
            "_model_module_version": "1.2.0",
            "_model_name": "LayoutModel",
            "_view_count": null,
            "_view_module": "@jupyter-widgets/base",
            "_view_module_version": "1.2.0",
            "_view_name": "LayoutView",
            "align_content": null,
            "align_items": null,
            "align_self": null,
            "border": null,
            "bottom": null,
            "display": null,
            "flex": null,
            "flex_flow": null,
            "grid_area": null,
            "grid_auto_columns": null,
            "grid_auto_flow": null,
            "grid_auto_rows": null,
            "grid_column": null,
            "grid_gap": null,
            "grid_row": null,
            "grid_template_areas": null,
            "grid_template_columns": null,
            "grid_template_rows": null,
            "height": null,
            "justify_content": null,
            "justify_items": null,
            "left": null,
            "margin": null,
            "max_height": null,
            "max_width": null,
            "min_height": null,
            "min_width": null,
            "object_fit": null,
            "object_position": null,
            "order": null,
            "overflow": null,
            "overflow_x": null,
            "overflow_y": null,
            "padding": null,
            "right": null,
            "top": null,
            "visibility": null,
            "width": null
          }
        },
        "2bff9bef182347baaf21c8cfe92500f5": {
          "model_module": "@jupyter-widgets/controls",
          "model_module_version": "1.5.0",
          "model_name": "ProgressStyleModel",
          "state": {
            "_model_module": "@jupyter-widgets/controls",
            "_model_module_version": "1.5.0",
            "_model_name": "ProgressStyleModel",
            "_view_count": null,
            "_view_module": "@jupyter-widgets/base",
            "_view_module_version": "1.2.0",
            "_view_name": "StyleView",
            "bar_color": null,
            "description_width": ""
          }
        },
        "2c82c9602d7e4456830f3c4b6d68af1b": {
          "model_module": "@jupyter-widgets/base",
          "model_module_version": "1.2.0",
          "model_name": "LayoutModel",
          "state": {
            "_model_module": "@jupyter-widgets/base",
            "_model_module_version": "1.2.0",
            "_model_name": "LayoutModel",
            "_view_count": null,
            "_view_module": "@jupyter-widgets/base",
            "_view_module_version": "1.2.0",
            "_view_name": "LayoutView",
            "align_content": null,
            "align_items": null,
            "align_self": null,
            "border": null,
            "bottom": null,
            "display": null,
            "flex": null,
            "flex_flow": null,
            "grid_area": null,
            "grid_auto_columns": null,
            "grid_auto_flow": null,
            "grid_auto_rows": null,
            "grid_column": null,
            "grid_gap": null,
            "grid_row": null,
            "grid_template_areas": null,
            "grid_template_columns": null,
            "grid_template_rows": null,
            "height": null,
            "justify_content": null,
            "justify_items": null,
            "left": null,
            "margin": null,
            "max_height": null,
            "max_width": null,
            "min_height": null,
            "min_width": null,
            "object_fit": null,
            "object_position": null,
            "order": null,
            "overflow": null,
            "overflow_x": null,
            "overflow_y": null,
            "padding": null,
            "right": null,
            "top": null,
            "visibility": null,
            "width": null
          }
        },
        "2db8b405dce844d6a064055aab69dfe4": {
          "model_module": "@jupyter-widgets/controls",
          "model_module_version": "1.5.0",
          "model_name": "HTMLModel",
          "state": {
            "_dom_classes": [],
            "_model_module": "@jupyter-widgets/controls",
            "_model_module_version": "1.5.0",
            "_model_name": "HTMLModel",
            "_view_count": null,
            "_view_module": "@jupyter-widgets/controls",
            "_view_module_version": "1.5.0",
            "_view_name": "HTMLView",
            "description": "",
            "description_tooltip": null,
            "layout": "IPY_MODEL_fa56b7977ad4450497f3a6883bd7f686",
            "placeholder": "​",
            "style": "IPY_MODEL_79e3276eb0fe42e5bac4f25f1ba00c8a",
            "value": " 1209/1209 [00:00&lt;00:00, 4425.43 examples/s]"
          }
        },
        "2f43df25f8604add9317d0c019580129": {
          "model_module": "@jupyter-widgets/base",
          "model_module_version": "1.2.0",
          "model_name": "LayoutModel",
          "state": {
            "_model_module": "@jupyter-widgets/base",
            "_model_module_version": "1.2.0",
            "_model_name": "LayoutModel",
            "_view_count": null,
            "_view_module": "@jupyter-widgets/base",
            "_view_module_version": "1.2.0",
            "_view_name": "LayoutView",
            "align_content": null,
            "align_items": null,
            "align_self": null,
            "border": null,
            "bottom": null,
            "display": null,
            "flex": null,
            "flex_flow": null,
            "grid_area": null,
            "grid_auto_columns": null,
            "grid_auto_flow": null,
            "grid_auto_rows": null,
            "grid_column": null,
            "grid_gap": null,
            "grid_row": null,
            "grid_template_areas": null,
            "grid_template_columns": null,
            "grid_template_rows": null,
            "height": null,
            "justify_content": null,
            "justify_items": null,
            "left": null,
            "margin": null,
            "max_height": null,
            "max_width": null,
            "min_height": null,
            "min_width": null,
            "object_fit": null,
            "object_position": null,
            "order": null,
            "overflow": null,
            "overflow_x": null,
            "overflow_y": null,
            "padding": null,
            "right": null,
            "top": null,
            "visibility": null,
            "width": null
          }
        },
        "3434f1a4c896405398cbf6ae6dd33f24": {
          "model_module": "@jupyter-widgets/base",
          "model_module_version": "1.2.0",
          "model_name": "LayoutModel",
          "state": {
            "_model_module": "@jupyter-widgets/base",
            "_model_module_version": "1.2.0",
            "_model_name": "LayoutModel",
            "_view_count": null,
            "_view_module": "@jupyter-widgets/base",
            "_view_module_version": "1.2.0",
            "_view_name": "LayoutView",
            "align_content": null,
            "align_items": null,
            "align_self": null,
            "border": null,
            "bottom": null,
            "display": null,
            "flex": null,
            "flex_flow": null,
            "grid_area": null,
            "grid_auto_columns": null,
            "grid_auto_flow": null,
            "grid_auto_rows": null,
            "grid_column": null,
            "grid_gap": null,
            "grid_row": null,
            "grid_template_areas": null,
            "grid_template_columns": null,
            "grid_template_rows": null,
            "height": null,
            "justify_content": null,
            "justify_items": null,
            "left": null,
            "margin": null,
            "max_height": null,
            "max_width": null,
            "min_height": null,
            "min_width": null,
            "object_fit": null,
            "object_position": null,
            "order": null,
            "overflow": null,
            "overflow_x": null,
            "overflow_y": null,
            "padding": null,
            "right": null,
            "top": null,
            "visibility": null,
            "width": null
          }
        },
        "35d938f20d014fcdb0a4cbf04b961699": {
          "model_module": "@jupyter-widgets/base",
          "model_module_version": "1.2.0",
          "model_name": "LayoutModel",
          "state": {
            "_model_module": "@jupyter-widgets/base",
            "_model_module_version": "1.2.0",
            "_model_name": "LayoutModel",
            "_view_count": null,
            "_view_module": "@jupyter-widgets/base",
            "_view_module_version": "1.2.0",
            "_view_name": "LayoutView",
            "align_content": null,
            "align_items": null,
            "align_self": null,
            "border": null,
            "bottom": null,
            "display": null,
            "flex": null,
            "flex_flow": null,
            "grid_area": null,
            "grid_auto_columns": null,
            "grid_auto_flow": null,
            "grid_auto_rows": null,
            "grid_column": null,
            "grid_gap": null,
            "grid_row": null,
            "grid_template_areas": null,
            "grid_template_columns": null,
            "grid_template_rows": null,
            "height": null,
            "justify_content": null,
            "justify_items": null,
            "left": null,
            "margin": null,
            "max_height": null,
            "max_width": null,
            "min_height": null,
            "min_width": null,
            "object_fit": null,
            "object_position": null,
            "order": null,
            "overflow": null,
            "overflow_x": null,
            "overflow_y": null,
            "padding": null,
            "right": null,
            "top": null,
            "visibility": null,
            "width": null
          }
        },
        "367d04b9a1444220bd84cc226c4c8e5a": {
          "model_module": "@jupyter-widgets/base",
          "model_module_version": "1.2.0",
          "model_name": "LayoutModel",
          "state": {
            "_model_module": "@jupyter-widgets/base",
            "_model_module_version": "1.2.0",
            "_model_name": "LayoutModel",
            "_view_count": null,
            "_view_module": "@jupyter-widgets/base",
            "_view_module_version": "1.2.0",
            "_view_name": "LayoutView",
            "align_content": null,
            "align_items": null,
            "align_self": null,
            "border": null,
            "bottom": null,
            "display": null,
            "flex": null,
            "flex_flow": null,
            "grid_area": null,
            "grid_auto_columns": null,
            "grid_auto_flow": null,
            "grid_auto_rows": null,
            "grid_column": null,
            "grid_gap": null,
            "grid_row": null,
            "grid_template_areas": null,
            "grid_template_columns": null,
            "grid_template_rows": null,
            "height": null,
            "justify_content": null,
            "justify_items": null,
            "left": null,
            "margin": null,
            "max_height": null,
            "max_width": null,
            "min_height": null,
            "min_width": null,
            "object_fit": null,
            "object_position": null,
            "order": null,
            "overflow": null,
            "overflow_x": null,
            "overflow_y": null,
            "padding": null,
            "right": null,
            "top": null,
            "visibility": null,
            "width": null
          }
        },
        "39c26695eab2476881934b05b4dd742b": {
          "model_module": "@jupyter-widgets/controls",
          "model_module_version": "1.5.0",
          "model_name": "HBoxModel",
          "state": {
            "_dom_classes": [],
            "_model_module": "@jupyter-widgets/controls",
            "_model_module_version": "1.5.0",
            "_model_name": "HBoxModel",
            "_view_count": null,
            "_view_module": "@jupyter-widgets/controls",
            "_view_module_version": "1.5.0",
            "_view_name": "HBoxView",
            "box_style": "",
            "children": [
              "IPY_MODEL_803a7e1e8c0c4da4959b4b16b331aa72",
              "IPY_MODEL_fd18593fbb594ba8a6fe343650641543",
              "IPY_MODEL_fbfb5615ad5a44b49f80561285724d10"
            ],
            "layout": "IPY_MODEL_b59b190ba38f40a9bf3494b76c5279ad"
          }
        },
        "3ce96a8aca714f9793b8dccb3d4c47a6": {
          "model_module": "@jupyter-widgets/controls",
          "model_module_version": "1.5.0",
          "model_name": "ProgressStyleModel",
          "state": {
            "_model_module": "@jupyter-widgets/controls",
            "_model_module_version": "1.5.0",
            "_model_name": "ProgressStyleModel",
            "_view_count": null,
            "_view_module": "@jupyter-widgets/base",
            "_view_module_version": "1.2.0",
            "_view_name": "StyleView",
            "bar_color": null,
            "description_width": ""
          }
        },
        "3e99ead820d44cee82d3ee2307f3f5e7": {
          "model_module": "@jupyter-widgets/controls",
          "model_module_version": "1.5.0",
          "model_name": "DescriptionStyleModel",
          "state": {
            "_model_module": "@jupyter-widgets/controls",
            "_model_module_version": "1.5.0",
            "_model_name": "DescriptionStyleModel",
            "_view_count": null,
            "_view_module": "@jupyter-widgets/base",
            "_view_module_version": "1.2.0",
            "_view_name": "StyleView",
            "description_width": ""
          }
        },
        "405a05057fe542968181f8d08782ccf2": {
          "model_module": "@jupyter-widgets/base",
          "model_module_version": "1.2.0",
          "model_name": "LayoutModel",
          "state": {
            "_model_module": "@jupyter-widgets/base",
            "_model_module_version": "1.2.0",
            "_model_name": "LayoutModel",
            "_view_count": null,
            "_view_module": "@jupyter-widgets/base",
            "_view_module_version": "1.2.0",
            "_view_name": "LayoutView",
            "align_content": null,
            "align_items": null,
            "align_self": null,
            "border": null,
            "bottom": null,
            "display": null,
            "flex": null,
            "flex_flow": null,
            "grid_area": null,
            "grid_auto_columns": null,
            "grid_auto_flow": null,
            "grid_auto_rows": null,
            "grid_column": null,
            "grid_gap": null,
            "grid_row": null,
            "grid_template_areas": null,
            "grid_template_columns": null,
            "grid_template_rows": null,
            "height": null,
            "justify_content": null,
            "justify_items": null,
            "left": null,
            "margin": null,
            "max_height": null,
            "max_width": null,
            "min_height": null,
            "min_width": null,
            "object_fit": null,
            "object_position": null,
            "order": null,
            "overflow": null,
            "overflow_x": null,
            "overflow_y": null,
            "padding": null,
            "right": null,
            "top": null,
            "visibility": null,
            "width": null
          }
        },
        "41fefa64438b4bdca69373930756bb8a": {
          "model_module": "@jupyter-widgets/controls",
          "model_module_version": "1.5.0",
          "model_name": "ProgressStyleModel",
          "state": {
            "_model_module": "@jupyter-widgets/controls",
            "_model_module_version": "1.5.0",
            "_model_name": "ProgressStyleModel",
            "_view_count": null,
            "_view_module": "@jupyter-widgets/base",
            "_view_module_version": "1.2.0",
            "_view_name": "StyleView",
            "bar_color": null,
            "description_width": ""
          }
        },
        "467eca7f8a974645b8979094e1a5023e": {
          "model_module": "@jupyter-widgets/controls",
          "model_module_version": "1.5.0",
          "model_name": "ProgressStyleModel",
          "state": {
            "_model_module": "@jupyter-widgets/controls",
            "_model_module_version": "1.5.0",
            "_model_name": "ProgressStyleModel",
            "_view_count": null,
            "_view_module": "@jupyter-widgets/base",
            "_view_module_version": "1.2.0",
            "_view_name": "StyleView",
            "bar_color": null,
            "description_width": ""
          }
        },
        "4aaa7f6374dc4eb2ba0b3ead0dbfe1b9": {
          "model_module": "@jupyter-widgets/controls",
          "model_module_version": "1.5.0",
          "model_name": "HBoxModel",
          "state": {
            "_dom_classes": [],
            "_model_module": "@jupyter-widgets/controls",
            "_model_module_version": "1.5.0",
            "_model_name": "HBoxModel",
            "_view_count": null,
            "_view_module": "@jupyter-widgets/controls",
            "_view_module_version": "1.5.0",
            "_view_name": "HBoxView",
            "box_style": "",
            "children": [
              "IPY_MODEL_1c59f6de42d54604a39e552a8aaf2aae",
              "IPY_MODEL_ce0fed99fe354cb1a692d899043dcc0a",
              "IPY_MODEL_1a18b8bb9fde473aaa79f8a7b1bb7e1f"
            ],
            "layout": "IPY_MODEL_3434f1a4c896405398cbf6ae6dd33f24"
          }
        },
        "4d76d58e57414847a69977b192430acc": {
          "model_module": "@jupyter-widgets/base",
          "model_module_version": "1.2.0",
          "model_name": "LayoutModel",
          "state": {
            "_model_module": "@jupyter-widgets/base",
            "_model_module_version": "1.2.0",
            "_model_name": "LayoutModel",
            "_view_count": null,
            "_view_module": "@jupyter-widgets/base",
            "_view_module_version": "1.2.0",
            "_view_name": "LayoutView",
            "align_content": null,
            "align_items": null,
            "align_self": null,
            "border": null,
            "bottom": null,
            "display": null,
            "flex": null,
            "flex_flow": null,
            "grid_area": null,
            "grid_auto_columns": null,
            "grid_auto_flow": null,
            "grid_auto_rows": null,
            "grid_column": null,
            "grid_gap": null,
            "grid_row": null,
            "grid_template_areas": null,
            "grid_template_columns": null,
            "grid_template_rows": null,
            "height": null,
            "justify_content": null,
            "justify_items": null,
            "left": null,
            "margin": null,
            "max_height": null,
            "max_width": null,
            "min_height": null,
            "min_width": null,
            "object_fit": null,
            "object_position": null,
            "order": null,
            "overflow": null,
            "overflow_x": null,
            "overflow_y": null,
            "padding": null,
            "right": null,
            "top": null,
            "visibility": null,
            "width": null
          }
        },
        "4ede36ac50c941ff961b712a6e8f61ba": {
          "model_module": "@jupyter-widgets/controls",
          "model_module_version": "1.5.0",
          "model_name": "HTMLModel",
          "state": {
            "_dom_classes": [],
            "_model_module": "@jupyter-widgets/controls",
            "_model_module_version": "1.5.0",
            "_model_name": "HTMLModel",
            "_view_count": null,
            "_view_module": "@jupyter-widgets/controls",
            "_view_module_version": "1.5.0",
            "_view_name": "HTMLView",
            "description": "",
            "description_tooltip": null,
            "layout": "IPY_MODEL_a62012fe285e4ec4a572d554069650e5",
            "placeholder": "​",
            "style": "IPY_MODEL_19d7b84dd3bc47379b250ee72be83be5",
            "value": "Generating train split: "
          }
        },
        "4f4d2aaa2f044cc4891f44b80fd1c2ac": {
          "model_module": "@jupyter-widgets/base",
          "model_module_version": "1.2.0",
          "model_name": "LayoutModel",
          "state": {
            "_model_module": "@jupyter-widgets/base",
            "_model_module_version": "1.2.0",
            "_model_name": "LayoutModel",
            "_view_count": null,
            "_view_module": "@jupyter-widgets/base",
            "_view_module_version": "1.2.0",
            "_view_name": "LayoutView",
            "align_content": null,
            "align_items": null,
            "align_self": null,
            "border": null,
            "bottom": null,
            "display": null,
            "flex": null,
            "flex_flow": null,
            "grid_area": null,
            "grid_auto_columns": null,
            "grid_auto_flow": null,
            "grid_auto_rows": null,
            "grid_column": null,
            "grid_gap": null,
            "grid_row": null,
            "grid_template_areas": null,
            "grid_template_columns": null,
            "grid_template_rows": null,
            "height": null,
            "justify_content": null,
            "justify_items": null,
            "left": null,
            "margin": null,
            "max_height": null,
            "max_width": null,
            "min_height": null,
            "min_width": null,
            "object_fit": null,
            "object_position": null,
            "order": null,
            "overflow": null,
            "overflow_x": null,
            "overflow_y": null,
            "padding": null,
            "right": null,
            "top": null,
            "visibility": null,
            "width": null
          }
        },
        "5015ce9ea74645e08981cfee5ec4d3dd": {
          "model_module": "@jupyter-widgets/controls",
          "model_module_version": "1.5.0",
          "model_name": "FloatProgressModel",
          "state": {
            "_dom_classes": [],
            "_model_module": "@jupyter-widgets/controls",
            "_model_module_version": "1.5.0",
            "_model_name": "FloatProgressModel",
            "_view_count": null,
            "_view_module": "@jupyter-widgets/controls",
            "_view_module_version": "1.5.0",
            "_view_name": "ProgressView",
            "bar_style": "success",
            "description": "",
            "description_tooltip": null,
            "layout": "IPY_MODEL_2b0ff2c13e5b4346a1e6e7a2819fdbdb",
            "max": 9999,
            "min": 0,
            "orientation": "horizontal",
            "style": "IPY_MODEL_7715c0a355204574b96f437f0c7ac0e7",
            "value": 9999
          }
        },
        "55249948929149bdb7a9446764327806": {
          "model_module": "@jupyter-widgets/controls",
          "model_module_version": "1.5.0",
          "model_name": "FloatProgressModel",
          "state": {
            "_dom_classes": [],
            "_model_module": "@jupyter-widgets/controls",
            "_model_module_version": "1.5.0",
            "_model_name": "FloatProgressModel",
            "_view_count": null,
            "_view_module": "@jupyter-widgets/controls",
            "_view_module_version": "1.5.0",
            "_view_name": "ProgressView",
            "bar_style": "success",
            "description": "",
            "description_tooltip": null,
            "layout": "IPY_MODEL_0c597ca304f44bb5a41423f529339fe2",
            "max": 1,
            "min": 0,
            "orientation": "horizontal",
            "style": "IPY_MODEL_1cd4c142de5942219d75cf7c9fde7290",
            "value": 0
          }
        },
        "5623c9aa067b42509458d631fbd4f2c2": {
          "model_module": "@jupyter-widgets/base",
          "model_module_version": "1.2.0",
          "model_name": "LayoutModel",
          "state": {
            "_model_module": "@jupyter-widgets/base",
            "_model_module_version": "1.2.0",
            "_model_name": "LayoutModel",
            "_view_count": null,
            "_view_module": "@jupyter-widgets/base",
            "_view_module_version": "1.2.0",
            "_view_name": "LayoutView",
            "align_content": null,
            "align_items": null,
            "align_self": null,
            "border": null,
            "bottom": null,
            "display": null,
            "flex": null,
            "flex_flow": null,
            "grid_area": null,
            "grid_auto_columns": null,
            "grid_auto_flow": null,
            "grid_auto_rows": null,
            "grid_column": null,
            "grid_gap": null,
            "grid_row": null,
            "grid_template_areas": null,
            "grid_template_columns": null,
            "grid_template_rows": null,
            "height": null,
            "justify_content": null,
            "justify_items": null,
            "left": null,
            "margin": null,
            "max_height": null,
            "max_width": null,
            "min_height": null,
            "min_width": null,
            "object_fit": null,
            "object_position": null,
            "order": null,
            "overflow": null,
            "overflow_x": null,
            "overflow_y": null,
            "padding": null,
            "right": null,
            "top": null,
            "visibility": null,
            "width": null
          }
        },
        "58c3e4af7b8e4be280cf79b9b311b34b": {
          "model_module": "@jupyter-widgets/controls",
          "model_module_version": "1.5.0",
          "model_name": "HTMLModel",
          "state": {
            "_dom_classes": [],
            "_model_module": "@jupyter-widgets/controls",
            "_model_module_version": "1.5.0",
            "_model_name": "HTMLModel",
            "_view_count": null,
            "_view_module": "@jupyter-widgets/controls",
            "_view_module_version": "1.5.0",
            "_view_name": "HTMLView",
            "description": "",
            "description_tooltip": null,
            "layout": "IPY_MODEL_35d938f20d014fcdb0a4cbf04b961699",
            "placeholder": "​",
            "style": "IPY_MODEL_0f2d8fb1535149f69da87511e4510225",
            "value": "Extracting data files: "
          }
        },
        "5a5d394bc3564b049545fc55136a19ef": {
          "model_module": "@jupyter-widgets/controls",
          "model_module_version": "1.5.0",
          "model_name": "FloatProgressModel",
          "state": {
            "_dom_classes": [],
            "_model_module": "@jupyter-widgets/controls",
            "_model_module_version": "1.5.0",
            "_model_name": "FloatProgressModel",
            "_view_count": null,
            "_view_module": "@jupyter-widgets/controls",
            "_view_module_version": "1.5.0",
            "_view_name": "ProgressView",
            "bar_style": "danger",
            "description": "",
            "description_tooltip": null,
            "layout": "IPY_MODEL_e183c219fdbc48faad4f594a3916614c",
            "max": 9999,
            "min": 0,
            "orientation": "horizontal",
            "style": "IPY_MODEL_10eedbd403e24bc4b3bba68a67094ba6",
            "value": 144
          }
        },
        "5b7af6695468486e8e66609907fb6f7d": {
          "model_module": "@jupyter-widgets/controls",
          "model_module_version": "1.5.0",
          "model_name": "DescriptionStyleModel",
          "state": {
            "_model_module": "@jupyter-widgets/controls",
            "_model_module_version": "1.5.0",
            "_model_name": "DescriptionStyleModel",
            "_view_count": null,
            "_view_module": "@jupyter-widgets/base",
            "_view_module_version": "1.2.0",
            "_view_name": "StyleView",
            "description_width": ""
          }
        },
        "5c7a8e1156284e67b8cf4572306845c7": {
          "model_module": "@jupyter-widgets/controls",
          "model_module_version": "1.5.0",
          "model_name": "HBoxModel",
          "state": {
            "_dom_classes": [],
            "_model_module": "@jupyter-widgets/controls",
            "_model_module_version": "1.5.0",
            "_model_name": "HBoxModel",
            "_view_count": null,
            "_view_module": "@jupyter-widgets/controls",
            "_view_module_version": "1.5.0",
            "_view_name": "HBoxView",
            "box_style": "",
            "children": [
              "IPY_MODEL_ac80b43146bb4b928dc013ce9687c08f",
              "IPY_MODEL_11c9d8cc7b6e4f58b5f45357a9c1ea48",
              "IPY_MODEL_842158dc348c4247a3d2919069e8825a"
            ],
            "layout": "IPY_MODEL_216f12852afe4ffc961b0715d2903368"
          }
        },
        "5e05da47fe7e46f580a9a1a072622ccd": {
          "model_module": "@jupyter-widgets/controls",
          "model_module_version": "1.5.0",
          "model_name": "HTMLModel",
          "state": {
            "_dom_classes": [],
            "_model_module": "@jupyter-widgets/controls",
            "_model_module_version": "1.5.0",
            "_model_name": "HTMLModel",
            "_view_count": null,
            "_view_module": "@jupyter-widgets/controls",
            "_view_module_version": "1.5.0",
            "_view_name": "HTMLView",
            "description": "",
            "description_tooltip": null,
            "layout": "IPY_MODEL_2f43df25f8604add9317d0c019580129",
            "placeholder": "​",
            "style": "IPY_MODEL_abb478b92bb34bdb85519b5b57ef00c4",
            "value": " 0/0 [00:00&lt;?, ?it/s]"
          }
        },
        "6380551c27bb4d5c95d5531af2ca3536": {
          "model_module": "@jupyter-widgets/controls",
          "model_module_version": "1.5.0",
          "model_name": "DescriptionStyleModel",
          "state": {
            "_model_module": "@jupyter-widgets/controls",
            "_model_module_version": "1.5.0",
            "_model_name": "DescriptionStyleModel",
            "_view_count": null,
            "_view_module": "@jupyter-widgets/base",
            "_view_module_version": "1.2.0",
            "_view_name": "StyleView",
            "description_width": ""
          }
        },
        "643a8660e0de454892c6d8cb77914bcb": {
          "model_module": "@jupyter-widgets/base",
          "model_module_version": "1.2.0",
          "model_name": "LayoutModel",
          "state": {
            "_model_module": "@jupyter-widgets/base",
            "_model_module_version": "1.2.0",
            "_model_name": "LayoutModel",
            "_view_count": null,
            "_view_module": "@jupyter-widgets/base",
            "_view_module_version": "1.2.0",
            "_view_name": "LayoutView",
            "align_content": null,
            "align_items": null,
            "align_self": null,
            "border": null,
            "bottom": null,
            "display": null,
            "flex": null,
            "flex_flow": null,
            "grid_area": null,
            "grid_auto_columns": null,
            "grid_auto_flow": null,
            "grid_auto_rows": null,
            "grid_column": null,
            "grid_gap": null,
            "grid_row": null,
            "grid_template_areas": null,
            "grid_template_columns": null,
            "grid_template_rows": null,
            "height": null,
            "justify_content": null,
            "justify_items": null,
            "left": null,
            "margin": null,
            "max_height": null,
            "max_width": null,
            "min_height": null,
            "min_width": null,
            "object_fit": null,
            "object_position": null,
            "order": null,
            "overflow": null,
            "overflow_x": null,
            "overflow_y": null,
            "padding": null,
            "right": null,
            "top": null,
            "visibility": null,
            "width": null
          }
        },
        "65d5eab54d9847669c9059e5c5901d0f": {
          "model_module": "@jupyter-widgets/controls",
          "model_module_version": "1.5.0",
          "model_name": "HTMLModel",
          "state": {
            "_dom_classes": [],
            "_model_module": "@jupyter-widgets/controls",
            "_model_module_version": "1.5.0",
            "_model_name": "HTMLModel",
            "_view_count": null,
            "_view_module": "@jupyter-widgets/controls",
            "_view_module_version": "1.5.0",
            "_view_name": "HTMLView",
            "description": "",
            "description_tooltip": null,
            "layout": "IPY_MODEL_9280fc420d164988846bf1111cdd4f33",
            "placeholder": "​",
            "style": "IPY_MODEL_f1c82b42dde944e18e16680dce0865f3",
            "value": "Extracting data files: "
          }
        },
        "662900ecfd8b4e628b29a2b9926b9a08": {
          "model_module": "@jupyter-widgets/base",
          "model_module_version": "1.2.0",
          "model_name": "LayoutModel",
          "state": {
            "_model_module": "@jupyter-widgets/base",
            "_model_module_version": "1.2.0",
            "_model_name": "LayoutModel",
            "_view_count": null,
            "_view_module": "@jupyter-widgets/base",
            "_view_module_version": "1.2.0",
            "_view_name": "LayoutView",
            "align_content": null,
            "align_items": null,
            "align_self": null,
            "border": null,
            "bottom": null,
            "display": null,
            "flex": null,
            "flex_flow": null,
            "grid_area": null,
            "grid_auto_columns": null,
            "grid_auto_flow": null,
            "grid_auto_rows": null,
            "grid_column": null,
            "grid_gap": null,
            "grid_row": null,
            "grid_template_areas": null,
            "grid_template_columns": null,
            "grid_template_rows": null,
            "height": null,
            "justify_content": null,
            "justify_items": null,
            "left": null,
            "margin": null,
            "max_height": null,
            "max_width": null,
            "min_height": null,
            "min_width": null,
            "object_fit": null,
            "object_position": null,
            "order": null,
            "overflow": null,
            "overflow_x": null,
            "overflow_y": null,
            "padding": null,
            "right": null,
            "top": null,
            "visibility": null,
            "width": "20px"
          }
        },
        "6643c0c695a1417fb7204080fca4f9dd": {
          "model_module": "@jupyter-widgets/controls",
          "model_module_version": "1.5.0",
          "model_name": "DescriptionStyleModel",
          "state": {
            "_model_module": "@jupyter-widgets/controls",
            "_model_module_version": "1.5.0",
            "_model_name": "DescriptionStyleModel",
            "_view_count": null,
            "_view_module": "@jupyter-widgets/base",
            "_view_module_version": "1.2.0",
            "_view_name": "StyleView",
            "description_width": ""
          }
        },
        "669304128d024785a4a0df89a297b9e3": {
          "model_module": "@jupyter-widgets/controls",
          "model_module_version": "1.5.0",
          "model_name": "DescriptionStyleModel",
          "state": {
            "_model_module": "@jupyter-widgets/controls",
            "_model_module_version": "1.5.0",
            "_model_name": "DescriptionStyleModel",
            "_view_count": null,
            "_view_module": "@jupyter-widgets/base",
            "_view_module_version": "1.2.0",
            "_view_name": "StyleView",
            "description_width": ""
          }
        },
        "678aaf643297420091e4456613879e6a": {
          "model_module": "@jupyter-widgets/controls",
          "model_module_version": "1.5.0",
          "model_name": "FloatProgressModel",
          "state": {
            "_dom_classes": [],
            "_model_module": "@jupyter-widgets/controls",
            "_model_module_version": "1.5.0",
            "_model_name": "FloatProgressModel",
            "_view_count": null,
            "_view_module": "@jupyter-widgets/controls",
            "_view_module_version": "1.5.0",
            "_view_name": "ProgressView",
            "bar_style": "success",
            "description": "",
            "description_tooltip": null,
            "layout": "IPY_MODEL_67996c3ecdb34bef8f30063a65b4a6c7",
            "max": 1,
            "min": 0,
            "orientation": "horizontal",
            "style": "IPY_MODEL_c121423eb88f47ac925ccadd7f3d0bfc",
            "value": 0
          }
        },
        "67996c3ecdb34bef8f30063a65b4a6c7": {
          "model_module": "@jupyter-widgets/base",
          "model_module_version": "1.2.0",
          "model_name": "LayoutModel",
          "state": {
            "_model_module": "@jupyter-widgets/base",
            "_model_module_version": "1.2.0",
            "_model_name": "LayoutModel",
            "_view_count": null,
            "_view_module": "@jupyter-widgets/base",
            "_view_module_version": "1.2.0",
            "_view_name": "LayoutView",
            "align_content": null,
            "align_items": null,
            "align_self": null,
            "border": null,
            "bottom": null,
            "display": null,
            "flex": null,
            "flex_flow": null,
            "grid_area": null,
            "grid_auto_columns": null,
            "grid_auto_flow": null,
            "grid_auto_rows": null,
            "grid_column": null,
            "grid_gap": null,
            "grid_row": null,
            "grid_template_areas": null,
            "grid_template_columns": null,
            "grid_template_rows": null,
            "height": null,
            "justify_content": null,
            "justify_items": null,
            "left": null,
            "margin": null,
            "max_height": null,
            "max_width": null,
            "min_height": null,
            "min_width": null,
            "object_fit": null,
            "object_position": null,
            "order": null,
            "overflow": null,
            "overflow_x": null,
            "overflow_y": null,
            "padding": null,
            "right": null,
            "top": null,
            "visibility": null,
            "width": "20px"
          }
        },
        "68398c1006cd442486cae4c16af9e0ec": {
          "model_module": "@jupyter-widgets/base",
          "model_module_version": "1.2.0",
          "model_name": "LayoutModel",
          "state": {
            "_model_module": "@jupyter-widgets/base",
            "_model_module_version": "1.2.0",
            "_model_name": "LayoutModel",
            "_view_count": null,
            "_view_module": "@jupyter-widgets/base",
            "_view_module_version": "1.2.0",
            "_view_name": "LayoutView",
            "align_content": null,
            "align_items": null,
            "align_self": null,
            "border": null,
            "bottom": null,
            "display": null,
            "flex": null,
            "flex_flow": null,
            "grid_area": null,
            "grid_auto_columns": null,
            "grid_auto_flow": null,
            "grid_auto_rows": null,
            "grid_column": null,
            "grid_gap": null,
            "grid_row": null,
            "grid_template_areas": null,
            "grid_template_columns": null,
            "grid_template_rows": null,
            "height": null,
            "justify_content": null,
            "justify_items": null,
            "left": null,
            "margin": null,
            "max_height": null,
            "max_width": null,
            "min_height": null,
            "min_width": null,
            "object_fit": null,
            "object_position": null,
            "order": null,
            "overflow": null,
            "overflow_x": null,
            "overflow_y": null,
            "padding": null,
            "right": null,
            "top": null,
            "visibility": null,
            "width": null
          }
        },
        "6abea98ccda440ea9d761c0b7a459e9c": {
          "model_module": "@jupyter-widgets/base",
          "model_module_version": "1.2.0",
          "model_name": "LayoutModel",
          "state": {
            "_model_module": "@jupyter-widgets/base",
            "_model_module_version": "1.2.0",
            "_model_name": "LayoutModel",
            "_view_count": null,
            "_view_module": "@jupyter-widgets/base",
            "_view_module_version": "1.2.0",
            "_view_name": "LayoutView",
            "align_content": null,
            "align_items": null,
            "align_self": null,
            "border": null,
            "bottom": null,
            "display": null,
            "flex": null,
            "flex_flow": null,
            "grid_area": null,
            "grid_auto_columns": null,
            "grid_auto_flow": null,
            "grid_auto_rows": null,
            "grid_column": null,
            "grid_gap": null,
            "grid_row": null,
            "grid_template_areas": null,
            "grid_template_columns": null,
            "grid_template_rows": null,
            "height": null,
            "justify_content": null,
            "justify_items": null,
            "left": null,
            "margin": null,
            "max_height": null,
            "max_width": null,
            "min_height": null,
            "min_width": null,
            "object_fit": null,
            "object_position": null,
            "order": null,
            "overflow": null,
            "overflow_x": null,
            "overflow_y": null,
            "padding": null,
            "right": null,
            "top": null,
            "visibility": null,
            "width": null
          }
        },
        "6bf50ec5270146fbb65295a4c9ad0f5c": {
          "model_module": "@jupyter-widgets/controls",
          "model_module_version": "1.5.0",
          "model_name": "HBoxModel",
          "state": {
            "_dom_classes": [],
            "_model_module": "@jupyter-widgets/controls",
            "_model_module_version": "1.5.0",
            "_model_name": "HBoxModel",
            "_view_count": null,
            "_view_module": "@jupyter-widgets/controls",
            "_view_module_version": "1.5.0",
            "_view_name": "HBoxView",
            "box_style": "",
            "children": [
              "IPY_MODEL_d038c851f2cb4b6b959c20d48a12d1e5",
              "IPY_MODEL_5015ce9ea74645e08981cfee5ec4d3dd",
              "IPY_MODEL_f53a99cde06c4267b30836882449bfb8"
            ],
            "layout": "IPY_MODEL_e88d15667dd5452baf6f938af4abf3c5"
          }
        },
        "7080d7780a7f4eedaa8411ddee673152": {
          "model_module": "@jupyter-widgets/controls",
          "model_module_version": "1.5.0",
          "model_name": "HBoxModel",
          "state": {
            "_dom_classes": [],
            "_model_module": "@jupyter-widgets/controls",
            "_model_module_version": "1.5.0",
            "_model_name": "HBoxModel",
            "_view_count": null,
            "_view_module": "@jupyter-widgets/controls",
            "_view_module_version": "1.5.0",
            "_view_name": "HBoxView",
            "box_style": "",
            "children": [
              "IPY_MODEL_b57262d84c2341d09f5b8434461b57ac",
              "IPY_MODEL_678aaf643297420091e4456613879e6a",
              "IPY_MODEL_23c330374ea14a3a860b4e64accbc79f"
            ],
            "layout": "IPY_MODEL_9750e65d7c2f403ca3727782a03b545d"
          }
        },
        "70910b4710bb460d99ea7b0530747125": {
          "model_module": "@jupyter-widgets/base",
          "model_module_version": "1.2.0",
          "model_name": "LayoutModel",
          "state": {
            "_model_module": "@jupyter-widgets/base",
            "_model_module_version": "1.2.0",
            "_model_name": "LayoutModel",
            "_view_count": null,
            "_view_module": "@jupyter-widgets/base",
            "_view_module_version": "1.2.0",
            "_view_name": "LayoutView",
            "align_content": null,
            "align_items": null,
            "align_self": null,
            "border": null,
            "bottom": null,
            "display": null,
            "flex": null,
            "flex_flow": null,
            "grid_area": null,
            "grid_auto_columns": null,
            "grid_auto_flow": null,
            "grid_auto_rows": null,
            "grid_column": null,
            "grid_gap": null,
            "grid_row": null,
            "grid_template_areas": null,
            "grid_template_columns": null,
            "grid_template_rows": null,
            "height": null,
            "justify_content": null,
            "justify_items": null,
            "left": null,
            "margin": null,
            "max_height": null,
            "max_width": null,
            "min_height": null,
            "min_width": null,
            "object_fit": null,
            "object_position": null,
            "order": null,
            "overflow": null,
            "overflow_x": null,
            "overflow_y": null,
            "padding": null,
            "right": null,
            "top": null,
            "visibility": null,
            "width": null
          }
        },
        "70ce029c919c4b71a8d7a436e3907a5e": {
          "model_module": "@jupyter-widgets/controls",
          "model_module_version": "1.5.0",
          "model_name": "HTMLModel",
          "state": {
            "_dom_classes": [],
            "_model_module": "@jupyter-widgets/controls",
            "_model_module_version": "1.5.0",
            "_model_name": "HTMLModel",
            "_view_count": null,
            "_view_module": "@jupyter-widgets/controls",
            "_view_module_version": "1.5.0",
            "_view_name": "HTMLView",
            "description": "",
            "description_tooltip": null,
            "layout": "IPY_MODEL_ba60373f925e42a29b1f67364c917dc8",
            "placeholder": "​",
            "style": "IPY_MODEL_15f12584b3254263b50ec21251ce97b2",
            "value": " 0/0 [00:00&lt;?, ?it/s]"
          }
        },
        "711f78cbbda34e1097e50c7c3022e4f0": {
          "model_module": "@jupyter-widgets/controls",
          "model_module_version": "1.5.0",
          "model_name": "DescriptionStyleModel",
          "state": {
            "_model_module": "@jupyter-widgets/controls",
            "_model_module_version": "1.5.0",
            "_model_name": "DescriptionStyleModel",
            "_view_count": null,
            "_view_module": "@jupyter-widgets/base",
            "_view_module_version": "1.2.0",
            "_view_name": "StyleView",
            "description_width": ""
          }
        },
        "71898233b03043c1b1b68fa67e3e8c2b": {
          "model_module": "@jupyter-widgets/controls",
          "model_module_version": "1.5.0",
          "model_name": "HTMLModel",
          "state": {
            "_dom_classes": [],
            "_model_module": "@jupyter-widgets/controls",
            "_model_module_version": "1.5.0",
            "_model_name": "HTMLModel",
            "_view_count": null,
            "_view_module": "@jupyter-widgets/controls",
            "_view_module_version": "1.5.0",
            "_view_name": "HTMLView",
            "description": "",
            "description_tooltip": null,
            "layout": "IPY_MODEL_e2c66321ee884f1a94db6007b41e70e4",
            "placeholder": "​",
            "style": "IPY_MODEL_6643c0c695a1417fb7204080fca4f9dd",
            "value": " 1209/1209 [00:01&lt;00:00, 2104.70 examples/s]"
          }
        },
        "71f1c20513d44e4b857fbbab6b8a16fc": {
          "model_module": "@jupyter-widgets/controls",
          "model_module_version": "1.5.0",
          "model_name": "DescriptionStyleModel",
          "state": {
            "_model_module": "@jupyter-widgets/controls",
            "_model_module_version": "1.5.0",
            "_model_name": "DescriptionStyleModel",
            "_view_count": null,
            "_view_module": "@jupyter-widgets/base",
            "_view_module_version": "1.2.0",
            "_view_name": "StyleView",
            "description_width": ""
          }
        },
        "7222a90a28cb47638b9c20a5e18e151d": {
          "model_module": "@jupyter-widgets/controls",
          "model_module_version": "1.5.0",
          "model_name": "FloatProgressModel",
          "state": {
            "_dom_classes": [],
            "_model_module": "@jupyter-widgets/controls",
            "_model_module_version": "1.5.0",
            "_model_name": "FloatProgressModel",
            "_view_count": null,
            "_view_module": "@jupyter-widgets/controls",
            "_view_module_version": "1.5.0",
            "_view_name": "ProgressView",
            "bar_style": "success",
            "description": "",
            "description_tooltip": null,
            "layout": "IPY_MODEL_662900ecfd8b4e628b29a2b9926b9a08",
            "max": 1,
            "min": 0,
            "orientation": "horizontal",
            "style": "IPY_MODEL_467eca7f8a974645b8979094e1a5023e",
            "value": 0
          }
        },
        "740fece56def407a8f94a66fd7e072b9": {
          "model_module": "@jupyter-widgets/base",
          "model_module_version": "1.2.0",
          "model_name": "LayoutModel",
          "state": {
            "_model_module": "@jupyter-widgets/base",
            "_model_module_version": "1.2.0",
            "_model_name": "LayoutModel",
            "_view_count": null,
            "_view_module": "@jupyter-widgets/base",
            "_view_module_version": "1.2.0",
            "_view_name": "LayoutView",
            "align_content": null,
            "align_items": null,
            "align_self": null,
            "border": null,
            "bottom": null,
            "display": null,
            "flex": null,
            "flex_flow": null,
            "grid_area": null,
            "grid_auto_columns": null,
            "grid_auto_flow": null,
            "grid_auto_rows": null,
            "grid_column": null,
            "grid_gap": null,
            "grid_row": null,
            "grid_template_areas": null,
            "grid_template_columns": null,
            "grid_template_rows": null,
            "height": null,
            "justify_content": null,
            "justify_items": null,
            "left": null,
            "margin": null,
            "max_height": null,
            "max_width": null,
            "min_height": null,
            "min_width": null,
            "object_fit": null,
            "object_position": null,
            "order": null,
            "overflow": null,
            "overflow_x": null,
            "overflow_y": null,
            "padding": null,
            "right": null,
            "top": null,
            "visibility": null,
            "width": null
          }
        },
        "7426011c61894c94aef33aa1bcb735a2": {
          "model_module": "@jupyter-widgets/controls",
          "model_module_version": "1.5.0",
          "model_name": "HTMLModel",
          "state": {
            "_dom_classes": [],
            "_model_module": "@jupyter-widgets/controls",
            "_model_module_version": "1.5.0",
            "_model_name": "HTMLModel",
            "_view_count": null,
            "_view_module": "@jupyter-widgets/controls",
            "_view_module_version": "1.5.0",
            "_view_name": "HTMLView",
            "description": "",
            "description_tooltip": null,
            "layout": "IPY_MODEL_405a05057fe542968181f8d08782ccf2",
            "placeholder": "​",
            "style": "IPY_MODEL_e6c0a16f47184fa99b2ba2dbd2526494",
            "value": "Downloading data files: "
          }
        },
        "752114f6da524e3db49c69938d827879": {
          "model_module": "@jupyter-widgets/base",
          "model_module_version": "1.2.0",
          "model_name": "LayoutModel",
          "state": {
            "_model_module": "@jupyter-widgets/base",
            "_model_module_version": "1.2.0",
            "_model_name": "LayoutModel",
            "_view_count": null,
            "_view_module": "@jupyter-widgets/base",
            "_view_module_version": "1.2.0",
            "_view_name": "LayoutView",
            "align_content": null,
            "align_items": null,
            "align_self": null,
            "border": null,
            "bottom": null,
            "display": null,
            "flex": null,
            "flex_flow": null,
            "grid_area": null,
            "grid_auto_columns": null,
            "grid_auto_flow": null,
            "grid_auto_rows": null,
            "grid_column": null,
            "grid_gap": null,
            "grid_row": null,
            "grid_template_areas": null,
            "grid_template_columns": null,
            "grid_template_rows": null,
            "height": null,
            "justify_content": null,
            "justify_items": null,
            "left": null,
            "margin": null,
            "max_height": null,
            "max_width": null,
            "min_height": null,
            "min_width": null,
            "object_fit": null,
            "object_position": null,
            "order": null,
            "overflow": null,
            "overflow_x": null,
            "overflow_y": null,
            "padding": null,
            "right": null,
            "top": null,
            "visibility": null,
            "width": null
          }
        },
        "7715c0a355204574b96f437f0c7ac0e7": {
          "model_module": "@jupyter-widgets/controls",
          "model_module_version": "1.5.0",
          "model_name": "ProgressStyleModel",
          "state": {
            "_model_module": "@jupyter-widgets/controls",
            "_model_module_version": "1.5.0",
            "_model_name": "ProgressStyleModel",
            "_view_count": null,
            "_view_module": "@jupyter-widgets/base",
            "_view_module_version": "1.2.0",
            "_view_name": "StyleView",
            "bar_color": null,
            "description_width": ""
          }
        },
        "7843184707dd47bca99a85292dce2818": {
          "model_module": "@jupyter-widgets/controls",
          "model_module_version": "1.5.0",
          "model_name": "DescriptionStyleModel",
          "state": {
            "_model_module": "@jupyter-widgets/controls",
            "_model_module_version": "1.5.0",
            "_model_name": "DescriptionStyleModel",
            "_view_count": null,
            "_view_module": "@jupyter-widgets/base",
            "_view_module_version": "1.2.0",
            "_view_name": "StyleView",
            "description_width": ""
          }
        },
        "790b7b2aec7a4a8db0281d1560b8cfa8": {
          "model_module": "@jupyter-widgets/base",
          "model_module_version": "1.2.0",
          "model_name": "LayoutModel",
          "state": {
            "_model_module": "@jupyter-widgets/base",
            "_model_module_version": "1.2.0",
            "_model_name": "LayoutModel",
            "_view_count": null,
            "_view_module": "@jupyter-widgets/base",
            "_view_module_version": "1.2.0",
            "_view_name": "LayoutView",
            "align_content": null,
            "align_items": null,
            "align_self": null,
            "border": null,
            "bottom": null,
            "display": null,
            "flex": null,
            "flex_flow": null,
            "grid_area": null,
            "grid_auto_columns": null,
            "grid_auto_flow": null,
            "grid_auto_rows": null,
            "grid_column": null,
            "grid_gap": null,
            "grid_row": null,
            "grid_template_areas": null,
            "grid_template_columns": null,
            "grid_template_rows": null,
            "height": null,
            "justify_content": null,
            "justify_items": null,
            "left": null,
            "margin": null,
            "max_height": null,
            "max_width": null,
            "min_height": null,
            "min_width": null,
            "object_fit": null,
            "object_position": null,
            "order": null,
            "overflow": null,
            "overflow_x": null,
            "overflow_y": null,
            "padding": null,
            "right": null,
            "top": null,
            "visibility": null,
            "width": null
          }
        },
        "79e3276eb0fe42e5bac4f25f1ba00c8a": {
          "model_module": "@jupyter-widgets/controls",
          "model_module_version": "1.5.0",
          "model_name": "DescriptionStyleModel",
          "state": {
            "_model_module": "@jupyter-widgets/controls",
            "_model_module_version": "1.5.0",
            "_model_name": "DescriptionStyleModel",
            "_view_count": null,
            "_view_module": "@jupyter-widgets/base",
            "_view_module_version": "1.2.0",
            "_view_name": "StyleView",
            "description_width": ""
          }
        },
        "7aeda03881ef485f9860d20f3b9e5029": {
          "model_module": "@jupyter-widgets/controls",
          "model_module_version": "1.5.0",
          "model_name": "DescriptionStyleModel",
          "state": {
            "_model_module": "@jupyter-widgets/controls",
            "_model_module_version": "1.5.0",
            "_model_name": "DescriptionStyleModel",
            "_view_count": null,
            "_view_module": "@jupyter-widgets/base",
            "_view_module_version": "1.2.0",
            "_view_name": "StyleView",
            "description_width": ""
          }
        },
        "7b5993a3277a494d9cf2ac5e15fac177": {
          "model_module": "@jupyter-widgets/base",
          "model_module_version": "1.2.0",
          "model_name": "LayoutModel",
          "state": {
            "_model_module": "@jupyter-widgets/base",
            "_model_module_version": "1.2.0",
            "_model_name": "LayoutModel",
            "_view_count": null,
            "_view_module": "@jupyter-widgets/base",
            "_view_module_version": "1.2.0",
            "_view_name": "LayoutView",
            "align_content": null,
            "align_items": null,
            "align_self": null,
            "border": null,
            "bottom": null,
            "display": null,
            "flex": null,
            "flex_flow": null,
            "grid_area": null,
            "grid_auto_columns": null,
            "grid_auto_flow": null,
            "grid_auto_rows": null,
            "grid_column": null,
            "grid_gap": null,
            "grid_row": null,
            "grid_template_areas": null,
            "grid_template_columns": null,
            "grid_template_rows": null,
            "height": null,
            "justify_content": null,
            "justify_items": null,
            "left": null,
            "margin": null,
            "max_height": null,
            "max_width": null,
            "min_height": null,
            "min_width": null,
            "object_fit": null,
            "object_position": null,
            "order": null,
            "overflow": null,
            "overflow_x": null,
            "overflow_y": null,
            "padding": null,
            "right": null,
            "top": null,
            "visibility": null,
            "width": null
          }
        },
        "7cd00c0336714f628b8e2a1a40ddbae4": {
          "model_module": "@jupyter-widgets/controls",
          "model_module_version": "1.5.0",
          "model_name": "FloatProgressModel",
          "state": {
            "_dom_classes": [],
            "_model_module": "@jupyter-widgets/controls",
            "_model_module_version": "1.5.0",
            "_model_name": "FloatProgressModel",
            "_view_count": null,
            "_view_module": "@jupyter-widgets/controls",
            "_view_module_version": "1.5.0",
            "_view_name": "ProgressView",
            "bar_style": "success",
            "description": "",
            "description_tooltip": null,
            "layout": "IPY_MODEL_752114f6da524e3db49c69938d827879",
            "max": 9999,
            "min": 0,
            "orientation": "horizontal",
            "style": "IPY_MODEL_d632c387438a44c4be88e5e7a6bba522",
            "value": 9999
          }
        },
        "7d44316d36ce44e2960f272ea93a0556": {
          "model_module": "@jupyter-widgets/controls",
          "model_module_version": "1.5.0",
          "model_name": "FloatProgressModel",
          "state": {
            "_dom_classes": [],
            "_model_module": "@jupyter-widgets/controls",
            "_model_module_version": "1.5.0",
            "_model_name": "FloatProgressModel",
            "_view_count": null,
            "_view_module": "@jupyter-widgets/controls",
            "_view_module_version": "1.5.0",
            "_view_name": "ProgressView",
            "bar_style": "success",
            "description": "",
            "description_tooltip": null,
            "layout": "IPY_MODEL_790b7b2aec7a4a8db0281d1560b8cfa8",
            "max": 1209,
            "min": 0,
            "orientation": "horizontal",
            "style": "IPY_MODEL_1c53e87e439b44338d760fbb61b927b5",
            "value": 1209
          }
        },
        "7f224ca0fafc487aae2995ca43cdbde7": {
          "model_module": "@jupyter-widgets/controls",
          "model_module_version": "1.5.0",
          "model_name": "FloatProgressModel",
          "state": {
            "_dom_classes": [],
            "_model_module": "@jupyter-widgets/controls",
            "_model_module_version": "1.5.0",
            "_model_name": "FloatProgressModel",
            "_view_count": null,
            "_view_module": "@jupyter-widgets/controls",
            "_view_module_version": "1.5.0",
            "_view_name": "ProgressView",
            "bar_style": "success",
            "description": "",
            "description_tooltip": null,
            "layout": "IPY_MODEL_bc00fa9c5da84bbc82262ed640ea90e6",
            "max": 1,
            "min": 0,
            "orientation": "horizontal",
            "style": "IPY_MODEL_3ce96a8aca714f9793b8dccb3d4c47a6",
            "value": 1
          }
        },
        "7fd610f23e08478a8908d2b3b0c8ce1c": {
          "model_module": "@jupyter-widgets/base",
          "model_module_version": "1.2.0",
          "model_name": "LayoutModel",
          "state": {
            "_model_module": "@jupyter-widgets/base",
            "_model_module_version": "1.2.0",
            "_model_name": "LayoutModel",
            "_view_count": null,
            "_view_module": "@jupyter-widgets/base",
            "_view_module_version": "1.2.0",
            "_view_name": "LayoutView",
            "align_content": null,
            "align_items": null,
            "align_self": null,
            "border": null,
            "bottom": null,
            "display": null,
            "flex": null,
            "flex_flow": null,
            "grid_area": null,
            "grid_auto_columns": null,
            "grid_auto_flow": null,
            "grid_auto_rows": null,
            "grid_column": null,
            "grid_gap": null,
            "grid_row": null,
            "grid_template_areas": null,
            "grid_template_columns": null,
            "grid_template_rows": null,
            "height": null,
            "justify_content": null,
            "justify_items": null,
            "left": null,
            "margin": null,
            "max_height": null,
            "max_width": null,
            "min_height": null,
            "min_width": null,
            "object_fit": null,
            "object_position": null,
            "order": null,
            "overflow": null,
            "overflow_x": null,
            "overflow_y": null,
            "padding": null,
            "right": null,
            "top": null,
            "visibility": null,
            "width": null
          }
        },
        "803a7e1e8c0c4da4959b4b16b331aa72": {
          "model_module": "@jupyter-widgets/controls",
          "model_module_version": "1.5.0",
          "model_name": "HTMLModel",
          "state": {
            "_dom_classes": [],
            "_model_module": "@jupyter-widgets/controls",
            "_model_module_version": "1.5.0",
            "_model_name": "HTMLModel",
            "_view_count": null,
            "_view_module": "@jupyter-widgets/controls",
            "_view_module_version": "1.5.0",
            "_view_name": "HTMLView",
            "description": "",
            "description_tooltip": null,
            "layout": "IPY_MODEL_99f1e20e12e64de8b4b713c980ec5d62",
            "placeholder": "​",
            "style": "IPY_MODEL_6380551c27bb4d5c95d5531af2ca3536",
            "value": "Downloading data files: 100%"
          }
        },
        "8068519c5f3747a08cffc4acb9a276fd": {
          "model_module": "@jupyter-widgets/controls",
          "model_module_version": "1.5.0",
          "model_name": "ProgressStyleModel",
          "state": {
            "_model_module": "@jupyter-widgets/controls",
            "_model_module_version": "1.5.0",
            "_model_name": "ProgressStyleModel",
            "_view_count": null,
            "_view_module": "@jupyter-widgets/base",
            "_view_module_version": "1.2.0",
            "_view_name": "StyleView",
            "bar_color": null,
            "description_width": ""
          }
        },
        "8092d16d669b40b697995721aae587f6": {
          "model_module": "@jupyter-widgets/base",
          "model_module_version": "1.2.0",
          "model_name": "LayoutModel",
          "state": {
            "_model_module": "@jupyter-widgets/base",
            "_model_module_version": "1.2.0",
            "_model_name": "LayoutModel",
            "_view_count": null,
            "_view_module": "@jupyter-widgets/base",
            "_view_module_version": "1.2.0",
            "_view_name": "LayoutView",
            "align_content": null,
            "align_items": null,
            "align_self": null,
            "border": null,
            "bottom": null,
            "display": null,
            "flex": null,
            "flex_flow": null,
            "grid_area": null,
            "grid_auto_columns": null,
            "grid_auto_flow": null,
            "grid_auto_rows": null,
            "grid_column": null,
            "grid_gap": null,
            "grid_row": null,
            "grid_template_areas": null,
            "grid_template_columns": null,
            "grid_template_rows": null,
            "height": null,
            "justify_content": null,
            "justify_items": null,
            "left": null,
            "margin": null,
            "max_height": null,
            "max_width": null,
            "min_height": null,
            "min_width": null,
            "object_fit": null,
            "object_position": null,
            "order": null,
            "overflow": null,
            "overflow_x": null,
            "overflow_y": null,
            "padding": null,
            "right": null,
            "top": null,
            "visibility": null,
            "width": null
          }
        },
        "815bc852e11c4a20b9ba8f43264458af": {
          "model_module": "@jupyter-widgets/controls",
          "model_module_version": "1.5.0",
          "model_name": "ProgressStyleModel",
          "state": {
            "_model_module": "@jupyter-widgets/controls",
            "_model_module_version": "1.5.0",
            "_model_name": "ProgressStyleModel",
            "_view_count": null,
            "_view_module": "@jupyter-widgets/base",
            "_view_module_version": "1.2.0",
            "_view_name": "StyleView",
            "bar_color": null,
            "description_width": ""
          }
        },
        "829292d3823c49599ba6331775045dbc": {
          "model_module": "@jupyter-widgets/controls",
          "model_module_version": "1.5.0",
          "model_name": "ProgressStyleModel",
          "state": {
            "_model_module": "@jupyter-widgets/controls",
            "_model_module_version": "1.5.0",
            "_model_name": "ProgressStyleModel",
            "_view_count": null,
            "_view_module": "@jupyter-widgets/base",
            "_view_module_version": "1.2.0",
            "_view_name": "StyleView",
            "bar_color": null,
            "description_width": ""
          }
        },
        "842158dc348c4247a3d2919069e8825a": {
          "model_module": "@jupyter-widgets/controls",
          "model_module_version": "1.5.0",
          "model_name": "HTMLModel",
          "state": {
            "_dom_classes": [],
            "_model_module": "@jupyter-widgets/controls",
            "_model_module_version": "1.5.0",
            "_model_name": "HTMLModel",
            "_view_count": null,
            "_view_module": "@jupyter-widgets/controls",
            "_view_module_version": "1.5.0",
            "_view_name": "HTMLView",
            "description": "",
            "description_tooltip": null,
            "layout": "IPY_MODEL_6abea98ccda440ea9d761c0b7a459e9c",
            "placeholder": "​",
            "style": "IPY_MODEL_711f78cbbda34e1097e50c7c3022e4f0",
            "value": " 9999/9999 [00:01&lt;00:00, 5136.80it/s]"
          }
        },
        "848947f884dc4fe0b4e4901e3200f6f0": {
          "model_module": "@jupyter-widgets/base",
          "model_module_version": "1.2.0",
          "model_name": "LayoutModel",
          "state": {
            "_model_module": "@jupyter-widgets/base",
            "_model_module_version": "1.2.0",
            "_model_name": "LayoutModel",
            "_view_count": null,
            "_view_module": "@jupyter-widgets/base",
            "_view_module_version": "1.2.0",
            "_view_name": "LayoutView",
            "align_content": null,
            "align_items": null,
            "align_self": null,
            "border": null,
            "bottom": null,
            "display": null,
            "flex": null,
            "flex_flow": null,
            "grid_area": null,
            "grid_auto_columns": null,
            "grid_auto_flow": null,
            "grid_auto_rows": null,
            "grid_column": null,
            "grid_gap": null,
            "grid_row": null,
            "grid_template_areas": null,
            "grid_template_columns": null,
            "grid_template_rows": null,
            "height": null,
            "justify_content": null,
            "justify_items": null,
            "left": null,
            "margin": null,
            "max_height": null,
            "max_width": null,
            "min_height": null,
            "min_width": null,
            "object_fit": null,
            "object_position": null,
            "order": null,
            "overflow": null,
            "overflow_x": null,
            "overflow_y": null,
            "padding": null,
            "right": null,
            "top": null,
            "visibility": null,
            "width": null
          }
        },
        "865c9ec9e7ef4161a53ef1f81ab95c10": {
          "model_module": "@jupyter-widgets/base",
          "model_module_version": "1.2.0",
          "model_name": "LayoutModel",
          "state": {
            "_model_module": "@jupyter-widgets/base",
            "_model_module_version": "1.2.0",
            "_model_name": "LayoutModel",
            "_view_count": null,
            "_view_module": "@jupyter-widgets/base",
            "_view_module_version": "1.2.0",
            "_view_name": "LayoutView",
            "align_content": null,
            "align_items": null,
            "align_self": null,
            "border": null,
            "bottom": null,
            "display": null,
            "flex": null,
            "flex_flow": null,
            "grid_area": null,
            "grid_auto_columns": null,
            "grid_auto_flow": null,
            "grid_auto_rows": null,
            "grid_column": null,
            "grid_gap": null,
            "grid_row": null,
            "grid_template_areas": null,
            "grid_template_columns": null,
            "grid_template_rows": null,
            "height": null,
            "justify_content": null,
            "justify_items": null,
            "left": null,
            "margin": null,
            "max_height": null,
            "max_width": null,
            "min_height": null,
            "min_width": null,
            "object_fit": null,
            "object_position": null,
            "order": null,
            "overflow": null,
            "overflow_x": null,
            "overflow_y": null,
            "padding": null,
            "right": null,
            "top": null,
            "visibility": null,
            "width": null
          }
        },
        "8c6a49cdb9164760a4969a6cd3d74f04": {
          "model_module": "@jupyter-widgets/base",
          "model_module_version": "1.2.0",
          "model_name": "LayoutModel",
          "state": {
            "_model_module": "@jupyter-widgets/base",
            "_model_module_version": "1.2.0",
            "_model_name": "LayoutModel",
            "_view_count": null,
            "_view_module": "@jupyter-widgets/base",
            "_view_module_version": "1.2.0",
            "_view_name": "LayoutView",
            "align_content": null,
            "align_items": null,
            "align_self": null,
            "border": null,
            "bottom": null,
            "display": null,
            "flex": null,
            "flex_flow": null,
            "grid_area": null,
            "grid_auto_columns": null,
            "grid_auto_flow": null,
            "grid_auto_rows": null,
            "grid_column": null,
            "grid_gap": null,
            "grid_row": null,
            "grid_template_areas": null,
            "grid_template_columns": null,
            "grid_template_rows": null,
            "height": null,
            "justify_content": null,
            "justify_items": null,
            "left": null,
            "margin": null,
            "max_height": null,
            "max_width": null,
            "min_height": null,
            "min_width": null,
            "object_fit": null,
            "object_position": null,
            "order": null,
            "overflow": null,
            "overflow_x": null,
            "overflow_y": null,
            "padding": null,
            "right": null,
            "top": null,
            "visibility": null,
            "width": null
          }
        },
        "8c6a7d9e08304ef99e877c336b8a32f3": {
          "model_module": "@jupyter-widgets/base",
          "model_module_version": "1.2.0",
          "model_name": "LayoutModel",
          "state": {
            "_model_module": "@jupyter-widgets/base",
            "_model_module_version": "1.2.0",
            "_model_name": "LayoutModel",
            "_view_count": null,
            "_view_module": "@jupyter-widgets/base",
            "_view_module_version": "1.2.0",
            "_view_name": "LayoutView",
            "align_content": null,
            "align_items": null,
            "align_self": null,
            "border": null,
            "bottom": null,
            "display": null,
            "flex": null,
            "flex_flow": null,
            "grid_area": null,
            "grid_auto_columns": null,
            "grid_auto_flow": null,
            "grid_auto_rows": null,
            "grid_column": null,
            "grid_gap": null,
            "grid_row": null,
            "grid_template_areas": null,
            "grid_template_columns": null,
            "grid_template_rows": null,
            "height": null,
            "justify_content": null,
            "justify_items": null,
            "left": null,
            "margin": null,
            "max_height": null,
            "max_width": null,
            "min_height": null,
            "min_width": null,
            "object_fit": null,
            "object_position": null,
            "order": null,
            "overflow": null,
            "overflow_x": null,
            "overflow_y": null,
            "padding": null,
            "right": null,
            "top": null,
            "visibility": null,
            "width": null
          }
        },
        "9280fc420d164988846bf1111cdd4f33": {
          "model_module": "@jupyter-widgets/base",
          "model_module_version": "1.2.0",
          "model_name": "LayoutModel",
          "state": {
            "_model_module": "@jupyter-widgets/base",
            "_model_module_version": "1.2.0",
            "_model_name": "LayoutModel",
            "_view_count": null,
            "_view_module": "@jupyter-widgets/base",
            "_view_module_version": "1.2.0",
            "_view_name": "LayoutView",
            "align_content": null,
            "align_items": null,
            "align_self": null,
            "border": null,
            "bottom": null,
            "display": null,
            "flex": null,
            "flex_flow": null,
            "grid_area": null,
            "grid_auto_columns": null,
            "grid_auto_flow": null,
            "grid_auto_rows": null,
            "grid_column": null,
            "grid_gap": null,
            "grid_row": null,
            "grid_template_areas": null,
            "grid_template_columns": null,
            "grid_template_rows": null,
            "height": null,
            "justify_content": null,
            "justify_items": null,
            "left": null,
            "margin": null,
            "max_height": null,
            "max_width": null,
            "min_height": null,
            "min_width": null,
            "object_fit": null,
            "object_position": null,
            "order": null,
            "overflow": null,
            "overflow_x": null,
            "overflow_y": null,
            "padding": null,
            "right": null,
            "top": null,
            "visibility": null,
            "width": null
          }
        },
        "929a23bb28dc4bafa140e055dd221e3e": {
          "model_module": "@jupyter-widgets/base",
          "model_module_version": "1.2.0",
          "model_name": "LayoutModel",
          "state": {
            "_model_module": "@jupyter-widgets/base",
            "_model_module_version": "1.2.0",
            "_model_name": "LayoutModel",
            "_view_count": null,
            "_view_module": "@jupyter-widgets/base",
            "_view_module_version": "1.2.0",
            "_view_name": "LayoutView",
            "align_content": null,
            "align_items": null,
            "align_self": null,
            "border": null,
            "bottom": null,
            "display": null,
            "flex": null,
            "flex_flow": null,
            "grid_area": null,
            "grid_auto_columns": null,
            "grid_auto_flow": null,
            "grid_auto_rows": null,
            "grid_column": null,
            "grid_gap": null,
            "grid_row": null,
            "grid_template_areas": null,
            "grid_template_columns": null,
            "grid_template_rows": null,
            "height": null,
            "justify_content": null,
            "justify_items": null,
            "left": null,
            "margin": null,
            "max_height": null,
            "max_width": null,
            "min_height": null,
            "min_width": null,
            "object_fit": null,
            "object_position": null,
            "order": null,
            "overflow": null,
            "overflow_x": null,
            "overflow_y": null,
            "padding": null,
            "right": null,
            "top": null,
            "visibility": null,
            "width": null
          }
        },
        "944c7e886d2e4a1992b0ee895f896f7f": {
          "model_module": "@jupyter-widgets/base",
          "model_module_version": "1.2.0",
          "model_name": "LayoutModel",
          "state": {
            "_model_module": "@jupyter-widgets/base",
            "_model_module_version": "1.2.0",
            "_model_name": "LayoutModel",
            "_view_count": null,
            "_view_module": "@jupyter-widgets/base",
            "_view_module_version": "1.2.0",
            "_view_name": "LayoutView",
            "align_content": null,
            "align_items": null,
            "align_self": null,
            "border": null,
            "bottom": null,
            "display": null,
            "flex": null,
            "flex_flow": null,
            "grid_area": null,
            "grid_auto_columns": null,
            "grid_auto_flow": null,
            "grid_auto_rows": null,
            "grid_column": null,
            "grid_gap": null,
            "grid_row": null,
            "grid_template_areas": null,
            "grid_template_columns": null,
            "grid_template_rows": null,
            "height": null,
            "justify_content": null,
            "justify_items": null,
            "left": null,
            "margin": null,
            "max_height": null,
            "max_width": null,
            "min_height": null,
            "min_width": null,
            "object_fit": null,
            "object_position": null,
            "order": null,
            "overflow": null,
            "overflow_x": null,
            "overflow_y": null,
            "padding": null,
            "right": null,
            "top": null,
            "visibility": null,
            "width": null
          }
        },
        "95e46641b99242ff921e992fc1215bb1": {
          "model_module": "@jupyter-widgets/controls",
          "model_module_version": "1.5.0",
          "model_name": "HBoxModel",
          "state": {
            "_dom_classes": [],
            "_model_module": "@jupyter-widgets/controls",
            "_model_module_version": "1.5.0",
            "_model_name": "HBoxModel",
            "_view_count": null,
            "_view_module": "@jupyter-widgets/controls",
            "_view_module_version": "1.5.0",
            "_view_name": "HBoxView",
            "box_style": "",
            "children": [
              "IPY_MODEL_e85ad0683fef42619591984046f9d053",
              "IPY_MODEL_f27277d94c814998b0d553a075d3d632",
              "IPY_MODEL_2db8b405dce844d6a064055aab69dfe4"
            ],
            "layout": "IPY_MODEL_17e727913096415f9e0fa4e8173d2d55"
          }
        },
        "95e8f43429944fd1ab81b1694fd3d4ce": {
          "model_module": "@jupyter-widgets/controls",
          "model_module_version": "1.5.0",
          "model_name": "HTMLModel",
          "state": {
            "_dom_classes": [],
            "_model_module": "@jupyter-widgets/controls",
            "_model_module_version": "1.5.0",
            "_model_name": "HTMLModel",
            "_view_count": null,
            "_view_module": "@jupyter-widgets/controls",
            "_view_module_version": "1.5.0",
            "_view_name": "HTMLView",
            "description": "",
            "description_tooltip": null,
            "layout": "IPY_MODEL_1b2938acb4fe441b8a87876e8d67b2e9",
            "placeholder": "​",
            "style": "IPY_MODEL_3e99ead820d44cee82d3ee2307f3f5e7",
            "value": "Resolving data files: 100%"
          }
        },
        "9750e65d7c2f403ca3727782a03b545d": {
          "model_module": "@jupyter-widgets/base",
          "model_module_version": "1.2.0",
          "model_name": "LayoutModel",
          "state": {
            "_model_module": "@jupyter-widgets/base",
            "_model_module_version": "1.2.0",
            "_model_name": "LayoutModel",
            "_view_count": null,
            "_view_module": "@jupyter-widgets/base",
            "_view_module_version": "1.2.0",
            "_view_name": "LayoutView",
            "align_content": null,
            "align_items": null,
            "align_self": null,
            "border": null,
            "bottom": null,
            "display": null,
            "flex": null,
            "flex_flow": null,
            "grid_area": null,
            "grid_auto_columns": null,
            "grid_auto_flow": null,
            "grid_auto_rows": null,
            "grid_column": null,
            "grid_gap": null,
            "grid_row": null,
            "grid_template_areas": null,
            "grid_template_columns": null,
            "grid_template_rows": null,
            "height": null,
            "justify_content": null,
            "justify_items": null,
            "left": null,
            "margin": null,
            "max_height": null,
            "max_width": null,
            "min_height": null,
            "min_width": null,
            "object_fit": null,
            "object_position": null,
            "order": null,
            "overflow": null,
            "overflow_x": null,
            "overflow_y": null,
            "padding": null,
            "right": null,
            "top": null,
            "visibility": null,
            "width": null
          }
        },
        "981c05bcfa714c969d8bf80926abd0d8": {
          "model_module": "@jupyter-widgets/controls",
          "model_module_version": "1.5.0",
          "model_name": "HTMLModel",
          "state": {
            "_dom_classes": [],
            "_model_module": "@jupyter-widgets/controls",
            "_model_module_version": "1.5.0",
            "_model_name": "HTMLModel",
            "_view_count": null,
            "_view_module": "@jupyter-widgets/controls",
            "_view_module_version": "1.5.0",
            "_view_name": "HTMLView",
            "description": "",
            "description_tooltip": null,
            "layout": "IPY_MODEL_643a8660e0de454892c6d8cb77914bcb",
            "placeholder": "​",
            "style": "IPY_MODEL_c15b716ff802470d9e766bd839557d63",
            "value": " 9999/9999 [00:02&lt;00:00, 4560.72 examples/s]"
          }
        },
        "99f1e20e12e64de8b4b713c980ec5d62": {
          "model_module": "@jupyter-widgets/base",
          "model_module_version": "1.2.0",
          "model_name": "LayoutModel",
          "state": {
            "_model_module": "@jupyter-widgets/base",
            "_model_module_version": "1.2.0",
            "_model_name": "LayoutModel",
            "_view_count": null,
            "_view_module": "@jupyter-widgets/base",
            "_view_module_version": "1.2.0",
            "_view_name": "LayoutView",
            "align_content": null,
            "align_items": null,
            "align_self": null,
            "border": null,
            "bottom": null,
            "display": null,
            "flex": null,
            "flex_flow": null,
            "grid_area": null,
            "grid_auto_columns": null,
            "grid_auto_flow": null,
            "grid_auto_rows": null,
            "grid_column": null,
            "grid_gap": null,
            "grid_row": null,
            "grid_template_areas": null,
            "grid_template_columns": null,
            "grid_template_rows": null,
            "height": null,
            "justify_content": null,
            "justify_items": null,
            "left": null,
            "margin": null,
            "max_height": null,
            "max_width": null,
            "min_height": null,
            "min_width": null,
            "object_fit": null,
            "object_position": null,
            "order": null,
            "overflow": null,
            "overflow_x": null,
            "overflow_y": null,
            "padding": null,
            "right": null,
            "top": null,
            "visibility": null,
            "width": null
          }
        },
        "9c22c74e5aa745cc80bf48719fb25c76": {
          "model_module": "@jupyter-widgets/controls",
          "model_module_version": "1.5.0",
          "model_name": "HBoxModel",
          "state": {
            "_dom_classes": [],
            "_model_module": "@jupyter-widgets/controls",
            "_model_module_version": "1.5.0",
            "_model_name": "HBoxModel",
            "_view_count": null,
            "_view_module": "@jupyter-widgets/controls",
            "_view_module_version": "1.5.0",
            "_view_name": "HBoxView",
            "box_style": "",
            "children": [
              "IPY_MODEL_f2bbe06025694ad594f46d408ea306f6",
              "IPY_MODEL_7f224ca0fafc487aae2995ca43cdbde7",
              "IPY_MODEL_a3a2a2820f5f4e19b2d471cb3d3fdc76"
            ],
            "layout": "IPY_MODEL_367d04b9a1444220bd84cc226c4c8e5a"
          }
        },
        "9e9b960daaf04e588ed01bb52b191230": {
          "model_module": "@jupyter-widgets/controls",
          "model_module_version": "1.5.0",
          "model_name": "HBoxModel",
          "state": {
            "_dom_classes": [],
            "_model_module": "@jupyter-widgets/controls",
            "_model_module_version": "1.5.0",
            "_model_name": "HBoxModel",
            "_view_count": null,
            "_view_module": "@jupyter-widgets/controls",
            "_view_module_version": "1.5.0",
            "_view_name": "HBoxView",
            "box_style": "",
            "children": [
              "IPY_MODEL_ba0ea34a71784576a80afdddb98faea6",
              "IPY_MODEL_7cd00c0336714f628b8e2a1a40ddbae4",
              "IPY_MODEL_981c05bcfa714c969d8bf80926abd0d8"
            ],
            "layout": "IPY_MODEL_8092d16d669b40b697995721aae587f6"
          }
        },
        "9f21d2ded83d45978501552936061227": {
          "model_module": "@jupyter-widgets/base",
          "model_module_version": "1.2.0",
          "model_name": "LayoutModel",
          "state": {
            "_model_module": "@jupyter-widgets/base",
            "_model_module_version": "1.2.0",
            "_model_name": "LayoutModel",
            "_view_count": null,
            "_view_module": "@jupyter-widgets/base",
            "_view_module_version": "1.2.0",
            "_view_name": "LayoutView",
            "align_content": null,
            "align_items": null,
            "align_self": null,
            "border": null,
            "bottom": null,
            "display": null,
            "flex": null,
            "flex_flow": null,
            "grid_area": null,
            "grid_auto_columns": null,
            "grid_auto_flow": null,
            "grid_auto_rows": null,
            "grid_column": null,
            "grid_gap": null,
            "grid_row": null,
            "grid_template_areas": null,
            "grid_template_columns": null,
            "grid_template_rows": null,
            "height": null,
            "justify_content": null,
            "justify_items": null,
            "left": null,
            "margin": null,
            "max_height": null,
            "max_width": null,
            "min_height": null,
            "min_width": null,
            "object_fit": null,
            "object_position": null,
            "order": null,
            "overflow": null,
            "overflow_x": null,
            "overflow_y": null,
            "padding": null,
            "right": null,
            "top": null,
            "visibility": null,
            "width": null
          }
        },
        "a381e3d78d7e4f3197a6af33f78d6c18": {
          "model_module": "@jupyter-widgets/controls",
          "model_module_version": "1.5.0",
          "model_name": "ProgressStyleModel",
          "state": {
            "_model_module": "@jupyter-widgets/controls",
            "_model_module_version": "1.5.0",
            "_model_name": "ProgressStyleModel",
            "_view_count": null,
            "_view_module": "@jupyter-widgets/base",
            "_view_module_version": "1.2.0",
            "_view_name": "StyleView",
            "bar_color": null,
            "description_width": ""
          }
        },
        "a3a2a2820f5f4e19b2d471cb3d3fdc76": {
          "model_module": "@jupyter-widgets/controls",
          "model_module_version": "1.5.0",
          "model_name": "HTMLModel",
          "state": {
            "_dom_classes": [],
            "_model_module": "@jupyter-widgets/controls",
            "_model_module_version": "1.5.0",
            "_model_name": "HTMLModel",
            "_view_count": null,
            "_view_module": "@jupyter-widgets/controls",
            "_view_module_version": "1.5.0",
            "_view_name": "HTMLView",
            "description": "",
            "description_tooltip": null,
            "layout": "IPY_MODEL_68398c1006cd442486cae4c16af9e0ec",
            "placeholder": "​",
            "style": "IPY_MODEL_ca9bf9d0f9f649b8babcf75b0976caab",
            "value": " 1209/0 [00:00&lt;00:00, 3588.07 examples/s]"
          }
        },
        "a58c8c4ad29e4cb9a99d30c88919039b": {
          "model_module": "@jupyter-widgets/controls",
          "model_module_version": "1.5.0",
          "model_name": "DescriptionStyleModel",
          "state": {
            "_model_module": "@jupyter-widgets/controls",
            "_model_module_version": "1.5.0",
            "_model_name": "DescriptionStyleModel",
            "_view_count": null,
            "_view_module": "@jupyter-widgets/base",
            "_view_module_version": "1.2.0",
            "_view_name": "StyleView",
            "description_width": ""
          }
        },
        "a62012fe285e4ec4a572d554069650e5": {
          "model_module": "@jupyter-widgets/base",
          "model_module_version": "1.2.0",
          "model_name": "LayoutModel",
          "state": {
            "_model_module": "@jupyter-widgets/base",
            "_model_module_version": "1.2.0",
            "_model_name": "LayoutModel",
            "_view_count": null,
            "_view_module": "@jupyter-widgets/base",
            "_view_module_version": "1.2.0",
            "_view_name": "LayoutView",
            "align_content": null,
            "align_items": null,
            "align_self": null,
            "border": null,
            "bottom": null,
            "display": null,
            "flex": null,
            "flex_flow": null,
            "grid_area": null,
            "grid_auto_columns": null,
            "grid_auto_flow": null,
            "grid_auto_rows": null,
            "grid_column": null,
            "grid_gap": null,
            "grid_row": null,
            "grid_template_areas": null,
            "grid_template_columns": null,
            "grid_template_rows": null,
            "height": null,
            "justify_content": null,
            "justify_items": null,
            "left": null,
            "margin": null,
            "max_height": null,
            "max_width": null,
            "min_height": null,
            "min_width": null,
            "object_fit": null,
            "object_position": null,
            "order": null,
            "overflow": null,
            "overflow_x": null,
            "overflow_y": null,
            "padding": null,
            "right": null,
            "top": null,
            "visibility": null,
            "width": null
          }
        },
        "a72a248821534f1fbe778ad8c2fa02f4": {
          "model_module": "@jupyter-widgets/controls",
          "model_module_version": "1.5.0",
          "model_name": "FloatProgressModel",
          "state": {
            "_dom_classes": [],
            "_model_module": "@jupyter-widgets/controls",
            "_model_module_version": "1.5.0",
            "_model_name": "FloatProgressModel",
            "_view_count": null,
            "_view_module": "@jupyter-widgets/controls",
            "_view_module_version": "1.5.0",
            "_view_name": "ProgressView",
            "bar_style": "success",
            "description": "",
            "description_tooltip": null,
            "layout": "IPY_MODEL_7fd610f23e08478a8908d2b3b0c8ce1c",
            "max": 1209,
            "min": 0,
            "orientation": "horizontal",
            "style": "IPY_MODEL_a381e3d78d7e4f3197a6af33f78d6c18",
            "value": 1209
          }
        },
        "a7ab93f512934a9f9769131a7c97d503": {
          "model_module": "@jupyter-widgets/controls",
          "model_module_version": "1.5.0",
          "model_name": "DescriptionStyleModel",
          "state": {
            "_model_module": "@jupyter-widgets/controls",
            "_model_module_version": "1.5.0",
            "_model_name": "DescriptionStyleModel",
            "_view_count": null,
            "_view_module": "@jupyter-widgets/base",
            "_view_module_version": "1.2.0",
            "_view_name": "StyleView",
            "description_width": ""
          }
        },
        "a9c87df753cd4b6188f2a89ff7131a6b": {
          "model_module": "@jupyter-widgets/controls",
          "model_module_version": "1.5.0",
          "model_name": "HTMLModel",
          "state": {
            "_dom_classes": [],
            "_model_module": "@jupyter-widgets/controls",
            "_model_module_version": "1.5.0",
            "_model_name": "HTMLModel",
            "_view_count": null,
            "_view_module": "@jupyter-widgets/controls",
            "_view_module_version": "1.5.0",
            "_view_name": "HTMLView",
            "description": "",
            "description_tooltip": null,
            "layout": "IPY_MODEL_1acc4578527c4095ba13397d19466a24",
            "placeholder": "​",
            "style": "IPY_MODEL_7aeda03881ef485f9860d20f3b9e5029",
            "value": " 0/0 [00:00&lt;?, ?it/s]"
          }
        },
        "abb478b92bb34bdb85519b5b57ef00c4": {
          "model_module": "@jupyter-widgets/controls",
          "model_module_version": "1.5.0",
          "model_name": "DescriptionStyleModel",
          "state": {
            "_model_module": "@jupyter-widgets/controls",
            "_model_module_version": "1.5.0",
            "_model_name": "DescriptionStyleModel",
            "_view_count": null,
            "_view_module": "@jupyter-widgets/base",
            "_view_module_version": "1.2.0",
            "_view_name": "StyleView",
            "description_width": ""
          }
        },
        "ac80b43146bb4b928dc013ce9687c08f": {
          "model_module": "@jupyter-widgets/controls",
          "model_module_version": "1.5.0",
          "model_name": "HTMLModel",
          "state": {
            "_dom_classes": [],
            "_model_module": "@jupyter-widgets/controls",
            "_model_module_version": "1.5.0",
            "_model_name": "HTMLModel",
            "_view_count": null,
            "_view_module": "@jupyter-widgets/controls",
            "_view_module_version": "1.5.0",
            "_view_name": "HTMLView",
            "description": "",
            "description_tooltip": null,
            "layout": "IPY_MODEL_adda792aa03f4495b3cb16fe708fe3ef",
            "placeholder": "​",
            "style": "IPY_MODEL_669304128d024785a4a0df89a297b9e3",
            "value": "Resolving data files: 100%"
          }
        },
        "adda792aa03f4495b3cb16fe708fe3ef": {
          "model_module": "@jupyter-widgets/base",
          "model_module_version": "1.2.0",
          "model_name": "LayoutModel",
          "state": {
            "_model_module": "@jupyter-widgets/base",
            "_model_module_version": "1.2.0",
            "_model_name": "LayoutModel",
            "_view_count": null,
            "_view_module": "@jupyter-widgets/base",
            "_view_module_version": "1.2.0",
            "_view_name": "LayoutView",
            "align_content": null,
            "align_items": null,
            "align_self": null,
            "border": null,
            "bottom": null,
            "display": null,
            "flex": null,
            "flex_flow": null,
            "grid_area": null,
            "grid_auto_columns": null,
            "grid_auto_flow": null,
            "grid_auto_rows": null,
            "grid_column": null,
            "grid_gap": null,
            "grid_row": null,
            "grid_template_areas": null,
            "grid_template_columns": null,
            "grid_template_rows": null,
            "height": null,
            "justify_content": null,
            "justify_items": null,
            "left": null,
            "margin": null,
            "max_height": null,
            "max_width": null,
            "min_height": null,
            "min_width": null,
            "object_fit": null,
            "object_position": null,
            "order": null,
            "overflow": null,
            "overflow_x": null,
            "overflow_y": null,
            "padding": null,
            "right": null,
            "top": null,
            "visibility": null,
            "width": null
          }
        },
        "b57262d84c2341d09f5b8434461b57ac": {
          "model_module": "@jupyter-widgets/controls",
          "model_module_version": "1.5.0",
          "model_name": "HTMLModel",
          "state": {
            "_dom_classes": [],
            "_model_module": "@jupyter-widgets/controls",
            "_model_module_version": "1.5.0",
            "_model_name": "HTMLModel",
            "_view_count": null,
            "_view_module": "@jupyter-widgets/controls",
            "_view_module_version": "1.5.0",
            "_view_name": "HTMLView",
            "description": "",
            "description_tooltip": null,
            "layout": "IPY_MODEL_70910b4710bb460d99ea7b0530747125",
            "placeholder": "​",
            "style": "IPY_MODEL_d32a366ac31e489dbe4fa10d0c8d9bf9",
            "value": "Downloading data files: "
          }
        },
        "b59b190ba38f40a9bf3494b76c5279ad": {
          "model_module": "@jupyter-widgets/base",
          "model_module_version": "1.2.0",
          "model_name": "LayoutModel",
          "state": {
            "_model_module": "@jupyter-widgets/base",
            "_model_module_version": "1.2.0",
            "_model_name": "LayoutModel",
            "_view_count": null,
            "_view_module": "@jupyter-widgets/base",
            "_view_module_version": "1.2.0",
            "_view_name": "LayoutView",
            "align_content": null,
            "align_items": null,
            "align_self": null,
            "border": null,
            "bottom": null,
            "display": null,
            "flex": null,
            "flex_flow": null,
            "grid_area": null,
            "grid_auto_columns": null,
            "grid_auto_flow": null,
            "grid_auto_rows": null,
            "grid_column": null,
            "grid_gap": null,
            "grid_row": null,
            "grid_template_areas": null,
            "grid_template_columns": null,
            "grid_template_rows": null,
            "height": null,
            "justify_content": null,
            "justify_items": null,
            "left": null,
            "margin": null,
            "max_height": null,
            "max_width": null,
            "min_height": null,
            "min_width": null,
            "object_fit": null,
            "object_position": null,
            "order": null,
            "overflow": null,
            "overflow_x": null,
            "overflow_y": null,
            "padding": null,
            "right": null,
            "top": null,
            "visibility": null,
            "width": null
          }
        },
        "b6633f636b244f77a247abb3ea4c0d82": {
          "model_module": "@jupyter-widgets/base",
          "model_module_version": "1.2.0",
          "model_name": "LayoutModel",
          "state": {
            "_model_module": "@jupyter-widgets/base",
            "_model_module_version": "1.2.0",
            "_model_name": "LayoutModel",
            "_view_count": null,
            "_view_module": "@jupyter-widgets/base",
            "_view_module_version": "1.2.0",
            "_view_name": "LayoutView",
            "align_content": null,
            "align_items": null,
            "align_self": null,
            "border": null,
            "bottom": null,
            "display": null,
            "flex": null,
            "flex_flow": null,
            "grid_area": null,
            "grid_auto_columns": null,
            "grid_auto_flow": null,
            "grid_auto_rows": null,
            "grid_column": null,
            "grid_gap": null,
            "grid_row": null,
            "grid_template_areas": null,
            "grid_template_columns": null,
            "grid_template_rows": null,
            "height": null,
            "justify_content": null,
            "justify_items": null,
            "left": null,
            "margin": null,
            "max_height": null,
            "max_width": null,
            "min_height": null,
            "min_width": null,
            "object_fit": null,
            "object_position": null,
            "order": null,
            "overflow": null,
            "overflow_x": null,
            "overflow_y": null,
            "padding": null,
            "right": null,
            "top": null,
            "visibility": null,
            "width": null
          }
        },
        "b6730b25010e4efa861014d5edb45f64": {
          "model_module": "@jupyter-widgets/base",
          "model_module_version": "1.2.0",
          "model_name": "LayoutModel",
          "state": {
            "_model_module": "@jupyter-widgets/base",
            "_model_module_version": "1.2.0",
            "_model_name": "LayoutModel",
            "_view_count": null,
            "_view_module": "@jupyter-widgets/base",
            "_view_module_version": "1.2.0",
            "_view_name": "LayoutView",
            "align_content": null,
            "align_items": null,
            "align_self": null,
            "border": null,
            "bottom": null,
            "display": null,
            "flex": null,
            "flex_flow": null,
            "grid_area": null,
            "grid_auto_columns": null,
            "grid_auto_flow": null,
            "grid_auto_rows": null,
            "grid_column": null,
            "grid_gap": null,
            "grid_row": null,
            "grid_template_areas": null,
            "grid_template_columns": null,
            "grid_template_rows": null,
            "height": null,
            "justify_content": null,
            "justify_items": null,
            "left": null,
            "margin": null,
            "max_height": null,
            "max_width": null,
            "min_height": null,
            "min_width": null,
            "object_fit": null,
            "object_position": null,
            "order": null,
            "overflow": null,
            "overflow_x": null,
            "overflow_y": null,
            "padding": null,
            "right": null,
            "top": null,
            "visibility": null,
            "width": "20px"
          }
        },
        "b6b7837e64ec436c881ce739c3c2db5a": {
          "model_module": "@jupyter-widgets/base",
          "model_module_version": "1.2.0",
          "model_name": "LayoutModel",
          "state": {
            "_model_module": "@jupyter-widgets/base",
            "_model_module_version": "1.2.0",
            "_model_name": "LayoutModel",
            "_view_count": null,
            "_view_module": "@jupyter-widgets/base",
            "_view_module_version": "1.2.0",
            "_view_name": "LayoutView",
            "align_content": null,
            "align_items": null,
            "align_self": null,
            "border": null,
            "bottom": null,
            "display": null,
            "flex": null,
            "flex_flow": null,
            "grid_area": null,
            "grid_auto_columns": null,
            "grid_auto_flow": null,
            "grid_auto_rows": null,
            "grid_column": null,
            "grid_gap": null,
            "grid_row": null,
            "grid_template_areas": null,
            "grid_template_columns": null,
            "grid_template_rows": null,
            "height": null,
            "justify_content": null,
            "justify_items": null,
            "left": null,
            "margin": null,
            "max_height": null,
            "max_width": null,
            "min_height": null,
            "min_width": null,
            "object_fit": null,
            "object_position": null,
            "order": null,
            "overflow": null,
            "overflow_x": null,
            "overflow_y": null,
            "padding": null,
            "right": null,
            "top": null,
            "visibility": null,
            "width": null
          }
        },
        "ba0ea34a71784576a80afdddb98faea6": {
          "model_module": "@jupyter-widgets/controls",
          "model_module_version": "1.5.0",
          "model_name": "HTMLModel",
          "state": {
            "_dom_classes": [],
            "_model_module": "@jupyter-widgets/controls",
            "_model_module_version": "1.5.0",
            "_model_name": "HTMLModel",
            "_view_count": null,
            "_view_module": "@jupyter-widgets/controls",
            "_view_module_version": "1.5.0",
            "_view_name": "HTMLView",
            "description": "",
            "description_tooltip": null,
            "layout": "IPY_MODEL_848947f884dc4fe0b4e4901e3200f6f0",
            "placeholder": "​",
            "style": "IPY_MODEL_eb112174c77842198dc3ec23b4cb81af",
            "value": "Map: 100%"
          }
        },
        "ba14cfa319ce4a3e88ac54980db53f16": {
          "model_module": "@jupyter-widgets/controls",
          "model_module_version": "1.5.0",
          "model_name": "HBoxModel",
          "state": {
            "_dom_classes": [],
            "_model_module": "@jupyter-widgets/controls",
            "_model_module_version": "1.5.0",
            "_model_name": "HBoxModel",
            "_view_count": null,
            "_view_module": "@jupyter-widgets/controls",
            "_view_module_version": "1.5.0",
            "_view_name": "HBoxView",
            "box_style": "",
            "children": [
              "IPY_MODEL_12f48e80cfc448e88c7427cb4ec39cc1",
              "IPY_MODEL_5a5d394bc3564b049545fc55136a19ef",
              "IPY_MODEL_112afa4e5dba437ba22a4c88bcceb6cd"
            ],
            "layout": "IPY_MODEL_b6b7837e64ec436c881ce739c3c2db5a"
          }
        },
        "ba60373f925e42a29b1f67364c917dc8": {
          "model_module": "@jupyter-widgets/base",
          "model_module_version": "1.2.0",
          "model_name": "LayoutModel",
          "state": {
            "_model_module": "@jupyter-widgets/base",
            "_model_module_version": "1.2.0",
            "_model_name": "LayoutModel",
            "_view_count": null,
            "_view_module": "@jupyter-widgets/base",
            "_view_module_version": "1.2.0",
            "_view_name": "LayoutView",
            "align_content": null,
            "align_items": null,
            "align_self": null,
            "border": null,
            "bottom": null,
            "display": null,
            "flex": null,
            "flex_flow": null,
            "grid_area": null,
            "grid_auto_columns": null,
            "grid_auto_flow": null,
            "grid_auto_rows": null,
            "grid_column": null,
            "grid_gap": null,
            "grid_row": null,
            "grid_template_areas": null,
            "grid_template_columns": null,
            "grid_template_rows": null,
            "height": null,
            "justify_content": null,
            "justify_items": null,
            "left": null,
            "margin": null,
            "max_height": null,
            "max_width": null,
            "min_height": null,
            "min_width": null,
            "object_fit": null,
            "object_position": null,
            "order": null,
            "overflow": null,
            "overflow_x": null,
            "overflow_y": null,
            "padding": null,
            "right": null,
            "top": null,
            "visibility": null,
            "width": null
          }
        },
        "bc00fa9c5da84bbc82262ed640ea90e6": {
          "model_module": "@jupyter-widgets/base",
          "model_module_version": "1.2.0",
          "model_name": "LayoutModel",
          "state": {
            "_model_module": "@jupyter-widgets/base",
            "_model_module_version": "1.2.0",
            "_model_name": "LayoutModel",
            "_view_count": null,
            "_view_module": "@jupyter-widgets/base",
            "_view_module_version": "1.2.0",
            "_view_name": "LayoutView",
            "align_content": null,
            "align_items": null,
            "align_self": null,
            "border": null,
            "bottom": null,
            "display": null,
            "flex": null,
            "flex_flow": null,
            "grid_area": null,
            "grid_auto_columns": null,
            "grid_auto_flow": null,
            "grid_auto_rows": null,
            "grid_column": null,
            "grid_gap": null,
            "grid_row": null,
            "grid_template_areas": null,
            "grid_template_columns": null,
            "grid_template_rows": null,
            "height": null,
            "justify_content": null,
            "justify_items": null,
            "left": null,
            "margin": null,
            "max_height": null,
            "max_width": null,
            "min_height": null,
            "min_width": null,
            "object_fit": null,
            "object_position": null,
            "order": null,
            "overflow": null,
            "overflow_x": null,
            "overflow_y": null,
            "padding": null,
            "right": null,
            "top": null,
            "visibility": null,
            "width": "20px"
          }
        },
        "bd3991e59b6748c28558594228f5c02d": {
          "model_module": "@jupyter-widgets/controls",
          "model_module_version": "1.5.0",
          "model_name": "HTMLModel",
          "state": {
            "_dom_classes": [],
            "_model_module": "@jupyter-widgets/controls",
            "_model_module_version": "1.5.0",
            "_model_name": "HTMLModel",
            "_view_count": null,
            "_view_module": "@jupyter-widgets/controls",
            "_view_module_version": "1.5.0",
            "_view_name": "HTMLView",
            "description": "",
            "description_tooltip": null,
            "layout": "IPY_MODEL_740fece56def407a8f94a66fd7e072b9",
            "placeholder": "​",
            "style": "IPY_MODEL_7843184707dd47bca99a85292dce2818",
            "value": "Map: 100%"
          }
        },
        "bd9752dccb4a46d8877be82e5daf7986": {
          "model_module": "@jupyter-widgets/controls",
          "model_module_version": "1.5.0",
          "model_name": "HBoxModel",
          "state": {
            "_dom_classes": [],
            "_model_module": "@jupyter-widgets/controls",
            "_model_module_version": "1.5.0",
            "_model_name": "HBoxModel",
            "_view_count": null,
            "_view_module": "@jupyter-widgets/controls",
            "_view_module_version": "1.5.0",
            "_view_name": "HBoxView",
            "box_style": "",
            "children": [
              "IPY_MODEL_4ede36ac50c941ff961b712a6e8f61ba",
              "IPY_MODEL_c7bd348ec8954acabfc339f89516de47",
              "IPY_MODEL_be86f6cfc0c14cc5b0c803ae4afa67cc"
            ],
            "layout": "IPY_MODEL_2c82c9602d7e4456830f3c4b6d68af1b"
          }
        },
        "be86f6cfc0c14cc5b0c803ae4afa67cc": {
          "model_module": "@jupyter-widgets/controls",
          "model_module_version": "1.5.0",
          "model_name": "HTMLModel",
          "state": {
            "_dom_classes": [],
            "_model_module": "@jupyter-widgets/controls",
            "_model_module_version": "1.5.0",
            "_model_name": "HTMLModel",
            "_view_count": null,
            "_view_module": "@jupyter-widgets/controls",
            "_view_module_version": "1.5.0",
            "_view_name": "HTMLView",
            "description": "",
            "description_tooltip": null,
            "layout": "IPY_MODEL_e8250bfd6328469e818b8fc66441db01",
            "placeholder": "​",
            "style": "IPY_MODEL_0a07a47bbb0b4726aedd1c2e104913a6",
            "value": " 9999/0 [00:01&lt;00:00, 6833.53 examples/s]"
          }
        },
        "c121423eb88f47ac925ccadd7f3d0bfc": {
          "model_module": "@jupyter-widgets/controls",
          "model_module_version": "1.5.0",
          "model_name": "ProgressStyleModel",
          "state": {
            "_model_module": "@jupyter-widgets/controls",
            "_model_module_version": "1.5.0",
            "_model_name": "ProgressStyleModel",
            "_view_count": null,
            "_view_module": "@jupyter-widgets/base",
            "_view_module_version": "1.2.0",
            "_view_name": "StyleView",
            "bar_color": null,
            "description_width": ""
          }
        },
        "c15b716ff802470d9e766bd839557d63": {
          "model_module": "@jupyter-widgets/controls",
          "model_module_version": "1.5.0",
          "model_name": "DescriptionStyleModel",
          "state": {
            "_model_module": "@jupyter-widgets/controls",
            "_model_module_version": "1.5.0",
            "_model_name": "DescriptionStyleModel",
            "_view_count": null,
            "_view_module": "@jupyter-widgets/base",
            "_view_module_version": "1.2.0",
            "_view_name": "StyleView",
            "description_width": ""
          }
        },
        "c47c84945dda43829082b5b7dbfb388a": {
          "model_module": "@jupyter-widgets/base",
          "model_module_version": "1.2.0",
          "model_name": "LayoutModel",
          "state": {
            "_model_module": "@jupyter-widgets/base",
            "_model_module_version": "1.2.0",
            "_model_name": "LayoutModel",
            "_view_count": null,
            "_view_module": "@jupyter-widgets/base",
            "_view_module_version": "1.2.0",
            "_view_name": "LayoutView",
            "align_content": null,
            "align_items": null,
            "align_self": null,
            "border": null,
            "bottom": null,
            "display": null,
            "flex": null,
            "flex_flow": null,
            "grid_area": null,
            "grid_auto_columns": null,
            "grid_auto_flow": null,
            "grid_auto_rows": null,
            "grid_column": null,
            "grid_gap": null,
            "grid_row": null,
            "grid_template_areas": null,
            "grid_template_columns": null,
            "grid_template_rows": null,
            "height": null,
            "justify_content": null,
            "justify_items": null,
            "left": null,
            "margin": null,
            "max_height": null,
            "max_width": null,
            "min_height": null,
            "min_width": null,
            "object_fit": null,
            "object_position": null,
            "order": null,
            "overflow": null,
            "overflow_x": null,
            "overflow_y": null,
            "padding": null,
            "right": null,
            "top": null,
            "visibility": null,
            "width": null
          }
        },
        "c47fbaaf0a2b4b4aabe8eaf4e57d6429": {
          "model_module": "@jupyter-widgets/controls",
          "model_module_version": "1.5.0",
          "model_name": "DescriptionStyleModel",
          "state": {
            "_model_module": "@jupyter-widgets/controls",
            "_model_module_version": "1.5.0",
            "_model_name": "DescriptionStyleModel",
            "_view_count": null,
            "_view_module": "@jupyter-widgets/base",
            "_view_module_version": "1.2.0",
            "_view_name": "StyleView",
            "description_width": ""
          }
        },
        "c5508bb6228e49baac33ca4441e876b5": {
          "model_module": "@jupyter-widgets/base",
          "model_module_version": "1.2.0",
          "model_name": "LayoutModel",
          "state": {
            "_model_module": "@jupyter-widgets/base",
            "_model_module_version": "1.2.0",
            "_model_name": "LayoutModel",
            "_view_count": null,
            "_view_module": "@jupyter-widgets/base",
            "_view_module_version": "1.2.0",
            "_view_name": "LayoutView",
            "align_content": null,
            "align_items": null,
            "align_self": null,
            "border": null,
            "bottom": null,
            "display": null,
            "flex": null,
            "flex_flow": null,
            "grid_area": null,
            "grid_auto_columns": null,
            "grid_auto_flow": null,
            "grid_auto_rows": null,
            "grid_column": null,
            "grid_gap": null,
            "grid_row": null,
            "grid_template_areas": null,
            "grid_template_columns": null,
            "grid_template_rows": null,
            "height": null,
            "justify_content": null,
            "justify_items": null,
            "left": null,
            "margin": null,
            "max_height": null,
            "max_width": null,
            "min_height": null,
            "min_width": null,
            "object_fit": null,
            "object_position": null,
            "order": null,
            "overflow": null,
            "overflow_x": null,
            "overflow_y": null,
            "padding": null,
            "right": null,
            "top": null,
            "visibility": null,
            "width": null
          }
        },
        "c7bd348ec8954acabfc339f89516de47": {
          "model_module": "@jupyter-widgets/controls",
          "model_module_version": "1.5.0",
          "model_name": "FloatProgressModel",
          "state": {
            "_dom_classes": [],
            "_model_module": "@jupyter-widgets/controls",
            "_model_module_version": "1.5.0",
            "_model_name": "FloatProgressModel",
            "_view_count": null,
            "_view_module": "@jupyter-widgets/controls",
            "_view_module_version": "1.5.0",
            "_view_name": "ProgressView",
            "bar_style": "success",
            "description": "",
            "description_tooltip": null,
            "layout": "IPY_MODEL_1160a2f0ec664d99bc1cf3db5a79432e",
            "max": 1,
            "min": 0,
            "orientation": "horizontal",
            "style": "IPY_MODEL_829292d3823c49599ba6331775045dbc",
            "value": 1
          }
        },
        "c7d26e7a740647f3af97f8b53779a46b": {
          "model_module": "@jupyter-widgets/controls",
          "model_module_version": "1.5.0",
          "model_name": "HBoxModel",
          "state": {
            "_dom_classes": [],
            "_model_module": "@jupyter-widgets/controls",
            "_model_module_version": "1.5.0",
            "_model_name": "HBoxModel",
            "_view_count": null,
            "_view_module": "@jupyter-widgets/controls",
            "_view_module_version": "1.5.0",
            "_view_name": "HBoxView",
            "box_style": "",
            "children": [
              "IPY_MODEL_95e8f43429944fd1ab81b1694fd3d4ce",
              "IPY_MODEL_a72a248821534f1fbe778ad8c2fa02f4",
              "IPY_MODEL_14c7fc72558840d48bca0d4dcbd2d817"
            ],
            "layout": "IPY_MODEL_944c7e886d2e4a1992b0ee895f896f7f"
          }
        },
        "ca9bf9d0f9f649b8babcf75b0976caab": {
          "model_module": "@jupyter-widgets/controls",
          "model_module_version": "1.5.0",
          "model_name": "DescriptionStyleModel",
          "state": {
            "_model_module": "@jupyter-widgets/controls",
            "_model_module_version": "1.5.0",
            "_model_name": "DescriptionStyleModel",
            "_view_count": null,
            "_view_module": "@jupyter-widgets/base",
            "_view_module_version": "1.2.0",
            "_view_name": "StyleView",
            "description_width": ""
          }
        },
        "ce0fed99fe354cb1a692d899043dcc0a": {
          "model_module": "@jupyter-widgets/controls",
          "model_module_version": "1.5.0",
          "model_name": "FloatProgressModel",
          "state": {
            "_dom_classes": [],
            "_model_module": "@jupyter-widgets/controls",
            "_model_module_version": "1.5.0",
            "_model_name": "FloatProgressModel",
            "_view_count": null,
            "_view_module": "@jupyter-widgets/controls",
            "_view_module_version": "1.5.0",
            "_view_name": "ProgressView",
            "bar_style": "success",
            "description": "",
            "description_tooltip": null,
            "layout": "IPY_MODEL_c47c84945dda43829082b5b7dbfb388a",
            "max": 1210,
            "min": 0,
            "orientation": "horizontal",
            "style": "IPY_MODEL_815bc852e11c4a20b9ba8f43264458af",
            "value": 1210
          }
        },
        "d038c851f2cb4b6b959c20d48a12d1e5": {
          "model_module": "@jupyter-widgets/controls",
          "model_module_version": "1.5.0",
          "model_name": "HTMLModel",
          "state": {
            "_dom_classes": [],
            "_model_module": "@jupyter-widgets/controls",
            "_model_module_version": "1.5.0",
            "_model_name": "HTMLModel",
            "_view_count": null,
            "_view_module": "@jupyter-widgets/controls",
            "_view_module_version": "1.5.0",
            "_view_name": "HTMLView",
            "description": "",
            "description_tooltip": null,
            "layout": "IPY_MODEL_9f21d2ded83d45978501552936061227",
            "placeholder": "​",
            "style": "IPY_MODEL_ef4dd6915b8e473fb0fd366b8867c477",
            "value": "Map: 100%"
          }
        },
        "d0f072585c7443c3b6e04b1f3b63cd39": {
          "model_module": "@jupyter-widgets/base",
          "model_module_version": "1.2.0",
          "model_name": "LayoutModel",
          "state": {
            "_model_module": "@jupyter-widgets/base",
            "_model_module_version": "1.2.0",
            "_model_name": "LayoutModel",
            "_view_count": null,
            "_view_module": "@jupyter-widgets/base",
            "_view_module_version": "1.2.0",
            "_view_name": "LayoutView",
            "align_content": null,
            "align_items": null,
            "align_self": null,
            "border": null,
            "bottom": null,
            "display": null,
            "flex": null,
            "flex_flow": null,
            "grid_area": null,
            "grid_auto_columns": null,
            "grid_auto_flow": null,
            "grid_auto_rows": null,
            "grid_column": null,
            "grid_gap": null,
            "grid_row": null,
            "grid_template_areas": null,
            "grid_template_columns": null,
            "grid_template_rows": null,
            "height": null,
            "justify_content": null,
            "justify_items": null,
            "left": null,
            "margin": null,
            "max_height": null,
            "max_width": null,
            "min_height": null,
            "min_width": null,
            "object_fit": null,
            "object_position": null,
            "order": null,
            "overflow": null,
            "overflow_x": null,
            "overflow_y": null,
            "padding": null,
            "right": null,
            "top": null,
            "visibility": null,
            "width": null
          }
        },
        "d0fe61e04f664491a9ee7fa6d10cd586": {
          "model_module": "@jupyter-widgets/controls",
          "model_module_version": "1.5.0",
          "model_name": "HBoxModel",
          "state": {
            "_dom_classes": [],
            "_model_module": "@jupyter-widgets/controls",
            "_model_module_version": "1.5.0",
            "_model_name": "HBoxModel",
            "_view_count": null,
            "_view_module": "@jupyter-widgets/controls",
            "_view_module_version": "1.5.0",
            "_view_name": "HBoxView",
            "box_style": "",
            "children": [
              "IPY_MODEL_65d5eab54d9847669c9059e5c5901d0f",
              "IPY_MODEL_7222a90a28cb47638b9c20a5e18e151d",
              "IPY_MODEL_a9c87df753cd4b6188f2a89ff7131a6b"
            ],
            "layout": "IPY_MODEL_d0f072585c7443c3b6e04b1f3b63cd39"
          }
        },
        "d32a366ac31e489dbe4fa10d0c8d9bf9": {
          "model_module": "@jupyter-widgets/controls",
          "model_module_version": "1.5.0",
          "model_name": "DescriptionStyleModel",
          "state": {
            "_model_module": "@jupyter-widgets/controls",
            "_model_module_version": "1.5.0",
            "_model_name": "DescriptionStyleModel",
            "_view_count": null,
            "_view_module": "@jupyter-widgets/base",
            "_view_module_version": "1.2.0",
            "_view_name": "StyleView",
            "description_width": ""
          }
        },
        "d3b761c4e2634e3eb6bd3c2288e2a818": {
          "model_module": "@jupyter-widgets/base",
          "model_module_version": "1.2.0",
          "model_name": "LayoutModel",
          "state": {
            "_model_module": "@jupyter-widgets/base",
            "_model_module_version": "1.2.0",
            "_model_name": "LayoutModel",
            "_view_count": null,
            "_view_module": "@jupyter-widgets/base",
            "_view_module_version": "1.2.0",
            "_view_name": "LayoutView",
            "align_content": null,
            "align_items": null,
            "align_self": null,
            "border": null,
            "bottom": null,
            "display": null,
            "flex": null,
            "flex_flow": null,
            "grid_area": null,
            "grid_auto_columns": null,
            "grid_auto_flow": null,
            "grid_auto_rows": null,
            "grid_column": null,
            "grid_gap": null,
            "grid_row": null,
            "grid_template_areas": null,
            "grid_template_columns": null,
            "grid_template_rows": null,
            "height": null,
            "justify_content": null,
            "justify_items": null,
            "left": null,
            "margin": null,
            "max_height": null,
            "max_width": null,
            "min_height": null,
            "min_width": null,
            "object_fit": null,
            "object_position": null,
            "order": null,
            "overflow": null,
            "overflow_x": null,
            "overflow_y": null,
            "padding": null,
            "right": null,
            "top": null,
            "visibility": null,
            "width": null
          }
        },
        "d427b41f99b74056ac239b015fd78c3d": {
          "model_module": "@jupyter-widgets/controls",
          "model_module_version": "1.5.0",
          "model_name": "HBoxModel",
          "state": {
            "_dom_classes": [],
            "_model_module": "@jupyter-widgets/controls",
            "_model_module_version": "1.5.0",
            "_model_name": "HBoxModel",
            "_view_count": null,
            "_view_module": "@jupyter-widgets/controls",
            "_view_module_version": "1.5.0",
            "_view_name": "HBoxView",
            "box_style": "",
            "children": [
              "IPY_MODEL_7426011c61894c94aef33aa1bcb735a2",
              "IPY_MODEL_f1453fbfa1b245a2bf5001c35a5c8efa",
              "IPY_MODEL_70ce029c919c4b71a8d7a436e3907a5e"
            ],
            "layout": "IPY_MODEL_5623c9aa067b42509458d631fbd4f2c2"
          }
        },
        "d632c387438a44c4be88e5e7a6bba522": {
          "model_module": "@jupyter-widgets/controls",
          "model_module_version": "1.5.0",
          "model_name": "ProgressStyleModel",
          "state": {
            "_model_module": "@jupyter-widgets/controls",
            "_model_module_version": "1.5.0",
            "_model_name": "ProgressStyleModel",
            "_view_count": null,
            "_view_module": "@jupyter-widgets/base",
            "_view_module_version": "1.2.0",
            "_view_name": "StyleView",
            "bar_color": null,
            "description_width": ""
          }
        },
        "e183c219fdbc48faad4f594a3916614c": {
          "model_module": "@jupyter-widgets/base",
          "model_module_version": "1.2.0",
          "model_name": "LayoutModel",
          "state": {
            "_model_module": "@jupyter-widgets/base",
            "_model_module_version": "1.2.0",
            "_model_name": "LayoutModel",
            "_view_count": null,
            "_view_module": "@jupyter-widgets/base",
            "_view_module_version": "1.2.0",
            "_view_name": "LayoutView",
            "align_content": null,
            "align_items": null,
            "align_self": null,
            "border": null,
            "bottom": null,
            "display": null,
            "flex": null,
            "flex_flow": null,
            "grid_area": null,
            "grid_auto_columns": null,
            "grid_auto_flow": null,
            "grid_auto_rows": null,
            "grid_column": null,
            "grid_gap": null,
            "grid_row": null,
            "grid_template_areas": null,
            "grid_template_columns": null,
            "grid_template_rows": null,
            "height": null,
            "justify_content": null,
            "justify_items": null,
            "left": null,
            "margin": null,
            "max_height": null,
            "max_width": null,
            "min_height": null,
            "min_width": null,
            "object_fit": null,
            "object_position": null,
            "order": null,
            "overflow": null,
            "overflow_x": null,
            "overflow_y": null,
            "padding": null,
            "right": null,
            "top": null,
            "visibility": null,
            "width": null
          }
        },
        "e2c66321ee884f1a94db6007b41e70e4": {
          "model_module": "@jupyter-widgets/base",
          "model_module_version": "1.2.0",
          "model_name": "LayoutModel",
          "state": {
            "_model_module": "@jupyter-widgets/base",
            "_model_module_version": "1.2.0",
            "_model_name": "LayoutModel",
            "_view_count": null,
            "_view_module": "@jupyter-widgets/base",
            "_view_module_version": "1.2.0",
            "_view_name": "LayoutView",
            "align_content": null,
            "align_items": null,
            "align_self": null,
            "border": null,
            "bottom": null,
            "display": null,
            "flex": null,
            "flex_flow": null,
            "grid_area": null,
            "grid_auto_columns": null,
            "grid_auto_flow": null,
            "grid_auto_rows": null,
            "grid_column": null,
            "grid_gap": null,
            "grid_row": null,
            "grid_template_areas": null,
            "grid_template_columns": null,
            "grid_template_rows": null,
            "height": null,
            "justify_content": null,
            "justify_items": null,
            "left": null,
            "margin": null,
            "max_height": null,
            "max_width": null,
            "min_height": null,
            "min_width": null,
            "object_fit": null,
            "object_position": null,
            "order": null,
            "overflow": null,
            "overflow_x": null,
            "overflow_y": null,
            "padding": null,
            "right": null,
            "top": null,
            "visibility": null,
            "width": null
          }
        },
        "e67868fd256949568a05f8a27029001e": {
          "model_module": "@jupyter-widgets/controls",
          "model_module_version": "1.5.0",
          "model_name": "DescriptionStyleModel",
          "state": {
            "_model_module": "@jupyter-widgets/controls",
            "_model_module_version": "1.5.0",
            "_model_name": "DescriptionStyleModel",
            "_view_count": null,
            "_view_module": "@jupyter-widgets/base",
            "_view_module_version": "1.2.0",
            "_view_name": "StyleView",
            "description_width": ""
          }
        },
        "e6c0a16f47184fa99b2ba2dbd2526494": {
          "model_module": "@jupyter-widgets/controls",
          "model_module_version": "1.5.0",
          "model_name": "DescriptionStyleModel",
          "state": {
            "_model_module": "@jupyter-widgets/controls",
            "_model_module_version": "1.5.0",
            "_model_name": "DescriptionStyleModel",
            "_view_count": null,
            "_view_module": "@jupyter-widgets/base",
            "_view_module_version": "1.2.0",
            "_view_name": "StyleView",
            "description_width": ""
          }
        },
        "e7db16c156834a2784ada70e4f085c3c": {
          "model_module": "@jupyter-widgets/controls",
          "model_module_version": "1.5.0",
          "model_name": "ProgressStyleModel",
          "state": {
            "_model_module": "@jupyter-widgets/controls",
            "_model_module_version": "1.5.0",
            "_model_name": "ProgressStyleModel",
            "_view_count": null,
            "_view_module": "@jupyter-widgets/base",
            "_view_module_version": "1.2.0",
            "_view_name": "StyleView",
            "bar_color": null,
            "description_width": ""
          }
        },
        "e8250bfd6328469e818b8fc66441db01": {
          "model_module": "@jupyter-widgets/base",
          "model_module_version": "1.2.0",
          "model_name": "LayoutModel",
          "state": {
            "_model_module": "@jupyter-widgets/base",
            "_model_module_version": "1.2.0",
            "_model_name": "LayoutModel",
            "_view_count": null,
            "_view_module": "@jupyter-widgets/base",
            "_view_module_version": "1.2.0",
            "_view_name": "LayoutView",
            "align_content": null,
            "align_items": null,
            "align_self": null,
            "border": null,
            "bottom": null,
            "display": null,
            "flex": null,
            "flex_flow": null,
            "grid_area": null,
            "grid_auto_columns": null,
            "grid_auto_flow": null,
            "grid_auto_rows": null,
            "grid_column": null,
            "grid_gap": null,
            "grid_row": null,
            "grid_template_areas": null,
            "grid_template_columns": null,
            "grid_template_rows": null,
            "height": null,
            "justify_content": null,
            "justify_items": null,
            "left": null,
            "margin": null,
            "max_height": null,
            "max_width": null,
            "min_height": null,
            "min_width": null,
            "object_fit": null,
            "object_position": null,
            "order": null,
            "overflow": null,
            "overflow_x": null,
            "overflow_y": null,
            "padding": null,
            "right": null,
            "top": null,
            "visibility": null,
            "width": null
          }
        },
        "e85ad0683fef42619591984046f9d053": {
          "model_module": "@jupyter-widgets/controls",
          "model_module_version": "1.5.0",
          "model_name": "HTMLModel",
          "state": {
            "_dom_classes": [],
            "_model_module": "@jupyter-widgets/controls",
            "_model_module_version": "1.5.0",
            "_model_name": "HTMLModel",
            "_view_count": null,
            "_view_module": "@jupyter-widgets/controls",
            "_view_module_version": "1.5.0",
            "_view_name": "HTMLView",
            "description": "",
            "description_tooltip": null,
            "layout": "IPY_MODEL_865c9ec9e7ef4161a53ef1f81ab95c10",
            "placeholder": "​",
            "style": "IPY_MODEL_13c8182a38af4f3bb8f4497c2da395b1",
            "value": "Map: 100%"
          }
        },
        "e88d15667dd5452baf6f938af4abf3c5": {
          "model_module": "@jupyter-widgets/base",
          "model_module_version": "1.2.0",
          "model_name": "LayoutModel",
          "state": {
            "_model_module": "@jupyter-widgets/base",
            "_model_module_version": "1.2.0",
            "_model_name": "LayoutModel",
            "_view_count": null,
            "_view_module": "@jupyter-widgets/base",
            "_view_module_version": "1.2.0",
            "_view_name": "LayoutView",
            "align_content": null,
            "align_items": null,
            "align_self": null,
            "border": null,
            "bottom": null,
            "display": null,
            "flex": null,
            "flex_flow": null,
            "grid_area": null,
            "grid_auto_columns": null,
            "grid_auto_flow": null,
            "grid_auto_rows": null,
            "grid_column": null,
            "grid_gap": null,
            "grid_row": null,
            "grid_template_areas": null,
            "grid_template_columns": null,
            "grid_template_rows": null,
            "height": null,
            "justify_content": null,
            "justify_items": null,
            "left": null,
            "margin": null,
            "max_height": null,
            "max_width": null,
            "min_height": null,
            "min_width": null,
            "object_fit": null,
            "object_position": null,
            "order": null,
            "overflow": null,
            "overflow_x": null,
            "overflow_y": null,
            "padding": null,
            "right": null,
            "top": null,
            "visibility": null,
            "width": null
          }
        },
        "eb112174c77842198dc3ec23b4cb81af": {
          "model_module": "@jupyter-widgets/controls",
          "model_module_version": "1.5.0",
          "model_name": "DescriptionStyleModel",
          "state": {
            "_model_module": "@jupyter-widgets/controls",
            "_model_module_version": "1.5.0",
            "_model_name": "DescriptionStyleModel",
            "_view_count": null,
            "_view_module": "@jupyter-widgets/base",
            "_view_module_version": "1.2.0",
            "_view_name": "StyleView",
            "description_width": ""
          }
        },
        "ef4dd6915b8e473fb0fd366b8867c477": {
          "model_module": "@jupyter-widgets/controls",
          "model_module_version": "1.5.0",
          "model_name": "DescriptionStyleModel",
          "state": {
            "_model_module": "@jupyter-widgets/controls",
            "_model_module_version": "1.5.0",
            "_model_name": "DescriptionStyleModel",
            "_view_count": null,
            "_view_module": "@jupyter-widgets/base",
            "_view_module_version": "1.2.0",
            "_view_name": "StyleView",
            "description_width": ""
          }
        },
        "f07487b29d484324a5cfef2ad456fca1": {
          "model_module": "@jupyter-widgets/controls",
          "model_module_version": "1.5.0",
          "model_name": "DescriptionStyleModel",
          "state": {
            "_model_module": "@jupyter-widgets/controls",
            "_model_module_version": "1.5.0",
            "_model_name": "DescriptionStyleModel",
            "_view_count": null,
            "_view_module": "@jupyter-widgets/base",
            "_view_module_version": "1.2.0",
            "_view_name": "StyleView",
            "description_width": ""
          }
        },
        "f1453fbfa1b245a2bf5001c35a5c8efa": {
          "model_module": "@jupyter-widgets/controls",
          "model_module_version": "1.5.0",
          "model_name": "FloatProgressModel",
          "state": {
            "_dom_classes": [],
            "_model_module": "@jupyter-widgets/controls",
            "_model_module_version": "1.5.0",
            "_model_name": "FloatProgressModel",
            "_view_count": null,
            "_view_module": "@jupyter-widgets/controls",
            "_view_module_version": "1.5.0",
            "_view_name": "ProgressView",
            "bar_style": "success",
            "description": "",
            "description_tooltip": null,
            "layout": "IPY_MODEL_b6730b25010e4efa861014d5edb45f64",
            "max": 1,
            "min": 0,
            "orientation": "horizontal",
            "style": "IPY_MODEL_2bff9bef182347baaf21c8cfe92500f5",
            "value": 0
          }
        },
        "f1c82b42dde944e18e16680dce0865f3": {
          "model_module": "@jupyter-widgets/controls",
          "model_module_version": "1.5.0",
          "model_name": "DescriptionStyleModel",
          "state": {
            "_model_module": "@jupyter-widgets/controls",
            "_model_module_version": "1.5.0",
            "_model_name": "DescriptionStyleModel",
            "_view_count": null,
            "_view_module": "@jupyter-widgets/base",
            "_view_module_version": "1.2.0",
            "_view_name": "StyleView",
            "description_width": ""
          }
        },
        "f27277d94c814998b0d553a075d3d632": {
          "model_module": "@jupyter-widgets/controls",
          "model_module_version": "1.5.0",
          "model_name": "FloatProgressModel",
          "state": {
            "_dom_classes": [],
            "_model_module": "@jupyter-widgets/controls",
            "_model_module_version": "1.5.0",
            "_model_name": "FloatProgressModel",
            "_view_count": null,
            "_view_module": "@jupyter-widgets/controls",
            "_view_module_version": "1.5.0",
            "_view_name": "ProgressView",
            "bar_style": "success",
            "description": "",
            "description_tooltip": null,
            "layout": "IPY_MODEL_d3b761c4e2634e3eb6bd3c2288e2a818",
            "max": 1209,
            "min": 0,
            "orientation": "horizontal",
            "style": "IPY_MODEL_e7db16c156834a2784ada70e4f085c3c",
            "value": 1209
          }
        },
        "f2bbe06025694ad594f46d408ea306f6": {
          "model_module": "@jupyter-widgets/controls",
          "model_module_version": "1.5.0",
          "model_name": "HTMLModel",
          "state": {
            "_dom_classes": [],
            "_model_module": "@jupyter-widgets/controls",
            "_model_module_version": "1.5.0",
            "_model_name": "HTMLModel",
            "_view_count": null,
            "_view_module": "@jupyter-widgets/controls",
            "_view_module_version": "1.5.0",
            "_view_name": "HTMLView",
            "description": "",
            "description_tooltip": null,
            "layout": "IPY_MODEL_929a23bb28dc4bafa140e055dd221e3e",
            "placeholder": "​",
            "style": "IPY_MODEL_71f1c20513d44e4b857fbbab6b8a16fc",
            "value": "Generating test split: "
          }
        },
        "f53a99cde06c4267b30836882449bfb8": {
          "model_module": "@jupyter-widgets/controls",
          "model_module_version": "1.5.0",
          "model_name": "HTMLModel",
          "state": {
            "_dom_classes": [],
            "_model_module": "@jupyter-widgets/controls",
            "_model_module_version": "1.5.0",
            "_model_name": "HTMLModel",
            "_view_count": null,
            "_view_module": "@jupyter-widgets/controls",
            "_view_module_version": "1.5.0",
            "_view_name": "HTMLView",
            "description": "",
            "description_tooltip": null,
            "layout": "IPY_MODEL_7b5993a3277a494d9cf2ac5e15fac177",
            "placeholder": "​",
            "style": "IPY_MODEL_f07487b29d484324a5cfef2ad456fca1",
            "value": " 9999/9999 [00:00&lt;00:00, 34247.87 examples/s]"
          }
        },
        "fa56b7977ad4450497f3a6883bd7f686": {
          "model_module": "@jupyter-widgets/base",
          "model_module_version": "1.2.0",
          "model_name": "LayoutModel",
          "state": {
            "_model_module": "@jupyter-widgets/base",
            "_model_module_version": "1.2.0",
            "_model_name": "LayoutModel",
            "_view_count": null,
            "_view_module": "@jupyter-widgets/base",
            "_view_module_version": "1.2.0",
            "_view_name": "LayoutView",
            "align_content": null,
            "align_items": null,
            "align_self": null,
            "border": null,
            "bottom": null,
            "display": null,
            "flex": null,
            "flex_flow": null,
            "grid_area": null,
            "grid_auto_columns": null,
            "grid_auto_flow": null,
            "grid_auto_rows": null,
            "grid_column": null,
            "grid_gap": null,
            "grid_row": null,
            "grid_template_areas": null,
            "grid_template_columns": null,
            "grid_template_rows": null,
            "height": null,
            "justify_content": null,
            "justify_items": null,
            "left": null,
            "margin": null,
            "max_height": null,
            "max_width": null,
            "min_height": null,
            "min_width": null,
            "object_fit": null,
            "object_position": null,
            "order": null,
            "overflow": null,
            "overflow_x": null,
            "overflow_y": null,
            "padding": null,
            "right": null,
            "top": null,
            "visibility": null,
            "width": null
          }
        },
        "fb2312cc2c794a1caaadd6bb36b4d9f7": {
          "model_module": "@jupyter-widgets/base",
          "model_module_version": "1.2.0",
          "model_name": "LayoutModel",
          "state": {
            "_model_module": "@jupyter-widgets/base",
            "_model_module_version": "1.2.0",
            "_model_name": "LayoutModel",
            "_view_count": null,
            "_view_module": "@jupyter-widgets/base",
            "_view_module_version": "1.2.0",
            "_view_name": "LayoutView",
            "align_content": null,
            "align_items": null,
            "align_self": null,
            "border": null,
            "bottom": null,
            "display": null,
            "flex": null,
            "flex_flow": null,
            "grid_area": null,
            "grid_auto_columns": null,
            "grid_auto_flow": null,
            "grid_auto_rows": null,
            "grid_column": null,
            "grid_gap": null,
            "grid_row": null,
            "grid_template_areas": null,
            "grid_template_columns": null,
            "grid_template_rows": null,
            "height": null,
            "justify_content": null,
            "justify_items": null,
            "left": null,
            "margin": null,
            "max_height": null,
            "max_width": null,
            "min_height": null,
            "min_width": null,
            "object_fit": null,
            "object_position": null,
            "order": null,
            "overflow": null,
            "overflow_x": null,
            "overflow_y": null,
            "padding": null,
            "right": null,
            "top": null,
            "visibility": null,
            "width": null
          }
        },
        "fbfb5615ad5a44b49f80561285724d10": {
          "model_module": "@jupyter-widgets/controls",
          "model_module_version": "1.5.0",
          "model_name": "HTMLModel",
          "state": {
            "_dom_classes": [],
            "_model_module": "@jupyter-widgets/controls",
            "_model_module_version": "1.5.0",
            "_model_name": "HTMLModel",
            "_view_count": null,
            "_view_module": "@jupyter-widgets/controls",
            "_view_module_version": "1.5.0",
            "_view_name": "HTMLView",
            "description": "",
            "description_tooltip": null,
            "layout": "IPY_MODEL_8c6a49cdb9164760a4969a6cd3d74f04",
            "placeholder": "​",
            "style": "IPY_MODEL_a58c8c4ad29e4cb9a99d30c88919039b",
            "value": " 10000/10000 [00:03&lt;00:00, 2963.61it/s]"
          }
        },
        "fd018eb1df334be1b26601e8e9b1618a": {
          "model_module": "@jupyter-widgets/base",
          "model_module_version": "1.2.0",
          "model_name": "LayoutModel",
          "state": {
            "_model_module": "@jupyter-widgets/base",
            "_model_module_version": "1.2.0",
            "_model_name": "LayoutModel",
            "_view_count": null,
            "_view_module": "@jupyter-widgets/base",
            "_view_module_version": "1.2.0",
            "_view_name": "LayoutView",
            "align_content": null,
            "align_items": null,
            "align_self": null,
            "border": null,
            "bottom": null,
            "display": null,
            "flex": null,
            "flex_flow": null,
            "grid_area": null,
            "grid_auto_columns": null,
            "grid_auto_flow": null,
            "grid_auto_rows": null,
            "grid_column": null,
            "grid_gap": null,
            "grid_row": null,
            "grid_template_areas": null,
            "grid_template_columns": null,
            "grid_template_rows": null,
            "height": null,
            "justify_content": null,
            "justify_items": null,
            "left": null,
            "margin": null,
            "max_height": null,
            "max_width": null,
            "min_height": null,
            "min_width": null,
            "object_fit": null,
            "object_position": null,
            "order": null,
            "overflow": null,
            "overflow_x": null,
            "overflow_y": null,
            "padding": null,
            "right": null,
            "top": null,
            "visibility": null,
            "width": null
          }
        },
        "fd18593fbb594ba8a6fe343650641543": {
          "model_module": "@jupyter-widgets/controls",
          "model_module_version": "1.5.0",
          "model_name": "FloatProgressModel",
          "state": {
            "_dom_classes": [],
            "_model_module": "@jupyter-widgets/controls",
            "_model_module_version": "1.5.0",
            "_model_name": "FloatProgressModel",
            "_view_count": null,
            "_view_module": "@jupyter-widgets/controls",
            "_view_module_version": "1.5.0",
            "_view_name": "ProgressView",
            "bar_style": "success",
            "description": "",
            "description_tooltip": null,
            "layout": "IPY_MODEL_1a4198b27e2a45119b9a538f2cb80fed",
            "max": 10000,
            "min": 0,
            "orientation": "horizontal",
            "style": "IPY_MODEL_8068519c5f3747a08cffc4acb9a276fd",
            "value": 10000
          }
        },
        "ffe506eaa2dd4c05b9468026fe37050e": {
          "model_module": "@jupyter-widgets/base",
          "model_module_version": "1.2.0",
          "model_name": "LayoutModel",
          "state": {
            "_model_module": "@jupyter-widgets/base",
            "_model_module_version": "1.2.0",
            "_model_name": "LayoutModel",
            "_view_count": null,
            "_view_module": "@jupyter-widgets/base",
            "_view_module_version": "1.2.0",
            "_view_name": "LayoutView",
            "align_content": null,
            "align_items": null,
            "align_self": null,
            "border": null,
            "bottom": null,
            "display": null,
            "flex": null,
            "flex_flow": null,
            "grid_area": null,
            "grid_auto_columns": null,
            "grid_auto_flow": null,
            "grid_auto_rows": null,
            "grid_column": null,
            "grid_gap": null,
            "grid_row": null,
            "grid_template_areas": null,
            "grid_template_columns": null,
            "grid_template_rows": null,
            "height": null,
            "justify_content": null,
            "justify_items": null,
            "left": null,
            "margin": null,
            "max_height": null,
            "max_width": null,
            "min_height": null,
            "min_width": null,
            "object_fit": null,
            "object_position": null,
            "order": null,
            "overflow": null,
            "overflow_x": null,
            "overflow_y": null,
            "padding": null,
            "right": null,
            "top": null,
            "visibility": null,
            "width": null
          }
        }
      }
    }
  },
  "nbformat": 4,
  "nbformat_minor": 0
}